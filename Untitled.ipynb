{
 "cells": [
  {
   "cell_type": "code",
   "execution_count": 22,
   "metadata": {},
   "outputs": [],
   "source": [
    "import pandas as pd\n",
    "import matplotlib.pyplot as plt\n",
    "from sklearn.linear_model import LinearRegression\n"
   ]
  },
  {
   "cell_type": "code",
   "execution_count": 3,
   "metadata": {},
   "outputs": [
    {
     "name": "stderr",
     "output_type": "stream",
     "text": [
      "/home/draget/.local/lib/python3.6/site-packages/IPython/core/interactiveshell.py:3063: DtypeWarning: Columns (42,46,50,51,57,93) have mixed types. Specify dtype option on import or set low_memory=False.\n",
      "  interactivity=interactivity, compiler=compiler, result=result)\n"
     ]
    }
   ],
   "source": [
    "paolo = pd.read_csv(\"../parcel_paolo.csv\")"
   ]
  },
  {
   "cell_type": "code",
   "execution_count": 4,
   "metadata": {},
   "outputs": [],
   "source": [
    "value = pd.read_csv(\"../fresno_watervalue_derived_4_19.csv\")"
   ]
  },
  {
   "cell_type": "code",
   "execution_count": 51,
   "metadata": {},
   "outputs": [
    {
     "name": "stderr",
     "output_type": "stream",
     "text": [
      "/home/draget/.local/lib/python3.6/site-packages/IPython/core/interactiveshell.py:3063: DtypeWarning: Columns (17,19,23,39,86) have mixed types. Specify dtype option on import or set low_memory=False.\n",
      "  interactivity=interactivity, compiler=compiler, result=result)\n"
     ]
    }
   ],
   "source": [
    "value2 = pd.read_csv(\"../joined_combined_filtered_mined_soil_water_df_td_17_4.csv\")"
   ]
  },
  {
   "cell_type": "code",
   "execution_count": 52,
   "metadata": {},
   "outputs": [],
   "source": [
    "x = pd.merge(left=value2, right=paolo, on=\"parcelnumb\", how=\"left\")"
   ]
  },
  {
   "cell_type": "code",
   "execution_count": 43,
   "metadata": {},
   "outputs": [],
   "source": [
    "x[\"wv_pa\"] = x[\"water_val\"]/x[\"ll_gisacre\"]"
   ]
  },
  {
   "cell_type": "code",
   "execution_count": 55,
   "metadata": {},
   "outputs": [
    {
     "data": {
      "text/html": [
       "<div>\n",
       "<style scoped>\n",
       "    .dataframe tbody tr th:only-of-type {\n",
       "        vertical-align: middle;\n",
       "    }\n",
       "\n",
       "    .dataframe tbody tr th {\n",
       "        vertical-align: top;\n",
       "    }\n",
       "\n",
       "    .dataframe thead th {\n",
       "        text-align: right;\n",
       "    }\n",
       "</style>\n",
       "<table border=\"1\" class=\"dataframe\">\n",
       "  <thead>\n",
       "    <tr style=\"text-align: right;\">\n",
       "      <th></th>\n",
       "      <th>Unnamed: 0</th>\n",
       "      <th>Unnamed: 0.1</th>\n",
       "      <th>Unnamed: 0.1.1</th>\n",
       "      <th>Unnamed: 0_x</th>\n",
       "      <th>geoid_x</th>\n",
       "      <th>sourceagent</th>\n",
       "      <th>parcelnumb</th>\n",
       "      <th>usecode_x</th>\n",
       "      <th>improvval_x</th>\n",
       "      <th>landval_x</th>\n",
       "      <th>...</th>\n",
       "      <th>contract_n</th>\n",
       "      <th>contract_y</th>\n",
       "      <th>non_renewa</th>\n",
       "      <th>use_high_b</th>\n",
       "      <th>use_second</th>\n",
       "      <th>qoz_y</th>\n",
       "      <th>qoz_tract_y</th>\n",
       "      <th>ll_gisacre_y</th>\n",
       "      <th>ll_gissqft</th>\n",
       "      <th>DN</th>\n",
       "    </tr>\n",
       "  </thead>\n",
       "  <tbody>\n",
       "    <tr>\n",
       "      <th>0</th>\n",
       "      <td>0</td>\n",
       "      <td>0</td>\n",
       "      <td>0</td>\n",
       "      <td>0</td>\n",
       "      <td>6019</td>\n",
       "      <td>NaN</td>\n",
       "      <td>37002003</td>\n",
       "      <td>VIT</td>\n",
       "      <td>86764.0</td>\n",
       "      <td>207423.0</td>\n",
       "      <td>...</td>\n",
       "      <td>NaN</td>\n",
       "      <td>NaN</td>\n",
       "      <td>NaN</td>\n",
       "      <td>NaN</td>\n",
       "      <td>NaN</td>\n",
       "      <td>NaN</td>\n",
       "      <td>NaN</td>\n",
       "      <td>NaN</td>\n",
       "      <td>NaN</td>\n",
       "      <td>NaN</td>\n",
       "    </tr>\n",
       "    <tr>\n",
       "      <th>1</th>\n",
       "      <td>1</td>\n",
       "      <td>1</td>\n",
       "      <td>1</td>\n",
       "      <td>1</td>\n",
       "      <td>6019</td>\n",
       "      <td>NaN</td>\n",
       "      <td>36309061</td>\n",
       "      <td>S01</td>\n",
       "      <td>25129.0</td>\n",
       "      <td>47692.0</td>\n",
       "      <td>...</td>\n",
       "      <td>NaN</td>\n",
       "      <td>NaN</td>\n",
       "      <td>NaN</td>\n",
       "      <td>S</td>\n",
       "      <td>000</td>\n",
       "      <td>No</td>\n",
       "      <td>NaN</td>\n",
       "      <td>8.68291</td>\n",
       "      <td>NaN</td>\n",
       "      <td>0.12353</td>\n",
       "    </tr>\n",
       "    <tr>\n",
       "      <th>2</th>\n",
       "      <td>2</td>\n",
       "      <td>2</td>\n",
       "      <td>2</td>\n",
       "      <td>2</td>\n",
       "      <td>6019</td>\n",
       "      <td>NaN</td>\n",
       "      <td>05326007T</td>\n",
       "      <td>NaN</td>\n",
       "      <td>NaN</td>\n",
       "      <td>NaN</td>\n",
       "      <td>...</td>\n",
       "      <td>NaN</td>\n",
       "      <td>NaN</td>\n",
       "      <td>NaN</td>\n",
       "      <td>NaN</td>\n",
       "      <td>NaN</td>\n",
       "      <td>No</td>\n",
       "      <td>NaN</td>\n",
       "      <td>11.46775</td>\n",
       "      <td>NaN</td>\n",
       "      <td>0.13981</td>\n",
       "    </tr>\n",
       "    <tr>\n",
       "      <th>3</th>\n",
       "      <td>3</td>\n",
       "      <td>3</td>\n",
       "      <td>3</td>\n",
       "      <td>3</td>\n",
       "      <td>6019</td>\n",
       "      <td>NaN</td>\n",
       "      <td>30932018</td>\n",
       "      <td>FIE</td>\n",
       "      <td>64097.0</td>\n",
       "      <td>97978.0</td>\n",
       "      <td>...</td>\n",
       "      <td>5754</td>\n",
       "      <td>2004.0</td>\n",
       "      <td>NaN</td>\n",
       "      <td>O</td>\n",
       "      <td>S01</td>\n",
       "      <td>No</td>\n",
       "      <td>NaN</td>\n",
       "      <td>20.13240</td>\n",
       "      <td>NaN</td>\n",
       "      <td>0.12541</td>\n",
       "    </tr>\n",
       "    <tr>\n",
       "      <th>4</th>\n",
       "      <td>4</td>\n",
       "      <td>4</td>\n",
       "      <td>4</td>\n",
       "      <td>4</td>\n",
       "      <td>6019</td>\n",
       "      <td>NaN</td>\n",
       "      <td>00124003</td>\n",
       "      <td>SM2</td>\n",
       "      <td>136261.0</td>\n",
       "      <td>16825.0</td>\n",
       "      <td>...</td>\n",
       "      <td>NaN</td>\n",
       "      <td>NaN</td>\n",
       "      <td>NaN</td>\n",
       "      <td>S</td>\n",
       "      <td>000</td>\n",
       "      <td>No</td>\n",
       "      <td>NaN</td>\n",
       "      <td>6.81335</td>\n",
       "      <td>NaN</td>\n",
       "      <td>0.15486</td>\n",
       "    </tr>\n",
       "    <tr>\n",
       "      <th>...</th>\n",
       "      <td>...</td>\n",
       "      <td>...</td>\n",
       "      <td>...</td>\n",
       "      <td>...</td>\n",
       "      <td>...</td>\n",
       "      <td>...</td>\n",
       "      <td>...</td>\n",
       "      <td>...</td>\n",
       "      <td>...</td>\n",
       "      <td>...</td>\n",
       "      <td>...</td>\n",
       "      <td>...</td>\n",
       "      <td>...</td>\n",
       "      <td>...</td>\n",
       "      <td>...</td>\n",
       "      <td>...</td>\n",
       "      <td>...</td>\n",
       "      <td>...</td>\n",
       "      <td>...</td>\n",
       "      <td>...</td>\n",
       "      <td>...</td>\n",
       "    </tr>\n",
       "    <tr>\n",
       "      <th>30521</th>\n",
       "      <td>25337</td>\n",
       "      <td>25337</td>\n",
       "      <td>25337</td>\n",
       "      <td>25281</td>\n",
       "      <td>6019</td>\n",
       "      <td>NaN</td>\n",
       "      <td>33402108</td>\n",
       "      <td>FIE</td>\n",
       "      <td>8347.0</td>\n",
       "      <td>245997.0</td>\n",
       "      <td>...</td>\n",
       "      <td>NaN</td>\n",
       "      <td>NaN</td>\n",
       "      <td>NaN</td>\n",
       "      <td>A</td>\n",
       "      <td>VLM</td>\n",
       "      <td>Yes</td>\n",
       "      <td>6.019002e+09</td>\n",
       "      <td>33.98161</td>\n",
       "      <td>NaN</td>\n",
       "      <td>0.12944</td>\n",
       "    </tr>\n",
       "    <tr>\n",
       "      <th>30522</th>\n",
       "      <td>25338</td>\n",
       "      <td>25338</td>\n",
       "      <td>25338</td>\n",
       "      <td>25282</td>\n",
       "      <td>6019</td>\n",
       "      <td>NaN</td>\n",
       "      <td>55803337ST</td>\n",
       "      <td>NaN</td>\n",
       "      <td>NaN</td>\n",
       "      <td>NaN</td>\n",
       "      <td>...</td>\n",
       "      <td>NaN</td>\n",
       "      <td>NaN</td>\n",
       "      <td>NaN</td>\n",
       "      <td>NaN</td>\n",
       "      <td>NaN</td>\n",
       "      <td>No</td>\n",
       "      <td>NaN</td>\n",
       "      <td>0.77890</td>\n",
       "      <td>NaN</td>\n",
       "      <td>0.12244</td>\n",
       "    </tr>\n",
       "    <tr>\n",
       "      <th>30523</th>\n",
       "      <td>25339</td>\n",
       "      <td>25339</td>\n",
       "      <td>25339</td>\n",
       "      <td>25283</td>\n",
       "      <td>6019</td>\n",
       "      <td>NaN</td>\n",
       "      <td>32905013</td>\n",
       "      <td>ALM</td>\n",
       "      <td>149085.0</td>\n",
       "      <td>101823.0</td>\n",
       "      <td>...</td>\n",
       "      <td>NaN</td>\n",
       "      <td>NaN</td>\n",
       "      <td>NaN</td>\n",
       "      <td>A</td>\n",
       "      <td>000</td>\n",
       "      <td>Yes</td>\n",
       "      <td>6.019002e+09</td>\n",
       "      <td>18.56196</td>\n",
       "      <td>NaN</td>\n",
       "      <td>0.12376</td>\n",
       "    </tr>\n",
       "    <tr>\n",
       "      <th>30524</th>\n",
       "      <td>25340</td>\n",
       "      <td>25340</td>\n",
       "      <td>25340</td>\n",
       "      <td>25284</td>\n",
       "      <td>6019</td>\n",
       "      <td>NaN</td>\n",
       "      <td>31606047S</td>\n",
       "      <td>NaN</td>\n",
       "      <td>NaN</td>\n",
       "      <td>NaN</td>\n",
       "      <td>...</td>\n",
       "      <td>6190</td>\n",
       "      <td>1975.0</td>\n",
       "      <td>NaN</td>\n",
       "      <td>NaN</td>\n",
       "      <td>NaN</td>\n",
       "      <td>No</td>\n",
       "      <td>NaN</td>\n",
       "      <td>154.80760</td>\n",
       "      <td>NaN</td>\n",
       "      <td>0.12710</td>\n",
       "    </tr>\n",
       "    <tr>\n",
       "      <th>30525</th>\n",
       "      <td>25341</td>\n",
       "      <td>25341</td>\n",
       "      <td>25341</td>\n",
       "      <td>25285</td>\n",
       "      <td>6019</td>\n",
       "      <td>NaN</td>\n",
       "      <td>32603039</td>\n",
       "      <td>WAL</td>\n",
       "      <td>27766.0</td>\n",
       "      <td>296275.0</td>\n",
       "      <td>...</td>\n",
       "      <td>NaN</td>\n",
       "      <td>NaN</td>\n",
       "      <td>NaN</td>\n",
       "      <td>A</td>\n",
       "      <td>000</td>\n",
       "      <td>Yes</td>\n",
       "      <td>6.019002e+09</td>\n",
       "      <td>13.75780</td>\n",
       "      <td>NaN</td>\n",
       "      <td>0.12838</td>\n",
       "    </tr>\n",
       "  </tbody>\n",
       "</table>\n",
       "<p>30526 rows × 209 columns</p>\n",
       "</div>"
      ],
      "text/plain": [
       "       Unnamed: 0  Unnamed: 0.1  Unnamed: 0.1.1  Unnamed: 0_x  geoid_x  \\\n",
       "0               0             0               0             0     6019   \n",
       "1               1             1               1             1     6019   \n",
       "2               2             2               2             2     6019   \n",
       "3               3             3               3             3     6019   \n",
       "4               4             4               4             4     6019   \n",
       "...           ...           ...             ...           ...      ...   \n",
       "30521       25337         25337           25337         25281     6019   \n",
       "30522       25338         25338           25338         25282     6019   \n",
       "30523       25339         25339           25339         25283     6019   \n",
       "30524       25340         25340           25340         25284     6019   \n",
       "30525       25341         25341           25341         25285     6019   \n",
       "\n",
       "       sourceagent  parcelnumb usecode_x  improvval_x  landval_x  ...  \\\n",
       "0              NaN    37002003       VIT      86764.0   207423.0  ...   \n",
       "1              NaN    36309061       S01      25129.0    47692.0  ...   \n",
       "2              NaN   05326007T       NaN          NaN        NaN  ...   \n",
       "3              NaN    30932018       FIE      64097.0    97978.0  ...   \n",
       "4              NaN    00124003       SM2     136261.0    16825.0  ...   \n",
       "...            ...         ...       ...          ...        ...  ...   \n",
       "30521          NaN    33402108       FIE       8347.0   245997.0  ...   \n",
       "30522          NaN  55803337ST       NaN          NaN        NaN  ...   \n",
       "30523          NaN    32905013       ALM     149085.0   101823.0  ...   \n",
       "30524          NaN   31606047S       NaN          NaN        NaN  ...   \n",
       "30525          NaN    32603039       WAL      27766.0   296275.0  ...   \n",
       "\n",
       "       contract_n contract_y non_renewa use_high_b  use_second qoz_y  \\\n",
       "0             NaN        NaN        NaN        NaN         NaN   NaN   \n",
       "1             NaN        NaN        NaN          S         000    No   \n",
       "2             NaN        NaN        NaN        NaN         NaN    No   \n",
       "3            5754     2004.0        NaN          O         S01    No   \n",
       "4             NaN        NaN        NaN          S         000    No   \n",
       "...           ...        ...        ...        ...         ...   ...   \n",
       "30521         NaN        NaN        NaN          A         VLM   Yes   \n",
       "30522         NaN        NaN        NaN        NaN         NaN    No   \n",
       "30523         NaN        NaN        NaN          A         000   Yes   \n",
       "30524        6190     1975.0        NaN        NaN         NaN    No   \n",
       "30525         NaN        NaN        NaN          A         000   Yes   \n",
       "\n",
       "        qoz_tract_y ll_gisacre_y ll_gissqft       DN  \n",
       "0               NaN          NaN        NaN      NaN  \n",
       "1               NaN      8.68291        NaN  0.12353  \n",
       "2               NaN     11.46775        NaN  0.13981  \n",
       "3               NaN     20.13240        NaN  0.12541  \n",
       "4               NaN      6.81335        NaN  0.15486  \n",
       "...             ...          ...        ...      ...  \n",
       "30521  6.019002e+09     33.98161        NaN  0.12944  \n",
       "30522           NaN      0.77890        NaN  0.12244  \n",
       "30523  6.019002e+09     18.56196        NaN  0.12376  \n",
       "30524           NaN    154.80760        NaN  0.12710  \n",
       "30525  6.019002e+09     13.75780        NaN  0.12838  \n",
       "\n",
       "[30526 rows x 209 columns]"
      ]
     },
     "execution_count": 55,
     "metadata": {},
     "output_type": "execute_result"
    }
   ],
   "source": [
    "x"
   ]
  },
  {
   "cell_type": "code",
   "execution_count": 57,
   "metadata": {},
   "outputs": [],
   "source": [
    "z = x.loc[x[\"landval_x\"] < 1000000,[\"TotalWater\", \"DN\"]].dropna()"
   ]
  },
  {
   "cell_type": "code",
   "execution_count": 58,
   "metadata": {},
   "outputs": [
    {
     "data": {
      "text/plain": [
       "<matplotlib.collections.PathCollection at 0x7f8903dd5240>"
      ]
     },
     "execution_count": 58,
     "metadata": {},
     "output_type": "execute_result"
    },
    {
     "data": {
      "image/png": "[encoded data removed]",
      "text/plain": [
       "<Figure size 432x288 with 1 Axes>"
      ]
     },
     "metadata": {
      "needs_background": "light"
     },
     "output_type": "display_data"
    }
   ],
   "source": [
    "plt.scatter(z[\"TotalWater\"], z[\"DN\"])"
   ]
  },
  {
   "cell_type": "code",
   "execution_count": 46,
   "metadata": {},
   "outputs": [
    {
     "data": {
      "text/plain": [
       "<matplotlib.axes._subplots.AxesSubplot at 0x7f89050dacc0>"
      ]
     },
     "execution_count": 46,
     "metadata": {},
     "output_type": "execute_result"
    },
    {
     "data": {
      "image/png": "[encoded data removed]",
      "text/plain": [
       "<Figure size 432x288 with 1 Axes>"
      ]
     },
     "metadata": {
      "needs_background": "light"
     },
     "output_type": "display_data"
    }
   ],
   "source": [
    "z[\"wv_pa\"].hist()"
   ]
  },
  {
   "cell_type": "code",
   "execution_count": 23,
   "metadata": {},
   "outputs": [],
   "source": [
    "regr = LinearRegression()"
   ]
  },
  {
   "cell_type": "code",
   "execution_count": 47,
   "metadata": {},
   "outputs": [
    {
     "data": {
      "text/plain": [
       "1         1724.394427\n",
       "2         1724.394427\n",
       "7         1988.890012\n",
       "12        1535.843235\n",
       "13        3593.868474\n",
       "             ...     \n",
       "16001     3118.152809\n",
       "16008     1435.049572\n",
       "16011       43.096584\n",
       "16013       44.233960\n",
       "16016    17206.685079\n",
       "Name: wv_pa, Length: 12178, dtype: float64"
      ]
     },
     "execution_count": 47,
     "metadata": {},
     "output_type": "execute_result"
    }
   ],
   "source": [
    "z[\"wv_pa\"]"
   ]
  },
  {
   "cell_type": "code",
   "execution_count": null,
   "metadata": {},
   "outputs": [],
   "source": [
    "x = []"
   ]
  },
  {
   "cell_type": "code",
   "execution_count": 60,
   "metadata": {},
   "outputs": [
    {
     "data": {
      "text/plain": [
       "LinearRegression(copy_X=True, fit_intercept=True, n_jobs=None, normalize=False)"
      ]
     },
     "execution_count": 60,
     "metadata": {},
     "output_type": "execute_result"
    }
   ],
   "source": [
    "regr.fit(z[\"TotalWater\"].values.reshape(24519, 1), z[\"DN\"].values.reshape(24519, 1))"
   ]
  },
  {
   "cell_type": "code",
   "execution_count": 61,
   "metadata": {},
   "outputs": [
    {
     "data": {
      "text/plain": [
       "array([[0.0024298]])"
      ]
     },
     "execution_count": 61,
     "metadata": {},
     "output_type": "execute_result"
    }
   ],
   "source": [
    "regr.coef_"
   ]
  },
  {
   "cell_type": "code",
   "execution_count": 64,
   "metadata": {},
   "outputs": [
    {
     "data": {
      "text/plain": [
       "0.034450553032909226"
      ]
     },
     "execution_count": 64,
     "metadata": {},
     "output_type": "execute_result"
    }
   ],
   "source": [
    "regr.score(z[\"TotalWater\"].values.reshape(24519, 1), z[\"DN\"].values.reshape(24519, 1))"
   ]
  },
  {
   "cell_type": "code",
   "execution_count": null,
   "metadata": {},
   "outputs": [],
   "source": []
  }
 ],
 "metadata": {
  "kernelspec": {
   "display_name": "Python 3",
   "language": "python",
   "name": "python3"
  },
  "language_info": {
   "codemirror_mode": {
    "name": "ipython",
    "version": 3
   },
   "file_extension": ".py",
   "mimetype": "text/x-python",
   "name": "python",
   "nbconvert_exporter": "python",
   "pygments_lexer": "ipython3",
   "version": "3.6.9"
  }
 },
 "nbformat": 4,
 "nbformat_minor": 4
}
