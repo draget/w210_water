{
 "cells": [
  {
   "cell_type": "markdown",
   "metadata": {},
   "source": [
    "# Value of Water Hedonic Regression Notebook"
   ]
  },
  {
   "cell_type": "markdown",
   "metadata": {},
   "source": [
    "To build our hedonic regression model for the economic value of water inherent in the value of agricultural land we focused on Fresno County, CA as our sample area given its large amount of agricultural land parcels and the availability of relevant data. \n",
    "\n",
    "In order to hypothesize a measurable valuation of water we considered two variables related to water and land that we could measure: water sources and water uses\n",
    "\n",
    "In our model we operate under the assumptions that where water comes from and how it is distributed effects the value it has to land (e.g. distance it travels to land and whether or not the land is irrigated) in addition to how much is used and how water is used on the land (e.g. water used for cultivating crops can be related to the revenue from the sales of those crops)\n",
    "\n",
    "Our water source data includes:\n",
    "- Water rights data, which we use to measure the distance from water sources to each agricultural land parcel\n",
    "\n",
    "Our water uses data is compiled from:\n",
    "- Crop overlay and water use data, which allows us to approximate a total minimum water use on each agricultural land parcel, productivity in revenue by acre foot of water used (based on crop water usage, yield, and sales revenue per agricultural land parcel)\n",
    "\n",
    "We then considered the control variables necessary to help isolate simulated value in the model. This includes soil quality and land parcel data which contains improvements to land, land size, land use classification for agricultral land parcels, and soil quality.  \n",
    "\n",
    "We built our dataset around the land parcel data becuase it allowed us to compile our feature set by land parcel which was a requirement for the web tool we built for leveraging our regression model results. \n",
    "\n"
   ]
  },
  {
   "cell_type": "code",
   "execution_count": 2,
   "metadata": {
    "collapsed": true
   },
   "outputs": [],
   "source": [
    "import numpy as np\n",
    "from scipy import interpolate\n",
    "import scipy.stats as stats\n",
    "import matplotlib.pyplot as plt\n",
    "import pandas as pd\n",
    "import numpy as np\n",
    "from bs4 import BeautifulSoup\n",
    "from requests import get\n",
    "import json\n",
    "from collections import Counter\n",
    "import re\n",
    "import os\n",
    "from dateutil.parser import parse\n",
    "import operator\n",
    "from uuid import uuid4\n",
    "import sys\n",
    "import geopandas\n",
    "import shapefile\n",
    "import probscale\n",
    "import seaborn as sns\n",
    "\n",
    "#from regressors import stats"
   ]
  },
  {
   "cell_type": "code",
   "execution_count": 3,
   "metadata": {
    "collapsed": true
   },
   "outputs": [],
   "source": [
    "from scipy.special import comb \n",
    "from sklearn import metrics,linear_model\n",
    "from sklearn.model_selection import KFold, train_test_split, cross_val_score\n",
    "from sklearn.preprocessing import StandardScaler\n",
    "from sklearn.linear_model import LinearRegression, Ridge, Lasso, RidgeCV, LassoCV\n",
    "from statsmodels.graphics.gofplots import qqplot\n",
    "from scipy import stats\n",
    "from scipy.stats import shapiro"
   ]
  },
  {
   "cell_type": "code",
   "execution_count": 4,
   "metadata": {
    "collapsed": true
   },
   "outputs": [],
   "source": [
    "%matplotlib inline\n",
    "import warnings\n",
    "warnings.filterwarnings('ignore')"
   ]
  },
  {
   "cell_type": "markdown",
   "metadata": {},
   "source": [
    "### Dataset Aggregation\n",
    "\n",
    "The data we are using in our dataset has been compiled from:\n",
    "- \n",
    "- \n",
    "- \n",
    "- \n"
   ]
  },
  {
   "cell_type": "code",
   "execution_count": 102,
   "metadata": {
    "collapsed": true
   },
   "outputs": [],
   "source": [
    "#load in data\n",
    "landdata_location = 'data/joined_combined_filtered_mined_soil_water_df_td_13_4.csv'\n",
    "#waterusagedata_location = 'data/'\n",
    "cropdata_location = 'data/cacropyielddata.csv'\n",
    "#soildata_location1 = 'data/soil_data_east.csv'\n",
    "#soildata_location2 = 'data/soil_data_west.csv'\n",
    "#soildata_location3 = 'data/soil_data_750.csv'\n",
    "#soildata_location4 = 'data/soil_data_740.csv'\n",
    "\n",
    "ld = pd.read_csv(landdata_location)\n"
   ]
  },
  {
   "cell_type": "markdown",
   "metadata": {},
   "source": [
    "### Land Parcel Data\n",
    "\n",
    "The land dataset we are using here is a compilation of Landgrids us parcel data for fresno county, crop yeild data from ____ and ___ from ____"
   ]
  },
  {
   "cell_type": "markdown",
   "metadata": {},
   "source": [
    "First we need to examine the variables in our land data and remove and select our land features of potential interest. "
   ]
  },
  {
   "cell_type": "code",
   "execution_count": 103,
   "metadata": {},
   "outputs": [
    {
     "data": {
      "text/html": [
       "<div>\n",
       "<style scoped>\n",
       "    .dataframe tbody tr th:only-of-type {\n",
       "        vertical-align: middle;\n",
       "    }\n",
       "\n",
       "    .dataframe tbody tr th {\n",
       "        vertical-align: top;\n",
       "    }\n",
       "\n",
       "    .dataframe thead th {\n",
       "        text-align: right;\n",
       "    }\n",
       "</style>\n",
       "<table border=\"1\" class=\"dataframe\">\n",
       "  <thead>\n",
       "    <tr style=\"text-align: right;\">\n",
       "      <th></th>\n",
       "      <th>Unnamed: 0</th>\n",
       "      <th>Unnamed: 0.1</th>\n",
       "      <th>Unnamed: 0_x</th>\n",
       "      <th>geoid</th>\n",
       "      <th>sourceagent</th>\n",
       "      <th>improvval</th>\n",
       "      <th>landval</th>\n",
       "      <th>parval</th>\n",
       "      <th>mail_addstr</th>\n",
       "      <th>homeowner_exemp</th>\n",
       "      <th>...</th>\n",
       "      <th>nirrcapcl</th>\n",
       "      <th>castorieindex</th>\n",
       "      <th>CropETo</th>\n",
       "      <th>WaterApplied</th>\n",
       "      <th>NetWaterUse_Applied</th>\n",
       "      <th>Factor</th>\n",
       "      <th>AppliedFromETo</th>\n",
       "      <th>AppliedWater</th>\n",
       "      <th>TotalWater</th>\n",
       "      <th>water_dist</th>\n",
       "    </tr>\n",
       "  </thead>\n",
       "  <tbody>\n",
       "    <tr>\n",
       "      <th>count</th>\n",
       "      <td>25342.000000</td>\n",
       "      <td>25342.000000</td>\n",
       "      <td>25342.000000</td>\n",
       "      <td>25342.0</td>\n",
       "      <td>0.0</td>\n",
       "      <td>2.270600e+04</td>\n",
       "      <td>2.270600e+04</td>\n",
       "      <td>2.270600e+04</td>\n",
       "      <td>0.0</td>\n",
       "      <td>22706.000000</td>\n",
       "      <td>...</td>\n",
       "      <td>24051.000000</td>\n",
       "      <td>23583.000000</td>\n",
       "      <td>23081.000000</td>\n",
       "      <td>8521.000000</td>\n",
       "      <td>17720.000000</td>\n",
       "      <td>18408.000000</td>\n",
       "      <td>23081.000000</td>\n",
       "      <td>25342.000000</td>\n",
       "      <td>25342.000000</td>\n",
       "      <td>25342.000000</td>\n",
       "    </tr>\n",
       "    <tr>\n",
       "      <th>mean</th>\n",
       "      <td>12670.500000</td>\n",
       "      <td>12670.500000</td>\n",
       "      <td>12653.044866</td>\n",
       "      <td>6019.0</td>\n",
       "      <td>NaN</td>\n",
       "      <td>2.044906e+05</td>\n",
       "      <td>1.821032e+05</td>\n",
       "      <td>3.971233e+05</td>\n",
       "      <td>NaN</td>\n",
       "      <td>968.937946</td>\n",
       "      <td>...</td>\n",
       "      <td>4.637978</td>\n",
       "      <td>67.803248</td>\n",
       "      <td>2.721640</td>\n",
       "      <td>2.691810</td>\n",
       "      <td>2.642999</td>\n",
       "      <td>0.715431</td>\n",
       "      <td>2.821391</td>\n",
       "      <td>2.732964</td>\n",
       "      <td>3.799631</td>\n",
       "      <td>11.359627</td>\n",
       "    </tr>\n",
       "    <tr>\n",
       "      <th>std</th>\n",
       "      <td>7315.749597</td>\n",
       "      <td>7315.749597</td>\n",
       "      <td>7297.576590</td>\n",
       "      <td>0.0</td>\n",
       "      <td>NaN</td>\n",
       "      <td>5.281402e+05</td>\n",
       "      <td>2.789549e+05</td>\n",
       "      <td>8.606946e+05</td>\n",
       "      <td>NaN</td>\n",
       "      <td>2422.772977</td>\n",
       "      <td>...</td>\n",
       "      <td>1.204787</td>\n",
       "      <td>27.120829</td>\n",
       "      <td>0.571238</td>\n",
       "      <td>0.534447</td>\n",
       "      <td>0.953045</td>\n",
       "      <td>0.110369</td>\n",
       "      <td>0.816054</td>\n",
       "      <td>0.779756</td>\n",
       "      <td>0.779756</td>\n",
       "      <td>6.090116</td>\n",
       "    </tr>\n",
       "    <tr>\n",
       "      <th>min</th>\n",
       "      <td>0.000000</td>\n",
       "      <td>0.000000</td>\n",
       "      <td>0.000000</td>\n",
       "      <td>6019.0</td>\n",
       "      <td>NaN</td>\n",
       "      <td>0.000000e+00</td>\n",
       "      <td>0.000000e+00</td>\n",
       "      <td>0.000000e+00</td>\n",
       "      <td>NaN</td>\n",
       "      <td>0.000000</td>\n",
       "      <td>...</td>\n",
       "      <td>3.000000</td>\n",
       "      <td>1.000000</td>\n",
       "      <td>1.568333</td>\n",
       "      <td>0.600000</td>\n",
       "      <td>1.372093</td>\n",
       "      <td>0.428173</td>\n",
       "      <td>1.173810</td>\n",
       "      <td>0.600000</td>\n",
       "      <td>1.666667</td>\n",
       "      <td>0.125373</td>\n",
       "    </tr>\n",
       "    <tr>\n",
       "      <th>25%</th>\n",
       "      <td>6335.250000</td>\n",
       "      <td>6335.250000</td>\n",
       "      <td>6334.250000</td>\n",
       "      <td>6019.0</td>\n",
       "      <td>NaN</td>\n",
       "      <td>2.019400e+04</td>\n",
       "      <td>4.766700e+04</td>\n",
       "      <td>1.079668e+05</td>\n",
       "      <td>NaN</td>\n",
       "      <td>0.000000</td>\n",
       "      <td>...</td>\n",
       "      <td>4.000000</td>\n",
       "      <td>46.000000</td>\n",
       "      <td>2.303333</td>\n",
       "      <td>2.500000</td>\n",
       "      <td>1.860000</td>\n",
       "      <td>0.676627</td>\n",
       "      <td>2.223810</td>\n",
       "      <td>1.860000</td>\n",
       "      <td>2.926667</td>\n",
       "      <td>6.115502</td>\n",
       "    </tr>\n",
       "    <tr>\n",
       "      <th>50%</th>\n",
       "      <td>12670.500000</td>\n",
       "      <td>12670.500000</td>\n",
       "      <td>12663.500000</td>\n",
       "      <td>6019.0</td>\n",
       "      <td>NaN</td>\n",
       "      <td>9.008800e+04</td>\n",
       "      <td>1.027580e+05</td>\n",
       "      <td>2.265005e+05</td>\n",
       "      <td>NaN</td>\n",
       "      <td>0.000000</td>\n",
       "      <td>...</td>\n",
       "      <td>4.000000</td>\n",
       "      <td>76.000000</td>\n",
       "      <td>2.876667</td>\n",
       "      <td>2.700000</td>\n",
       "      <td>2.367052</td>\n",
       "      <td>0.708955</td>\n",
       "      <td>3.042857</td>\n",
       "      <td>2.700000</td>\n",
       "      <td>3.766667</td>\n",
       "      <td>11.903961</td>\n",
       "    </tr>\n",
       "    <tr>\n",
       "      <th>75%</th>\n",
       "      <td>19005.750000</td>\n",
       "      <td>19005.750000</td>\n",
       "      <td>18967.750000</td>\n",
       "      <td>6019.0</td>\n",
       "      <td>NaN</td>\n",
       "      <td>2.005930e+05</td>\n",
       "      <td>2.047005e+05</td>\n",
       "      <td>4.151655e+05</td>\n",
       "      <td>NaN</td>\n",
       "      <td>0.000000</td>\n",
       "      <td>...</td>\n",
       "      <td>4.000000</td>\n",
       "      <td>90.000000</td>\n",
       "      <td>3.257500</td>\n",
       "      <td>2.900000</td>\n",
       "      <td>3.537037</td>\n",
       "      <td>0.786568</td>\n",
       "      <td>3.586905</td>\n",
       "      <td>3.537037</td>\n",
       "      <td>4.603704</td>\n",
       "      <td>15.470906</td>\n",
       "    </tr>\n",
       "    <tr>\n",
       "      <th>max</th>\n",
       "      <td>25341.000000</td>\n",
       "      <td>25341.000000</td>\n",
       "      <td>25285.000000</td>\n",
       "      <td>6019.0</td>\n",
       "      <td>NaN</td>\n",
       "      <td>1.990775e+07</td>\n",
       "      <td>9.230949e+06</td>\n",
       "      <td>5.226432e+07</td>\n",
       "      <td>NaN</td>\n",
       "      <td>21000.000000</td>\n",
       "      <td>...</td>\n",
       "      <td>8.000000</td>\n",
       "      <td>100.000000</td>\n",
       "      <td>3.771667</td>\n",
       "      <td>4.500000</td>\n",
       "      <td>5.044273</td>\n",
       "      <td>1.229223</td>\n",
       "      <td>4.321429</td>\n",
       "      <td>4.530405</td>\n",
       "      <td>5.597072</td>\n",
       "      <td>34.048164</td>\n",
       "    </tr>\n",
       "  </tbody>\n",
       "</table>\n",
       "<p>8 rows × 48 columns</p>\n",
       "</div>"
      ],
      "text/plain": [
       "         Unnamed: 0  Unnamed: 0.1  Unnamed: 0_x    geoid  sourceagent  \\\n",
       "count  25342.000000  25342.000000  25342.000000  25342.0          0.0   \n",
       "mean   12670.500000  12670.500000  12653.044866   6019.0          NaN   \n",
       "std     7315.749597   7315.749597   7297.576590      0.0          NaN   \n",
       "min        0.000000      0.000000      0.000000   6019.0          NaN   \n",
       "25%     6335.250000   6335.250000   6334.250000   6019.0          NaN   \n",
       "50%    12670.500000  12670.500000  12663.500000   6019.0          NaN   \n",
       "75%    19005.750000  19005.750000  18967.750000   6019.0          NaN   \n",
       "max    25341.000000  25341.000000  25285.000000   6019.0          NaN   \n",
       "\n",
       "          improvval       landval        parval  mail_addstr  homeowner_exemp  \\\n",
       "count  2.270600e+04  2.270600e+04  2.270600e+04          0.0     22706.000000   \n",
       "mean   2.044906e+05  1.821032e+05  3.971233e+05          NaN       968.937946   \n",
       "std    5.281402e+05  2.789549e+05  8.606946e+05          NaN      2422.772977   \n",
       "min    0.000000e+00  0.000000e+00  0.000000e+00          NaN         0.000000   \n",
       "25%    2.019400e+04  4.766700e+04  1.079668e+05          NaN         0.000000   \n",
       "50%    9.008800e+04  1.027580e+05  2.265005e+05          NaN         0.000000   \n",
       "75%    2.005930e+05  2.047005e+05  4.151655e+05          NaN         0.000000   \n",
       "max    1.990775e+07  9.230949e+06  5.226432e+07          NaN     21000.000000   \n",
       "\n",
       "       ...     nirrcapcl  castorieindex       CropETo  WaterApplied  \\\n",
       "count  ...  24051.000000   23583.000000  23081.000000   8521.000000   \n",
       "mean   ...      4.637978      67.803248      2.721640      2.691810   \n",
       "std    ...      1.204787      27.120829      0.571238      0.534447   \n",
       "min    ...      3.000000       1.000000      1.568333      0.600000   \n",
       "25%    ...      4.000000      46.000000      2.303333      2.500000   \n",
       "50%    ...      4.000000      76.000000      2.876667      2.700000   \n",
       "75%    ...      4.000000      90.000000      3.257500      2.900000   \n",
       "max    ...      8.000000     100.000000      3.771667      4.500000   \n",
       "\n",
       "       NetWaterUse_Applied        Factor  AppliedFromETo  AppliedWater  \\\n",
       "count         17720.000000  18408.000000    23081.000000  25342.000000   \n",
       "mean              2.642999      0.715431        2.821391      2.732964   \n",
       "std               0.953045      0.110369        0.816054      0.779756   \n",
       "min               1.372093      0.428173        1.173810      0.600000   \n",
       "25%               1.860000      0.676627        2.223810      1.860000   \n",
       "50%               2.367052      0.708955        3.042857      2.700000   \n",
       "75%               3.537037      0.786568        3.586905      3.537037   \n",
       "max               5.044273      1.229223        4.321429      4.530405   \n",
       "\n",
       "         TotalWater    water_dist  \n",
       "count  25342.000000  25342.000000  \n",
       "mean       3.799631     11.359627  \n",
       "std        0.779756      6.090116  \n",
       "min        1.666667      0.125373  \n",
       "25%        2.926667      6.115502  \n",
       "50%        3.766667     11.903961  \n",
       "75%        4.603704     15.470906  \n",
       "max        5.597072     34.048164  \n",
       "\n",
       "[8 rows x 48 columns]"
      ]
     },
     "execution_count": 103,
     "metadata": {},
     "output_type": "execute_result"
    }
   ],
   "source": [
    "ld.describe()"
   ]
  },
  {
   "cell_type": "code",
   "execution_count": 104,
   "metadata": {},
   "outputs": [
    {
     "name": "stdout",
     "output_type": "stream",
     "text": [
      "Number of colums: 105\n",
      "Unnamed: 0, Unnamed: 0.1, Unnamed: 0_x, geoid, sourceagent, parcelnumb, usecode, improvval, landval, parval, owner, owner2, mailadd, mail_addstr, mail_city, mail_state2, mail_zip, address, saddno, saddpref, saddstr, saddsttyp, sunit, scity, original_address, city, county, state2, szip, address_source, legaldesc, path, ll_uuid, ll_updated_at, homeowner_exemp, lot_area, pers_prop_val, tax_area_code, contract_number, contract_year, non_renewal_year, use_high_best, use_secondary, qoz, qoz_tract, ll_gisacre, lng, lat, gdfindex, Acres_x, Crop2016_x, DWR_revise, Symb_class, MULTIUSE, CLASS1, SPECOND1, PCNT1, CLASS2, SUBCLASS2, SPECOND2, IRR_TYP2PA, UCF_ATT, CROPTYP1, CROPTYP2, Region, Acres, County, Crop2016, GlobalID, Shape_Leng, Shape_Area, land, imps, pp, mhome, tot, pnumb, firstfloor, secondfloor, addsize, tra, loc, bclass, year, gize, pool, psize, Unnamed: 0_y, intersect_area_acre, MUSYM, farmlndcl, irrcapcl, irrcapscl, nirrcapcl, nirrcalscl, castorieindex, Crop, CropETo, WaterApplied, NetWaterUse_Applied, Factor, AppliedFromETo, AppliedWater, TotalWater, water_dist\n"
     ]
    }
   ],
   "source": [
    "print('Number of colums:', len(ld.columns.tolist()))\n",
    "print(', '.join(ld.columns.tolist()))"
   ]
  },
  {
   "cell_type": "markdown",
   "metadata": {},
   "source": [
    "We have 101 potential features in our land dataset, however there are 16 columns related to the mailing address which are not valuable to our regression analysis. We also don't need the legal description(legaldesc) for example. \n",
    "\n",
    "The features of relevance to our analysis include, parcel number (for merging our california crop yeild data and water rights, acreage (parcel size), crop (mapped to the parcel using arcgis and crop overlay data for Fresno County), the value of buildings on the parcel (firstfloor, secondfloor, addsize, gize), whether or not the parcel has a pool (as a proxy for purely residential land use). \n",
    "\n",
    "With respect to creating methods for measuring water access we are interested in the if the land is or isn't irrigated, the type of irrigation, water applied, net water use, total water available, and water distance"
   ]
  },
  {
   "cell_type": "code",
   "execution_count": 105,
   "metadata": {
    "collapsed": true
   },
   "outputs": [],
   "source": [
    "#select features of interest\n",
    "land_data = ld[['parcelnumb', 'szip', 'county', 'landval', #parcel identifiers\n",
    "                'll_gisacre', #parcel size in acres\n",
    "                'Crop2016', #parcel crop\n",
    "                'firstfloor', 'secondfloor', 'gize', 'pool', #building information for parcel\n",
    "                'farmlndcl', 'irrcapcl', 'nirrcapcl',  'nirrcalscl', 'castorieindex', #parcel irrigation data\n",
    "                'TotalWater', 'water_dist']] #total applied water in acre feet of water based on crop\n",
    "\n",
    "#remove all na values s"
   ]
  },
  {
   "cell_type": "code",
   "execution_count": 106,
   "metadata": {},
   "outputs": [
    {
     "name": "stdout",
     "output_type": "stream",
     "text": [
      "25342\n"
     ]
    },
    {
     "data": {
      "text/html": [
       "<div>\n",
       "<style scoped>\n",
       "    .dataframe tbody tr th:only-of-type {\n",
       "        vertical-align: middle;\n",
       "    }\n",
       "\n",
       "    .dataframe tbody tr th {\n",
       "        vertical-align: top;\n",
       "    }\n",
       "\n",
       "    .dataframe thead th {\n",
       "        text-align: right;\n",
       "    }\n",
       "</style>\n",
       "<table border=\"1\" class=\"dataframe\">\n",
       "  <thead>\n",
       "    <tr style=\"text-align: right;\">\n",
       "      <th></th>\n",
       "      <th>parcelnumb</th>\n",
       "      <th>szip</th>\n",
       "      <th>county</th>\n",
       "      <th>landval</th>\n",
       "      <th>ll_gisacre</th>\n",
       "      <th>Crop2016</th>\n",
       "      <th>firstfloor</th>\n",
       "      <th>secondfloor</th>\n",
       "      <th>gize</th>\n",
       "      <th>pool</th>\n",
       "      <th>farmlndcl</th>\n",
       "      <th>irrcapcl</th>\n",
       "      <th>nirrcapcl</th>\n",
       "      <th>nirrcalscl</th>\n",
       "      <th>castorieindex</th>\n",
       "      <th>TotalWater</th>\n",
       "      <th>water_dist</th>\n",
       "    </tr>\n",
       "  </thead>\n",
       "  <tbody>\n",
       "    <tr>\n",
       "      <th>0</th>\n",
       "      <td>37002003</td>\n",
       "      <td>93654-9320</td>\n",
       "      <td>fresno</td>\n",
       "      <td>207423.0</td>\n",
       "      <td>16.97049</td>\n",
       "      <td>Grapes</td>\n",
       "      <td>0.0</td>\n",
       "      <td>0.0</td>\n",
       "      <td>0.0</td>\n",
       "      <td>False</td>\n",
       "      <td>Prime farmland if irrigated</td>\n",
       "      <td>2.0</td>\n",
       "      <td>4.0</td>\n",
       "      <td>s</td>\n",
       "      <td>95.0</td>\n",
       "      <td>2.926667</td>\n",
       "      <td>11.698670</td>\n",
       "    </tr>\n",
       "    <tr>\n",
       "      <th>1</th>\n",
       "      <td>36309061</td>\n",
       "      <td>93654-9635</td>\n",
       "      <td>fresno</td>\n",
       "      <td>47692.0</td>\n",
       "      <td>8.68291</td>\n",
       "      <td>Miscellaneous Deciduous</td>\n",
       "      <td>1148.0</td>\n",
       "      <td>0.0</td>\n",
       "      <td>0.0</td>\n",
       "      <td>False</td>\n",
       "      <td>Farmland of statewide importance</td>\n",
       "      <td>3.0</td>\n",
       "      <td>4.0</td>\n",
       "      <td>s</td>\n",
       "      <td>45.0</td>\n",
       "      <td>4.360258</td>\n",
       "      <td>8.498322</td>\n",
       "    </tr>\n",
       "    <tr>\n",
       "      <th>2</th>\n",
       "      <td>05326007T</td>\n",
       "      <td>93656</td>\n",
       "      <td>fresno</td>\n",
       "      <td>NaN</td>\n",
       "      <td>11.46775</td>\n",
       "      <td>Almonds</td>\n",
       "      <td>NaN</td>\n",
       "      <td>NaN</td>\n",
       "      <td>NaN</td>\n",
       "      <td>False</td>\n",
       "      <td>Prime farmland if irrigated and drained</td>\n",
       "      <td>2.0</td>\n",
       "      <td>4.0</td>\n",
       "      <td>s</td>\n",
       "      <td>86.0</td>\n",
       "      <td>4.603704</td>\n",
       "      <td>7.014496</td>\n",
       "    </tr>\n",
       "    <tr>\n",
       "      <th>3</th>\n",
       "      <td>30932018</td>\n",
       "      <td>93657-9406</td>\n",
       "      <td>fresno</td>\n",
       "      <td>97978.0</td>\n",
       "      <td>20.13240</td>\n",
       "      <td>Miscellaneous Truck Crops</td>\n",
       "      <td>0.0</td>\n",
       "      <td>0.0</td>\n",
       "      <td>0.0</td>\n",
       "      <td>False</td>\n",
       "      <td>Prime farmland if irrigated</td>\n",
       "      <td>3.0</td>\n",
       "      <td>4.0</td>\n",
       "      <td>e</td>\n",
       "      <td>72.0</td>\n",
       "      <td>3.223960</td>\n",
       "      <td>1.441799</td>\n",
       "    </tr>\n",
       "    <tr>\n",
       "      <th>4</th>\n",
       "      <td>00124003</td>\n",
       "      <td>93620-9451</td>\n",
       "      <td>fresno</td>\n",
       "      <td>16825.0</td>\n",
       "      <td>6.81335</td>\n",
       "      <td>Cotton</td>\n",
       "      <td>1920.0</td>\n",
       "      <td>0.0</td>\n",
       "      <td>440.0</td>\n",
       "      <td>False</td>\n",
       "      <td>NaN</td>\n",
       "      <td>NaN</td>\n",
       "      <td>NaN</td>\n",
       "      <td>NaN</td>\n",
       "      <td>NaN</td>\n",
       "      <td>4.061667</td>\n",
       "      <td>9.344364</td>\n",
       "    </tr>\n",
       "  </tbody>\n",
       "</table>\n",
       "</div>"
      ],
      "text/plain": [
       "  parcelnumb        szip  county   landval  ll_gisacre  \\\n",
       "0   37002003  93654-9320  fresno  207423.0    16.97049   \n",
       "1   36309061  93654-9635  fresno   47692.0     8.68291   \n",
       "2  05326007T       93656  fresno       NaN    11.46775   \n",
       "3   30932018  93657-9406  fresno   97978.0    20.13240   \n",
       "4   00124003  93620-9451  fresno   16825.0     6.81335   \n",
       "\n",
       "                    Crop2016  firstfloor  secondfloor   gize   pool  \\\n",
       "0                     Grapes         0.0          0.0    0.0  False   \n",
       "1    Miscellaneous Deciduous      1148.0          0.0    0.0  False   \n",
       "2                    Almonds         NaN          NaN    NaN  False   \n",
       "3  Miscellaneous Truck Crops         0.0          0.0    0.0  False   \n",
       "4                     Cotton      1920.0          0.0  440.0  False   \n",
       "\n",
       "                                 farmlndcl  irrcapcl  nirrcapcl nirrcalscl  \\\n",
       "0              Prime farmland if irrigated       2.0        4.0          s   \n",
       "1         Farmland of statewide importance       3.0        4.0          s   \n",
       "2  Prime farmland if irrigated and drained       2.0        4.0          s   \n",
       "3              Prime farmland if irrigated       3.0        4.0          e   \n",
       "4                                      NaN       NaN        NaN        NaN   \n",
       "\n",
       "   castorieindex  TotalWater  water_dist  \n",
       "0           95.0    2.926667   11.698670  \n",
       "1           45.0    4.360258    8.498322  \n",
       "2           86.0    4.603704    7.014496  \n",
       "3           72.0    3.223960    1.441799  \n",
       "4            NaN    4.061667    9.344364  "
      ]
     },
     "execution_count": 106,
     "metadata": {},
     "output_type": "execute_result"
    }
   ],
   "source": [
    "print(len(land_data))\n",
    "land_data.head()"
   ]
  },
  {
   "cell_type": "markdown",
   "metadata": {},
   "source": [
    "For the purposes of our analysis we decided to drop the na values for all records in our dataset instead of imputing them in some columns and dropping others. Given the methods of aggregation that went into our source data -- for much of the land data, based on county assessors in Fresno and for our crop data, based on crop map overlays -- imputing missing information could misrepresent the variability in our model."
   ]
  },
  {
   "cell_type": "code",
   "execution_count": 107,
   "metadata": {},
   "outputs": [
    {
     "name": "stdout",
     "output_type": "stream",
     "text": [
      "20638\n"
     ]
    }
   ],
   "source": [
    "land_data.dropna(inplace=True)\n",
    "\n",
    "print(len(land_data))"
   ]
  },
  {
   "cell_type": "markdown",
   "metadata": {},
   "source": [
    "After removing nan values we lost 4704 records, about 18% of the land dataset. We then turned our attention to folding in our crop yield data "
   ]
  },
  {
   "cell_type": "markdown",
   "metadata": {},
   "source": [
    "### Crop Yield Data"
   ]
  },
  {
   "cell_type": "code",
   "execution_count": 108,
   "metadata": {
    "collapsed": true
   },
   "outputs": [],
   "source": [
    "#first load in crop yield data\n",
    "crop_yield = pd.read_csv(cropdata_location)"
   ]
  },
  {
   "cell_type": "code",
   "execution_count": 109,
   "metadata": {},
   "outputs": [
    {
     "name": "stdout",
     "output_type": "stream",
     "text": [
      "Commodity, Planted All Purpose Acres, Harvested Acres, Yield, Production, Price per Unit, Value of Production in Dollars, Crop Unit Vale ($/acre\n"
     ]
    }
   ],
   "source": [
    "print(', '.join(crop_yield.columns.tolist()))"
   ]
  },
  {
   "cell_type": "markdown",
   "metadata": {},
   "source": [
    "From the crop yield data, we took the unit price of a crop per acre ('Crop Unit Vale ($/acre') for calculating parcel specific crop production values in dollars and a water productivity measurement (see below).\n",
    "\n",
    "In order to do that we matched our land data crops to the crops in the California crop yield dataset.<sup>1</sup>\n",
    "\n",
    "____\n",
    "<sup>1</sup> Citation needed"
   ]
  },
  {
   "cell_type": "code",
   "execution_count": 110,
   "metadata": {},
   "outputs": [
    {
     "name": "stdout",
     "output_type": "stream",
     "text": [
      "CA crop yield crops:\n",
      "\t ALFALFA, ALMONDS, APPLES, APRICOTS, ARTICHOKES, ARTICHOKES, FRESH MARKET, ARTICHOKES, UTILIZED, ASPARAGUS, ASPARAGUS, FRESH MARKET, ASPARAGUS, UTILIZED, BARLEY, BEANS, SNAP, BEANS, SNAP, FRESH MARKET, BEANS, SNAP, PROCESSING, BEANS, SNAP, UTILIZED, BROCCOLI, BROCCOLI, FRESH MARKET, BROCCOLI, PROCESSING, BROCCOLI, UTILIZED, CABBAGE, CABBAGE, FRESH MARKET, CABBAGE, PROCESSING, CABBAGE, UTILIZED, CARROTS, CARROTS, FRESH MARKET, CARROTS, PROCESSING, CARROTS, UTILIZED, CAULIFLOWER, CAULIFLOWER, FRESH MARKET, CAULIFLOWER, PROCESSING, CAULIFLOWER, UTILIZED, CELERY, CELERY, FRESH MARKET, CELERY, PROCESSING, CELERY, UTILIZED, CHERRIES, SWEET, CHICKPEAS, CORN, CORN, GRAIN, CORN, SILAGE, COTTON, COTTON, COTTONSEED, COTTON, PIMA, COTTON, UPLAND, CUCUMBERS, CUCUMBERS, FRESH MARKET, CUCUMBERS, PROCESSING, CUCUMBERS, UTILIZED, GARLIC, GARLIC, FRESH MARKET, GARLIC, PROCESSING, GARLIC, UTILIZED, GRAPEFRUIT, GRAPEFRUIT, FRESH MARKET, GRAPEFRUIT, PROCESSING, GRAPEFRUIT, UTILIZED, GRAPES, HAY, HAY & HAYLAGE, HAY & HAYLAGE, (EXCL ALFALFA), HAY & HAYLAGE, ALFALFA, HAY, (EXCL ALFALFA), HAYLAGE, HAYLAGE, (EXCL ALFALFA), HAYLAGE, ALFALFA, LEMONS, LEMONS, FRESH MARKET, LEMONS, PROCESSING, LEMONS, UTILIZED, LETTUCE, HEAD, LETTUCE, HEAD, FRESH MARKET, LETTUCE, HEAD, UTILIZED, LETTUCE, LEAF, LETTUCE, LEAF, FRESH MARKET, LETTUCE, LEAF, UTILIZED, LETTUCE, ROMAINE, LETTUCE, ROMAINE, FRESH MARKET, LETTUCE, ROMAINE, UTILIZED, MELONS, CANTALOUP, MELONS, CANTALOUP, FRESH MARKET, MELONS, CANTALOUP, UTILIZED, MELONS, HONEYDEW, MELONS, HONEYDEW, FRESH MARKET, MELONS, HONEYDEW, UTILIZED, MELONS, WATERMELON, MELONS, WATERMELON, FRESH MARKET, MELONS, WATERMELON, UTILIZED, OATS, ORANGES, ORANGES, FRESH MARKET, ORANGES, PROCESSING, ORANGES, UTILIZED, PEACHES, PEARS, PEPPERS, BELL, PEPPERS, BELL, FRESH MARKET, PEPPERS, BELL, PROCESSING, PEPPERS, BELL, UTILIZED, PEPPERS, CHILE, PEPPERS, CHILE, FRESH MARKET, PEPPERS, CHILE, PROCESSING, PEPPERS, CHILE, UTILIZED, POTATOES, PRUNES, PUMPKINS, PUMPKINS, FRESH MARKET, PUMPKINS, UTILIZED, RICE, SAFFLOWER, SPINACH, SPINACH, FRESH MARKET, SPINACH, PROCESSING, SPINACH, UTILIZED, SQUASH, SQUASH, FRESH MARKET, SQUASH, PROCESSING, SQUASH, UTILIZED, SUGARBEETS, SUNFLOWER, SWEET CORN, SWEET CORN, FRESH MARKET, SWEET CORN, UTILIZED, SWEET POTATOES, SWEET POTATOES, FRESH MARKET, SWEET POTATOES, PROCESSING, SWEET POTATOES, UTILIZED, TANGERINES, TANGERINES, FRESH MARKET, TANGERINES, PROCESSING, TANGERINES, UTILIZED, TOMATOES, TOMATOES, FRESH MARKET, TOMATOES, IN THE OPEN, TOMATOES, IN THE OPEN, FRESH MARKET, TOMATOES, IN THE OPEN, PROCESSING, TOMATOES, IN THE OPEN, UTILIZED, TOMATOES, PROCESSING, WHEAT, WHEAT, SPRING, DURUM, WHEAT, WINTER\n"
     ]
    }
   ],
   "source": [
    "#crop yield crops\n",
    "ca_crops = set(crop_yield['Commodity'].tolist())\n",
    "               \n",
    "print('CA crop yield crops:\\n\\t', ', '.join(sorted(ca_crops)))"
   ]
  },
  {
   "cell_type": "code",
   "execution_count": 111,
   "metadata": {},
   "outputs": [
    {
     "name": "stdout",
     "output_type": "stream",
     "text": [
      "Land Dataset crops:\n",
      "\t ALFALFA AND ALFALFA MIXTURES, ALMONDS, APPLES, BEANS (DRY), BUSH BERRIES, CARROTS, CHERRIES, CITRUS, COLE CROPS, CORN, SORGHUM AND SUDAN, COTTON, DATES, FLOWERS, NURSERY AND CHRISTMAS TREE FARMS, GRAPES, GREENHOUSE, KIWIS, LETTUCE/LEAFY GREENS, MELONS, SQUASH AND CUCUMBERS, MISCELLANEOUS DECIDUOUS, MISCELLANEOUS GRAIN AND HAY, MISCELLANEOUS GRASSES, MISCELLANEOUS SUBTROPICAL FRUITS, MISCELLANEOUS TRUCK CROPS, MIXED PASTURE, OLIVES, ONIONS AND GARLIC, PEACHES/NECTARINES, PEARS, PEPPERS, PISTACHIOS, PLUMS, PRUNES AND APRICOTS, POMEGRANATES, RICE, SAFFLOWER, STRAWBERRIES, SUNFLOWERS, TOMATOES, WALNUTS, WHEAT, YOUNG PERENNIALS\n"
     ]
    }
   ],
   "source": [
    "#land data crop list\n",
    "land_data['Crop2016'] = land_data['Crop2016'].str.upper()\n",
    "land_crops = set(land_data['Crop2016'].tolist())\n",
    "print('Land Dataset crops:\\n\\t', ', '.join(sorted(land_crops)))"
   ]
  },
  {
   "cell_type": "code",
   "execution_count": 112,
   "metadata": {},
   "outputs": [
    {
     "name": "stdout",
     "output_type": "stream",
     "text": [
      "Overlap: ALMONDS, APPLES, SAFFLOWER, GRAPES, CARROTS, WHEAT, RICE, COTTON, TOMATOES, PEARS\n"
     ]
    }
   ],
   "source": [
    "overlap = land_crops.intersection(ca_crops)\n",
    "print('Overlap:', ', '.join(overlap))"
   ]
  },
  {
   "cell_type": "markdown",
   "metadata": {},
   "source": [
    "While there is a good amount of overlap the California crop yield dataset had more crops, some extra text that preveneted a match, and some groupings that intersected a single crop in our land data so we had to make some decisions about which to include.  "
   ]
  },
  {
   "cell_type": "code",
   "execution_count": 113,
   "metadata": {},
   "outputs": [
    {
     "name": "stdout",
     "output_type": "stream",
     "text": [
      "Crops not matched in land dataset:\n",
      " ALFALFA AND ALFALFA MIXTURES, BEANS (DRY), BUSH BERRIES, CHERRIES, CITRUS, COLE CROPS, CORN, SORGHUM AND SUDAN, DATES, FLOWERS, NURSERY AND CHRISTMAS TREE FARMS, GREENHOUSE, KIWIS, LETTUCE/LEAFY GREENS, MELONS, SQUASH AND CUCUMBERS, MISCELLANEOUS DECIDUOUS, MISCELLANEOUS GRAIN AND HAY, MISCELLANEOUS GRASSES, MISCELLANEOUS SUBTROPICAL FRUITS, MISCELLANEOUS TRUCK CROPS, MIXED PASTURE, OLIVES, ONIONS AND GARLIC, PEACHES/NECTARINES, PEPPERS, PISTACHIOS, PLUMS, PRUNES AND APRICOTS, POMEGRANATES, STRAWBERRIES, SUNFLOWERS, WALNUTS, YOUNG PERENNIALS \n",
      "\n",
      "Crops left in the california crop dataset:\n",
      " ALFALFA, APRICOTS, ARTICHOKES, ARTICHOKES, FRESH MARKET, ARTICHOKES, UTILIZED, ASPARAGUS, ASPARAGUS, FRESH MARKET, ASPARAGUS, UTILIZED, BARLEY, BEANS, SNAP, BEANS, SNAP, FRESH MARKET, BEANS, SNAP, PROCESSING, BEANS, SNAP, UTILIZED, BROCCOLI, BROCCOLI, FRESH MARKET, BROCCOLI, PROCESSING, BROCCOLI, UTILIZED, CABBAGE, CABBAGE, FRESH MARKET, CABBAGE, PROCESSING, CABBAGE, UTILIZED, CARROTS, FRESH MARKET, CARROTS, PROCESSING, CARROTS, UTILIZED, CAULIFLOWER, CAULIFLOWER, FRESH MARKET, CAULIFLOWER, PROCESSING, CAULIFLOWER, UTILIZED, CELERY, CELERY, FRESH MARKET, CELERY, PROCESSING, CELERY, UTILIZED, CHERRIES, SWEET, CHICKPEAS, CORN, CORN, GRAIN, CORN, SILAGE, COTTON, COTTONSEED, COTTON, PIMA, COTTON, UPLAND, CUCUMBERS, CUCUMBERS, FRESH MARKET, CUCUMBERS, PROCESSING, CUCUMBERS, UTILIZED, GARLIC, GARLIC, FRESH MARKET, GARLIC, PROCESSING, GARLIC, UTILIZED, GRAPEFRUIT, GRAPEFRUIT, FRESH MARKET, GRAPEFRUIT, PROCESSING, GRAPEFRUIT, UTILIZED, HAY, HAY & HAYLAGE, HAY & HAYLAGE, (EXCL ALFALFA), HAY & HAYLAGE, ALFALFA, HAY, (EXCL ALFALFA), HAYLAGE, HAYLAGE, (EXCL ALFALFA), HAYLAGE, ALFALFA, LEMONS, LEMONS, FRESH MARKET, LEMONS, PROCESSING, LEMONS, UTILIZED, LETTUCE, HEAD, LETTUCE, HEAD, FRESH MARKET, LETTUCE, HEAD, UTILIZED, LETTUCE, LEAF, LETTUCE, LEAF, FRESH MARKET, LETTUCE, LEAF, UTILIZED, LETTUCE, ROMAINE, LETTUCE, ROMAINE, FRESH MARKET, LETTUCE, ROMAINE, UTILIZED, MELONS, CANTALOUP, MELONS, CANTALOUP, FRESH MARKET, MELONS, CANTALOUP, UTILIZED, MELONS, HONEYDEW, MELONS, HONEYDEW, FRESH MARKET, MELONS, HONEYDEW, UTILIZED, MELONS, WATERMELON, MELONS, WATERMELON, FRESH MARKET, MELONS, WATERMELON, UTILIZED, OATS, ORANGES, ORANGES, FRESH MARKET, ORANGES, PROCESSING, ORANGES, UTILIZED, PEACHES, PEPPERS, BELL, PEPPERS, BELL, FRESH MARKET, PEPPERS, BELL, PROCESSING, PEPPERS, BELL, UTILIZED, PEPPERS, CHILE, PEPPERS, CHILE, FRESH MARKET, PEPPERS, CHILE, PROCESSING, PEPPERS, CHILE, UTILIZED, POTATOES, PRUNES, PUMPKINS, PUMPKINS, FRESH MARKET, PUMPKINS, UTILIZED, SPINACH, SPINACH, FRESH MARKET, SPINACH, PROCESSING, SPINACH, UTILIZED, SQUASH, SQUASH, FRESH MARKET, SQUASH, PROCESSING, SQUASH, UTILIZED, SUGARBEETS, SUNFLOWER, SWEET CORN, SWEET CORN, FRESH MARKET, SWEET CORN, UTILIZED, SWEET POTATOES, SWEET POTATOES, FRESH MARKET, SWEET POTATOES, PROCESSING, SWEET POTATOES, UTILIZED, TANGERINES, TANGERINES, FRESH MARKET, TANGERINES, PROCESSING, TANGERINES, UTILIZED, TOMATOES, FRESH MARKET, TOMATOES, IN THE OPEN, TOMATOES, IN THE OPEN, FRESH MARKET, TOMATOES, IN THE OPEN, PROCESSING, TOMATOES, IN THE OPEN, UTILIZED, TOMATOES, PROCESSING, WHEAT, SPRING, DURUM, WHEAT, WINTER\n"
     ]
    }
   ],
   "source": [
    "land_remaining = land_crops - overlap\n",
    "\n",
    "ca_remaining = ca_crops - overlap\n",
    "\n",
    "print('Crops not matched in land dataset:\\n', ', '.join(sorted(list(land_remaining))), '\\n')\n",
    "\n",
    "print('Crops left in the california crop dataset:\\n', ', '.join(sorted(list(ca_remaining))))\n"
   ]
  },
  {
   "cell_type": "markdown",
   "metadata": {},
   "source": [
    "We adjusted the labeling for alfalfa, beans, corn, lettuce, 'melons, squash, and cucumber', miscellaneous grain and hay, garlic, peaches, prunes and apricots, potatoes and sweet potatoes, sunflower. Where there were seemingly duplicate crop records, we made sure to select the crop data containing a 'Price per Unit' value."
   ]
  },
  {
   "cell_type": "code",
   "execution_count": 114,
   "metadata": {
    "collapsed": true
   },
   "outputs": [],
   "source": [
    "land_data = land_data.replace({'ALFALFA AND ALFALFA MIXTURES':'ALFALFA', 'BEANS (DRY)': 'BEANS, SNAP', \n",
    "            'CORN, SORGHUM AND SUDAN':'CORN, GRAIN', 'LETTUCE/LEAFY GREENS':'LETTUCE, HEAD', \n",
    "            'MISCELLANEOUS GRAIN AND HAY': 'HAY, (EXCL ALFALFA)', 'ONIONS AND GARLIC': 'GARLIC', \n",
    "            'PEACHES/NECTARINES': 'PEACHES', 'PLUMS, PRUNES AND APRICOTS': 'PRUNES', \n",
    "            'POTATOES AND SWEET POTATOES': 'POTATOES', 'SUNFLOWERS': 'SUNFLOWER', 'TOMATOES': 'TOMATOES, IN THE OPEN', \n",
    "            'COTTON': 'COTTON, COTTONSEED', 'CHERRIES':'CHERRIES, SWEET', 'SQUASH AND CUCUMBERS': 'SQUASH', })\n",
    "\n"
   ]
  },
  {
   "cell_type": "markdown",
   "metadata": {},
   "source": [
    "We then looked at the overlap again and dropped the rows that dont overlap"
   ]
  },
  {
   "cell_type": "code",
   "execution_count": 115,
   "metadata": {},
   "outputs": [
    {
     "name": "stdout",
     "output_type": "stream",
     "text": [
      "Matched: {'ALMONDS', 'CORN, GRAIN', 'APPLES', 'TOMATOES, IN THE OPEN', 'SAFFLOWER', 'GRAPES', 'CARROTS', 'PRUNES', 'WHEAT', 'BEANS, SNAP', 'COTTON, COTTONSEED', 'HAY, (EXCL ALFALFA)', 'GARLIC', 'CHERRIES, SWEET', 'RICE', 'ALFALFA', 'LETTUCE, HEAD', 'PEACHES', 'SUNFLOWER', 'PEARS'}\n"
     ]
    }
   ],
   "source": [
    "newland_crops = set(land_data['Crop2016'].tolist())\n",
    "\n",
    "overlap = newland_crops.intersection(ca_crops)\n",
    "print('Matched:', overlap)"
   ]
  },
  {
   "cell_type": "code",
   "execution_count": 116,
   "metadata": {
    "collapsed": true
   },
   "outputs": [],
   "source": [
    "incrop = list(overlap)\n",
    "\n",
    "available_crops = land_data['Crop2016'].isin(incrop)\n",
    "\n",
    "land_matched = land_data[available_crops]"
   ]
  },
  {
   "cell_type": "code",
   "execution_count": 117,
   "metadata": {},
   "outputs": [
    {
     "data": {
      "text/plain": [
       "14429"
      ]
     },
     "execution_count": 117,
     "metadata": {},
     "output_type": "execute_result"
    }
   ],
   "source": [
    "len(land_matched)"
   ]
  },
  {
   "cell_type": "markdown",
   "metadata": {},
   "source": [
    "With the available crop data we were able to match 14,429 records to our California crop yield data. "
   ]
  },
  {
   "cell_type": "code",
   "execution_count": 118,
   "metadata": {
    "collapsed": true
   },
   "outputs": [],
   "source": [
    "#get matched crops in ca crop yield\n",
    "\n",
    "available_commodity = crop_yield['Commodity'].isin(incrop)\n",
    "\n",
    "ca_crops = crop_yield[available_commodity]\n",
    "\n"
   ]
  },
  {
   "cell_type": "code",
   "execution_count": 119,
   "metadata": {
    "collapsed": true
   },
   "outputs": [],
   "source": [
    "#rename columns to merge\n",
    "\n",
    "ca_crops.rename(columns = {'Commodity': 'FinalCrop'}, inplace=True)\n",
    "merge_crops = ca_crops[['FinalCrop', 'Crop Unit Vale ($/acre']]\n",
    "\n",
    "land_matched.rename(columns = {'Crop2016': 'FinalCrop'}, inplace=True)\n",
    "\n",
    "\n"
   ]
  },
  {
   "cell_type": "code",
   "execution_count": 120,
   "metadata": {
    "collapsed": true
   },
   "outputs": [],
   "source": [
    "#now merge\n",
    "\n",
    "full_set = land_matched.merge(merge_crops, on='FinalCrop')"
   ]
  },
  {
   "cell_type": "markdown",
   "metadata": {},
   "source": [
    "Checking to see if values were merged in \n"
   ]
  },
  {
   "cell_type": "code",
   "execution_count": 121,
   "metadata": {},
   "outputs": [
    {
     "name": "stdout",
     "output_type": "stream",
     "text": [
      "GRAPES\n",
      "5840.0\n"
     ]
    }
   ],
   "source": [
    "print(full_set.iloc[0]['FinalCrop'])\n",
    "print(full_set.iloc[0]['Crop Unit Vale ($/acre'])\n"
   ]
  },
  {
   "cell_type": "markdown",
   "metadata": {
    "collapsed": true
   },
   "source": [
    "## Feature Engineering"
   ]
  },
  {
   "cell_type": "markdown",
   "metadata": {},
   "source": [
    "Based on our hypothesized value of water variables we thought the 'minimimum available water per parcel' would be helpful in our analysis in addition to the 'minimum water revenue per parcel'.\n",
    "\n",
    "\n",
    "We also wanted to explore whether or not 'water productivity'<sup>1</sup>- the economic value produced per acre-foot of water applied to the parcel crop, as measured in dollars per acre-foot - would be a good proxy for waters value as it relates to land value. \n",
    "\n",
    "We also wanted to see if controlling for the total monetary value of crops producable per parcel would be helpful in the model. \n",
    "\n",
    "\n",
    "____\n",
    "<sup>1</sup> citation needed"
   ]
  },
  {
   "cell_type": "markdown",
   "metadata": {},
   "source": [
    "Now we add two columns to our dataset to hold our applied water in millions of acre feet and our water productivity column and fill in both"
   ]
  },
  {
   "cell_type": "code",
   "execution_count": 122,
   "metadata": {},
   "outputs": [],
   "source": [
    "full_set['crop_rev'] = None\n",
    "full_set['water_productivity'] = None\n",
    "full_set['min_avail_water'] = None\n",
    "full_set['min_water_rev'] = None"
   ]
  },
  {
   "cell_type": "markdown",
   "metadata": {},
   "source": [
    "The 'crop_rev' feature is the total monetary value of crops per parcel using crop unit value * parcel acres where crop unit value is derived from the per crop CA total production in revenue divided by total harvested acres in the california crop yield dataset. \n",
    "\n",
    "We recognize this method is a bit crude given that not all acres on a given parcel are used entirely for cultivating crops. For the purposes of this exploration we created the measurement to look at its potential benefit in our analysis. "
   ]
  },
  {
   "cell_type": "code",
   "execution_count": 123,
   "metadata": {
    "collapsed": true
   },
   "outputs": [],
   "source": [
    "full_set['Crop Unit Vale ($/acre'] = full_set['Crop Unit Vale ($/acre'].astype('float64')\n",
    "\n",
    "\n",
    "\n",
    "for i, r in full_set.iterrows():\n",
    "    full_set.at[i,'crop_rev'] = r['Crop Unit Vale ($/acre'] * r['ll_gisacre']\n",
    "    "
   ]
  },
  {
   "cell_type": "markdown",
   "metadata": {},
   "source": [
    "The 'water_productivity' feature is the parcel crop revenue value per acre divided by the total water per acre of applied water to the crop. "
   ]
  },
  {
   "cell_type": "code",
   "execution_count": 124,
   "metadata": {},
   "outputs": [],
   "source": [
    "\n",
    "for i, r in full_set.iterrows():\n",
    "\n",
    "\n",
    "    #divide millions by millions to get a revenue per acre feet of water applied\n",
    "    converted = r['TotalWater'] * 1000000\n",
    "\n",
    "    full_set.at[i, 'water_productivity'] = float(r['crop_rev'])/converted\n",
    "\n",
    "  \n",
    "full_set['water_productivity'] = full_set['water_productivity'].astype('float64')"
   ]
  },
  {
   "cell_type": "code",
   "execution_count": 125,
   "metadata": {},
   "outputs": [
    {
     "data": {
      "text/plain": [
       "0    0.033864\n",
       "1    0.071694\n",
       "2    0.314373\n",
       "3    0.026831\n",
       "4    0.077111\n",
       "Name: water_productivity, dtype: float64"
      ]
     },
     "execution_count": 125,
     "metadata": {},
     "output_type": "execute_result"
    }
   ],
   "source": [
    "full_set['water_productivity'].head()"
   ]
  },
  {
   "cell_type": "markdown",
   "metadata": {
    "collapsed": true
   },
   "source": [
    "The minimum water available per parcel was derved using the acre feet applied per crop * parcel acreage"
   ]
  },
  {
   "cell_type": "code",
   "execution_count": 126,
   "metadata": {
    "collapsed": true
   },
   "outputs": [],
   "source": [
    "for i, r in full_set.iterrows():\n",
    "\n",
    "    \n",
    "    full_set.at[i, 'min_avail_water'] = r['TotalWater'] * r['ll_gisacre'] \n",
    "\n",
    "full_set['min_avail_water'] = full_set['min_avail_water'].astype('float64')"
   ]
  },
  {
   "cell_type": "code",
   "execution_count": 127,
   "metadata": {},
   "outputs": [
    {
     "data": {
      "text/plain": [
       "0     49.666967\n",
       "1    105.151621\n",
       "2    461.082900\n",
       "3     39.351989\n",
       "4    113.096673\n",
       "Name: min_avail_water, dtype: float64"
      ]
     },
     "execution_count": 127,
     "metadata": {},
     "output_type": "execute_result"
    }
   ],
   "source": [
    "full_set['min_avail_water'].head()"
   ]
  },
  {
   "cell_type": "markdown",
   "metadata": {},
   "source": [
    "We then used the water productivity value to get a potential revenue total value from the number of acres. We took our min_avail_water in acre-feet and multiplied that by our water productivity value to get a min water revenue in dollars."
   ]
  },
  {
   "cell_type": "code",
   "execution_count": 128,
   "metadata": {
    "collapsed": true
   },
   "outputs": [],
   "source": [
    "for i, r in full_set.iterrows():\n",
    "\n",
    "    full_set.at[i, 'min_water_rev'] = r['min_avail_water'] * r['water_productivity'] \n",
    "    \n",
    "\n",
    "full_set['min_water_rev'] = full_set['min_water_rev'].astype('float64')"
   ]
  },
  {
   "cell_type": "code",
   "execution_count": 129,
   "metadata": {
    "scrolled": true
   },
   "outputs": [
    {
     "data": {
      "text/plain": [
       "0          1.681906\n",
       "1          7.538731\n",
       "2        144.952048\n",
       "3          1.055844\n",
       "4          8.720994\n",
       "            ...    \n",
       "14424      0.009663\n",
       "14425      0.620649\n",
       "14426      0.009145\n",
       "14427      0.177085\n",
       "14428      0.011488\n",
       "Name: min_water_rev, Length: 14429, dtype: float64"
      ]
     },
     "execution_count": 129,
     "metadata": {},
     "output_type": "execute_result"
    }
   ],
   "source": [
    "full_set['min_water_rev']"
   ]
  },
  {
   "cell_type": "markdown",
   "metadata": {},
   "source": [
    "Given that we are focusing on agricultural land we decided to remove the parcels which had the presence of a swimming pool, as they denoted a residential use for the parcel"
   ]
  },
  {
   "cell_type": "code",
   "execution_count": 130,
   "metadata": {
    "collapsed": true
   },
   "outputs": [],
   "source": [
    "\n",
    "#exclude pools\n",
    "full_set.drop(full_set[full_set['pool'] == True].index, inplace=True)\n",
    "\n"
   ]
  },
  {
   "cell_type": "code",
   "execution_count": 131,
   "metadata": {},
   "outputs": [
    {
     "data": {
      "text/plain": [
       "0        False\n",
       "1        False\n",
       "2        False\n",
       "3        False\n",
       "4        False\n",
       "         ...  \n",
       "14424    False\n",
       "14425    False\n",
       "14426    False\n",
       "14427    False\n",
       "14428    False\n",
       "Name: pool, Length: 13630, dtype: bool"
      ]
     },
     "execution_count": 131,
     "metadata": {},
     "output_type": "execute_result"
    }
   ],
   "source": [
    "full_set['pool']"
   ]
  },
  {
   "cell_type": "code",
   "execution_count": 132,
   "metadata": {},
   "outputs": [
    {
     "data": {
      "text/plain": [
       "{'Farmland of statewide importance',\n",
       " 'Not prime farmland',\n",
       " 'Prime farmland if irrigated',\n",
       " 'Prime farmland if irrigated and drained',\n",
       " 'Prime farmland if irrigated and either protected from flooding or not frequently flooded during the growing season',\n",
       " 'Prime farmland if irrigated and reclaimed of excess salts and sodium'}"
      ]
     },
     "execution_count": 132,
     "metadata": {},
     "output_type": "execute_result"
    }
   ],
   "source": [
    "set(full_set['farmlndcl'].tolist())"
   ]
  },
  {
   "cell_type": "code",
   "execution_count": null,
   "metadata": {
    "collapsed": true
   },
   "outputs": [],
   "source": []
  },
  {
   "cell_type": "markdown",
   "metadata": {},
   "source": [
    "Lets do some work on the land value by summing building land size and excluding those records with a pool"
   ]
  },
  {
   "cell_type": "markdown",
   "metadata": {},
   "source": [
    "## Feature Analysis"
   ]
  },
  {
   "cell_type": "markdown",
   "metadata": {},
   "source": [
    "After compiling our data we wanted to conduct some univariate and bivariate analysis on our variables to see what has potential in regression analysis. \n"
   ]
  },
  {
   "cell_type": "code",
   "execution_count": 133,
   "metadata": {},
   "outputs": [
    {
     "name": "stdout",
     "output_type": "stream",
     "text": [
      "Featureset: parcelnumb, szip, county, landval, ll_gisacre, FinalCrop, firstfloor, secondfloor, gize, pool, farmlndcl, irrcapcl, nirrcapcl, nirrcalscl, castorieindex, TotalWater, water_dist, Crop Unit Vale ($/acre, crop_rev, water_productivity, min_avail_water, min_water_rev\n"
     ]
    }
   ],
   "source": [
    "print('Featureset:', ', '.join(full_set.columns))"
   ]
  },
  {
   "cell_type": "code",
   "execution_count": 134,
   "metadata": {},
   "outputs": [
    {
     "data": {
      "text/html": [
       "<div>\n",
       "<style scoped>\n",
       "    .dataframe tbody tr th:only-of-type {\n",
       "        vertical-align: middle;\n",
       "    }\n",
       "\n",
       "    .dataframe tbody tr th {\n",
       "        vertical-align: top;\n",
       "    }\n",
       "\n",
       "    .dataframe thead th {\n",
       "        text-align: right;\n",
       "    }\n",
       "</style>\n",
       "<table border=\"1\" class=\"dataframe\">\n",
       "  <thead>\n",
       "    <tr style=\"text-align: right;\">\n",
       "      <th></th>\n",
       "      <th>landval</th>\n",
       "      <th>ll_gisacre</th>\n",
       "      <th>firstfloor</th>\n",
       "      <th>secondfloor</th>\n",
       "      <th>gize</th>\n",
       "      <th>irrcapcl</th>\n",
       "      <th>nirrcapcl</th>\n",
       "      <th>castorieindex</th>\n",
       "      <th>TotalWater</th>\n",
       "      <th>water_dist</th>\n",
       "      <th>Crop Unit Vale ($/acre</th>\n",
       "      <th>water_productivity</th>\n",
       "      <th>min_avail_water</th>\n",
       "      <th>min_water_rev</th>\n",
       "    </tr>\n",
       "  </thead>\n",
       "  <tbody>\n",
       "    <tr>\n",
       "      <th>count</th>\n",
       "      <td>1.363000e+04</td>\n",
       "      <td>13630.000000</td>\n",
       "      <td>13630.000000</td>\n",
       "      <td>13630.000000</td>\n",
       "      <td>13630.000000</td>\n",
       "      <td>13630.000000</td>\n",
       "      <td>13630.000000</td>\n",
       "      <td>13630.000000</td>\n",
       "      <td>13630.000000</td>\n",
       "      <td>13630.000000</td>\n",
       "      <td>11744.000000</td>\n",
       "      <td>11744.000000</td>\n",
       "      <td>13630.000000</td>\n",
       "      <td>1.174400e+04</td>\n",
       "    </tr>\n",
       "    <tr>\n",
       "      <th>mean</th>\n",
       "      <td>1.838440e+05</td>\n",
       "      <td>46.708659</td>\n",
       "      <td>1107.571827</td>\n",
       "      <td>26.857594</td>\n",
       "      <td>162.871900</td>\n",
       "      <td>2.265371</td>\n",
       "      <td>4.587968</td>\n",
       "      <td>71.537417</td>\n",
       "      <td>3.684189</td>\n",
       "      <td>11.969699</td>\n",
       "      <td>5201.802976</td>\n",
       "      <td>0.066903</td>\n",
       "      <td>180.212053</td>\n",
       "      <td>4.585257e+01</td>\n",
       "    </tr>\n",
       "    <tr>\n",
       "      <th>std</th>\n",
       "      <td>2.704524e+05</td>\n",
       "      <td>81.421718</td>\n",
       "      <td>7435.743812</td>\n",
       "      <td>177.635441</td>\n",
       "      <td>859.455181</td>\n",
       "      <td>0.876527</td>\n",
       "      <td>1.150181</td>\n",
       "      <td>25.870165</td>\n",
       "      <td>0.777842</td>\n",
       "      <td>5.658416</td>\n",
       "      <td>2212.243147</td>\n",
       "      <td>0.133574</td>\n",
       "      <td>329.043107</td>\n",
       "      <td>2.291858e+02</td>\n",
       "    </tr>\n",
       "    <tr>\n",
       "      <th>min</th>\n",
       "      <td>0.000000e+00</td>\n",
       "      <td>0.007320</td>\n",
       "      <td>0.000000</td>\n",
       "      <td>0.000000</td>\n",
       "      <td>0.000000</td>\n",
       "      <td>1.000000</td>\n",
       "      <td>3.000000</td>\n",
       "      <td>3.000000</td>\n",
       "      <td>2.438760</td>\n",
       "      <td>0.279622</td>\n",
       "      <td>363.409836</td>\n",
       "      <td>0.000002</td>\n",
       "      <td>0.021423</td>\n",
       "      <td>7.546136e-08</td>\n",
       "    </tr>\n",
       "    <tr>\n",
       "      <th>25%</th>\n",
       "      <td>5.150525e+04</td>\n",
       "      <td>4.749678</td>\n",
       "      <td>0.000000</td>\n",
       "      <td>0.000000</td>\n",
       "      <td>0.000000</td>\n",
       "      <td>2.000000</td>\n",
       "      <td>4.000000</td>\n",
       "      <td>57.000000</td>\n",
       "      <td>2.926667</td>\n",
       "      <td>7.224683</td>\n",
       "      <td>5840.000000</td>\n",
       "      <td>0.004171</td>\n",
       "      <td>17.502717</td>\n",
       "      <td>7.796189e-02</td>\n",
       "    </tr>\n",
       "    <tr>\n",
       "      <th>50%</th>\n",
       "      <td>1.078085e+05</td>\n",
       "      <td>19.569145</td>\n",
       "      <td>0.000000</td>\n",
       "      <td>0.000000</td>\n",
       "      <td>0.000000</td>\n",
       "      <td>2.000000</td>\n",
       "      <td>4.000000</td>\n",
       "      <td>77.000000</td>\n",
       "      <td>3.600193</td>\n",
       "      <td>12.649338</td>\n",
       "      <td>5840.000000</td>\n",
       "      <td>0.031773</td>\n",
       "      <td>72.781438</td>\n",
       "      <td>2.173540e+00</td>\n",
       "    </tr>\n",
       "    <tr>\n",
       "      <th>75%</th>\n",
       "      <td>2.100220e+05</td>\n",
       "      <td>40.531590</td>\n",
       "      <td>1296.000000</td>\n",
       "      <td>0.000000</td>\n",
       "      <td>0.000000</td>\n",
       "      <td>3.000000</td>\n",
       "      <td>4.000000</td>\n",
       "      <td>95.000000</td>\n",
       "      <td>4.603704</td>\n",
       "      <td>15.673171</td>\n",
       "      <td>6176.250000</td>\n",
       "      <td>0.072815</td>\n",
       "      <td>173.037101</td>\n",
       "      <td>9.167945e+00</td>\n",
       "    </tr>\n",
       "    <tr>\n",
       "      <th>max</th>\n",
       "      <td>8.312000e+06</td>\n",
       "      <td>918.587540</td>\n",
       "      <td>408030.000000</td>\n",
       "      <td>4944.000000</td>\n",
       "      <td>67200.000000</td>\n",
       "      <td>6.000000</td>\n",
       "      <td>7.000000</td>\n",
       "      <td>100.000000</td>\n",
       "      <td>5.597072</td>\n",
       "      <td>33.513405</td>\n",
       "      <td>12121.370370</td>\n",
       "      <td>2.311442</td>\n",
       "      <td>3645.871531</td>\n",
       "      <td>5.039807e+03</td>\n",
       "    </tr>\n",
       "  </tbody>\n",
       "</table>\n",
       "</div>"
      ],
      "text/plain": [
       "            landval    ll_gisacre     firstfloor   secondfloor          gize  \\\n",
       "count  1.363000e+04  13630.000000   13630.000000  13630.000000  13630.000000   \n",
       "mean   1.838440e+05     46.708659    1107.571827     26.857594    162.871900   \n",
       "std    2.704524e+05     81.421718    7435.743812    177.635441    859.455181   \n",
       "min    0.000000e+00      0.007320       0.000000      0.000000      0.000000   \n",
       "25%    5.150525e+04      4.749678       0.000000      0.000000      0.000000   \n",
       "50%    1.078085e+05     19.569145       0.000000      0.000000      0.000000   \n",
       "75%    2.100220e+05     40.531590    1296.000000      0.000000      0.000000   \n",
       "max    8.312000e+06    918.587540  408030.000000   4944.000000  67200.000000   \n",
       "\n",
       "           irrcapcl     nirrcapcl  castorieindex    TotalWater    water_dist  \\\n",
       "count  13630.000000  13630.000000   13630.000000  13630.000000  13630.000000   \n",
       "mean       2.265371      4.587968      71.537417      3.684189     11.969699   \n",
       "std        0.876527      1.150181      25.870165      0.777842      5.658416   \n",
       "min        1.000000      3.000000       3.000000      2.438760      0.279622   \n",
       "25%        2.000000      4.000000      57.000000      2.926667      7.224683   \n",
       "50%        2.000000      4.000000      77.000000      3.600193     12.649338   \n",
       "75%        3.000000      4.000000      95.000000      4.603704     15.673171   \n",
       "max        6.000000      7.000000     100.000000      5.597072     33.513405   \n",
       "\n",
       "       Crop Unit Vale ($/acre  water_productivity  min_avail_water  \\\n",
       "count            11744.000000        11744.000000     13630.000000   \n",
       "mean              5201.802976            0.066903       180.212053   \n",
       "std               2212.243147            0.133574       329.043107   \n",
       "min                363.409836            0.000002         0.021423   \n",
       "25%               5840.000000            0.004171        17.502717   \n",
       "50%               5840.000000            0.031773        72.781438   \n",
       "75%               6176.250000            0.072815       173.037101   \n",
       "max              12121.370370            2.311442      3645.871531   \n",
       "\n",
       "       min_water_rev  \n",
       "count   1.174400e+04  \n",
       "mean    4.585257e+01  \n",
       "std     2.291858e+02  \n",
       "min     7.546136e-08  \n",
       "25%     7.796189e-02  \n",
       "50%     2.173540e+00  \n",
       "75%     9.167945e+00  \n",
       "max     5.039807e+03  "
      ]
     },
     "execution_count": 134,
     "metadata": {},
     "output_type": "execute_result"
    }
   ],
   "source": [
    "full_set.describe()"
   ]
  },
  {
   "cell_type": "markdown",
   "metadata": {},
   "source": [
    "mean values for land, acreage, water dist, min avail water"
   ]
  },
  {
   "cell_type": "code",
   "execution_count": 135,
   "metadata": {},
   "outputs": [
    {
     "data": {
      "text/plain": [
       "array([[<matplotlib.axes._subplots.AxesSubplot object at 0x1299533c8>,\n",
       "        <matplotlib.axes._subplots.AxesSubplot object at 0x129b58400>,\n",
       "        <matplotlib.axes._subplots.AxesSubplot object at 0x129503898>,\n",
       "        <matplotlib.axes._subplots.AxesSubplot object at 0x126515b00>],\n",
       "       [<matplotlib.axes._subplots.AxesSubplot object at 0x126522d68>,\n",
       "        <matplotlib.axes._subplots.AxesSubplot object at 0x126aadfd0>,\n",
       "        <matplotlib.axes._subplots.AxesSubplot object at 0x12693c278>,\n",
       "        <matplotlib.axes._subplots.AxesSubplot object at 0x12a1324a8>],\n",
       "       [<matplotlib.axes._subplots.AxesSubplot object at 0x12a132518>,\n",
       "        <matplotlib.axes._subplots.AxesSubplot object at 0x12abec9b0>,\n",
       "        <matplotlib.axes._subplots.AxesSubplot object at 0x12a292c18>,\n",
       "        <matplotlib.axes._subplots.AxesSubplot object at 0x12aa19e80>],\n",
       "       [<matplotlib.axes._subplots.AxesSubplot object at 0x1296b2128>,\n",
       "        <matplotlib.axes._subplots.AxesSubplot object at 0x129a1f2b0>,\n",
       "        <matplotlib.axes._subplots.AxesSubplot object at 0x12a607630>,\n",
       "        <matplotlib.axes._subplots.AxesSubplot object at 0x12a62d9b0>],\n",
       "       [<matplotlib.axes._subplots.AxesSubplot object at 0x12a1b3d30>,\n",
       "        <matplotlib.axes._subplots.AxesSubplot object at 0x128e210f0>,\n",
       "        <matplotlib.axes._subplots.AxesSubplot object at 0x129597470>,\n",
       "        <matplotlib.axes._subplots.AxesSubplot object at 0x1295f47f0>]],\n",
       "      dtype=object)"
      ]
     },
     "execution_count": 135,
     "metadata": {},
     "output_type": "execute_result"
    },
    {
     "data": {
      "image/png": "[encoded data removed]",
      "text/plain": [
       "<Figure size 1440x1440 with 20 Axes>"
      ]
     },
     "metadata": {},
     "output_type": "display_data"
    }
   ],
   "source": [
    "full_set.hist(layout=(5,4), figsize=(20,20), bins=10)"
   ]
  },
  {
   "cell_type": "markdown",
   "metadata": {},
   "source": [
    "Noticeably our water distane metric is the only regularly distributed feature set. Our target variable for regression, 'landval' (land value) is positive skewed along with most of our numerical features. To see if we can get a more normal distribution on those we will perform a log transformation\n",
    "\n",
    "We also have some clear categorical features in 'farmlndcl', 'irrcapcl', 'nirrcapcl', and 'nirrcalscl' which have to do with irrigation \n",
    "\n",
    "We also have an ordinal feature with 'castorieindex'\n",
    "\n"
   ]
  },
  {
   "cell_type": "code",
   "execution_count": 136,
   "metadata": {},
   "outputs": [
    {
     "data": {
      "text/plain": [
       "array([[<matplotlib.axes._subplots.AxesSubplot object at 0x126c616a0>,\n",
       "        <matplotlib.axes._subplots.AxesSubplot object at 0x126e2ac88>,\n",
       "        <matplotlib.axes._subplots.AxesSubplot object at 0x127908ef0>],\n",
       "       [<matplotlib.axes._subplots.AxesSubplot object at 0x127944198>,\n",
       "        <matplotlib.axes._subplots.AxesSubplot object at 0x1278f6400>,\n",
       "        <matplotlib.axes._subplots.AxesSubplot object at 0x1278aa668>],\n",
       "       [<matplotlib.axes._subplots.AxesSubplot object at 0x126da48d0>,\n",
       "        <matplotlib.axes._subplots.AxesSubplot object at 0x128038b00>,\n",
       "        <matplotlib.axes._subplots.AxesSubplot object at 0x128038b70>]],\n",
       "      dtype=object)"
      ]
     },
     "execution_count": 136,
     "metadata": {},
     "output_type": "execute_result"
    },
    {
     "data": {
      "image/png": "[encoded data removed]",
      "text/plain": [
       "<Figure size 1440x1440 with 9 Axes>"
      ]
     },
     "metadata": {},
     "output_type": "display_data"
    }
   ],
   "source": [
    "full_set['landval_log'] = np.log(full_set['landval'])\n",
    "full_set['ll_gisacre_log'] = np.log(full_set['ll_gisacre'])\n",
    "full_set['TotalWater_log'] = np.log(full_set['TotalWater'])\n",
    "full_set['min_avail_water_log'] = np.log(full_set['min_avail_water'])\n",
    "full_set['firstfloor_log'] = np.log(full_set['firstfloor'])\n",
    "full_set['secondfloor_log'] = np.log(full_set['secondfloor'])\n",
    "full_set['gize_log'] = np.log(full_set['gize'])\n",
    "full_set['water_productivity_log'] = np.log(full_set['water_productivity'])\n",
    "\n",
    "\n",
    "full_set[np.isfinite(full_set[['landval_log', 'TotalWater_log', 'min_avail_water_log', 'firstfloor_log', 'secondfloor_log', 'll_gisacre_log', 'gize_log', 'water_productivity_log']])][['landval_log', 'll_gisacre_log', 'TotalWater_log', 'min_avail_water_log', 'firstfloor_log', 'secondfloor_log','gize_log', 'water_productivity_log']].hist(figsize=(20,20), layout=(3,3))\n",
    "\n",
    "\n",
    "\n"
   ]
  },
  {
   "cell_type": "markdown",
   "metadata": {},
   "source": [
    "After applying log transforms to our positively skewed numerical features we see a clear change in the distribution for land value, acreage, minimum water available, and the parcel building size features. \n",
    "\n",
    "We then turned to bivariate analysis to see their interactions in particular with land value. "
   ]
  },
  {
   "cell_type": "code",
   "execution_count": 137,
   "metadata": {},
   "outputs": [
    {
     "data": {
      "text/plain": [
       "<seaborn.axisgrid.PairGrid at 0x126c5f128>"
      ]
     },
     "execution_count": 137,
     "metadata": {},
     "output_type": "execute_result"
    },
    {
     "data": {
      "image/png": "[encoded data removed]",
      "text/plain": [
       "<Figure size 360x360 with 6 Axes>"
      ]
     },
     "metadata": {},
     "output_type": "display_data"
    }
   ],
   "source": [
    "land_water_bivariate = full_set[['landval_log','ll_gisacre_log']]\n",
    "\n",
    "sns.pairplot(land_water_bivariate[np.isfinite(land_water_bivariate[['landval_log', 'll_gisacre_log']])])\n",
    "                       \n",
    "                       "
   ]
  },
  {
   "cell_type": "markdown",
   "metadata": {},
   "source": [
    "bivariate analysis on water productivity and land, acreage and land, total water and land, water distance and land, min avial water and land"
   ]
  },
  {
   "cell_type": "markdown",
   "metadata": {},
   "source": [
    "## categorical data eda goes here"
   ]
  },
  {
   "cell_type": "markdown",
   "metadata": {},
   "source": [
    "## Hedonic Regression Analysis"
   ]
  },
  {
   "cell_type": "markdown",
   "metadata": {},
   "source": [
    "For our purposes we want to use the following features for hedonic \n",
    "regression:\n",
    "\n",
    "- landval: parcel land value, based on assessor\n",
    "- ll_gisacre: parcel acreage, as in size\n",
    "\n",
    "\n",
    "\n",
    "\n"
   ]
  },
  {
   "cell_type": "markdown",
   "metadata": {},
   "source": [
    "Lets see how correlated the values are before we try and regress them."
   ]
  },
  {
   "cell_type": "code",
   "execution_count": 138,
   "metadata": {},
   "outputs": [
    {
     "data": {
      "text/html": [
       "<div>\n",
       "<style scoped>\n",
       "    .dataframe tbody tr th:only-of-type {\n",
       "        vertical-align: middle;\n",
       "    }\n",
       "\n",
       "    .dataframe tbody tr th {\n",
       "        vertical-align: top;\n",
       "    }\n",
       "\n",
       "    .dataframe thead th {\n",
       "        text-align: right;\n",
       "    }\n",
       "</style>\n",
       "<table border=\"1\" class=\"dataframe\">\n",
       "  <thead>\n",
       "    <tr style=\"text-align: right;\">\n",
       "      <th></th>\n",
       "      <th>landval</th>\n",
       "      <th>ll_gisacre</th>\n",
       "      <th>firstfloor</th>\n",
       "      <th>secondfloor</th>\n",
       "      <th>gize</th>\n",
       "      <th>pool</th>\n",
       "      <th>irrcapcl</th>\n",
       "      <th>nirrcapcl</th>\n",
       "      <th>castorieindex</th>\n",
       "      <th>TotalWater</th>\n",
       "      <th>...</th>\n",
       "      <th>min_avail_water</th>\n",
       "      <th>min_water_rev</th>\n",
       "      <th>landval_log</th>\n",
       "      <th>ll_gisacre_log</th>\n",
       "      <th>TotalWater_log</th>\n",
       "      <th>min_avail_water_log</th>\n",
       "      <th>firstfloor_log</th>\n",
       "      <th>secondfloor_log</th>\n",
       "      <th>gize_log</th>\n",
       "      <th>water_productivity_log</th>\n",
       "    </tr>\n",
       "  </thead>\n",
       "  <tbody>\n",
       "    <tr>\n",
       "      <th>landval</th>\n",
       "      <td>1.000000</td>\n",
       "      <td>0.636023</td>\n",
       "      <td>0.055569</td>\n",
       "      <td>-0.004404</td>\n",
       "      <td>0.013369</td>\n",
       "      <td>NaN</td>\n",
       "      <td>0.014708</td>\n",
       "      <td>0.111132</td>\n",
       "      <td>-0.099548</td>\n",
       "      <td>0.083858</td>\n",
       "      <td>...</td>\n",
       "      <td>0.620690</td>\n",
       "      <td>0.499762</td>\n",
       "      <td>0.635832</td>\n",
       "      <td>0.485586</td>\n",
       "      <td>0.086238</td>\n",
       "      <td>0.485878</td>\n",
       "      <td>0.067835</td>\n",
       "      <td>0.037105</td>\n",
       "      <td>0.100054</td>\n",
       "      <td>0.437473</td>\n",
       "    </tr>\n",
       "    <tr>\n",
       "      <th>ll_gisacre</th>\n",
       "      <td>0.636023</td>\n",
       "      <td>1.000000</td>\n",
       "      <td>-0.041015</td>\n",
       "      <td>-0.041044</td>\n",
       "      <td>-0.058248</td>\n",
       "      <td>NaN</td>\n",
       "      <td>-0.018587</td>\n",
       "      <td>0.372424</td>\n",
       "      <td>-0.196410</td>\n",
       "      <td>0.128355</td>\n",
       "      <td>...</td>\n",
       "      <td>0.975711</td>\n",
       "      <td>0.777544</td>\n",
       "      <td>0.513258</td>\n",
       "      <td>0.629641</td>\n",
       "      <td>0.132009</td>\n",
       "      <td>0.632214</td>\n",
       "      <td>-0.079280</td>\n",
       "      <td>0.049297</td>\n",
       "      <td>-0.044002</td>\n",
       "      <td>0.535776</td>\n",
       "    </tr>\n",
       "    <tr>\n",
       "      <th>firstfloor</th>\n",
       "      <td>0.055569</td>\n",
       "      <td>-0.041015</td>\n",
       "      <td>1.000000</td>\n",
       "      <td>0.157698</td>\n",
       "      <td>0.230662</td>\n",
       "      <td>NaN</td>\n",
       "      <td>-0.010666</td>\n",
       "      <td>-0.045505</td>\n",
       "      <td>0.031109</td>\n",
       "      <td>-0.020836</td>\n",
       "      <td>...</td>\n",
       "      <td>-0.040515</td>\n",
       "      <td>-0.022027</td>\n",
       "      <td>0.043133</td>\n",
       "      <td>-0.035464</td>\n",
       "      <td>-0.023326</td>\n",
       "      <td>-0.037336</td>\n",
       "      <td>0.613949</td>\n",
       "      <td>0.128572</td>\n",
       "      <td>0.320291</td>\n",
       "      <td>-0.030224</td>\n",
       "    </tr>\n",
       "    <tr>\n",
       "      <th>secondfloor</th>\n",
       "      <td>-0.004404</td>\n",
       "      <td>-0.041044</td>\n",
       "      <td>0.157698</td>\n",
       "      <td>1.000000</td>\n",
       "      <td>0.083014</td>\n",
       "      <td>NaN</td>\n",
       "      <td>-0.005836</td>\n",
       "      <td>-0.068546</td>\n",
       "      <td>0.042783</td>\n",
       "      <td>-0.016674</td>\n",
       "      <td>...</td>\n",
       "      <td>-0.040061</td>\n",
       "      <td>-0.021758</td>\n",
       "      <td>-0.001232</td>\n",
       "      <td>-0.059035</td>\n",
       "      <td>-0.017601</td>\n",
       "      <td>-0.059845</td>\n",
       "      <td>0.084228</td>\n",
       "      <td>0.817278</td>\n",
       "      <td>0.130390</td>\n",
       "      <td>-0.060314</td>\n",
       "    </tr>\n",
       "    <tr>\n",
       "      <th>gize</th>\n",
       "      <td>0.013369</td>\n",
       "      <td>-0.058248</td>\n",
       "      <td>0.230662</td>\n",
       "      <td>0.083014</td>\n",
       "      <td>1.000000</td>\n",
       "      <td>NaN</td>\n",
       "      <td>0.013886</td>\n",
       "      <td>-0.079587</td>\n",
       "      <td>0.041864</td>\n",
       "      <td>-0.037038</td>\n",
       "      <td>...</td>\n",
       "      <td>-0.058119</td>\n",
       "      <td>-0.029801</td>\n",
       "      <td>0.007282</td>\n",
       "      <td>-0.063312</td>\n",
       "      <td>-0.039134</td>\n",
       "      <td>-0.066383</td>\n",
       "      <td>0.257445</td>\n",
       "      <td>0.203711</td>\n",
       "      <td>0.620105</td>\n",
       "      <td>-0.042628</td>\n",
       "    </tr>\n",
       "    <tr>\n",
       "      <th>pool</th>\n",
       "      <td>NaN</td>\n",
       "      <td>NaN</td>\n",
       "      <td>NaN</td>\n",
       "      <td>NaN</td>\n",
       "      <td>NaN</td>\n",
       "      <td>NaN</td>\n",
       "      <td>NaN</td>\n",
       "      <td>NaN</td>\n",
       "      <td>NaN</td>\n",
       "      <td>NaN</td>\n",
       "      <td>...</td>\n",
       "      <td>NaN</td>\n",
       "      <td>NaN</td>\n",
       "      <td>NaN</td>\n",
       "      <td>NaN</td>\n",
       "      <td>NaN</td>\n",
       "      <td>NaN</td>\n",
       "      <td>NaN</td>\n",
       "      <td>NaN</td>\n",
       "      <td>NaN</td>\n",
       "      <td>NaN</td>\n",
       "    </tr>\n",
       "    <tr>\n",
       "      <th>irrcapcl</th>\n",
       "      <td>0.014708</td>\n",
       "      <td>-0.018587</td>\n",
       "      <td>-0.010666</td>\n",
       "      <td>-0.005836</td>\n",
       "      <td>0.013886</td>\n",
       "      <td>NaN</td>\n",
       "      <td>1.000000</td>\n",
       "      <td>-0.030180</td>\n",
       "      <td>-0.605970</td>\n",
       "      <td>0.004293</td>\n",
       "      <td>...</td>\n",
       "      <td>-0.021617</td>\n",
       "      <td>-0.023000</td>\n",
       "      <td>0.002225</td>\n",
       "      <td>-0.008822</td>\n",
       "      <td>-0.000971</td>\n",
       "      <td>-0.008762</td>\n",
       "      <td>-0.046242</td>\n",
       "      <td>0.017332</td>\n",
       "      <td>-0.011400</td>\n",
       "      <td>-0.003651</td>\n",
       "    </tr>\n",
       "    <tr>\n",
       "      <th>nirrcapcl</th>\n",
       "      <td>0.111132</td>\n",
       "      <td>0.372424</td>\n",
       "      <td>-0.045505</td>\n",
       "      <td>-0.068546</td>\n",
       "      <td>-0.079587</td>\n",
       "      <td>NaN</td>\n",
       "      <td>-0.030180</td>\n",
       "      <td>1.000000</td>\n",
       "      <td>-0.347559</td>\n",
       "      <td>0.211335</td>\n",
       "      <td>...</td>\n",
       "      <td>0.371702</td>\n",
       "      <td>0.236149</td>\n",
       "      <td>0.054437</td>\n",
       "      <td>0.246367</td>\n",
       "      <td>0.221229</td>\n",
       "      <td>0.265810</td>\n",
       "      <td>0.044505</td>\n",
       "      <td>0.025730</td>\n",
       "      <td>-0.009789</td>\n",
       "      <td>0.162601</td>\n",
       "    </tr>\n",
       "    <tr>\n",
       "      <th>castorieindex</th>\n",
       "      <td>-0.099548</td>\n",
       "      <td>-0.196410</td>\n",
       "      <td>0.031109</td>\n",
       "      <td>0.042783</td>\n",
       "      <td>0.041864</td>\n",
       "      <td>NaN</td>\n",
       "      <td>-0.605970</td>\n",
       "      <td>-0.347559</td>\n",
       "      <td>1.000000</td>\n",
       "      <td>-0.182603</td>\n",
       "      <td>...</td>\n",
       "      <td>-0.202156</td>\n",
       "      <td>-0.108389</td>\n",
       "      <td>-0.042551</td>\n",
       "      <td>-0.104481</td>\n",
       "      <td>-0.185697</td>\n",
       "      <td>-0.122715</td>\n",
       "      <td>-0.022266</td>\n",
       "      <td>0.017052</td>\n",
       "      <td>0.019719</td>\n",
       "      <td>0.009969</td>\n",
       "    </tr>\n",
       "    <tr>\n",
       "      <th>TotalWater</th>\n",
       "      <td>0.083858</td>\n",
       "      <td>0.128355</td>\n",
       "      <td>-0.020836</td>\n",
       "      <td>-0.016674</td>\n",
       "      <td>-0.037038</td>\n",
       "      <td>NaN</td>\n",
       "      <td>0.004293</td>\n",
       "      <td>0.211335</td>\n",
       "      <td>-0.182603</td>\n",
       "      <td>1.000000</td>\n",
       "      <td>...</td>\n",
       "      <td>0.233726</td>\n",
       "      <td>0.048264</td>\n",
       "      <td>0.052356</td>\n",
       "      <td>0.116145</td>\n",
       "      <td>0.996920</td>\n",
       "      <td>0.222358</td>\n",
       "      <td>-0.013911</td>\n",
       "      <td>0.128051</td>\n",
       "      <td>0.011331</td>\n",
       "      <td>-0.015552</td>\n",
       "    </tr>\n",
       "    <tr>\n",
       "      <th>water_dist</th>\n",
       "      <td>-0.030214</td>\n",
       "      <td>0.034610</td>\n",
       "      <td>-0.016551</td>\n",
       "      <td>-0.029562</td>\n",
       "      <td>-0.003268</td>\n",
       "      <td>NaN</td>\n",
       "      <td>-0.155310</td>\n",
       "      <td>0.220955</td>\n",
       "      <td>0.316501</td>\n",
       "      <td>-0.114942</td>\n",
       "      <td>...</td>\n",
       "      <td>0.022046</td>\n",
       "      <td>0.037037</td>\n",
       "      <td>-0.012891</td>\n",
       "      <td>0.037745</td>\n",
       "      <td>-0.120252</td>\n",
       "      <td>0.023965</td>\n",
       "      <td>-0.060580</td>\n",
       "      <td>-0.083608</td>\n",
       "      <td>-0.035703</td>\n",
       "      <td>0.145185</td>\n",
       "    </tr>\n",
       "    <tr>\n",
       "      <th>Crop Unit Vale ($/acre</th>\n",
       "      <td>0.002460</td>\n",
       "      <td>-0.011803</td>\n",
       "      <td>-0.005620</td>\n",
       "      <td>-0.016152</td>\n",
       "      <td>0.007212</td>\n",
       "      <td>NaN</td>\n",
       "      <td>-0.017448</td>\n",
       "      <td>-0.013844</td>\n",
       "      <td>0.186194</td>\n",
       "      <td>-0.062982</td>\n",
       "      <td>...</td>\n",
       "      <td>-0.025420</td>\n",
       "      <td>0.121888</td>\n",
       "      <td>0.061218</td>\n",
       "      <td>0.073364</td>\n",
       "      <td>-0.053424</td>\n",
       "      <td>0.065770</td>\n",
       "      <td>-0.010880</td>\n",
       "      <td>-0.074553</td>\n",
       "      <td>0.013521</td>\n",
       "      <td>0.436959</td>\n",
       "    </tr>\n",
       "    <tr>\n",
       "      <th>water_productivity</th>\n",
       "      <td>0.553996</td>\n",
       "      <td>0.826967</td>\n",
       "      <td>-0.036852</td>\n",
       "      <td>-0.037319</td>\n",
       "      <td>-0.047683</td>\n",
       "      <td>NaN</td>\n",
       "      <td>-0.038023</td>\n",
       "      <td>0.308749</td>\n",
       "      <td>-0.112758</td>\n",
       "      <td>-0.004177</td>\n",
       "      <td>...</td>\n",
       "      <td>0.752843</td>\n",
       "      <td>0.880114</td>\n",
       "      <td>0.437994</td>\n",
       "      <td>0.528918</td>\n",
       "      <td>0.005316</td>\n",
       "      <td>0.518812</td>\n",
       "      <td>-0.085821</td>\n",
       "      <td>-0.012975</td>\n",
       "      <td>-0.051176</td>\n",
       "      <td>0.553663</td>\n",
       "    </tr>\n",
       "    <tr>\n",
       "      <th>min_avail_water</th>\n",
       "      <td>0.620690</td>\n",
       "      <td>0.975711</td>\n",
       "      <td>-0.040515</td>\n",
       "      <td>-0.040061</td>\n",
       "      <td>-0.058119</td>\n",
       "      <td>NaN</td>\n",
       "      <td>-0.021617</td>\n",
       "      <td>0.371702</td>\n",
       "      <td>-0.202156</td>\n",
       "      <td>0.233726</td>\n",
       "      <td>...</td>\n",
       "      <td>1.000000</td>\n",
       "      <td>0.735678</td>\n",
       "      <td>0.497657</td>\n",
       "      <td>0.611558</td>\n",
       "      <td>0.234292</td>\n",
       "      <td>0.625590</td>\n",
       "      <td>-0.070153</td>\n",
       "      <td>0.059133</td>\n",
       "      <td>-0.039846</td>\n",
       "      <td>0.504665</td>\n",
       "    </tr>\n",
       "    <tr>\n",
       "      <th>min_water_rev</th>\n",
       "      <td>0.499762</td>\n",
       "      <td>0.777544</td>\n",
       "      <td>-0.022027</td>\n",
       "      <td>-0.021758</td>\n",
       "      <td>-0.029801</td>\n",
       "      <td>NaN</td>\n",
       "      <td>-0.023000</td>\n",
       "      <td>0.236149</td>\n",
       "      <td>-0.108389</td>\n",
       "      <td>0.048264</td>\n",
       "      <td>...</td>\n",
       "      <td>0.735678</td>\n",
       "      <td>1.000000</td>\n",
       "      <td>0.280896</td>\n",
       "      <td>0.319610</td>\n",
       "      <td>0.055356</td>\n",
       "      <td>0.319465</td>\n",
       "      <td>-0.029487</td>\n",
       "      <td>0.072643</td>\n",
       "      <td>-0.049385</td>\n",
       "      <td>0.312743</td>\n",
       "    </tr>\n",
       "    <tr>\n",
       "      <th>landval_log</th>\n",
       "      <td>0.635832</td>\n",
       "      <td>0.513258</td>\n",
       "      <td>0.043133</td>\n",
       "      <td>-0.001232</td>\n",
       "      <td>0.007282</td>\n",
       "      <td>NaN</td>\n",
       "      <td>0.002225</td>\n",
       "      <td>0.054437</td>\n",
       "      <td>-0.042551</td>\n",
       "      <td>0.052356</td>\n",
       "      <td>...</td>\n",
       "      <td>0.497657</td>\n",
       "      <td>0.280896</td>\n",
       "      <td>1.000000</td>\n",
       "      <td>0.749875</td>\n",
       "      <td>0.053341</td>\n",
       "      <td>0.741565</td>\n",
       "      <td>0.035365</td>\n",
       "      <td>-0.037907</td>\n",
       "      <td>0.067619</td>\n",
       "      <td>0.692894</td>\n",
       "    </tr>\n",
       "    <tr>\n",
       "      <th>ll_gisacre_log</th>\n",
       "      <td>0.485586</td>\n",
       "      <td>0.629641</td>\n",
       "      <td>-0.035464</td>\n",
       "      <td>-0.059035</td>\n",
       "      <td>-0.063312</td>\n",
       "      <td>NaN</td>\n",
       "      <td>-0.008822</td>\n",
       "      <td>0.246367</td>\n",
       "      <td>-0.104481</td>\n",
       "      <td>0.116145</td>\n",
       "      <td>...</td>\n",
       "      <td>0.611558</td>\n",
       "      <td>0.319610</td>\n",
       "      <td>0.749875</td>\n",
       "      <td>1.000000</td>\n",
       "      <td>0.118308</td>\n",
       "      <td>0.994156</td>\n",
       "      <td>-0.125623</td>\n",
       "      <td>-0.132709</td>\n",
       "      <td>0.013240</td>\n",
       "      <td>0.913258</td>\n",
       "    </tr>\n",
       "    <tr>\n",
       "      <th>TotalWater_log</th>\n",
       "      <td>0.086238</td>\n",
       "      <td>0.132009</td>\n",
       "      <td>-0.023326</td>\n",
       "      <td>-0.017601</td>\n",
       "      <td>-0.039134</td>\n",
       "      <td>NaN</td>\n",
       "      <td>-0.000971</td>\n",
       "      <td>0.221229</td>\n",
       "      <td>-0.185697</td>\n",
       "      <td>0.996920</td>\n",
       "      <td>...</td>\n",
       "      <td>0.234292</td>\n",
       "      <td>0.055356</td>\n",
       "      <td>0.053341</td>\n",
       "      <td>0.118308</td>\n",
       "      <td>1.000000</td>\n",
       "      <td>0.224815</td>\n",
       "      <td>-0.014470</td>\n",
       "      <td>0.124790</td>\n",
       "      <td>0.010833</td>\n",
       "      <td>-0.013667</td>\n",
       "    </tr>\n",
       "    <tr>\n",
       "      <th>min_avail_water_log</th>\n",
       "      <td>0.485878</td>\n",
       "      <td>0.632214</td>\n",
       "      <td>-0.037336</td>\n",
       "      <td>-0.059845</td>\n",
       "      <td>-0.066383</td>\n",
       "      <td>NaN</td>\n",
       "      <td>-0.008762</td>\n",
       "      <td>0.265810</td>\n",
       "      <td>-0.122715</td>\n",
       "      <td>0.222358</td>\n",
       "      <td>...</td>\n",
       "      <td>0.625590</td>\n",
       "      <td>0.319465</td>\n",
       "      <td>0.741565</td>\n",
       "      <td>0.994156</td>\n",
       "      <td>0.224815</td>\n",
       "      <td>1.000000</td>\n",
       "      <td>-0.126091</td>\n",
       "      <td>-0.119805</td>\n",
       "      <td>0.014423</td>\n",
       "      <td>0.893197</td>\n",
       "    </tr>\n",
       "    <tr>\n",
       "      <th>firstfloor_log</th>\n",
       "      <td>0.067835</td>\n",
       "      <td>-0.079280</td>\n",
       "      <td>0.613949</td>\n",
       "      <td>0.084228</td>\n",
       "      <td>0.257445</td>\n",
       "      <td>NaN</td>\n",
       "      <td>-0.046242</td>\n",
       "      <td>0.044505</td>\n",
       "      <td>-0.022266</td>\n",
       "      <td>-0.013911</td>\n",
       "      <td>...</td>\n",
       "      <td>-0.070153</td>\n",
       "      <td>-0.029487</td>\n",
       "      <td>0.035365</td>\n",
       "      <td>-0.125623</td>\n",
       "      <td>-0.014470</td>\n",
       "      <td>-0.126091</td>\n",
       "      <td>1.000000</td>\n",
       "      <td>0.148892</td>\n",
       "      <td>0.534127</td>\n",
       "      <td>-0.123295</td>\n",
       "    </tr>\n",
       "    <tr>\n",
       "      <th>secondfloor_log</th>\n",
       "      <td>0.037105</td>\n",
       "      <td>0.049297</td>\n",
       "      <td>0.128572</td>\n",
       "      <td>0.817278</td>\n",
       "      <td>0.203711</td>\n",
       "      <td>NaN</td>\n",
       "      <td>0.017332</td>\n",
       "      <td>0.025730</td>\n",
       "      <td>0.017052</td>\n",
       "      <td>0.128051</td>\n",
       "      <td>...</td>\n",
       "      <td>0.059133</td>\n",
       "      <td>0.072643</td>\n",
       "      <td>-0.037907</td>\n",
       "      <td>-0.132709</td>\n",
       "      <td>0.124790</td>\n",
       "      <td>-0.119805</td>\n",
       "      <td>0.148892</td>\n",
       "      <td>1.000000</td>\n",
       "      <td>0.297669</td>\n",
       "      <td>-0.173392</td>\n",
       "    </tr>\n",
       "    <tr>\n",
       "      <th>gize_log</th>\n",
       "      <td>0.100054</td>\n",
       "      <td>-0.044002</td>\n",
       "      <td>0.320291</td>\n",
       "      <td>0.130390</td>\n",
       "      <td>0.620105</td>\n",
       "      <td>NaN</td>\n",
       "      <td>-0.011400</td>\n",
       "      <td>-0.009789</td>\n",
       "      <td>0.019719</td>\n",
       "      <td>0.011331</td>\n",
       "      <td>...</td>\n",
       "      <td>-0.039846</td>\n",
       "      <td>-0.049385</td>\n",
       "      <td>0.067619</td>\n",
       "      <td>0.013240</td>\n",
       "      <td>0.010833</td>\n",
       "      <td>0.014423</td>\n",
       "      <td>0.534127</td>\n",
       "      <td>0.297669</td>\n",
       "      <td>1.000000</td>\n",
       "      <td>0.017837</td>\n",
       "    </tr>\n",
       "    <tr>\n",
       "      <th>water_productivity_log</th>\n",
       "      <td>0.437473</td>\n",
       "      <td>0.535776</td>\n",
       "      <td>-0.030224</td>\n",
       "      <td>-0.060314</td>\n",
       "      <td>-0.042628</td>\n",
       "      <td>NaN</td>\n",
       "      <td>-0.003651</td>\n",
       "      <td>0.162601</td>\n",
       "      <td>0.009969</td>\n",
       "      <td>-0.015552</td>\n",
       "      <td>...</td>\n",
       "      <td>0.504665</td>\n",
       "      <td>0.312743</td>\n",
       "      <td>0.692894</td>\n",
       "      <td>0.913258</td>\n",
       "      <td>-0.013667</td>\n",
       "      <td>0.893197</td>\n",
       "      <td>-0.123295</td>\n",
       "      <td>-0.173392</td>\n",
       "      <td>0.017837</td>\n",
       "      <td>1.000000</td>\n",
       "    </tr>\n",
       "  </tbody>\n",
       "</table>\n",
       "<p>23 rows × 23 columns</p>\n",
       "</div>"
      ],
      "text/plain": [
       "                         landval  ll_gisacre  firstfloor  secondfloor  \\\n",
       "landval                 1.000000    0.636023    0.055569    -0.004404   \n",
       "ll_gisacre              0.636023    1.000000   -0.041015    -0.041044   \n",
       "firstfloor              0.055569   -0.041015    1.000000     0.157698   \n",
       "secondfloor            -0.004404   -0.041044    0.157698     1.000000   \n",
       "gize                    0.013369   -0.058248    0.230662     0.083014   \n",
       "pool                         NaN         NaN         NaN          NaN   \n",
       "irrcapcl                0.014708   -0.018587   -0.010666    -0.005836   \n",
       "nirrcapcl               0.111132    0.372424   -0.045505    -0.068546   \n",
       "castorieindex          -0.099548   -0.196410    0.031109     0.042783   \n",
       "TotalWater              0.083858    0.128355   -0.020836    -0.016674   \n",
       "water_dist             -0.030214    0.034610   -0.016551    -0.029562   \n",
       "Crop Unit Vale ($/acre  0.002460   -0.011803   -0.005620    -0.016152   \n",
       "water_productivity      0.553996    0.826967   -0.036852    -0.037319   \n",
       "min_avail_water         0.620690    0.975711   -0.040515    -0.040061   \n",
       "min_water_rev           0.499762    0.777544   -0.022027    -0.021758   \n",
       "landval_log             0.635832    0.513258    0.043133    -0.001232   \n",
       "ll_gisacre_log          0.485586    0.629641   -0.035464    -0.059035   \n",
       "TotalWater_log          0.086238    0.132009   -0.023326    -0.017601   \n",
       "min_avail_water_log     0.485878    0.632214   -0.037336    -0.059845   \n",
       "firstfloor_log          0.067835   -0.079280    0.613949     0.084228   \n",
       "secondfloor_log         0.037105    0.049297    0.128572     0.817278   \n",
       "gize_log                0.100054   -0.044002    0.320291     0.130390   \n",
       "water_productivity_log  0.437473    0.535776   -0.030224    -0.060314   \n",
       "\n",
       "                            gize  pool  irrcapcl  nirrcapcl  castorieindex  \\\n",
       "landval                 0.013369   NaN  0.014708   0.111132      -0.099548   \n",
       "ll_gisacre             -0.058248   NaN -0.018587   0.372424      -0.196410   \n",
       "firstfloor              0.230662   NaN -0.010666  -0.045505       0.031109   \n",
       "secondfloor             0.083014   NaN -0.005836  -0.068546       0.042783   \n",
       "gize                    1.000000   NaN  0.013886  -0.079587       0.041864   \n",
       "pool                         NaN   NaN       NaN        NaN            NaN   \n",
       "irrcapcl                0.013886   NaN  1.000000  -0.030180      -0.605970   \n",
       "nirrcapcl              -0.079587   NaN -0.030180   1.000000      -0.347559   \n",
       "castorieindex           0.041864   NaN -0.605970  -0.347559       1.000000   \n",
       "TotalWater             -0.037038   NaN  0.004293   0.211335      -0.182603   \n",
       "water_dist             -0.003268   NaN -0.155310   0.220955       0.316501   \n",
       "Crop Unit Vale ($/acre  0.007212   NaN -0.017448  -0.013844       0.186194   \n",
       "water_productivity     -0.047683   NaN -0.038023   0.308749      -0.112758   \n",
       "min_avail_water        -0.058119   NaN -0.021617   0.371702      -0.202156   \n",
       "min_water_rev          -0.029801   NaN -0.023000   0.236149      -0.108389   \n",
       "landval_log             0.007282   NaN  0.002225   0.054437      -0.042551   \n",
       "ll_gisacre_log         -0.063312   NaN -0.008822   0.246367      -0.104481   \n",
       "TotalWater_log         -0.039134   NaN -0.000971   0.221229      -0.185697   \n",
       "min_avail_water_log    -0.066383   NaN -0.008762   0.265810      -0.122715   \n",
       "firstfloor_log          0.257445   NaN -0.046242   0.044505      -0.022266   \n",
       "secondfloor_log         0.203711   NaN  0.017332   0.025730       0.017052   \n",
       "gize_log                0.620105   NaN -0.011400  -0.009789       0.019719   \n",
       "water_productivity_log -0.042628   NaN -0.003651   0.162601       0.009969   \n",
       "\n",
       "                        TotalWater  ...  min_avail_water  min_water_rev  \\\n",
       "landval                   0.083858  ...         0.620690       0.499762   \n",
       "ll_gisacre                0.128355  ...         0.975711       0.777544   \n",
       "firstfloor               -0.020836  ...        -0.040515      -0.022027   \n",
       "secondfloor              -0.016674  ...        -0.040061      -0.021758   \n",
       "gize                     -0.037038  ...        -0.058119      -0.029801   \n",
       "pool                           NaN  ...              NaN            NaN   \n",
       "irrcapcl                  0.004293  ...        -0.021617      -0.023000   \n",
       "nirrcapcl                 0.211335  ...         0.371702       0.236149   \n",
       "castorieindex            -0.182603  ...        -0.202156      -0.108389   \n",
       "TotalWater                1.000000  ...         0.233726       0.048264   \n",
       "water_dist               -0.114942  ...         0.022046       0.037037   \n",
       "Crop Unit Vale ($/acre   -0.062982  ...        -0.025420       0.121888   \n",
       "water_productivity       -0.004177  ...         0.752843       0.880114   \n",
       "min_avail_water           0.233726  ...         1.000000       0.735678   \n",
       "min_water_rev             0.048264  ...         0.735678       1.000000   \n",
       "landval_log               0.052356  ...         0.497657       0.280896   \n",
       "ll_gisacre_log            0.116145  ...         0.611558       0.319610   \n",
       "TotalWater_log            0.996920  ...         0.234292       0.055356   \n",
       "min_avail_water_log       0.222358  ...         0.625590       0.319465   \n",
       "firstfloor_log           -0.013911  ...        -0.070153      -0.029487   \n",
       "secondfloor_log           0.128051  ...         0.059133       0.072643   \n",
       "gize_log                  0.011331  ...        -0.039846      -0.049385   \n",
       "water_productivity_log   -0.015552  ...         0.504665       0.312743   \n",
       "\n",
       "                        landval_log  ll_gisacre_log  TotalWater_log  \\\n",
       "landval                    0.635832        0.485586        0.086238   \n",
       "ll_gisacre                 0.513258        0.629641        0.132009   \n",
       "firstfloor                 0.043133       -0.035464       -0.023326   \n",
       "secondfloor               -0.001232       -0.059035       -0.017601   \n",
       "gize                       0.007282       -0.063312       -0.039134   \n",
       "pool                            NaN             NaN             NaN   \n",
       "irrcapcl                   0.002225       -0.008822       -0.000971   \n",
       "nirrcapcl                  0.054437        0.246367        0.221229   \n",
       "castorieindex             -0.042551       -0.104481       -0.185697   \n",
       "TotalWater                 0.052356        0.116145        0.996920   \n",
       "water_dist                -0.012891        0.037745       -0.120252   \n",
       "Crop Unit Vale ($/acre     0.061218        0.073364       -0.053424   \n",
       "water_productivity         0.437994        0.528918        0.005316   \n",
       "min_avail_water            0.497657        0.611558        0.234292   \n",
       "min_water_rev              0.280896        0.319610        0.055356   \n",
       "landval_log                1.000000        0.749875        0.053341   \n",
       "ll_gisacre_log             0.749875        1.000000        0.118308   \n",
       "TotalWater_log             0.053341        0.118308        1.000000   \n",
       "min_avail_water_log        0.741565        0.994156        0.224815   \n",
       "firstfloor_log             0.035365       -0.125623       -0.014470   \n",
       "secondfloor_log           -0.037907       -0.132709        0.124790   \n",
       "gize_log                   0.067619        0.013240        0.010833   \n",
       "water_productivity_log     0.692894        0.913258       -0.013667   \n",
       "\n",
       "                        min_avail_water_log  firstfloor_log  secondfloor_log  \\\n",
       "landval                            0.485878        0.067835         0.037105   \n",
       "ll_gisacre                         0.632214       -0.079280         0.049297   \n",
       "firstfloor                        -0.037336        0.613949         0.128572   \n",
       "secondfloor                       -0.059845        0.084228         0.817278   \n",
       "gize                              -0.066383        0.257445         0.203711   \n",
       "pool                                    NaN             NaN              NaN   \n",
       "irrcapcl                          -0.008762       -0.046242         0.017332   \n",
       "nirrcapcl                          0.265810        0.044505         0.025730   \n",
       "castorieindex                     -0.122715       -0.022266         0.017052   \n",
       "TotalWater                         0.222358       -0.013911         0.128051   \n",
       "water_dist                         0.023965       -0.060580        -0.083608   \n",
       "Crop Unit Vale ($/acre             0.065770       -0.010880        -0.074553   \n",
       "water_productivity                 0.518812       -0.085821        -0.012975   \n",
       "min_avail_water                    0.625590       -0.070153         0.059133   \n",
       "min_water_rev                      0.319465       -0.029487         0.072643   \n",
       "landval_log                        0.741565        0.035365        -0.037907   \n",
       "ll_gisacre_log                     0.994156       -0.125623        -0.132709   \n",
       "TotalWater_log                     0.224815       -0.014470         0.124790   \n",
       "min_avail_water_log                1.000000       -0.126091        -0.119805   \n",
       "firstfloor_log                    -0.126091        1.000000         0.148892   \n",
       "secondfloor_log                   -0.119805        0.148892         1.000000   \n",
       "gize_log                           0.014423        0.534127         0.297669   \n",
       "water_productivity_log             0.893197       -0.123295        -0.173392   \n",
       "\n",
       "                        gize_log  water_productivity_log  \n",
       "landval                 0.100054                0.437473  \n",
       "ll_gisacre             -0.044002                0.535776  \n",
       "firstfloor              0.320291               -0.030224  \n",
       "secondfloor             0.130390               -0.060314  \n",
       "gize                    0.620105               -0.042628  \n",
       "pool                         NaN                     NaN  \n",
       "irrcapcl               -0.011400               -0.003651  \n",
       "nirrcapcl              -0.009789                0.162601  \n",
       "castorieindex           0.019719                0.009969  \n",
       "TotalWater              0.011331               -0.015552  \n",
       "water_dist             -0.035703                0.145185  \n",
       "Crop Unit Vale ($/acre  0.013521                0.436959  \n",
       "water_productivity     -0.051176                0.553663  \n",
       "min_avail_water        -0.039846                0.504665  \n",
       "min_water_rev          -0.049385                0.312743  \n",
       "landval_log             0.067619                0.692894  \n",
       "ll_gisacre_log          0.013240                0.913258  \n",
       "TotalWater_log          0.010833               -0.013667  \n",
       "min_avail_water_log     0.014423                0.893197  \n",
       "firstfloor_log          0.534127               -0.123295  \n",
       "secondfloor_log         0.297669               -0.173392  \n",
       "gize_log                1.000000                0.017837  \n",
       "water_productivity_log  0.017837                1.000000  \n",
       "\n",
       "[23 rows x 23 columns]"
      ]
     },
     "execution_count": 138,
     "metadata": {},
     "output_type": "execute_result"
    }
   ],
   "source": [
    "full_set.corr()"
   ]
  },
  {
   "cell_type": "markdown",
   "metadata": {},
   "source": [
    "So no correlations that would suggest we shouldnt be using these variables."
   ]
  },
  {
   "cell_type": "code",
   "execution_count": 143,
   "metadata": {
    "collapsed": true
   },
   "outputs": [],
   "source": [
    "# for the purposes of this first run we arent going to interpolate nan values, just drop them all \n",
    "\n",
    "full_set =full_set[~full_set.isin([np.nan, np.inf, -np.inf]).any(1)]"
   ]
  },
  {
   "cell_type": "markdown",
   "metadata": {},
   "source": [
    "Now we are going to run a quick regression with equation:\n",
    "\n",
    "landvalue (log of) = agricultural revenue (acreage X crop revenue per acre) + minimum water access+ minimum water revenue (min water access X water_productivity) + nirrcapcl + irracapcl + TotalWater + building size"
   ]
  },
  {
   "cell_type": "code",
   "execution_count": 167,
   "metadata": {},
   "outputs": [],
   "source": [
    "y = full_set['landval']\n",
    "y_ln = full_set['landval_log']\n",
    "\n",
    "\n",
    "\n",
    "X_log = full_set[['ll_gisacre_log', 'water_productivity_log', 'min_avail_water_log', 'water_dist', 'min_water_rev']]\n",
    "\n",
    "X = full_set[['ll_gisacre', 'water_productivity', 'min_avail_water', 'water_dist', 'min_water_rev']]\n"
   ]
  },
  {
   "cell_type": "code",
   "execution_count": 186,
   "metadata": {},
   "outputs": [],
   "source": [
    "X_train, X_test, y_train, y_test = train_test_split(X, y, test_size=0.2, random_state=1)\n",
    "X_log_train, X_log_test, y_log_train, y_log_test = train_test_split(X_log, y_ln, test_size=0.2, random_state=1)\n",
    "\n"
   ]
  },
  {
   "cell_type": "code",
   "execution_count": 187,
   "metadata": {
    "collapsed": true
   },
   "outputs": [],
   "source": [
    "#non log\n",
    "scaler = StandardScaler()\n",
    "X_train = pd.DataFrame(scaler.fit_transform(X_train), columns=X_train.columns)\n",
    "X_test = pd.DataFrame(scaler.transform(X_test), columns=X_test.columns)\n",
    "\n",
    "#scaler2 = StandardScaler()\n",
    "#X_train = pd.DataFrame(scaler2.fit_transform(X_train), columns=X_train.columns)\n",
    "#X_test = pd.DataFrame(scaler2.transform(X_test), columns=X_test.columns)"
   ]
  },
  {
   "cell_type": "code",
   "execution_count": 188,
   "metadata": {},
   "outputs": [],
   "source": [
    "#log\n",
    "scaler2 = StandardScaler()\n",
    "X_log_train = pd.DataFrame(scaler2.fit_transform(X_log_train), columns=X_log_train.columns)\n",
    "X_log_test = pd.DataFrame(scaler2.transform(X_log_test), columns=X_log_test.columns)"
   ]
  },
  {
   "cell_type": "code",
   "execution_count": 189,
   "metadata": {
    "scrolled": true
   },
   "outputs": [
    {
     "name": "stdout",
     "output_type": "stream",
     "text": [
      "\n",
      "================ SUMMARY TABLE WITH P-VALUES for Log Transformed Target Variable =================\n",
      "R-squared: 0.7068956103756221\n",
      "Intercept: 141919.24203821656\n",
      "Coefficients: [ 285803.3141498     4926.28601049   30092.79124211  -19032.65280314\n",
      " -137248.21762628]\n",
      "\n",
      "\n",
      "     ll_gisacre  water_productivity  min_avail_water  water_dist  \\\n",
      "0     -0.078397            0.128753        -0.114084    0.150555   \n",
      "1     -0.370843           -0.581468        -0.279366   -1.549263   \n",
      "2      0.107071            0.578438        -0.008964   -0.840618   \n",
      "3     -0.302073           -0.413573        -0.240860    0.498575   \n",
      "4      0.273341            0.981578         0.085276    1.159171   \n",
      "..          ...                 ...              ...         ...   \n",
      "152   -0.369883           -0.579903        -0.278510   -1.380857   \n",
      "153   -0.033211           -0.031089         0.021654   -1.507944   \n",
      "154   -0.196001           -0.156391        -0.180741    0.749155   \n",
      "155   -0.338716           -0.529098        -0.250723   -1.278740   \n",
      "156   -0.349396           -0.528314        -0.267683   -0.065646   \n",
      "\n",
      "     min_water_rev  \n",
      "0        -0.132185  \n",
      "1        -0.157581  \n",
      "2        -0.090016  \n",
      "3        -0.156132  \n",
      "4        -0.035016  \n",
      "..             ...  \n",
      "152      -0.157580  \n",
      "153      -0.121828  \n",
      "154      -0.148444  \n",
      "155      -0.157231  \n",
      "156      -0.157428  \n",
      "\n",
      "[157 rows x 5 columns]\n"
     ]
    }
   ],
   "source": [
    "ols = LinearRegression()\n",
    "ols.fit(X_train, y_train)\n",
    "print(\"\\n================ SUMMARY TABLE WITH P-VALUES for non transformed Target Variable =================\")\n",
    "print(\"R-squared:\", ols.score(X_train, y_train))\n",
    "print(\"Intercept:\", ols.intercept_)\n",
    "print(\"Coefficients:\", ols.coef_)\n",
    "print('\\n')\n",
    "xlabels = X.columns\n",
    "#stats.describe(ols, X, y_ln, xlabels)\n",
    "print(X_train)"
   ]
  },
  {
   "cell_type": "code",
   "execution_count": 190,
   "metadata": {},
   "outputs": [
    {
     "name": "stdout",
     "output_type": "stream",
     "text": [
      "\n",
      "================ SUMMARY TABLE WITH P-VALUES for Log Transformed Target Variable =================\n",
      "R-squared: 0.5514747022705364\n",
      "Intercept: 11.1875792034759\n",
      "Coefficients: [-0.22771865  0.10485408  1.07198983 -0.26373292  0.08196466]\n",
      "\n",
      "\n",
      "     ll_gisacre  water_productivity  min_avail_water  water_dist  \\\n",
      "0     -0.078397            0.128753        -0.114084    0.150555   \n",
      "1     -0.370843           -0.581468        -0.279366   -1.549263   \n",
      "2      0.107071            0.578438        -0.008964   -0.840618   \n",
      "3     -0.302073           -0.413573        -0.240860    0.498575   \n",
      "4      0.273341            0.981578         0.085276    1.159171   \n",
      "..          ...                 ...              ...         ...   \n",
      "152   -0.369883           -0.579903        -0.278510   -1.380857   \n",
      "153   -0.033211           -0.031089         0.021654   -1.507944   \n",
      "154   -0.196001           -0.156391        -0.180741    0.749155   \n",
      "155   -0.338716           -0.529098        -0.250723   -1.278740   \n",
      "156   -0.349396           -0.528314        -0.267683   -0.065646   \n",
      "\n",
      "     min_water_rev  \n",
      "0        -0.132185  \n",
      "1        -0.157581  \n",
      "2        -0.090016  \n",
      "3        -0.156132  \n",
      "4        -0.035016  \n",
      "..             ...  \n",
      "152      -0.157580  \n",
      "153      -0.121828  \n",
      "154      -0.148444  \n",
      "155      -0.157231  \n",
      "156      -0.157428  \n",
      "\n",
      "[157 rows x 5 columns]\n"
     ]
    }
   ],
   "source": [
    "ols_log = LinearRegression()\n",
    "ols_log.fit(X_log_train, y_log_train)\n",
    "print(\"\\n================ SUMMARY TABLE WITH P-VALUES for Log Transformed Target Variable =================\")\n",
    "print(\"R-squared:\", ols_log.score(X_log_train, y_log_train))\n",
    "print(\"Intercept:\", ols_log.intercept_)\n",
    "print(\"Coefficients:\", ols_log.coef_)\n",
    "print('\\n')\n",
    "x_loglabels = X_log.columns\n",
    "#stats.describe(ols, X, y_ln, xlabels)\n",
    "print(X_train)"
   ]
  },
  {
   "cell_type": "code",
   "execution_count": 191,
   "metadata": {
    "collapsed": true
   },
   "outputs": [],
   "source": [
    "\n",
    "# Collect the coefficients\n",
    "df_ols_coef = pd.DataFrame(ols.coef_, index=X_train.columns, columns=['Coefficients'])\n",
    "df_ols_coef['Coef_abs'] = df_ols_coef.Coefficients.abs()\n",
    "\n",
    "df_ols_coef_log = pd.DataFrame(ols.coef_, index=X_log_train.columns, columns=['Coefficients'])\n",
    "df_ols_coef_log['Coef_abs'] = df_ols_coef.Coefficients.abs()"
   ]
  },
  {
   "cell_type": "code",
   "execution_count": 192,
   "metadata": {
    "collapsed": true
   },
   "outputs": [],
   "source": [
    "predictions_train = ols.predict(X_train)\n",
    "predictions_test = ols.predict(X_test)\n",
    "\n",
    "predictions_train_log = ols_log.predict(X_log_train)\n",
    "predictions_test_log = ols_log.predict(X_log_test)"
   ]
  },
  {
   "cell_type": "code",
   "execution_count": 193,
   "metadata": {},
   "outputs": [
    {
     "name": "stdout",
     "output_type": "stream",
     "text": [
      "Non Transformed\n",
      "Training Score: 0.7068956103756221\n",
      "Cross validation scores: [-0.40190583  0.23733839  0.36802188  0.12927988  0.5499861 ]\n",
      "Mean cross validation score: 0.1765440813458412\n",
      "Test Score: 0.2655629635988137\n"
     ]
    }
   ],
   "source": [
    "# Perform 5-fold cross-validation on the training set\n",
    "cv_scores = cross_val_score(ols, X_train, y_train, cv=5)\n",
    "print('Non Transformed')\n",
    "print('Training Score:', ols.score(X_train, y_train))\n",
    "print('Cross validation scores:', cv_scores)\n",
    "print('Mean cross validation score:', cv_scores.mean())\n",
    "print('Test Score:', ols.score(X_test, y_test))"
   ]
  },
  {
   "cell_type": "code",
   "execution_count": 194,
   "metadata": {},
   "outputs": [
    {
     "name": "stdout",
     "output_type": "stream",
     "text": [
      "Log Transformed\n",
      "Training Score: -77668998563.63448\n",
      "Cross validation scores: [0.59959392 0.40251697 0.02799227 0.60516878 0.50834797]\n",
      "Mean cross validation score: 0.4287239833581335\n",
      "Test Score: 0.37830786202601707\n"
     ]
    }
   ],
   "source": [
    "cv_log_scores = cross_val_score(ols_log, X_log_train, y_log_train, cv=5)\n",
    "print('Log Transformed')\n",
    "print('Training Score:', ols.score(X_log_train, y_log_train))\n",
    "print('Cross validation scores:', cv_log_scores)\n",
    "print('Mean cross validation score:', cv_log_scores.mean())\n",
    "print('Test Score:', ols_log.score(X_log_test, y_log_test))"
   ]
  },
  {
   "cell_type": "code",
   "execution_count": 156,
   "metadata": {},
   "outputs": [
    {
     "name": "stdout",
     "output_type": "stream",
     "text": [
      "Shuffled cross validation score: [-0.34479518  0.24857417 -0.05209839  0.24335726  0.29258706]\n",
      "Mean shuffled cross validation score: 0.07752498499483837\n"
     ]
    }
   ],
   "source": [
    "# Shuffled 5-fold cross validation scores are rather similar\n",
    "kf = KFold(n_splits=5, shuffle=True, random_state=1)\n",
    "cv_scores_shuffled = cross_val_score(ols, X_train, y_train, cv=kf)\n",
    "\n",
    "print('Shuffled cross validation score:', cv_scores_shuffled)\n",
    "print('Mean shuffled cross validation score:', cv_scores_shuffled.mean())"
   ]
  },
  {
   "cell_type": "code",
   "execution_count": 157,
   "metadata": {},
   "outputs": [
    {
     "name": "stdout",
     "output_type": "stream",
     "text": [
      "Mean Squared Error: 37199201190.5598\n",
      "Root Mean Squared Error: 192870.94439173516\n"
     ]
    }
   ],
   "source": [
    "print('Mean Squared Error:', metrics.mean_squared_error(y_test, predictions_test)) \n",
    "print('Root Mean Squared Error:', (metrics.mean_squared_error(y_test, predictions_test))**0.5)"
   ]
  },
  {
   "cell_type": "code",
   "execution_count": 158,
   "metadata": {},
   "outputs": [
    {
     "data": {
      "text/plain": [
       "count    1.570000e+02\n",
       "mean     1.269817e-11\n",
       "std      1.302964e+05\n",
       "min     -3.279423e+05\n",
       "25%     -5.510154e+04\n",
       "50%     -2.989574e+04\n",
       "75%      1.602907e+04\n",
       "max      8.885040e+05\n",
       "Name: landval, dtype: float64"
      ]
     },
     "execution_count": 158,
     "metadata": {},
     "output_type": "execute_result"
    }
   ],
   "source": [
    "ols_residuals = (y_train - predictions_train)\n",
    "ols_residuals.describe()"
   ]
  },
  {
   "cell_type": "code",
   "execution_count": 159,
   "metadata": {},
   "outputs": [
    {
     "name": "stdout",
     "output_type": "stream",
     "text": [
      "Skew: 4.082564112435602\n",
      "Kurtosis: 23.348249229504944\n",
      "Shapiro-Wilk test on normality=0.614, p=0.000\n"
     ]
    }
   ],
   "source": [
    "print(\"Skew:\", ols_residuals.skew())\n",
    "print(\"Kurtosis:\", ols_residuals.kurtosis())\n",
    "stat, p = shapiro(ols_residuals)\n",
    "print('Shapiro-Wilk test on normality=%.3f, p=%.3f' % (stat, p))"
   ]
  },
  {
   "cell_type": "code",
   "execution_count": 160,
   "metadata": {},
   "outputs": [
    {
     "data": {
      "image/png": "[encoded data removed]",
      "text/plain": [
       "<Figure size 432x288 with 1 Axes>"
      ]
     },
     "metadata": {},
     "output_type": "display_data"
    }
   ],
   "source": [
    "stats.probplot(ols_residuals, dist=\"norm\", plot=plt)\n",
    "plt.title(\"Quantile-Quantile Plot training set\");"
   ]
  },
  {
   "cell_type": "code",
   "execution_count": 161,
   "metadata": {},
   "outputs": [
    {
     "data": {
      "image/png": "[encoded data removed]",
      "text/plain": [
       "<Figure size 1080x360 with 2 Axes>"
      ]
     },
     "metadata": {},
     "output_type": "display_data"
    }
   ],
   "source": [
    "\n",
    "# Plotting the OLS residuals against the predicted-y and 'min_avail_water'. The residuals appear well-behaved\n",
    "fig, ax = plt.subplots(ncols=2, figsize=(15, 5))\n",
    "ax[0].scatter(ols_residuals, predictions_train)\n",
    "ax[0].set_title('Residuals vs Predicted Target', fontsize=12)\n",
    "\n",
    "ax[1].scatter(ols_residuals, X_train.min_avail_water)\n",
    "ax[1].set_title('Residuals vs Minimum Available Water', fontsize=12);"
   ]
  },
  {
   "cell_type": "code",
   "execution_count": 162,
   "metadata": {},
   "outputs": [
    {
     "name": "stdout",
     "output_type": "stream",
     "text": [
      "Best Ridge alpha: 2.782559402207126\n",
      "Training score: 0.7033971959095553\n",
      "Test Score: 0.2571917814218828\n"
     ]
    }
   ],
   "source": [
    "# Ridge Cross-Validation\n",
    "ridge_mod = RidgeCV(alphas=np.logspace(-4, 4, 10), cv=5)\n",
    "ridge_mod.fit(X_train, y_train)\n",
    "\n",
    "print('Best Ridge alpha:', ridge_mod.alpha_)\n",
    "print('Training score:', ridge_mod.score(X_train, y_train))\n",
    "print(\"Test Score:\", ridge_mod.score(X_test, y_test))"
   ]
  },
  {
   "cell_type": "code",
   "execution_count": 163,
   "metadata": {
    "collapsed": true
   },
   "outputs": [],
   "source": [
    "df_ridge_coef = pd.DataFrame(ridge_mod.coef_, index=X_train.columns,\n",
    "                       columns=['Coefficients'])\n",
    "df_ridge_coef['Coef_abs'] = df_ridge_coef.Coefficients.abs()"
   ]
  },
  {
   "cell_type": "code",
   "execution_count": 164,
   "metadata": {},
   "outputs": [
    {
     "name": "stdout",
     "output_type": "stream",
     "text": [
      "Cross-validated training scores: [ 0.84893734  0.22390677  0.43183071 -0.43243684  0.54236726]\n",
      "Mean cross-validated training score: 0.322921047780727\n",
      "Training Score: 0.7034013423940246\n",
      "Test Score: 0.2572014477178871\n"
     ]
    }
   ],
   "source": [
    "# Confirmed similar to the above Ridge CV scores\n",
    "ridge_mod = Ridge(alpha=2.78)\n",
    "\n",
    "scores = cross_val_score(ridge_mod, X_train, y_train, cv=5)\n",
    "print(\"Cross-validated training scores:\", scores)\n",
    "print(\"Mean cross-validated training score:\", scores.mean())\n",
    "\n",
    "ridge_mod.fit(X_train, y_train)\n",
    "print(\"Training Score:\", ridge_mod.score(X_train, y_train))\n",
    "print(\"Test Score:\", ridge_mod.score(X_test, y_test))"
   ]
  },
  {
   "cell_type": "code",
   "execution_count": 165,
   "metadata": {},
   "outputs": [
    {
     "name": "stdout",
     "output_type": "stream",
     "text": [
      "Best Lasso alpha: 10000.0\n",
      "Training score: 0.6683833962510723\n",
      "Test Score: 0.23596112303507802\n"
     ]
    }
   ],
   "source": [
    "lasso_mod = LassoCV(alphas=np.logspace(-4, 4, 10), cv=5)\n",
    "lasso_mod.fit(X_train, y_train)\n",
    "\n",
    "print('Best Lasso alpha:', lasso_mod.alpha_)\n",
    "print('Training score:', lasso_mod.score(X_train, y_train))\n",
    "print(\"Test Score:\", lasso_mod.score(X_test, y_test))"
   ]
  },
  {
   "cell_type": "code",
   "execution_count": 166,
   "metadata": {
    "collapsed": true
   },
   "outputs": [],
   "source": [
    "df_lasso_coef = pd.DataFrame(lasso_mod.coef_, index=X_train.columns,\n",
    "                       columns=['Coefficients'])\n",
    "df_lasso_coef['Coef_abs'] = df_lasso_coef.Coefficients.abs()"
   ]
  },
  {
   "cell_type": "code",
   "execution_count": 69,
   "metadata": {
    "collapsed": true
   },
   "outputs": [],
   "source": [
    "coef = pd.concat([df_ols_coef['Coefficients'], df_ridge_coef['Coefficients'], df_lasso_coef['Coefficients']])\n",
    "coef = pd.DataFrame(coef)\n",
    "coef.reset_index(level=0, inplace=True)\n",
    "coef.columns = ['variable', 'coefficient']\n"
   ]
  },
  {
   "cell_type": "code",
   "execution_count": 70,
   "metadata": {
    "collapsed": true
   },
   "outputs": [],
   "source": [
    "coef.loc[0:2, \"model\"] = \"ols\"\n",
    "coef.loc[3:5, \"model\"] = \"ridge\"\n",
    "coef.loc[6:9, \"model\"] = \"lasso\""
   ]
  },
  {
   "cell_type": "code",
   "execution_count": 202,
   "metadata": {},
   "outputs": [],
   "source": [
    "full_set.columns\n",
    "output = full_set[['parcelnumb', 'county', 'szip', 'landval']]"
   ]
  },
  {
   "cell_type": "code",
   "execution_count": 203,
   "metadata": {
    "collapsed": true
   },
   "outputs": [],
   "source": [
    "#using log tranformed coefficients\n",
    "full_set['water_val'] = full_set['landval'] * 0.10485408 + full_set['landval'] * 1.07198983 + full_set['landval'] *  -0.26373292 + full_set['landval'] *0.08196466\n",
    "\n",
    "  "
   ]
  },
  {
   "cell_type": "code",
   "execution_count": 205,
   "metadata": {},
   "outputs": [],
   "source": [
    "full_set.to_csv('fresno_watervalue_derived_4_15.csv', columns=('parcelnumb', 'county', 'szip', 'landval', 'water_val'))"
   ]
  },
  {
   "cell_type": "code",
   "execution_count": null,
   "metadata": {
    "collapsed": true
   },
   "outputs": [],
   "source": []
  }
 ],
 "metadata": {
  "kernelspec": {
   "display_name": "Python 3",
   "language": "python",
   "name": "python3"
  },
  "language_info": {
   "codemirror_mode": {
    "name": "ipython",
    "version": 3
   },
   "file_extension": ".py",
   "mimetype": "text/x-python",
   "name": "python",
   "nbconvert_exporter": "python",
   "pygments_lexer": "ipython3",
   "version": "3.6.1"
  }
 },
 "nbformat": 4,
 "nbformat_minor": 2
}
