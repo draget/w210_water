{
 "cells": [
  {
   "cell_type": "code",
   "execution_count": 720,
   "metadata": {
    "collapsed": true
   },
   "outputs": [],
   "source": [
    "import numpy as np\n",
    "from scipy import interpolate\n",
    "import scipy.stats as stats\n",
    "import matplotlib.pyplot as plt\n",
    "import pandas as pd\n",
    "import numpy as np\n",
    "from bs4 import BeautifulSoup\n",
    "from requests import get\n",
    "import json\n",
    "from collections import Counter\n",
    "import re\n",
    "import os\n",
    "from dateutil.parser import parse\n",
    "import operator\n",
    "from uuid import uuid4\n",
    "import sys\n",
    "import geopandas\n",
    "import shapefile\n",
    "import probscale\n",
    "\n",
    "from regressors import stats"
   ]
  },
  {
   "cell_type": "code",
   "execution_count": 721,
   "metadata": {
    "collapsed": true
   },
   "outputs": [],
   "source": [
    "from sklearn import metrics, linear_model\n",
    "from sklearn.model_selection import KFold, train_test_split, cross_val_score\n",
    "from sklearn.preprocessing import StandardScaler\n",
    "from sklearn.linear_model import LinearRegression, Ridge, Lasso, RidgeCV, LassoCV\n",
    "from statsmodels.graphics.gofplots import qqplot\n",
    "from scipy import stats\n",
    "from scipy.stats import shapiro"
   ]
  },
  {
   "cell_type": "code",
   "execution_count": null,
   "metadata": {
    "collapsed": true
   },
   "outputs": [],
   "source": []
  },
  {
   "cell_type": "code",
   "execution_count": 754,
   "metadata": {},
   "outputs": [
    {
     "name": "stderr",
     "output_type": "stream",
     "text": [
      "/Users/d/anaconda3/lib/python3.6/site-packages/IPython/core/interactiveshell.py:2717: DtypeWarning: Columns (15,17,21,37,84) have mixed types.Specify dtype option on import or set low_memory=False.\n",
      "  interactivity=interactivity, compiler=compiler, result=result)\n"
     ]
    }
   ],
   "source": [
    "#load in data\n",
    "landdata_location = 'data/joined_combined_filtered_mined_soil_water_df_td_6_4.csv'\n",
    "#waterusagedata_location = 'data/'\n",
    "cropdata_location = 'data/cacropyielddata.csv'\n",
    "#soildata_location1 = 'data/soil_data_east.csv'\n",
    "#soildata_location2 = 'data/soil_data_west.csv'\n",
    "#soildata_location3 = 'data/soil_data_750.csv'\n",
    "#soildata_location4 = 'data/soil_data_740.csv'\n",
    "\n",
    "ld = pd.read_csv(landdata_location)\n"
   ]
  },
  {
   "cell_type": "code",
   "execution_count": 756,
   "metadata": {},
   "outputs": [
    {
     "name": "stdout",
     "output_type": "stream",
     "text": [
      "0 Unnamed: 0 : 25342\n",
      "1 Unnamed: 0_x : 25342\n",
      "2 geoid : 25342\n",
      "3 parcelnumb : 25342\n",
      "4 usecode : 22719\n",
      "5 improvval : 22706\n",
      "6 landval : 22706\n",
      "7 parval : 22706\n",
      "8 owner : 23646\n",
      "9 owner2 : 5324\n",
      "10 mailadd : 22721\n",
      "11 mail_city : 22450\n",
      "12 mail_state2 : 22527\n",
      "13 mail_zip : 22527\n",
      "14 address : 13358\n",
      "15 saddno : 13358\n",
      "16 saddpref : 12148\n",
      "17 saddstr : 13358\n",
      "18 saddsttyp : 13264\n",
      "19 sunit : 12\n",
      "20 scity : 13358\n",
      "21 original_address : 13348\n",
      "22 city : 25342\n",
      "23 county : 25342\n",
      "24 state2 : 25342\n",
      "25 szip : 24676\n",
      "26 address_source : 25342\n",
      "27 legaldesc : 22181\n",
      "28 path : 25342\n",
      "29 ll_uuid : 25342\n",
      "30 ll_updated_at : 25342\n",
      "31 homeowner_exemp : 22706\n",
      "32 lot_area : 22721\n",
      "33 pers_prop_val : 22706\n",
      "34 tax_area_code : 23631\n",
      "35 contract_number : 10393\n",
      "36 contract_year : 10393\n",
      "37 non_renewal_year : 187\n",
      "38 use_high_best : 22719\n",
      "39 use_secondary : 22719\n",
      "40 qoz : 25342\n",
      "41 qoz_tract : 7221\n",
      "42 ll_gisacre : 25342\n",
      "43 lng : 25342\n",
      "44 lat : 25342\n",
      "45 gdfindex : 25342\n",
      "46 Acres_x : 25342\n",
      "47 Crop2016_x : 25342\n",
      "48 DWR_revise : 3117\n",
      "49 Symb_class : 25342\n",
      "50 MULTIUSE : 25342\n",
      "51 CLASS1 : 25342\n",
      "52 SPECOND1 : 25342\n",
      "53 PCNT1 : 25342\n",
      "54 CLASS2 : 25342\n",
      "55 SUBCLASS2 : 25342\n",
      "56 SPECOND2 : 25342\n",
      "57 IRR_TYP2PA : 25342\n",
      "58 UCF_ATT : 25342\n",
      "59 CROPTYP1 : 25342\n",
      "60 CROPTYP2 : 25342\n",
      "61 Region : 25342\n",
      "62 Acres : 25342\n",
      "63 County : 25342\n",
      "64 Crop2016 : 25342\n",
      "65 GlobalID : 25342\n",
      "66 Shape_Leng : 25342\n",
      "67 Shape_Area : 25342\n",
      "68 land : 22720\n",
      "69 imps : 22720\n",
      "70 pp : 22720\n",
      "71 mhome : 22720\n",
      "72 tot : 22720\n",
      "73 pnumb : 22720\n",
      "74 firstfloor : 22720\n",
      "75 secondfloor : 22720\n",
      "76 addsize : 22720\n",
      "77 tra : 22720\n",
      "78 loc : 22720\n",
      "79 bclass : 10065\n",
      "80 year : 9980\n",
      "81 gize : 22720\n",
      "82 pool : 25288\n",
      "83 psize : 14180\n",
      "84 Unnamed: 0_y : 25342\n",
      "85 intersect_area_acre : 25342\n",
      "86 MUSYM : 25342\n",
      "87 farmlndcl : 24150\n",
      "88 irrcapcl : 23995\n",
      "89 irrcapscl : 19111\n",
      "90 nirrcapcl : 24051\n",
      "91 nirrcalscl : 24005\n",
      "92 castorieindex : 23583\n",
      "93 Crop : 22131\n",
      "94 CropETo : 23081\n",
      "95 WaterApplied : 8521\n",
      "96 NetWaterUse_Applied : 17720\n",
      "97 Factor : 18408\n",
      "98 AppliedFromETo : 23081\n",
      "99 AppliedWater : 25342\n",
      "100 TotalWater : 25342\n"
     ]
    }
   ],
   "source": [
    "#check out which columns have values, drop the columns with no values\n",
    "columns = ld.columns.tolist()\n",
    "\n",
    "i = 0\n",
    "for c in columns:\n",
    "    \n",
    "    nonan = len(ld[c].dropna().tolist())\n",
    "    print(i, c,':',nonan)\n",
    "    i+=1\n",
    "    \n",
    "    if nonan == 0:\n",
    "        #print('Dropped:', c)\n",
    "        ld.drop(c, inplace=True, axis=1)\n",
    "        \n",
    "  "
   ]
  },
  {
   "cell_type": "code",
   "execution_count": 757,
   "metadata": {},
   "outputs": [
    {
     "data": {
      "text/plain": [
       "['Unnamed: 0',\n",
       " 'Unnamed: 0_x',\n",
       " 'geoid',\n",
       " 'parcelnumb',\n",
       " 'usecode',\n",
       " 'improvval',\n",
       " 'landval',\n",
       " 'parval',\n",
       " 'owner',\n",
       " 'owner2',\n",
       " 'mailadd',\n",
       " 'mail_city',\n",
       " 'mail_state2',\n",
       " 'mail_zip',\n",
       " 'address',\n",
       " 'saddno',\n",
       " 'saddpref',\n",
       " 'saddstr',\n",
       " 'saddsttyp',\n",
       " 'sunit',\n",
       " 'scity',\n",
       " 'original_address',\n",
       " 'city',\n",
       " 'county',\n",
       " 'state2',\n",
       " 'szip',\n",
       " 'address_source',\n",
       " 'legaldesc',\n",
       " 'path',\n",
       " 'll_uuid',\n",
       " 'll_updated_at',\n",
       " 'homeowner_exemp',\n",
       " 'lot_area',\n",
       " 'pers_prop_val',\n",
       " 'tax_area_code',\n",
       " 'contract_number',\n",
       " 'contract_year',\n",
       " 'non_renewal_year',\n",
       " 'use_high_best',\n",
       " 'use_secondary',\n",
       " 'qoz',\n",
       " 'qoz_tract',\n",
       " 'll_gisacre',\n",
       " 'lng',\n",
       " 'lat',\n",
       " 'gdfindex',\n",
       " 'Acres_x',\n",
       " 'Crop2016_x',\n",
       " 'DWR_revise',\n",
       " 'Symb_class',\n",
       " 'MULTIUSE',\n",
       " 'CLASS1',\n",
       " 'SPECOND1',\n",
       " 'PCNT1',\n",
       " 'CLASS2',\n",
       " 'SUBCLASS2',\n",
       " 'SPECOND2',\n",
       " 'IRR_TYP2PA',\n",
       " 'UCF_ATT',\n",
       " 'CROPTYP1',\n",
       " 'CROPTYP2',\n",
       " 'Region',\n",
       " 'Acres',\n",
       " 'County',\n",
       " 'Crop2016',\n",
       " 'GlobalID',\n",
       " 'Shape_Leng',\n",
       " 'Shape_Area',\n",
       " 'land',\n",
       " 'imps',\n",
       " 'pp',\n",
       " 'mhome',\n",
       " 'tot',\n",
       " 'pnumb',\n",
       " 'firstfloor',\n",
       " 'secondfloor',\n",
       " 'addsize',\n",
       " 'tra',\n",
       " 'loc',\n",
       " 'bclass',\n",
       " 'year',\n",
       " 'gize',\n",
       " 'pool',\n",
       " 'psize',\n",
       " 'Unnamed: 0_y',\n",
       " 'intersect_area_acre',\n",
       " 'MUSYM',\n",
       " 'farmlndcl',\n",
       " 'irrcapcl',\n",
       " 'irrcapscl',\n",
       " 'nirrcapcl',\n",
       " 'nirrcalscl',\n",
       " 'castorieindex',\n",
       " 'Crop',\n",
       " 'CropETo',\n",
       " 'WaterApplied',\n",
       " 'NetWaterUse_Applied',\n",
       " 'Factor',\n",
       " 'AppliedFromETo',\n",
       " 'AppliedWater',\n",
       " 'TotalWater']"
      ]
     },
     "execution_count": 757,
     "metadata": {},
     "output_type": "execute_result"
    }
   ],
   "source": [
    "ld.columns.tolist()"
   ]
  },
  {
   "cell_type": "code",
   "execution_count": 759,
   "metadata": {},
   "outputs": [
    {
     "data": {
      "text/plain": [
       "{'Alfalfa and Alfalfa Mixtures',\n",
       " 'Almonds',\n",
       " 'Apples',\n",
       " 'Avocados',\n",
       " 'Beans (Dry)',\n",
       " 'Bush Berries',\n",
       " 'Carrots',\n",
       " 'Cherries',\n",
       " 'Citrus',\n",
       " 'Cole Crops',\n",
       " 'Corn, Sorghum and Sudan',\n",
       " 'Cotton',\n",
       " 'Dates',\n",
       " 'Flowers, Nursery and Christmas Tree Farms',\n",
       " 'Grapes',\n",
       " 'Greenhouse',\n",
       " 'Kiwis',\n",
       " 'Lettuce/Leafy Greens',\n",
       " 'Melons, Squash and Cucumbers',\n",
       " 'Miscellaneous Deciduous',\n",
       " 'Miscellaneous Field Crops',\n",
       " 'Miscellaneous Grain and Hay',\n",
       " 'Miscellaneous Grasses',\n",
       " 'Miscellaneous Subtropical Fruits',\n",
       " 'Miscellaneous Truck Crops',\n",
       " 'Mixed Pasture',\n",
       " 'Olives',\n",
       " 'Onions and Garlic',\n",
       " 'Peaches/Nectarines',\n",
       " 'Pears',\n",
       " 'Peppers',\n",
       " 'Pistachios',\n",
       " 'Plums, Prunes and Apricots',\n",
       " 'Pomegranates',\n",
       " 'Rice',\n",
       " 'Safflower',\n",
       " 'Strawberries',\n",
       " 'Sunflowers',\n",
       " 'Tomatoes',\n",
       " 'Walnuts',\n",
       " 'Wheat',\n",
       " 'Young Perennials'}"
      ]
     },
     "execution_count": 759,
     "metadata": {},
     "output_type": "execute_result"
    }
   ],
   "source": [
    "#get croplist\n",
    "set(ld['Crop2016'].tolist())"
   ]
  },
  {
   "cell_type": "markdown",
   "metadata": {},
   "source": [
    "Original Approach: crop type -> get net water use per crop/1000 acres -> get  yield per acre per crop -> use to calculate parcel specific values for net water use and yeild -> then use price per unit or value of production/acre to get to a water value?\n",
    "\n",
    "New Approach:\n",
    "take acre-feet of water applied per crop and get minimum water volume based on assigned crop and # of acres on parcel. "
   ]
  },
  {
   "cell_type": "code",
   "execution_count": 781,
   "metadata": {
    "collapsed": true
   },
   "outputs": [],
   "source": [
    "#first load in crop yield data\n",
    "crop_yield = pd.read_csv(cropdata_location)"
   ]
  },
  {
   "cell_type": "code",
   "execution_count": 782,
   "metadata": {},
   "outputs": [
    {
     "data": {
      "text/plain": [
       "Index(['Commodity', 'Planted All Purpose Acres', 'Harvested Acres', 'Yield',\n",
       "       'Production', 'Price per Unit', 'Value of Production in Dollars',\n",
       "       'Crop Unit Vale ($/acre'],\n",
       "      dtype='object')"
      ]
     },
     "execution_count": 782,
     "metadata": {},
     "output_type": "execute_result"
    }
   ],
   "source": [
    "crop_yield.columns"
   ]
  },
  {
   "cell_type": "markdown",
   "metadata": {},
   "source": [
    "All of the crops are upper case so to make it easy we will upcase all of our crops in the dataframe"
   ]
  },
  {
   "cell_type": "code",
   "execution_count": 783,
   "metadata": {},
   "outputs": [
    {
     "data": {
      "text/plain": [
       "{'ALFALFA',\n",
       " 'ALMONDS',\n",
       " 'APPLES',\n",
       " 'AVOCADOS',\n",
       " 'BEANS, SNAP',\n",
       " 'BUSH BERRIES',\n",
       " 'CARROTS',\n",
       " 'CHERRIES, SWEET',\n",
       " 'CITRUS',\n",
       " 'COLE CROPS',\n",
       " 'CORN, GRAIN',\n",
       " 'COTTON, COTTONSEED',\n",
       " 'DATES',\n",
       " 'FLOWERS, NURSERY AND CHRISTMAS TREE FARMS',\n",
       " 'GARLIC',\n",
       " 'GRAPES',\n",
       " 'GREENHOUSE',\n",
       " 'HAY, (EXCL ALFALFA)',\n",
       " 'KIWIS',\n",
       " 'LETTUCE, HEAD',\n",
       " 'MELONS, SQUASH AND CUCUMBERS',\n",
       " 'MISCELLANEOUS DECIDUOUS',\n",
       " 'MISCELLANEOUS FIELD CROPS',\n",
       " 'MISCELLANEOUS GRASSES',\n",
       " 'MISCELLANEOUS SUBTROPICAL FRUITS',\n",
       " 'MISCELLANEOUS TRUCK CROPS',\n",
       " 'MIXED PASTURE',\n",
       " 'OLIVES',\n",
       " 'PEACHES',\n",
       " 'PEARS',\n",
       " 'PEPPERS',\n",
       " 'PISTACHIOS',\n",
       " 'POMEGRANATES',\n",
       " 'PRUNES',\n",
       " 'RICE',\n",
       " 'SAFFLOWER',\n",
       " 'STRAWBERRIES',\n",
       " 'SUNFLOWER',\n",
       " 'TOMATOES, IN THE OPEN',\n",
       " 'WALNUTS',\n",
       " 'WHEAT',\n",
       " 'YOUNG PERENNIALS'}"
      ]
     },
     "execution_count": 783,
     "metadata": {},
     "output_type": "execute_result"
    }
   ],
   "source": [
    "ld['Crop2016'] = ld['Crop2016'].str.upper()\n",
    "our_crops = set(ld['Crop2016'].tolist())\n",
    "our_crops"
   ]
  },
  {
   "cell_type": "markdown",
   "metadata": {},
   "source": [
    "Now let's compare the crops in our crop yield table with our the crops in our dataset"
   ]
  },
  {
   "cell_type": "code",
   "execution_count": 784,
   "metadata": {},
   "outputs": [
    {
     "data": {
      "text/plain": [
       "{'ALFALFA',\n",
       " 'ALMONDS',\n",
       " 'APPLES',\n",
       " 'APRICOTS',\n",
       " 'ARTICHOKES',\n",
       " 'ARTICHOKES, FRESH MARKET',\n",
       " 'ARTICHOKES, UTILIZED',\n",
       " 'ASPARAGUS',\n",
       " 'ASPARAGUS, FRESH MARKET',\n",
       " 'ASPARAGUS, UTILIZED',\n",
       " 'BARLEY',\n",
       " 'BEANS, SNAP',\n",
       " 'BEANS, SNAP, FRESH MARKET',\n",
       " 'BEANS, SNAP, PROCESSING',\n",
       " 'BEANS, SNAP, UTILIZED',\n",
       " 'BROCCOLI',\n",
       " 'BROCCOLI, FRESH MARKET',\n",
       " 'BROCCOLI, PROCESSING',\n",
       " 'BROCCOLI, UTILIZED',\n",
       " 'CABBAGE',\n",
       " 'CABBAGE, FRESH MARKET',\n",
       " 'CABBAGE, PROCESSING',\n",
       " 'CABBAGE, UTILIZED',\n",
       " 'CARROTS',\n",
       " 'CARROTS, FRESH MARKET',\n",
       " 'CARROTS, PROCESSING',\n",
       " 'CARROTS, UTILIZED',\n",
       " 'CAULIFLOWER',\n",
       " 'CAULIFLOWER, FRESH MARKET',\n",
       " 'CAULIFLOWER, PROCESSING',\n",
       " 'CAULIFLOWER, UTILIZED',\n",
       " 'CELERY',\n",
       " 'CELERY, FRESH MARKET',\n",
       " 'CELERY, PROCESSING',\n",
       " 'CELERY, UTILIZED',\n",
       " 'CHERRIES, SWEET',\n",
       " 'CHICKPEAS',\n",
       " 'CORN',\n",
       " 'CORN, GRAIN',\n",
       " 'CORN, SILAGE',\n",
       " 'COTTON',\n",
       " 'COTTON, COTTONSEED',\n",
       " 'COTTON, PIMA',\n",
       " 'COTTON, UPLAND',\n",
       " 'CUCUMBERS',\n",
       " 'CUCUMBERS, FRESH MARKET',\n",
       " 'CUCUMBERS, PROCESSING',\n",
       " 'CUCUMBERS, UTILIZED',\n",
       " 'GARLIC',\n",
       " 'GARLIC, FRESH MARKET',\n",
       " 'GARLIC, PROCESSING',\n",
       " 'GARLIC, UTILIZED',\n",
       " 'GRAPEFRUIT',\n",
       " 'GRAPEFRUIT, FRESH MARKET',\n",
       " 'GRAPEFRUIT, PROCESSING',\n",
       " 'GRAPEFRUIT, UTILIZED',\n",
       " 'GRAPES',\n",
       " 'HAY',\n",
       " 'HAY & HAYLAGE',\n",
       " 'HAY & HAYLAGE, (EXCL ALFALFA)',\n",
       " 'HAY & HAYLAGE, ALFALFA',\n",
       " 'HAY, (EXCL ALFALFA)',\n",
       " 'HAYLAGE',\n",
       " 'HAYLAGE, (EXCL ALFALFA)',\n",
       " 'HAYLAGE, ALFALFA',\n",
       " 'LEMONS',\n",
       " 'LEMONS, FRESH MARKET',\n",
       " 'LEMONS, PROCESSING',\n",
       " 'LEMONS, UTILIZED',\n",
       " 'LETTUCE, HEAD',\n",
       " 'LETTUCE, HEAD, FRESH MARKET',\n",
       " 'LETTUCE, HEAD, UTILIZED',\n",
       " 'LETTUCE, LEAF',\n",
       " 'LETTUCE, LEAF, FRESH MARKET',\n",
       " 'LETTUCE, LEAF, UTILIZED',\n",
       " 'LETTUCE, ROMAINE',\n",
       " 'LETTUCE, ROMAINE, FRESH MARKET',\n",
       " 'LETTUCE, ROMAINE, UTILIZED',\n",
       " 'MELONS, CANTALOUP',\n",
       " 'MELONS, CANTALOUP, FRESH MARKET',\n",
       " 'MELONS, CANTALOUP, UTILIZED',\n",
       " 'MELONS, HONEYDEW',\n",
       " 'MELONS, HONEYDEW, FRESH MARKET',\n",
       " 'MELONS, HONEYDEW, UTILIZED',\n",
       " 'MELONS, WATERMELON',\n",
       " 'MELONS, WATERMELON, FRESH MARKET',\n",
       " 'MELONS, WATERMELON, UTILIZED',\n",
       " 'OATS',\n",
       " 'ORANGES',\n",
       " 'ORANGES, FRESH MARKET',\n",
       " 'ORANGES, PROCESSING',\n",
       " 'ORANGES, UTILIZED',\n",
       " 'PEACHES',\n",
       " 'PEARS',\n",
       " 'PEPPERS, BELL',\n",
       " 'PEPPERS, BELL, FRESH MARKET',\n",
       " 'PEPPERS, BELL, PROCESSING',\n",
       " 'PEPPERS, BELL, UTILIZED',\n",
       " 'PEPPERS, CHILE',\n",
       " 'PEPPERS, CHILE, FRESH MARKET',\n",
       " 'PEPPERS, CHILE, PROCESSING',\n",
       " 'PEPPERS, CHILE, UTILIZED',\n",
       " 'POTATOES',\n",
       " 'PRUNES',\n",
       " 'PUMPKINS',\n",
       " 'PUMPKINS, FRESH MARKET',\n",
       " 'PUMPKINS, UTILIZED',\n",
       " 'RICE',\n",
       " 'SAFFLOWER',\n",
       " 'SPINACH',\n",
       " 'SPINACH, FRESH MARKET',\n",
       " 'SPINACH, PROCESSING',\n",
       " 'SPINACH, UTILIZED',\n",
       " 'SQUASH',\n",
       " 'SQUASH, FRESH MARKET',\n",
       " 'SQUASH, PROCESSING',\n",
       " 'SQUASH, UTILIZED',\n",
       " 'SUGARBEETS',\n",
       " 'SUNFLOWER',\n",
       " 'SWEET CORN',\n",
       " 'SWEET CORN, FRESH MARKET',\n",
       " 'SWEET CORN, UTILIZED',\n",
       " 'SWEET POTATOES',\n",
       " 'SWEET POTATOES, FRESH MARKET',\n",
       " 'SWEET POTATOES, PROCESSING',\n",
       " 'SWEET POTATOES, UTILIZED',\n",
       " 'TANGERINES',\n",
       " 'TANGERINES, FRESH MARKET',\n",
       " 'TANGERINES, PROCESSING',\n",
       " 'TANGERINES, UTILIZED',\n",
       " 'TOMATOES',\n",
       " 'TOMATOES, FRESH MARKET',\n",
       " 'TOMATOES, IN THE OPEN',\n",
       " 'TOMATOES, IN THE OPEN, FRESH MARKET',\n",
       " 'TOMATOES, IN THE OPEN, PROCESSING',\n",
       " 'TOMATOES, IN THE OPEN, UTILIZED',\n",
       " 'TOMATOES, PROCESSING',\n",
       " 'WHEAT',\n",
       " 'WHEAT, SPRING, DURUM',\n",
       " 'WHEAT, WINTER'}"
      ]
     },
     "execution_count": 784,
     "metadata": {},
     "output_type": "execute_result"
    }
   ],
   "source": [
    "all_crops = set(crop_yield['Commodity'].tolist())\n",
    "all_crops"
   ]
  },
  {
   "cell_type": "code",
   "execution_count": 785,
   "metadata": {},
   "outputs": [
    {
     "data": {
      "text/plain": [
       "{'ALFALFA',\n",
       " 'ALMONDS',\n",
       " 'APPLES',\n",
       " 'BEANS, SNAP',\n",
       " 'CARROTS',\n",
       " 'CHERRIES, SWEET',\n",
       " 'CORN, GRAIN',\n",
       " 'COTTON, COTTONSEED',\n",
       " 'GARLIC',\n",
       " 'GRAPES',\n",
       " 'HAY, (EXCL ALFALFA)',\n",
       " 'LETTUCE, HEAD',\n",
       " 'PEACHES',\n",
       " 'PEARS',\n",
       " 'PRUNES',\n",
       " 'RICE',\n",
       " 'SAFFLOWER',\n",
       " 'SUNFLOWER',\n",
       " 'TOMATOES, IN THE OPEN',\n",
       " 'WHEAT'}"
      ]
     },
     "execution_count": 785,
     "metadata": {},
     "output_type": "execute_result"
    }
   ],
   "source": [
    "overlap = our_crops.intersection(all_crops)\n",
    "overlap"
   ]
  },
  {
   "cell_type": "markdown",
   "metadata": {},
   "source": [
    "Seems like quite a few are missing, lets see which ones..."
   ]
  },
  {
   "cell_type": "code",
   "execution_count": 786,
   "metadata": {},
   "outputs": [
    {
     "name": "stdout",
     "output_type": "stream",
     "text": [
      "Crops not matched in our dataset:\n",
      " AVOCADOS, BUSH BERRIES, CITRUS, COLE CROPS, DATES, FLOWERS, NURSERY AND CHRISTMAS TREE FARMS, GREENHOUSE, KIWIS, MELONS, SQUASH AND CUCUMBERS, MISCELLANEOUS DECIDUOUS, MISCELLANEOUS FIELD CROPS, MISCELLANEOUS GRASSES, MISCELLANEOUS SUBTROPICAL FRUITS, MISCELLANEOUS TRUCK CROPS, MIXED PASTURE, OLIVES, PEPPERS, PISTACHIOS, POMEGRANATES, STRAWBERRIES, WALNUTS, YOUNG PERENNIALS \n",
      "\n",
      "Crops left in the CA dataset:\n",
      " APRICOTS, ARTICHOKES, ARTICHOKES, FRESH MARKET, ARTICHOKES, UTILIZED, ASPARAGUS, ASPARAGUS, FRESH MARKET, ASPARAGUS, UTILIZED, BARLEY, BEANS, SNAP, FRESH MARKET, BEANS, SNAP, PROCESSING, BEANS, SNAP, UTILIZED, BROCCOLI, BROCCOLI, FRESH MARKET, BROCCOLI, PROCESSING, BROCCOLI, UTILIZED, CABBAGE, CABBAGE, FRESH MARKET, CABBAGE, PROCESSING, CABBAGE, UTILIZED, CARROTS, FRESH MARKET, CARROTS, PROCESSING, CARROTS, UTILIZED, CAULIFLOWER, CAULIFLOWER, FRESH MARKET, CAULIFLOWER, PROCESSING, CAULIFLOWER, UTILIZED, CELERY, CELERY, FRESH MARKET, CELERY, PROCESSING, CELERY, UTILIZED, CHICKPEAS, CORN, CORN, SILAGE, COTTON, COTTON, PIMA, COTTON, UPLAND, CUCUMBERS, CUCUMBERS, FRESH MARKET, CUCUMBERS, PROCESSING, CUCUMBERS, UTILIZED, GARLIC, FRESH MARKET, GARLIC, PROCESSING, GARLIC, UTILIZED, GRAPEFRUIT, GRAPEFRUIT, FRESH MARKET, GRAPEFRUIT, PROCESSING, GRAPEFRUIT, UTILIZED, HAY, HAY & HAYLAGE, HAY & HAYLAGE, (EXCL ALFALFA), HAY & HAYLAGE, ALFALFA, HAYLAGE, HAYLAGE, (EXCL ALFALFA), HAYLAGE, ALFALFA, LEMONS, LEMONS, FRESH MARKET, LEMONS, PROCESSING, LEMONS, UTILIZED, LETTUCE, HEAD, FRESH MARKET, LETTUCE, HEAD, UTILIZED, LETTUCE, LEAF, LETTUCE, LEAF, FRESH MARKET, LETTUCE, LEAF, UTILIZED, LETTUCE, ROMAINE, LETTUCE, ROMAINE, FRESH MARKET, LETTUCE, ROMAINE, UTILIZED, MELONS, CANTALOUP, MELONS, CANTALOUP, FRESH MARKET, MELONS, CANTALOUP, UTILIZED, MELONS, HONEYDEW, MELONS, HONEYDEW, FRESH MARKET, MELONS, HONEYDEW, UTILIZED, MELONS, WATERMELON, MELONS, WATERMELON, FRESH MARKET, MELONS, WATERMELON, UTILIZED, OATS, ORANGES, ORANGES, FRESH MARKET, ORANGES, PROCESSING, ORANGES, UTILIZED, PEPPERS, BELL, PEPPERS, BELL, FRESH MARKET, PEPPERS, BELL, PROCESSING, PEPPERS, BELL, UTILIZED, PEPPERS, CHILE, PEPPERS, CHILE, FRESH MARKET, PEPPERS, CHILE, PROCESSING, PEPPERS, CHILE, UTILIZED, POTATOES, PUMPKINS, PUMPKINS, FRESH MARKET, PUMPKINS, UTILIZED, SPINACH, SPINACH, FRESH MARKET, SPINACH, PROCESSING, SPINACH, UTILIZED, SQUASH, SQUASH, FRESH MARKET, SQUASH, PROCESSING, SQUASH, UTILIZED, SUGARBEETS, SWEET CORN, SWEET CORN, FRESH MARKET, SWEET CORN, UTILIZED, SWEET POTATOES, SWEET POTATOES, FRESH MARKET, SWEET POTATOES, PROCESSING, SWEET POTATOES, UTILIZED, TANGERINES, TANGERINES, FRESH MARKET, TANGERINES, PROCESSING, TANGERINES, UTILIZED, TOMATOES, TOMATOES, FRESH MARKET, TOMATOES, IN THE OPEN, FRESH MARKET, TOMATOES, IN THE OPEN, PROCESSING, TOMATOES, IN THE OPEN, UTILIZED, TOMATOES, PROCESSING, WHEAT, SPRING, DURUM, WHEAT, WINTER\n"
     ]
    }
   ],
   "source": [
    "our_remaining = our_crops - overlap\n",
    "\n",
    "all_remaining = all_crops - overlap\n",
    "\n",
    "print('Crops not matched in our dataset:\\n', ', '.join(sorted(list(our_remaining))), '\\n')\n",
    "\n",
    "print('Crops left in the CA dataset:\\n', ', '.join(sorted(list(all_remaining))))\n"
   ]
  },
  {
   "cell_type": "markdown",
   "metadata": {},
   "source": [
    "We need to fix some naming issues here for alfalfa, beans, corn, lettuce, 'melons, squash, and cucumber', miscellaneous grain and hay, garlic, peaches, prunes and apricots, potatoes and sweet potatoes, sunflower, we also have to select the crop data which has a value of production in dollars (revenue) value so we can get the value in dollars per acre foot of water applied to the crop. "
   ]
  },
  {
   "cell_type": "code",
   "execution_count": 787,
   "metadata": {
    "collapsed": true
   },
   "outputs": [],
   "source": [
    "ld = ld.replace({'ALFALFA AND ALFALFA MIXTURES':'ALFALFA', 'BEANS (DRY)': 'BEANS, SNAP', \n",
    "            'CORN, SORGHUM AND SUDAN':'CORN, GRAIN', 'LETTUCE/LEAFY GREENS':'LETTUCE, HEAD', \n",
    "            'MISCELLANEOUS GRAIN AND HAY': 'HAY, (EXCL ALFALFA)', 'ONIONS AND GARLIC': 'GARLIC', \n",
    "            'PEACHES/NECTARINES': 'PEACHES', 'PLUMS, PRUNES AND APRICOTS': 'PRUNES', \n",
    "            'POTATOES AND SWEET POTATOES': 'POTATOES', 'SUNFLOWERS': 'SUNFLOWER', 'TOMATOES': 'TOMATOES, IN THE OPEN', \n",
    "            'COTTON': 'COTTON, COTTONSEED', 'CHERRIES':'CHERRIES, SWEET', 'SQUASH AND CUCUMBERS': 'SQUASH', })\n",
    "\n"
   ]
  },
  {
   "cell_type": "code",
   "execution_count": 788,
   "metadata": {},
   "outputs": [
    {
     "data": {
      "text/plain": [
       "{'ALFALFA',\n",
       " 'ALMONDS',\n",
       " 'APPLES',\n",
       " 'AVOCADOS',\n",
       " 'BEANS, SNAP',\n",
       " 'BUSH BERRIES',\n",
       " 'CARROTS',\n",
       " 'CHERRIES, SWEET',\n",
       " 'CITRUS',\n",
       " 'COLE CROPS',\n",
       " 'CORN, GRAIN',\n",
       " 'COTTON, COTTONSEED',\n",
       " 'DATES',\n",
       " 'FLOWERS, NURSERY AND CHRISTMAS TREE FARMS',\n",
       " 'GARLIC',\n",
       " 'GRAPES',\n",
       " 'GREENHOUSE',\n",
       " 'HAY, (EXCL ALFALFA)',\n",
       " 'KIWIS',\n",
       " 'LETTUCE, HEAD',\n",
       " 'MELONS, SQUASH AND CUCUMBERS',\n",
       " 'MISCELLANEOUS DECIDUOUS',\n",
       " 'MISCELLANEOUS FIELD CROPS',\n",
       " 'MISCELLANEOUS GRASSES',\n",
       " 'MISCELLANEOUS SUBTROPICAL FRUITS',\n",
       " 'MISCELLANEOUS TRUCK CROPS',\n",
       " 'MIXED PASTURE',\n",
       " 'OLIVES',\n",
       " 'PEACHES',\n",
       " 'PEARS',\n",
       " 'PEPPERS',\n",
       " 'PISTACHIOS',\n",
       " 'POMEGRANATES',\n",
       " 'PRUNES',\n",
       " 'RICE',\n",
       " 'SAFFLOWER',\n",
       " 'STRAWBERRIES',\n",
       " 'SUNFLOWER',\n",
       " 'TOMATOES, IN THE OPEN',\n",
       " 'WALNUTS',\n",
       " 'WHEAT',\n",
       " 'YOUNG PERENNIALS'}"
      ]
     },
     "execution_count": 788,
     "metadata": {},
     "output_type": "execute_result"
    }
   ],
   "source": [
    "set(ld['Crop2016'].tolist())"
   ]
  },
  {
   "cell_type": "markdown",
   "metadata": {},
   "source": [
    "Now we should look at the overlap again and drop the rows that dont overlap"
   ]
  },
  {
   "cell_type": "code",
   "execution_count": 789,
   "metadata": {},
   "outputs": [
    {
     "name": "stdout",
     "output_type": "stream",
     "text": [
      "Matched: {'PEARS', 'CARROTS', 'ALFALFA', 'RICE', 'PRUNES', 'PEACHES', 'SAFFLOWER', 'COTTON, COTTONSEED', 'ALMONDS', 'TOMATOES, IN THE OPEN', 'CORN, GRAIN', 'WHEAT', 'BEANS, SNAP', 'SUNFLOWER', 'APPLES', 'GARLIC', 'LETTUCE, HEAD', 'GRAPES', 'HAY, (EXCL ALFALFA)', 'CHERRIES, SWEET'}\n"
     ]
    }
   ],
   "source": [
    "our_crops = set(ld['Crop2016'].tolist())\n",
    "\n",
    "overlap = our_crops.intersection(all_crops)\n",
    "print('Matched:', overlap)"
   ]
  },
  {
   "cell_type": "code",
   "execution_count": 790,
   "metadata": {
    "collapsed": true
   },
   "outputs": [],
   "source": [
    "incrop = list(overlap)\n",
    "\n",
    "available_crops = ld['Crop2016'].isin(incrop)\n",
    "\n",
    "matched = ld[available_crops]"
   ]
  },
  {
   "cell_type": "code",
   "execution_count": 791,
   "metadata": {},
   "outputs": [
    {
     "data": {
      "text/plain": [
       "17932"
      ]
     },
     "execution_count": 791,
     "metadata": {},
     "output_type": "execute_result"
    }
   ],
   "source": [
    "len(matched)"
   ]
  },
  {
   "cell_type": "markdown",
   "metadata": {},
   "source": [
    "So with the current availble crop data we were able to match 14,967 records. Now lets also prune the CA data and merge it into our land data "
   ]
  },
  {
   "cell_type": "code",
   "execution_count": 847,
   "metadata": {
    "collapsed": true
   },
   "outputs": [],
   "source": [
    "available_commodity = crop_yield['Commodity'].isin(incrop)\n",
    "\n",
    "CA_prune = crop_yield[available_commodity]\n",
    "\n"
   ]
  },
  {
   "cell_type": "code",
   "execution_count": 848,
   "metadata": {},
   "outputs": [
    {
     "name": "stderr",
     "output_type": "stream",
     "text": [
      "/Users/d/anaconda3/lib/python3.6/site-packages/pandas/core/frame.py:4133: SettingWithCopyWarning: \n",
      "A value is trying to be set on a copy of a slice from a DataFrame\n",
      "\n",
      "See the caveats in the documentation: https://pandas.pydata.org/pandas-docs/stable/user_guide/indexing.html#returning-a-view-versus-a-copy\n",
      "  errors=errors,\n"
     ]
    }
   ],
   "source": [
    "#rename columns to merge\n",
    "\n",
    "CA_prune.rename(columns = {'Commodity': 'FinalCrop'}, inplace=True)\n",
    "CA_prod = CA_prune[['FinalCrop', 'Price per Unit', 'Value of Production in Dollars',\n",
    "       'Crop Unit Vale ($/acre']]\n",
    "\n",
    "matched.rename(columns = {'Crop2016': 'FinalCrop'}, inplace=True)\n",
    "\n",
    "\n"
   ]
  },
  {
   "cell_type": "code",
   "execution_count": 849,
   "metadata": {
    "collapsed": true
   },
   "outputs": [],
   "source": [
    "#now merge\n",
    "\n",
    "merged = matched.merge(CA_prod, on='FinalCrop')"
   ]
  },
  {
   "cell_type": "markdown",
   "metadata": {},
   "source": [
    "Checking to see if the values we merged in are correct by crop\n"
   ]
  },
  {
   "cell_type": "code",
   "execution_count": 850,
   "metadata": {},
   "outputs": [
    {
     "name": "stdout",
     "output_type": "stream",
     "text": [
      "GRAPES\n",
      "5840.0\n"
     ]
    }
   ],
   "source": [
    "print(merged.iloc[0]['FinalCrop'])\n",
    "print(merged.iloc[0]['Crop Unit Vale ($/acre'])\n"
   ]
  },
  {
   "cell_type": "code",
   "execution_count": null,
   "metadata": {},
   "outputs": [],
   "source": []
  },
  {
   "cell_type": "markdown",
   "metadata": {},
   "source": [
    "source used for this value\n",
    "https://pacinst.org/wp-content/uploads/2015/04/CA-Ag-Water-Use.pdf\n",
    "\n"
   ]
  },
  {
   "cell_type": "markdown",
   "metadata": {},
   "source": [
    "Now we add two columns to our dataset to hold our applied water in millions of acre feet and our water productivity column and fill in both"
   ]
  },
  {
   "cell_type": "code",
   "execution_count": 851,
   "metadata": {
    "collapsed": true
   },
   "outputs": [],
   "source": [
    "merged['water_productivity'] = None\n"
   ]
  },
  {
   "cell_type": "markdown",
   "metadata": {},
   "source": [
    "Get total monetary value of crops per parcel using our crop unit value * parcel acres where 'crop unit value' is derived from the per crop CA total production in revenue divided by total harvested acres\n"
   ]
  },
  {
   "cell_type": "code",
   "execution_count": 852,
   "metadata": {},
   "outputs": [],
   "source": [
    "merged['Crop Unit Vale ($/acre'] = merged['Crop Unit Vale ($/acre'].astype('float64')\n",
    "\n",
    "for i, r in merged.iterrows():\n",
    "    merged.at[i,'Value of Production in Dollars'] = r['Crop Unit Vale ($/acre'] * r['ll_gisacre']\n",
    "    \n",
    "\n"
   ]
  },
  {
   "cell_type": "markdown",
   "metadata": {},
   "source": [
    "Now we need to get the economic value produced per acre-foot of water applied to the crop, as\n",
    "measured in dollars per acre-foot -- our 'water productivity'"
   ]
  },
  {
   "cell_type": "code",
   "execution_count": 853,
   "metadata": {
    "collapsed": true
   },
   "outputs": [],
   "source": [
    "#now divide millions by millions to get a revenue per acre feet of water applied\n",
    "for i, r in merged.iterrows():\n",
    "\n",
    "#try:\n",
    "        \n",
    "    converted = r['TotalWater'] * 1000000\n",
    "\n",
    "    merged.at[i, 'water_productivity'] = float(r['Value of Production in Dollars'])/converted\n",
    "\n",
    "#except:\n",
    "  \n",
    "\n",
    "        "
   ]
  },
  {
   "cell_type": "code",
   "execution_count": 854,
   "metadata": {},
   "outputs": [
    {
     "data": {
      "text/plain": [
       "0          0.0338637\n",
       "1         0.00102725\n",
       "2          0.0223156\n",
       "3         0.00118585\n",
       "4        0.000522347\n",
       "            ...     \n",
       "17927    0.000825321\n",
       "17928     0.00661437\n",
       "17929    0.000802913\n",
       "17930     0.00353311\n",
       "17931    0.000899866\n",
       "Name: water_productivity, Length: 17932, dtype: object"
      ]
     },
     "execution_count": 854,
     "metadata": {},
     "output_type": "execute_result"
    }
   ],
   "source": [
    "merged['water_productivity']"
   ]
  },
  {
   "cell_type": "markdown",
   "metadata": {
    "collapsed": true
   },
   "source": [
    "now lets get minimum water available per parcel by using the acre feet applied per crop * parcel acreage"
   ]
  },
  {
   "cell_type": "code",
   "execution_count": 855,
   "metadata": {
    "collapsed": true
   },
   "outputs": [],
   "source": [
    "merged['min_avail_water'] = None\n",
    "\n",
    "for i, r in merged.iterrows():\n",
    "\n",
    "    \n",
    "    merged.at[i, 'min_avail_water'] = r['TotalWater'] * r['ll_gisacre'] \n",
    "    \n"
   ]
  },
  {
   "cell_type": "code",
   "execution_count": 856,
   "metadata": {},
   "outputs": [
    {
     "data": {
      "text/plain": [
       "0          49.667\n",
       "1         1.50665\n",
       "2         32.7297\n",
       "3         1.73926\n",
       "4        0.766114\n",
       "           ...   \n",
       "17927     11.7083\n",
       "17928     93.8334\n",
       "17929     11.3904\n",
       "17930     50.1217\n",
       "17931     12.7658\n",
       "Name: min_avail_water, Length: 17932, dtype: object"
      ]
     },
     "execution_count": 856,
     "metadata": {},
     "output_type": "execute_result"
    }
   ],
   "source": [
    "merged['min_avail_water']"
   ]
  },
  {
   "cell_type": "markdown",
   "metadata": {},
   "source": [
    "Its also worth using the water productivity value to get a potential revenue total value from the number of acres. We can use our min_avail_water in acre-feet and multiply that by our water productivity value to get a min water revenue in dollars..."
   ]
  },
  {
   "cell_type": "code",
   "execution_count": 857,
   "metadata": {
    "collapsed": true
   },
   "outputs": [],
   "source": [
    "merged['min_water_rev'] = None\n",
    "\n",
    "for i, r in merged.iterrows():\n",
    "\n",
    "    merged.at[i, 'min_water_rev'] = r['min_avail_water'] * r['water_productivity'] \n",
    "    \n"
   ]
  },
  {
   "cell_type": "code",
   "execution_count": 858,
   "metadata": {},
   "outputs": [
    {
     "data": {
      "text/plain": [
       "0            1.68191\n",
       "1         0.00154771\n",
       "2           0.730384\n",
       "3         0.00206251\n",
       "4        0.000400177\n",
       "            ...     \n",
       "17927     0.00966308\n",
       "17928       0.620649\n",
       "17929     0.00914548\n",
       "17930       0.177085\n",
       "17931      0.0114875\n",
       "Name: min_water_rev, Length: 17932, dtype: object"
      ]
     },
     "execution_count": 858,
     "metadata": {},
     "output_type": "execute_result"
    }
   ],
   "source": [
    "merged['min_water_rev']"
   ]
  },
  {
   "cell_type": "markdown",
   "metadata": {},
   "source": [
    "Its time to fold in the soil data"
   ]
  },
  {
   "cell_type": "markdown",
   "metadata": {},
   "source": [
    "The one we care about in the soil datais 'farmIndcl', which says if it prime farmland or not. as there are seeveral codes for that we are going binarize"
   ]
  },
  {
   "cell_type": "code",
   "execution_count": 859,
   "metadata": {},
   "outputs": [
    {
     "data": {
      "text/plain": [
       "{nan,\n",
       " 'Farmland of statewide importance',\n",
       " 'Prime farmland if irrigated',\n",
       " 'Prime farmland if irrigated and drained',\n",
       " 'Prime farmland if irrigated and reclaimed of excess salts and sodium',\n",
       " 'Not prime farmland',\n",
       " 'Prime farmland if irrigated and either protected from flooding or not frequently flooded during the growing season'}"
      ]
     },
     "execution_count": 859,
     "metadata": {},
     "output_type": "execute_result"
    }
   ],
   "source": [
    "set(merged['farmlndcl'].tolist())"
   ]
  },
  {
   "cell_type": "code",
   "execution_count": 860,
   "metadata": {},
   "outputs": [],
   "source": [
    "merged['farmlndcl_bin'] = None\n",
    "\n",
    "for i, r in merged.iterrows():\n",
    "    \n",
    "    if r['farmlndcl'] == 'Not prime farmland' or r['farmlndcl'] == 'nan':\n",
    "        \n",
    "        merged.at[i, 'farmlndcl_bin'] = 0\n",
    "        \n",
    "    else:\n",
    "        \n",
    "        merged.at[i, 'farmlndcl_bin'] = 1"
   ]
  },
  {
   "cell_type": "code",
   "execution_count": 861,
   "metadata": {},
   "outputs": [],
   "source": [
    "merged['ag_revenue'] = None\n",
    "\n",
    "for i, r in merged.iterrows():\n",
    "    merged.at[i, 'ag_revenue'] = r['Crop Unit Vale ($/acre'] * r['ll_gisacre']\n",
    "    "
   ]
  },
  {
   "cell_type": "code",
   "execution_count": 862,
   "metadata": {},
   "outputs": [
    {
     "data": {
      "text/plain": [
       "['Unnamed: 0',\n",
       " 'Unnamed: 0_x',\n",
       " 'geoid',\n",
       " 'parcelnumb',\n",
       " 'usecode',\n",
       " 'improvval',\n",
       " 'landval',\n",
       " 'parval',\n",
       " 'owner',\n",
       " 'owner2',\n",
       " 'mailadd',\n",
       " 'mail_city',\n",
       " 'mail_state2',\n",
       " 'mail_zip',\n",
       " 'address',\n",
       " 'saddno',\n",
       " 'saddpref',\n",
       " 'saddstr',\n",
       " 'saddsttyp',\n",
       " 'sunit',\n",
       " 'scity',\n",
       " 'original_address',\n",
       " 'city',\n",
       " 'county',\n",
       " 'state2',\n",
       " 'szip',\n",
       " 'address_source',\n",
       " 'legaldesc',\n",
       " 'path',\n",
       " 'll_uuid',\n",
       " 'll_updated_at',\n",
       " 'homeowner_exemp',\n",
       " 'lot_area',\n",
       " 'pers_prop_val',\n",
       " 'tax_area_code',\n",
       " 'contract_number',\n",
       " 'contract_year',\n",
       " 'non_renewal_year',\n",
       " 'use_high_best',\n",
       " 'use_secondary',\n",
       " 'qoz',\n",
       " 'qoz_tract',\n",
       " 'll_gisacre',\n",
       " 'lng',\n",
       " 'lat',\n",
       " 'gdfindex',\n",
       " 'Acres_x',\n",
       " 'Crop2016_x',\n",
       " 'DWR_revise',\n",
       " 'Symb_class',\n",
       " 'MULTIUSE',\n",
       " 'CLASS1',\n",
       " 'SPECOND1',\n",
       " 'PCNT1',\n",
       " 'CLASS2',\n",
       " 'SUBCLASS2',\n",
       " 'SPECOND2',\n",
       " 'IRR_TYP2PA',\n",
       " 'UCF_ATT',\n",
       " 'CROPTYP1',\n",
       " 'CROPTYP2',\n",
       " 'Region',\n",
       " 'Acres',\n",
       " 'County',\n",
       " 'FinalCrop',\n",
       " 'GlobalID',\n",
       " 'Shape_Leng',\n",
       " 'Shape_Area',\n",
       " 'land',\n",
       " 'imps',\n",
       " 'pp',\n",
       " 'mhome',\n",
       " 'tot',\n",
       " 'pnumb',\n",
       " 'firstfloor',\n",
       " 'secondfloor',\n",
       " 'addsize',\n",
       " 'tra',\n",
       " 'loc',\n",
       " 'bclass',\n",
       " 'year',\n",
       " 'gize',\n",
       " 'pool',\n",
       " 'psize',\n",
       " 'Unnamed: 0_y',\n",
       " 'intersect_area_acre',\n",
       " 'MUSYM',\n",
       " 'farmlndcl',\n",
       " 'irrcapcl',\n",
       " 'irrcapscl',\n",
       " 'nirrcapcl',\n",
       " 'nirrcalscl',\n",
       " 'castorieindex',\n",
       " 'Crop',\n",
       " 'CropETo',\n",
       " 'WaterApplied',\n",
       " 'NetWaterUse_Applied',\n",
       " 'Factor',\n",
       " 'AppliedFromETo',\n",
       " 'AppliedWater',\n",
       " 'TotalWater',\n",
       " 'Price per Unit',\n",
       " 'Value of Production in Dollars',\n",
       " 'Crop Unit Vale ($/acre',\n",
       " 'water_productivity',\n",
       " 'min_avail_water',\n",
       " 'min_water_rev',\n",
       " 'farmlndcl_bin',\n",
       " 'ag_revenue']"
      ]
     },
     "execution_count": 862,
     "metadata": {},
     "output_type": "execute_result"
    }
   ],
   "source": [
    "merged.columns.tolist()"
   ]
  },
  {
   "cell_type": "markdown",
   "metadata": {},
   "source": [
    "Lets do some work on the land value by summing building land size and excluding those records with a pool"
   ]
  },
  {
   "cell_type": "code",
   "execution_count": 863,
   "metadata": {},
   "outputs": [],
   "source": [
    "merged['building_size'] = merged['firstfloor'] + merged['secondfloor'] + merged['addsize'] + merged['gize']\n",
    "\n",
    "#exclude pools\n",
    "merged.drop(merged[merged['pool'] == True].index, inplace=True)\n",
    "\n"
   ]
  },
  {
   "cell_type": "code",
   "execution_count": 937,
   "metadata": {},
   "outputs": [
    {
     "data": {
      "text/plain": [
       "0        False\n",
       "1        False\n",
       "2        False\n",
       "3        False\n",
       "4        False\n",
       "         ...  \n",
       "17927    False\n",
       "17928    False\n",
       "17929    False\n",
       "17930    False\n",
       "17931    False\n",
       "Name: pool, Length: 17073, dtype: object"
      ]
     },
     "execution_count": 937,
     "metadata": {},
     "output_type": "execute_result"
    }
   ],
   "source": [
    "merged['pool']"
   ]
  },
  {
   "cell_type": "markdown",
   "metadata": {},
   "source": [
    "now lets try and do some anaysis and take a stab at regression"
   ]
  },
  {
   "cell_type": "markdown",
   "metadata": {},
   "source": [
    "For our purposes we want to use the following features for hedonic \n",
    "regression:\n",
    "\n",
    "- landval: parcel land value, based on assessor\n",
    "- ll_gisacre: parcel acreage, as in size\n",
    "- water_productivity: revenue in dollars per acre feet of water applied based on assigne dcrop to parcel \n",
    "- min_avail_water: minimum volume of water available to parcel based on assigned crop\n",
    "- min_water_rev:\n",
    "- farmIndcl_bin: is it prime farmland or not? \n",
    "\n",
    "\n",
    "\n"
   ]
  },
  {
   "cell_type": "code",
   "execution_count": 901,
   "metadata": {},
   "outputs": [
    {
     "name": "stderr",
     "output_type": "stream",
     "text": [
      "/Users/d/anaconda3/lib/python3.6/site-packages/ipykernel_launcher.py:20: SettingWithCopyWarning: \n",
      "A value is trying to be set on a copy of a slice from a DataFrame.\n",
      "Try using .loc[row_indexer,col_indexer] = value instead\n",
      "\n",
      "See the caveats in the documentation: https://pandas.pydata.org/pandas-docs/stable/user_guide/indexing.html#returning-a-view-versus-a-copy\n",
      "/Users/d/anaconda3/lib/python3.6/site-packages/ipykernel_launcher.py:21: SettingWithCopyWarning: \n",
      "A value is trying to be set on a copy of a slice from a DataFrame.\n",
      "Try using .loc[row_indexer,col_indexer] = value instead\n",
      "\n",
      "See the caveats in the documentation: https://pandas.pydata.org/pandas-docs/stable/user_guide/indexing.html#returning-a-view-versus-a-copy\n",
      "/Users/d/anaconda3/lib/python3.6/site-packages/ipykernel_launcher.py:22: SettingWithCopyWarning: \n",
      "A value is trying to be set on a copy of a slice from a DataFrame.\n",
      "Try using .loc[row_indexer,col_indexer] = value instead\n",
      "\n",
      "See the caveats in the documentation: https://pandas.pydata.org/pandas-docs/stable/user_guide/indexing.html#returning-a-view-versus-a-copy\n",
      "/Users/d/anaconda3/lib/python3.6/site-packages/ipykernel_launcher.py:23: SettingWithCopyWarning: \n",
      "A value is trying to be set on a copy of a slice from a DataFrame.\n",
      "Try using .loc[row_indexer,col_indexer] = value instead\n",
      "\n",
      "See the caveats in the documentation: https://pandas.pydata.org/pandas-docs/stable/user_guide/indexing.html#returning-a-view-versus-a-copy\n",
      "/Users/d/anaconda3/lib/python3.6/site-packages/ipykernel_launcher.py:24: SettingWithCopyWarning: \n",
      "A value is trying to be set on a copy of a slice from a DataFrame.\n",
      "Try using .loc[row_indexer,col_indexer] = value instead\n",
      "\n",
      "See the caveats in the documentation: https://pandas.pydata.org/pandas-docs/stable/user_guide/indexing.html#returning-a-view-versus-a-copy\n",
      "/Users/d/anaconda3/lib/python3.6/site-packages/ipykernel_launcher.py:25: SettingWithCopyWarning: \n",
      "A value is trying to be set on a copy of a slice from a DataFrame.\n",
      "Try using .loc[row_indexer,col_indexer] = value instead\n",
      "\n",
      "See the caveats in the documentation: https://pandas.pydata.org/pandas-docs/stable/user_guide/indexing.html#returning-a-view-versus-a-copy\n",
      "/Users/d/anaconda3/lib/python3.6/site-packages/ipykernel_launcher.py:26: SettingWithCopyWarning: \n",
      "A value is trying to be set on a copy of a slice from a DataFrame.\n",
      "Try using .loc[row_indexer,col_indexer] = value instead\n",
      "\n",
      "See the caveats in the documentation: https://pandas.pydata.org/pandas-docs/stable/user_guide/indexing.html#returning-a-view-versus-a-copy\n",
      "/Users/d/anaconda3/lib/python3.6/site-packages/ipykernel_launcher.py:27: SettingWithCopyWarning: \n",
      "A value is trying to be set on a copy of a slice from a DataFrame.\n",
      "Try using .loc[row_indexer,col_indexer] = value instead\n",
      "\n",
      "See the caveats in the documentation: https://pandas.pydata.org/pandas-docs/stable/user_guide/indexing.html#returning-a-view-versus-a-copy\n",
      "/Users/d/anaconda3/lib/python3.6/site-packages/ipykernel_launcher.py:28: SettingWithCopyWarning: \n",
      "A value is trying to be set on a copy of a slice from a DataFrame.\n",
      "Try using .loc[row_indexer,col_indexer] = value instead\n",
      "\n",
      "See the caveats in the documentation: https://pandas.pydata.org/pandas-docs/stable/user_guide/indexing.html#returning-a-view-versus-a-copy\n",
      "/Users/d/anaconda3/lib/python3.6/site-packages/ipykernel_launcher.py:29: SettingWithCopyWarning: \n",
      "A value is trying to be set on a copy of a slice from a DataFrame.\n",
      "Try using .loc[row_indexer,col_indexer] = value instead\n",
      "\n",
      "See the caveats in the documentation: https://pandas.pydata.org/pandas-docs/stable/user_guide/indexing.html#returning-a-view-versus-a-copy\n"
     ]
    }
   ],
   "source": [
    "hedonic_db = merged[['parcelnumb', \n",
    "                     'landval', \n",
    "                     'll_gisacre', \n",
    "                     'ag_revenue',\n",
    "                     'water_productivity', \n",
    "                     'min_avail_water', \n",
    "                     'min_water_rev', \n",
    "                     'Crop', \n",
    "                     'farmlndcl_bin', \n",
    "                     'county', \n",
    "                     'szip', \n",
    "                     'castorieindex', \n",
    "                     'building_size', \n",
    "                     'irrcapcl',\n",
    "                     'irrcapscl',\n",
    "                     'nirrcapcl',\n",
    "                     'nirrcalscl',\n",
    "                    'TotalWater']]  \n",
    "\n",
    "hedonic_db['landval'] = hedonic_db['landval'].astype('float64')\n",
    "hedonic_db['ll_gisacre'] = hedonic_db['ll_gisacre'].astype('float64')\n",
    "hedonic_db['water_productivity'] = hedonic_db['water_productivity'].astype('float64')\n",
    "hedonic_db['min_avail_water'] = hedonic_db['min_avail_water'].astype('float64')\n",
    "hedonic_db['min_water_rev'] = hedonic_db['min_water_rev'].astype('float64')\n",
    "hedonic_db['farmlndcl_bin'] = hedonic_db['farmlndcl_bin'].astype('float64')\n",
    "hedonic_db['ag_revenue'] = hedonic_db['ag_revenue'].astype('float64')\n",
    "hedonic_db['castorieindex'] = hedonic_db['castorieindex'].astype('float64')\n",
    "hedonic_db['building_size'] = hedonic_db['building_size'].astype('float64')\n",
    "hedonic_db['TotalWater'] = hedonic_db['TotalWater'].astype('float64')\n",
    "\n",
    "\n",
    "\n",
    "\n"
   ]
  },
  {
   "cell_type": "code",
   "execution_count": 902,
   "metadata": {},
   "outputs": [],
   "source": [
    "hedonic_db.head()\n",
    "modeling_db = hedonic_db.dropna()"
   ]
  },
  {
   "cell_type": "code",
   "execution_count": 903,
   "metadata": {},
   "outputs": [
    {
     "data": {
      "text/plain": [
       "{0.0, 1.0}"
      ]
     },
     "execution_count": 903,
     "metadata": {},
     "output_type": "execute_result"
    }
   ],
   "source": [
    "set(modeling_db['farmlndcl_bin'].tolist())"
   ]
  },
  {
   "cell_type": "code",
   "execution_count": 904,
   "metadata": {},
   "outputs": [
    {
     "data": {
      "text/plain": [
       "9101"
      ]
     },
     "execution_count": 904,
     "metadata": {},
     "output_type": "execute_result"
    }
   ],
   "source": [
    "len(modeling_db)"
   ]
  },
  {
   "cell_type": "code",
   "execution_count": 905,
   "metadata": {},
   "outputs": [
    {
     "data": {
      "text/plain": [
       "0        207423.0\n",
       "6        359218.0\n",
       "7         31632.0\n",
       "8        147651.0\n",
       "9        177244.0\n",
       "           ...   \n",
       "17927     14986.0\n",
       "17928      3282.0\n",
       "17929     15840.0\n",
       "17930     45517.0\n",
       "17931    173688.0\n",
       "Name: landval, Length: 9101, dtype: float64"
      ]
     },
     "execution_count": 905,
     "metadata": {},
     "output_type": "execute_result"
    }
   ],
   "source": [
    "modeling_db['landval']"
   ]
  },
  {
   "cell_type": "markdown",
   "metadata": {},
   "source": [
    "now lets examine some features"
   ]
  },
  {
   "cell_type": "code",
   "execution_count": 906,
   "metadata": {},
   "outputs": [
    {
     "name": "stdout",
     "output_type": "stream",
     "text": [
      "[8312  558  167   39    9    6    2    2    3    3] [      0.   432376.8  864753.6 1297130.4 1729507.2 2161884.  2594260.8\n",
      " 3026637.6 3459014.4 3891391.2 4323768. ]\n"
     ]
    },
    {
     "data": {
      "text/plain": [
       "<matplotlib.axes._subplots.AxesSubplot at 0x11d4dd908>"
      ]
     },
     "execution_count": 906,
     "metadata": {},
     "output_type": "execute_result"
    },
    {
     "data": {
      "image/png": "[encoded data removed]",
      "text/plain": [
       "<matplotlib.figure.Figure at 0x11d4e0f60>"
      ]
     },
     "metadata": {},
     "output_type": "display_data"
    }
   ],
   "source": [
    "#land value\n",
    "landval = modeling_db['landval'].dropna()\n",
    "\n",
    "hist,bin_edges = np.histogram(landval)\n",
    "print(hist, bin_edges)\n",
    "\n",
    "#minimum = min(landval)\n",
    "#print(minimum)\n",
    "#maximum = max(landval)\n",
    "#print(maximum)\n",
    "\n",
    "modeling_db['landval'].dropna().plot.hist(range=[np.min(landval), np.max(landval)])\n",
    "\n"
   ]
  },
  {
   "cell_type": "code",
   "execution_count": 907,
   "metadata": {
    "scrolled": true
   },
   "outputs": [
    {
     "name": "stderr",
     "output_type": "stream",
     "text": [
      "/Users/d/anaconda3/lib/python3.6/site-packages/pandas/core/series.py:679: RuntimeWarning: divide by zero encountered in log\n",
      "  result = getattr(ufunc, method)(*inputs, **kwargs)\n"
     ]
    },
    {
     "data": {
      "text/plain": [
       "<matplotlib.axes._subplots.AxesSubplot at 0x1ac4b0f28>"
      ]
     },
     "execution_count": 907,
     "metadata": {},
     "output_type": "execute_result"
    },
    {
     "data": {
      "image/png": "[encoded data removed]",
      "text/plain": [
       "<matplotlib.figure.Figure at 0x1aececc88>"
      ]
     },
     "metadata": {},
     "output_type": "display_data"
    }
   ],
   "source": [
    "#log transform and replot\n",
    "ln_landval = np.log(landval)\n",
    "\n",
    "ln_landval.plot.hist(range=[0, np.max(ln_landval)])"
   ]
  },
  {
   "cell_type": "markdown",
   "metadata": {},
   "source": [
    "\n",
    "So it looks more normally distributed on a log scale so lets add it to the dataframe"
   ]
  },
  {
   "cell_type": "code",
   "execution_count": 908,
   "metadata": {},
   "outputs": [
    {
     "name": "stderr",
     "output_type": "stream",
     "text": [
      "/Users/d/anaconda3/lib/python3.6/site-packages/pandas/core/series.py:679: RuntimeWarning: divide by zero encountered in log\n",
      "  result = getattr(ufunc, method)(*inputs, **kwargs)\n",
      "/Users/d/anaconda3/lib/python3.6/site-packages/ipykernel_launcher.py:1: SettingWithCopyWarning: \n",
      "A value is trying to be set on a copy of a slice from a DataFrame.\n",
      "Try using .loc[row_indexer,col_indexer] = value instead\n",
      "\n",
      "See the caveats in the documentation: https://pandas.pydata.org/pandas-docs/stable/user_guide/indexing.html#returning-a-view-versus-a-copy\n",
      "  \"\"\"Entry point for launching an IPython kernel.\n"
     ]
    }
   ],
   "source": [
    "modeling_db['ln_landval'] = np.log(modeling_db['landval'])\n"
   ]
  },
  {
   "cell_type": "markdown",
   "metadata": {},
   "source": [
    "Lets see how correlated the values are before we try and regress them."
   ]
  },
  {
   "cell_type": "code",
   "execution_count": 909,
   "metadata": {},
   "outputs": [
    {
     "data": {
      "text/html": [
       "<div>\n",
       "<style scoped>\n",
       "    .dataframe tbody tr th:only-of-type {\n",
       "        vertical-align: middle;\n",
       "    }\n",
       "\n",
       "    .dataframe tbody tr th {\n",
       "        vertical-align: top;\n",
       "    }\n",
       "\n",
       "    .dataframe thead th {\n",
       "        text-align: right;\n",
       "    }\n",
       "</style>\n",
       "<table border=\"1\" class=\"dataframe\">\n",
       "  <thead>\n",
       "    <tr style=\"text-align: right;\">\n",
       "      <th></th>\n",
       "      <th>landval</th>\n",
       "      <th>ll_gisacre</th>\n",
       "      <th>ag_revenue</th>\n",
       "      <th>water_productivity</th>\n",
       "      <th>min_avail_water</th>\n",
       "      <th>min_water_rev</th>\n",
       "      <th>farmlndcl_bin</th>\n",
       "      <th>castorieindex</th>\n",
       "      <th>building_size</th>\n",
       "      <th>irrcapcl</th>\n",
       "      <th>nirrcapcl</th>\n",
       "      <th>TotalWater</th>\n",
       "      <th>ln_landval</th>\n",
       "    </tr>\n",
       "  </thead>\n",
       "  <tbody>\n",
       "    <tr>\n",
       "      <th>landval</th>\n",
       "      <td>1.000000</td>\n",
       "      <td>0.655826</td>\n",
       "      <td>0.581190</td>\n",
       "      <td>0.569342</td>\n",
       "      <td>0.635778</td>\n",
       "      <td>0.500274</td>\n",
       "      <td>-0.047516</td>\n",
       "      <td>-0.128649</td>\n",
       "      <td>0.062181</td>\n",
       "      <td>0.038993</td>\n",
       "      <td>0.104804</td>\n",
       "      <td>0.098309</td>\n",
       "      <td>0.656717</td>\n",
       "    </tr>\n",
       "    <tr>\n",
       "      <th>ll_gisacre</th>\n",
       "      <td>0.655826</td>\n",
       "      <td>1.000000</td>\n",
       "      <td>0.873888</td>\n",
       "      <td>0.852285</td>\n",
       "      <td>0.971140</td>\n",
       "      <td>0.805088</td>\n",
       "      <td>-0.029950</td>\n",
       "      <td>-0.249568</td>\n",
       "      <td>-0.047112</td>\n",
       "      <td>0.009352</td>\n",
       "      <td>0.331779</td>\n",
       "      <td>0.140758</td>\n",
       "      <td>0.511661</td>\n",
       "    </tr>\n",
       "    <tr>\n",
       "      <th>ag_revenue</th>\n",
       "      <td>0.581190</td>\n",
       "      <td>0.873888</td>\n",
       "      <td>1.000000</td>\n",
       "      <td>0.977357</td>\n",
       "      <td>0.813662</td>\n",
       "      <td>0.882886</td>\n",
       "      <td>-0.038143</td>\n",
       "      <td>-0.192389</td>\n",
       "      <td>-0.044018</td>\n",
       "      <td>0.017781</td>\n",
       "      <td>0.316582</td>\n",
       "      <td>0.073612</td>\n",
       "      <td>0.461885</td>\n",
       "    </tr>\n",
       "    <tr>\n",
       "      <th>water_productivity</th>\n",
       "      <td>0.569342</td>\n",
       "      <td>0.852285</td>\n",
       "      <td>0.977357</td>\n",
       "      <td>1.000000</td>\n",
       "      <td>0.751444</td>\n",
       "      <td>0.868372</td>\n",
       "      <td>-0.041220</td>\n",
       "      <td>-0.177416</td>\n",
       "      <td>-0.042350</td>\n",
       "      <td>0.025478</td>\n",
       "      <td>0.280856</td>\n",
       "      <td>-0.028097</td>\n",
       "      <td>0.458116</td>\n",
       "    </tr>\n",
       "    <tr>\n",
       "      <th>min_avail_water</th>\n",
       "      <td>0.635778</td>\n",
       "      <td>0.971140</td>\n",
       "      <td>0.813662</td>\n",
       "      <td>0.751444</td>\n",
       "      <td>1.000000</td>\n",
       "      <td>0.748113</td>\n",
       "      <td>-0.025292</td>\n",
       "      <td>-0.254363</td>\n",
       "      <td>-0.045147</td>\n",
       "      <td>0.000743</td>\n",
       "      <td>0.334876</td>\n",
       "      <td>0.252025</td>\n",
       "      <td>0.488698</td>\n",
       "    </tr>\n",
       "    <tr>\n",
       "      <th>min_water_rev</th>\n",
       "      <td>0.500274</td>\n",
       "      <td>0.805088</td>\n",
       "      <td>0.882886</td>\n",
       "      <td>0.868372</td>\n",
       "      <td>0.748113</td>\n",
       "      <td>1.000000</td>\n",
       "      <td>-0.048218</td>\n",
       "      <td>-0.163276</td>\n",
       "      <td>-0.024235</td>\n",
       "      <td>0.027368</td>\n",
       "      <td>0.226490</td>\n",
       "      <td>0.048432</td>\n",
       "      <td>0.286326</td>\n",
       "    </tr>\n",
       "    <tr>\n",
       "      <th>farmlndcl_bin</th>\n",
       "      <td>-0.047516</td>\n",
       "      <td>-0.029950</td>\n",
       "      <td>-0.038143</td>\n",
       "      <td>-0.041220</td>\n",
       "      <td>-0.025292</td>\n",
       "      <td>-0.048218</td>\n",
       "      <td>1.000000</td>\n",
       "      <td>0.500954</td>\n",
       "      <td>0.021287</td>\n",
       "      <td>-0.453496</td>\n",
       "      <td>-0.099462</td>\n",
       "      <td>-0.027262</td>\n",
       "      <td>-0.001500</td>\n",
       "    </tr>\n",
       "    <tr>\n",
       "      <th>castorieindex</th>\n",
       "      <td>-0.128649</td>\n",
       "      <td>-0.249568</td>\n",
       "      <td>-0.192389</td>\n",
       "      <td>-0.177416</td>\n",
       "      <td>-0.254363</td>\n",
       "      <td>-0.163276</td>\n",
       "      <td>0.500954</td>\n",
       "      <td>1.000000</td>\n",
       "      <td>0.039887</td>\n",
       "      <td>-0.494306</td>\n",
       "      <td>-0.476787</td>\n",
       "      <td>-0.226888</td>\n",
       "      <td>-0.062652</td>\n",
       "    </tr>\n",
       "    <tr>\n",
       "      <th>building_size</th>\n",
       "      <td>0.062181</td>\n",
       "      <td>-0.047112</td>\n",
       "      <td>-0.044018</td>\n",
       "      <td>-0.042350</td>\n",
       "      <td>-0.045147</td>\n",
       "      <td>-0.024235</td>\n",
       "      <td>0.021287</td>\n",
       "      <td>0.039887</td>\n",
       "      <td>1.000000</td>\n",
       "      <td>-0.004890</td>\n",
       "      <td>-0.045280</td>\n",
       "      <td>-0.024965</td>\n",
       "      <td>0.036844</td>\n",
       "    </tr>\n",
       "    <tr>\n",
       "      <th>irrcapcl</th>\n",
       "      <td>0.038993</td>\n",
       "      <td>0.009352</td>\n",
       "      <td>0.017781</td>\n",
       "      <td>0.025478</td>\n",
       "      <td>0.000743</td>\n",
       "      <td>0.027368</td>\n",
       "      <td>-0.453496</td>\n",
       "      <td>-0.494306</td>\n",
       "      <td>-0.004890</td>\n",
       "      <td>1.000000</td>\n",
       "      <td>0.090728</td>\n",
       "      <td>-0.007867</td>\n",
       "      <td>0.001581</td>\n",
       "    </tr>\n",
       "    <tr>\n",
       "      <th>nirrcapcl</th>\n",
       "      <td>0.104804</td>\n",
       "      <td>0.331779</td>\n",
       "      <td>0.316582</td>\n",
       "      <td>0.280856</td>\n",
       "      <td>0.334876</td>\n",
       "      <td>0.226490</td>\n",
       "      <td>-0.099462</td>\n",
       "      <td>-0.476787</td>\n",
       "      <td>-0.045280</td>\n",
       "      <td>0.090728</td>\n",
       "      <td>1.000000</td>\n",
       "      <td>0.250788</td>\n",
       "      <td>0.060518</td>\n",
       "    </tr>\n",
       "    <tr>\n",
       "      <th>TotalWater</th>\n",
       "      <td>0.098309</td>\n",
       "      <td>0.140758</td>\n",
       "      <td>0.073612</td>\n",
       "      <td>-0.028097</td>\n",
       "      <td>0.252025</td>\n",
       "      <td>0.048432</td>\n",
       "      <td>-0.027262</td>\n",
       "      <td>-0.226888</td>\n",
       "      <td>-0.024965</td>\n",
       "      <td>-0.007867</td>\n",
       "      <td>0.250788</td>\n",
       "      <td>1.000000</td>\n",
       "      <td>0.042559</td>\n",
       "    </tr>\n",
       "    <tr>\n",
       "      <th>ln_landval</th>\n",
       "      <td>0.656717</td>\n",
       "      <td>0.511661</td>\n",
       "      <td>0.461885</td>\n",
       "      <td>0.458116</td>\n",
       "      <td>0.488698</td>\n",
       "      <td>0.286326</td>\n",
       "      <td>-0.001500</td>\n",
       "      <td>-0.062652</td>\n",
       "      <td>0.036844</td>\n",
       "      <td>0.001581</td>\n",
       "      <td>0.060518</td>\n",
       "      <td>0.042559</td>\n",
       "      <td>1.000000</td>\n",
       "    </tr>\n",
       "  </tbody>\n",
       "</table>\n",
       "</div>"
      ],
      "text/plain": [
       "                     landval  ll_gisacre  ag_revenue  water_productivity  \\\n",
       "landval             1.000000    0.655826    0.581190            0.569342   \n",
       "ll_gisacre          0.655826    1.000000    0.873888            0.852285   \n",
       "ag_revenue          0.581190    0.873888    1.000000            0.977357   \n",
       "water_productivity  0.569342    0.852285    0.977357            1.000000   \n",
       "min_avail_water     0.635778    0.971140    0.813662            0.751444   \n",
       "min_water_rev       0.500274    0.805088    0.882886            0.868372   \n",
       "farmlndcl_bin      -0.047516   -0.029950   -0.038143           -0.041220   \n",
       "castorieindex      -0.128649   -0.249568   -0.192389           -0.177416   \n",
       "building_size       0.062181   -0.047112   -0.044018           -0.042350   \n",
       "irrcapcl            0.038993    0.009352    0.017781            0.025478   \n",
       "nirrcapcl           0.104804    0.331779    0.316582            0.280856   \n",
       "TotalWater          0.098309    0.140758    0.073612           -0.028097   \n",
       "ln_landval          0.656717    0.511661    0.461885            0.458116   \n",
       "\n",
       "                    min_avail_water  min_water_rev  farmlndcl_bin  \\\n",
       "landval                    0.635778       0.500274      -0.047516   \n",
       "ll_gisacre                 0.971140       0.805088      -0.029950   \n",
       "ag_revenue                 0.813662       0.882886      -0.038143   \n",
       "water_productivity         0.751444       0.868372      -0.041220   \n",
       "min_avail_water            1.000000       0.748113      -0.025292   \n",
       "min_water_rev              0.748113       1.000000      -0.048218   \n",
       "farmlndcl_bin             -0.025292      -0.048218       1.000000   \n",
       "castorieindex             -0.254363      -0.163276       0.500954   \n",
       "building_size             -0.045147      -0.024235       0.021287   \n",
       "irrcapcl                   0.000743       0.027368      -0.453496   \n",
       "nirrcapcl                  0.334876       0.226490      -0.099462   \n",
       "TotalWater                 0.252025       0.048432      -0.027262   \n",
       "ln_landval                 0.488698       0.286326      -0.001500   \n",
       "\n",
       "                    castorieindex  building_size  irrcapcl  nirrcapcl  \\\n",
       "landval                 -0.128649       0.062181  0.038993   0.104804   \n",
       "ll_gisacre              -0.249568      -0.047112  0.009352   0.331779   \n",
       "ag_revenue              -0.192389      -0.044018  0.017781   0.316582   \n",
       "water_productivity      -0.177416      -0.042350  0.025478   0.280856   \n",
       "min_avail_water         -0.254363      -0.045147  0.000743   0.334876   \n",
       "min_water_rev           -0.163276      -0.024235  0.027368   0.226490   \n",
       "farmlndcl_bin            0.500954       0.021287 -0.453496  -0.099462   \n",
       "castorieindex            1.000000       0.039887 -0.494306  -0.476787   \n",
       "building_size            0.039887       1.000000 -0.004890  -0.045280   \n",
       "irrcapcl                -0.494306      -0.004890  1.000000   0.090728   \n",
       "nirrcapcl               -0.476787      -0.045280  0.090728   1.000000   \n",
       "TotalWater              -0.226888      -0.024965 -0.007867   0.250788   \n",
       "ln_landval              -0.062652       0.036844  0.001581   0.060518   \n",
       "\n",
       "                    TotalWater  ln_landval  \n",
       "landval               0.098309    0.656717  \n",
       "ll_gisacre            0.140758    0.511661  \n",
       "ag_revenue            0.073612    0.461885  \n",
       "water_productivity   -0.028097    0.458116  \n",
       "min_avail_water       0.252025    0.488698  \n",
       "min_water_rev         0.048432    0.286326  \n",
       "farmlndcl_bin        -0.027262   -0.001500  \n",
       "castorieindex        -0.226888   -0.062652  \n",
       "building_size        -0.024965    0.036844  \n",
       "irrcapcl             -0.007867    0.001581  \n",
       "nirrcapcl             0.250788    0.060518  \n",
       "TotalWater            1.000000    0.042559  \n",
       "ln_landval            0.042559    1.000000  "
      ]
     },
     "execution_count": 909,
     "metadata": {},
     "output_type": "execute_result"
    }
   ],
   "source": [
    "modeling_db.corr()"
   ]
  },
  {
   "cell_type": "markdown",
   "metadata": {},
   "source": [
    "So no correlations that would suggest we shouldnt be using these variables. Next up is to try a simple, flawed model to wrap our heads around the results. We can go back and look at feature engineering and comparing log transformations"
   ]
  },
  {
   "cell_type": "code",
   "execution_count": 910,
   "metadata": {
    "collapsed": true
   },
   "outputs": [],
   "source": [
    "# for the purposes of this first run we arent going to interpolate nan values, just drop them all \n",
    "\n",
    "modeling_db =modeling_db[~modeling_db.isin([np.nan, np.inf, -np.inf]).any(1)]"
   ]
  },
  {
   "cell_type": "markdown",
   "metadata": {},
   "source": [
    "Now we are going to run a quick regression with equation:\n",
    "\n",
    "landvalue (log of) = agricultural revenue (acreage X crop revenue per acre) + minimum water access+ minimum water revenue (min water access X water_productivity) + nirrcapcl + irracapcl + TotalWater + building size"
   ]
  },
  {
   "cell_type": "code",
   "execution_count": 941,
   "metadata": {},
   "outputs": [],
   "source": [
    "y = modeling_db['landval']\n",
    "y_ln = modeling_db['ln_landval']\n",
    "\n",
    "#total building space subtracted from land \n",
    "modeling_db['less_building'] = modeling_db['ll_gisacre'] - modeling_db['building_size']\n",
    "\n",
    "\n",
    "X = modeling_db[['ll_gisacre','ag_revenue', 'min_avail_water', 'water_productivity', 'min_water_rev', 'nirrcapcl', 'irrcapcl', 'TotalWater', 'building_size']]\n",
    "\n"
   ]
  },
  {
   "cell_type": "code",
   "execution_count": 942,
   "metadata": {
    "collapsed": true
   },
   "outputs": [],
   "source": [
    "X_train, X_test, y_train, y_test = train_test_split(X, y_ln, test_size=0.2, random_state=1)\n",
    "#X_train, X_test, y_train, y_test = train_test_split(X, y, test_size=0.2, random_state=1)\n",
    "\n"
   ]
  },
  {
   "cell_type": "code",
   "execution_count": 943,
   "metadata": {
    "collapsed": true
   },
   "outputs": [],
   "source": [
    "scaler = StandardScaler()\n",
    "X_train = pd.DataFrame(scaler.fit_transform(X_train), columns=X_train.columns)\n",
    "X_test = pd.DataFrame(scaler.transform(X_test), columns=X_test.columns)\n",
    "\n",
    "#scaler2 = StandardScaler()\n",
    "#X_train = pd.DataFrame(scaler2.fit_transform(X_train), columns=X_train.columns)\n",
    "#X_test = pd.DataFrame(scaler2.transform(X_test), columns=X_test.columns)"
   ]
  },
  {
   "cell_type": "code",
   "execution_count": 944,
   "metadata": {
    "scrolled": true
   },
   "outputs": [
    {
     "name": "stdout",
     "output_type": "stream",
     "text": [
      "\n",
      "================ SUMMARY TABLE WITH P-VALUES for Log Transformed Target Variable =================\n",
      "R-squared: 0.2849173678801201\n",
      "Intercept: 11.41649743874076\n",
      "Coefficients: [ 6.19069121e-01 -1.15875201e-01  3.12431564e-02  2.33060454e-01\n",
      " -1.59890719e-01  2.63089324e-04  1.54710052e-02  8.04443457e-02]\n",
      "\n",
      "\n"
     ]
    },
    {
     "ename": "AttributeError",
     "evalue": "module 'scipy.stats' has no attribute 'summary'",
     "output_type": "error",
     "traceback": [
      "\u001b[0;31m---------------------------------------------------------------------------\u001b[0m",
      "\u001b[0;31mAttributeError\u001b[0m                            Traceback (most recent call last)",
      "\u001b[0;32m<ipython-input-944-e57adef60aa0>\u001b[0m in \u001b[0;36m<module>\u001b[0;34m()\u001b[0m\n\u001b[1;32m      7\u001b[0m \u001b[0mprint\u001b[0m\u001b[0;34m(\u001b[0m\u001b[0;34m'\\n'\u001b[0m\u001b[0;34m)\u001b[0m\u001b[0;34m\u001b[0m\u001b[0m\n\u001b[1;32m      8\u001b[0m \u001b[0mxlabels\u001b[0m \u001b[0;34m=\u001b[0m \u001b[0mX\u001b[0m\u001b[0;34m.\u001b[0m\u001b[0mcolumns\u001b[0m\u001b[0;34m\u001b[0m\u001b[0m\n\u001b[0;32m----> 9\u001b[0;31m \u001b[0mstats\u001b[0m\u001b[0;34m.\u001b[0m\u001b[0msummary\u001b[0m\u001b[0;34m(\u001b[0m\u001b[0mols\u001b[0m\u001b[0;34m,\u001b[0m \u001b[0mX\u001b[0m\u001b[0;34m,\u001b[0m \u001b[0my_ln\u001b[0m\u001b[0;34m,\u001b[0m \u001b[0mxlabels\u001b[0m\u001b[0;34m)\u001b[0m\u001b[0;34m\u001b[0m\u001b[0m\n\u001b[0m",
      "\u001b[0;31mAttributeError\u001b[0m: module 'scipy.stats' has no attribute 'summary'"
     ]
    }
   ],
   "source": [
    "ols = LinearRegression()\n",
    "ols.fit(X_train, y_train)\n",
    "print(\"\\n================ SUMMARY TABLE WITH P-VALUES for Log Transformed Target Variable =================\")\n",
    "print(\"R-squared:\", ols.score(X_train, y_train))\n",
    "print(\"Intercept:\", ols.intercept_)\n",
    "print(\"Coefficients:\", ols.coef_)\n",
    "print('\\n')\n",
    "xlabels = X.columns\n",
    "stats.summary(ols, X, y_ln, xlabels)"
   ]
  },
  {
   "cell_type": "code",
   "execution_count": 931,
   "metadata": {
    "collapsed": true
   },
   "outputs": [],
   "source": [
    "\n",
    "# Collect the coefficients\n",
    "df_ols_coef = pd.DataFrame(ols.coef_, index=X_train.columns, columns=['Coefficients'])\n",
    "df_ols_coef['Coef_abs'] = df_ols_coef.Coefficients.abs()"
   ]
  },
  {
   "cell_type": "code",
   "execution_count": 932,
   "metadata": {
    "collapsed": true
   },
   "outputs": [],
   "source": [
    "predictions_train = ols.predict(X_train)\n",
    "predictions_test = ols.predict(X_test)"
   ]
  },
  {
   "cell_type": "code",
   "execution_count": 933,
   "metadata": {},
   "outputs": [
    {
     "name": "stdout",
     "output_type": "stream",
     "text": [
      "Training Score: 0.3852365024013199\n",
      "Cross validation scores: [0.37998728 0.36995059 0.41618436 0.36218624 0.37937581]\n",
      "Mean cross validation score: 0.3815368570547183\n",
      "Test Score: 0.36021092503851304\n"
     ]
    }
   ],
   "source": [
    "# Perform 5-fold cross-validation on the training set\n",
    "cv_scores = cross_val_score(ols, X_train, y_train, cv=5)\n",
    "\n",
    "print('Training Score:', ols.score(X_train, y_train))\n",
    "print('Cross validation scores:', cv_scores)\n",
    "print('Mean cross validation score:', cv_scores.mean())\n",
    "print('Test Score:', ols.score(X_test, y_test))"
   ]
  },
  {
   "cell_type": "code",
   "execution_count": 934,
   "metadata": {},
   "outputs": [
    {
     "name": "stdout",
     "output_type": "stream",
     "text": [
      "Shuffled cross validation score: [0.37553739 0.3885377  0.36216949 0.34917776 0.4251093 ]\n",
      "Mean shuffled cross validation score: 0.3801063275884587\n"
     ]
    }
   ],
   "source": [
    "# Shuffled 5-fold cross validation scores are rather similar\n",
    "kf = KFold(n_splits=5, shuffle=True, random_state=1)\n",
    "cv_scores_shuffled = cross_val_score(ols, X_train, y_train, cv=kf)\n",
    "\n",
    "print('Shuffled cross validation score:', cv_scores_shuffled)\n",
    "print('Mean shuffled cross validation score:', cv_scores_shuffled.mean())"
   ]
  },
  {
   "cell_type": "code",
   "execution_count": 935,
   "metadata": {},
   "outputs": [
    {
     "name": "stdout",
     "output_type": "stream",
     "text": [
      "Mean Squared Error: 1.3235583295016111\n",
      "Root Mean Squared Error: 1.1504600512410725\n"
     ]
    }
   ],
   "source": [
    "print('Mean Squared Error:', metrics.mean_squared_error(y_test, predictions_test)) \n",
    "print('Root Mean Squared Error:', (metrics.mean_squared_error(y_test, predictions_test))**0.5)"
   ]
  },
  {
   "cell_type": "code",
   "execution_count": 936,
   "metadata": {},
   "outputs": [
    {
     "data": {
      "text/plain": [
       "count    7.270000e+03\n",
       "mean    -1.651743e-16\n",
       "std      1.050648e+00\n",
       "min     -7.325309e+00\n",
       "25%     -3.338290e-01\n",
       "50%      1.442055e-01\n",
       "75%      5.407288e-01\n",
       "max      6.273116e+00\n",
       "Name: ln_landval, dtype: float64"
      ]
     },
     "execution_count": 936,
     "metadata": {},
     "output_type": "execute_result"
    }
   ],
   "source": [
    "ols_residuals = (y_train - predictions_train)\n",
    "ols_residuals.describe()"
   ]
  },
  {
   "cell_type": "code",
   "execution_count": 938,
   "metadata": {},
   "outputs": [
    {
     "name": "stdout",
     "output_type": "stream",
     "text": [
      "Skew: -1.2040206446625938\n",
      "Kurtosis: 3.1857693195854058\n",
      "Shapiro-Wilk test on normality=0.927, p=0.000\n"
     ]
    }
   ],
   "source": [
    "print(\"Skew:\", ols_residuals_0609.skew())\n",
    "print(\"Kurtosis:\", ols_residuals_0609.kurtosis())\n",
    "stat, p = shapiro(ols_residuals_0609)\n",
    "print('Shapiro-Wilk test on normality=%.3f, p=%.3f' % (stat, p))"
   ]
  },
  {
   "cell_type": "code",
   "execution_count": 939,
   "metadata": {},
   "outputs": [
    {
     "data": {
      "image/png": "[encoded data removed]",
      "text/plain": [
       "<matplotlib.figure.Figure at 0x1add4cfd0>"
      ]
     },
     "metadata": {},
     "output_type": "display_data"
    }
   ],
   "source": [
    "stats.probplot(ols_residuals_0609, dist=\"norm\", plot=plt)\n",
    "plt.title(\"Quantile-Quantile Plot training set\");"
   ]
  },
  {
   "cell_type": "code",
   "execution_count": 940,
   "metadata": {},
   "outputs": [
    {
     "name": "stdout",
     "output_type": "stream",
     "text": [
      "      ll_gisacre  ag_revenue  min_avail_water  water_productivity  \\\n",
      "0      -0.309028   -0.252008        -0.347341           -0.190383   \n",
      "1       3.618236    3.794736         2.403080            4.916076   \n",
      "2      -0.317782   -0.261028        -0.353471           -0.201764   \n",
      "3      -0.444030   -0.391117        -0.441888           -0.365920   \n",
      "4      -0.059991    0.004606        -0.172930            0.133431   \n",
      "...          ...         ...              ...                 ...   \n",
      "7265    0.499177    0.580786         0.218678            0.860493   \n",
      "7266   -0.482325   -0.497388        -0.415758           -0.513084   \n",
      "7267   -0.485721   -0.434076        -0.471086           -0.420128   \n",
      "7268   -0.550814   -0.500089        -0.509500           -0.512382   \n",
      "7269   -0.537706   -0.487643        -0.507493           -0.487723   \n",
      "\n",
      "      min_water_rev  nirrcapcl  irrcapcl  TotalWater  less_building  \n",
      "0         -0.185558  -0.461628  0.652677   -0.882866      -0.434582  \n",
      "1          2.854591   2.425696 -0.914869   -0.882866       0.282975  \n",
      "2         -0.186336  -0.461628  2.220223   -0.882866       0.226476  \n",
      "3         -0.194590  -0.461628  0.652677   -0.882866      -0.560446  \n",
      "4         -0.152245  -0.461628 -0.914869   -0.882866       0.024252  \n",
      "...             ...        ...       ...         ...            ...  \n",
      "7265       0.001227  -0.461628  2.220223   -0.882866       0.238203  \n",
      "7266      -0.196972   1.463255 -0.914869    2.120708       0.224114  \n",
      "7267      -0.196097  -0.461628  0.652677   -0.882866       0.025933  \n",
      "7268      -0.197237  -0.461628 -0.914869    1.083112      -0.154212  \n",
      "7269      -0.197128  -0.461628 -0.914869   -0.882866      -0.309301  \n",
      "\n",
      "[7270 rows x 9 columns]\n"
     ]
    }
   ],
   "source": [
    "print(X_train)"
   ]
  },
  {
   "cell_type": "code",
   "execution_count": 735,
   "metadata": {},
   "outputs": [
    {
     "data": {
      "image/png": "[encoded data removed]",
      "text/plain": [
       "<matplotlib.figure.Figure at 0x11d4e8c88>"
      ]
     },
     "metadata": {},
     "output_type": "display_data"
    }
   ],
   "source": [
    "\n",
    "# Plotting the OLS residuals against the predicted-y and 'min_avail_water'. The residuals appear well-behaved\n",
    "fig, ax = plt.subplots(ncols=2, figsize=(15, 5))\n",
    "ax[0].scatter(ols_residuals_0609, predictions_train)\n",
    "ax[0].set_title('Residuals vs Predicted Target', fontsize=12)\n",
    "\n",
    "ax[1].scatter(ols_residuals_0609, X_train.min_avail_water)\n",
    "ax[1].set_title('Residuals vs Minimum Available Water', fontsize=12);"
   ]
  },
  {
   "cell_type": "code",
   "execution_count": 736,
   "metadata": {},
   "outputs": [
    {
     "name": "stdout",
     "output_type": "stream",
     "text": [
      "Best Ridge alpha: 2.782559402207126\n",
      "Training score: 0.41127066025668224\n",
      "Test Score: 0.38881805376648815\n"
     ]
    }
   ],
   "source": [
    "# Ridge Cross-Validation\n",
    "ridge_mod = RidgeCV(alphas=np.logspace(-4, 4, 10), cv=5)\n",
    "ridge_mod.fit(X_train, y_train)\n",
    "\n",
    "print('Best Ridge alpha:', ridge_mod.alpha_)\n",
    "print('Training score:', ridge_mod.score(X_train, y_train))\n",
    "print(\"Test Score:\", ridge_mod.score(X_test, y_test))"
   ]
  },
  {
   "cell_type": "code",
   "execution_count": 738,
   "metadata": {
    "collapsed": true
   },
   "outputs": [],
   "source": [
    "df_ridge_coef = pd.DataFrame(ridge_mod.coef_, index=X_train.columns,\n",
    "                       columns=['Coefficients'])\n",
    "df_ridge_coef['Coef_abs'] = df_ridge_coef.Coefficients.abs()"
   ]
  },
  {
   "cell_type": "code",
   "execution_count": 739,
   "metadata": {},
   "outputs": [
    {
     "name": "stdout",
     "output_type": "stream",
     "text": [
      "Cross-validated training scores: [0.39843501 0.40126575 0.39400132 0.42401099 0.42191455]\n",
      "Mean cross-validated training score: 0.40792552621091255\n",
      "Training Score: 0.4112706758357707\n",
      "Test Score: 0.3888182806896905\n"
     ]
    }
   ],
   "source": [
    "# Confirmed similar to the above Ridge CV scores\n",
    "ridge_mod = Ridge(alpha=2.78)\n",
    "\n",
    "scores = cross_val_score(ridge_mod, X_train, y_train, cv=5)\n",
    "print(\"Cross-validated training scores:\", scores)\n",
    "print(\"Mean cross-validated training score:\", scores.mean())\n",
    "\n",
    "ridge_mod.fit(X_train, y_train)\n",
    "print(\"Training Score:\", ridge_mod.score(X_train, y_train))\n",
    "print(\"Test Score:\", ridge_mod.score(X_test, y_test))"
   ]
  },
  {
   "cell_type": "code",
   "execution_count": 740,
   "metadata": {},
   "outputs": [
    {
     "name": "stdout",
     "output_type": "stream",
     "text": [
      "Best Lasso alpha: 0.005994842503189409\n",
      "Training score: 0.41094392012938663\n",
      "Test Score: 0.38775763106522676\n"
     ]
    }
   ],
   "source": [
    "lasso_mod = LassoCV(alphas=np.logspace(-4, 4, 10), cv=5)\n",
    "lasso_mod.fit(X_train, y_train)\n",
    "\n",
    "print('Best Lasso alpha:', lasso_mod.alpha_)\n",
    "print('Training score:', lasso_mod.score(X_train, y_train))\n",
    "print(\"Test Score:\", lasso_mod.score(X_test, y_test))"
   ]
  },
  {
   "cell_type": "code",
   "execution_count": 719,
   "metadata": {
    "collapsed": true
   },
   "outputs": [],
   "source": [
    "df_lasso_coef = pd.DataFrame(lasso_mod.coef_, index=X_train.columns,\n",
    "                       columns=['Coefficients'])\n",
    "df_lasso_coef['Coef_abs'] = df_lasso_coef.Coefficients.abs()"
   ]
  },
  {
   "cell_type": "code",
   "execution_count": 537,
   "metadata": {
    "collapsed": true
   },
   "outputs": [],
   "source": [
    "coef = pd.concat([df_ols_coef['Coefficients'], df_ridge_coef['Coefficients'], df_lasso_coef['Coefficients']])\n",
    "coef = pd.DataFrame(coef)\n",
    "coef.reset_index(level=0, inplace=True)\n",
    "coef.columns = ['variable', 'coefficient']\n"
   ]
  },
  {
   "cell_type": "code",
   "execution_count": 538,
   "metadata": {
    "collapsed": true
   },
   "outputs": [],
   "source": [
    "coef.loc[0:2, \"model\"] = \"ols\"\n",
    "coef.loc[3:5, \"model\"] = \"ridge\"\n",
    "coef.loc[6:9, \"model\"] = \"lasso\""
   ]
  },
  {
   "cell_type": "code",
   "execution_count": null,
   "metadata": {
    "collapsed": true
   },
   "outputs": [],
   "source": []
  }
 ],
 "metadata": {
  "kernelspec": {
   "display_name": "Python 3",
   "language": "python",
   "name": "python3"
  },
  "language_info": {
   "codemirror_mode": {
    "name": "ipython",
    "version": 3
   },
   "file_extension": ".py",
   "mimetype": "text/x-python",
   "name": "python",
   "nbconvert_exporter": "python",
   "pygments_lexer": "ipython3",
   "version": "3.6.1"
  }
 },
 "nbformat": 4,
 "nbformat_minor": 2
}
