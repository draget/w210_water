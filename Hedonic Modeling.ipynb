{
 "cells": [
  {
   "cell_type": "code",
   "execution_count": 217,
   "metadata": {},
   "outputs": [],
   "source": [
    "import numpy as np\n",
    "from scipy import interpolate\n",
    "import scipy.stats as stats\n",
    "import matplotlib.pyplot as plt\n",
    "import pandas as pd\n",
    "import numpy as np\n",
    "from bs4 import BeautifulSoup\n",
    "from requests import get\n",
    "import json\n",
    "from collections import Counter\n",
    "import re\n",
    "import os\n",
    "from dateutil.parser import parse\n",
    "import operator\n",
    "from uuid import uuid4\n",
    "import sys\n",
    "import geopandas\n",
    "import shapefile\n",
    "import probscale\n",
    "\n",
    "from regressors import stats"
   ]
  },
  {
   "cell_type": "code",
   "execution_count": 66,
   "metadata": {
    "collapsed": true
   },
   "outputs": [],
   "source": [
    "from sklearn import metrics, linear_model\n",
    "from sklearn.model_selection import KFold, train_test_split, cross_val_score\n",
    "from sklearn.preprocessing import StandardScaler\n",
    "from sklearn.linear_model import LinearRegression, Ridge, Lasso, RidgeCV, LassoCV\n",
    "from statsmodels.graphics.gofplots import qqplot\n",
    "from scipy import stats\n",
    "from scipy.stats import shapiro"
   ]
  },
  {
   "cell_type": "code",
   "execution_count": null,
   "metadata": {},
   "outputs": [],
   "source": []
  },
  {
   "cell_type": "code",
   "execution_count": 307,
   "metadata": {},
   "outputs": [
    {
     "name": "stderr",
     "output_type": "stream",
     "text": [
      "/Users/d/anaconda3/lib/python3.6/site-packages/IPython/core/interactiveshell.py:2717: DtypeWarning: Columns (42,46,50,51,57,93,103) have mixed types.Specify dtype option on import or set low_memory=False.\n",
      "  interactivity=interactivity, compiler=compiler, result=result)\n"
     ]
    }
   ],
   "source": [
    "#load in data\n",
    "landdata_location = 'data/joined_drage_16_3.csv'\n",
    "cropdata_location = 'data/cacropyielddata.csv'\n",
    "soildata_location1 = 'data/soil_data_east.csv'\n",
    "\n",
    "ld = pd.read_csv(landdata_location)\n"
   ]
  },
  {
   "cell_type": "code",
   "execution_count": 224,
   "metadata": {},
   "outputs": [
    {
     "name": "stdout",
     "output_type": "stream",
     "text": [
      "0 geoid : 384692\n",
      "1 sourceagen : 0\n",
      "2 parcelnumb : 384560\n",
      "3 usecode : 363097\n",
      "4 usedesc : 0\n",
      "5 zoning : 0\n",
      "6 zoning_des : 0\n",
      "7 struct : 0\n",
      "8 multistruc : 0\n",
      "9 structno : 0\n",
      "10 yearbuilt : 0\n",
      "11 numstories : 0\n",
      "12 numunits : 0\n",
      "13 structstyl : 0\n",
      "14 parvaltype : 0\n",
      "15 improvval : 363080\n",
      "16 landval : 363080\n",
      "17 parval : 363080\n",
      "18 agval : 0\n",
      "19 saleprice : 0\n",
      "20 saledate : 0\n",
      "21 taxamt : 0\n",
      "22 owntype : 0\n",
      "23 owner : 369485\n",
      "24 ownfrst : 0\n",
      "25 ownlast : 0\n",
      "26 owner2 : 74581\n",
      "27 owner3 : 0\n",
      "28 owner4 : 0\n",
      "29 subsurfown : 0\n",
      "30 subowntype : 0\n",
      "31 mailadd : 363112\n",
      "32 mail_addre : 0\n",
      "33 careof : 0\n",
      "34 mail_addno : 0\n",
      "35 mail_addpr : 0\n",
      "36 mail_addst : 0\n",
      "37 mail_add_1 : 0\n",
      "38 mail_add_2 : 0\n",
      "39 mail_unit : 0\n",
      "40 mail_city : 355923\n",
      "41 mail_state : 357165\n",
      "42 mail_zip : 357168\n",
      "43 mail_urban : 0\n",
      "44 address : 359309\n",
      "45 address2 : 0\n",
      "46 saddno : 359309\n",
      "47 saddpref : 282571\n",
      "48 saddstr : 359309\n",
      "49 saddsttyp : 358009\n",
      "50 saddstsuf : 1387\n",
      "51 sunit : 6604\n",
      "52 scity : 359309\n",
      "53 original_a : 359217\n",
      "54 city : 384692\n",
      "55 county : 384692\n",
      "56 state2 : 384692\n",
      "57 szip : 383645\n",
      "58 urbanizati : 0\n",
      "59 location_n : 0\n",
      "60 address_so : 384692\n",
      "61 legaldesc : 356005\n",
      "62 plat : 0\n",
      "63 book : 0\n",
      "64 page : 0\n",
      "65 block : 0\n",
      "66 lot : 0\n",
      "67 neighborho : 0\n",
      "68 subdivisio : 0\n",
      "69 census_tra : 0\n",
      "70 census_blo : 0\n",
      "71 census_b_1 : 0\n",
      "72 sourceref : 0\n",
      "73 sourcedate : 0\n",
      "74 sourceurl : 0\n",
      "75 recrdareat : 0\n",
      "76 recrdarean : 0\n",
      "77 gisacre : 0\n",
      "78 sqft : 0\n",
      "79 reviseddat : 0\n",
      "80 path : 384692\n",
      "81 ll_stable_ : 0\n",
      "82 ll_uuid : 384692\n",
      "83 ll_updated : 384692\n",
      "84 lbcs_activ : 0\n",
      "85 lbcs_funct : 0\n",
      "86 lbcs_struc : 0\n",
      "87 lbcs_site : 0\n",
      "88 lbcs_owner : 0\n",
      "89 homeowner_ : 363080\n",
      "90 lot_area : 363112\n",
      "91 pers_prop_ : 363080\n",
      "92 tax_area_c : 369453\n",
      "93 contract_n : 14078\n",
      "94 contract_y : 14078\n",
      "95 non_renewa : 273\n",
      "96 use_high_b : 363097\n",
      "97 use_second : 363097\n",
      "98 qoz : 384692\n",
      "99 qoz_tract : 87014\n",
      "100 ll_gisacre : 384692\n",
      "101 ll_gissqft : 0\n",
      "102 OBJECTID_1 : 384692\n",
      "103 DWR_revise : 3467\n",
      "104 Symb_class : 384692\n",
      "105 MULTIUSE : 384692\n",
      "106 CLASS1 : 384692\n",
      "107 SUBCLASS1 : 384692\n",
      "108 SPECOND1 : 384692\n",
      "109 IRR_TYP1PA : 384692\n",
      "110 IRR_TYP1PB : 384692\n",
      "111 PCNT1 : 384692\n",
      "112 CLASS2 : 384692\n",
      "113 SUBCLASS2 : 384692\n",
      "114 SPECOND2 : 384692\n",
      "115 IRR_TYP2PA : 384692\n",
      "116 IRR_TYP2PB : 384692\n",
      "117 PCNT2 : 384692\n",
      "118 CLASS3 : 384692\n",
      "119 SUBCLASS3 : 384692\n",
      "120 SPECOND3 : 384692\n",
      "121 IRR_TYP3PA : 384692\n",
      "122 IRR_TYP3PB : 384692\n",
      "123 PCNT3 : 384692\n",
      "124 UCF_ATT : 384692\n",
      "125 CROPTYP1 : 384692\n",
      "126 CROPTYP2 : 384692\n",
      "127 CROPTYP3 : 384692\n",
      "128 Region : 384692\n",
      "129 Acres : 384692\n",
      "130 County_1 : 37133\n",
      "131 Comments : 0\n",
      "132 Source : 384692\n",
      "133 Crop2016 : 384692\n",
      "134 Modified_B : 384692\n",
      "135 Date_Data_ : 384692\n",
      "136 Last_Modif : 384692\n",
      "137 GlobalID : 384692\n",
      "138 Shape_Leng : 384692\n",
      "139 Shape_Area : 384692\n"
     ]
    }
   ],
   "source": [
    "#check out which columns have values, drop the columns with no values\n",
    "columns = ld.columns.tolist()\n",
    "\n",
    "i = 0\n",
    "for c in columns:\n",
    "    \n",
    "    nonan = len(ld[c].dropna().tolist())\n",
    "    print(i, c,':',nonan)\n",
    "    i+=1\n",
    "    \n",
    "    if nonan == 0:\n",
    "        #print('Dropped:', c)\n",
    "        ld.drop(c, inplace=True, axis=1)\n",
    "        \n",
    "  "
   ]
  },
  {
   "cell_type": "code",
   "execution_count": 225,
   "metadata": {},
   "outputs": [
    {
     "data": {
      "text/plain": [
       "['geoid',\n",
       " 'parcelnumb',\n",
       " 'usecode',\n",
       " 'improvval',\n",
       " 'landval',\n",
       " 'parval',\n",
       " 'owner',\n",
       " 'owner2',\n",
       " 'mailadd',\n",
       " 'mail_city',\n",
       " 'mail_state',\n",
       " 'mail_zip',\n",
       " 'address',\n",
       " 'saddno',\n",
       " 'saddpref',\n",
       " 'saddstr',\n",
       " 'saddsttyp',\n",
       " 'saddstsuf',\n",
       " 'sunit',\n",
       " 'scity',\n",
       " 'original_a',\n",
       " 'city',\n",
       " 'county',\n",
       " 'state2',\n",
       " 'szip',\n",
       " 'address_so',\n",
       " 'legaldesc',\n",
       " 'path',\n",
       " 'll_uuid',\n",
       " 'll_updated',\n",
       " 'homeowner_',\n",
       " 'lot_area',\n",
       " 'pers_prop_',\n",
       " 'tax_area_c',\n",
       " 'contract_n',\n",
       " 'contract_y',\n",
       " 'non_renewa',\n",
       " 'use_high_b',\n",
       " 'use_second',\n",
       " 'qoz',\n",
       " 'qoz_tract',\n",
       " 'll_gisacre',\n",
       " 'OBJECTID_1',\n",
       " 'DWR_revise',\n",
       " 'Symb_class',\n",
       " 'MULTIUSE',\n",
       " 'CLASS1',\n",
       " 'SUBCLASS1',\n",
       " 'SPECOND1',\n",
       " 'IRR_TYP1PA',\n",
       " 'IRR_TYP1PB',\n",
       " 'PCNT1',\n",
       " 'CLASS2',\n",
       " 'SUBCLASS2',\n",
       " 'SPECOND2',\n",
       " 'IRR_TYP2PA',\n",
       " 'IRR_TYP2PB',\n",
       " 'PCNT2',\n",
       " 'CLASS3',\n",
       " 'SUBCLASS3',\n",
       " 'SPECOND3',\n",
       " 'IRR_TYP3PA',\n",
       " 'IRR_TYP3PB',\n",
       " 'PCNT3',\n",
       " 'UCF_ATT',\n",
       " 'CROPTYP1',\n",
       " 'CROPTYP2',\n",
       " 'CROPTYP3',\n",
       " 'Region',\n",
       " 'Acres',\n",
       " 'County_1',\n",
       " 'Source',\n",
       " 'Crop2016',\n",
       " 'Modified_B',\n",
       " 'Date_Data_',\n",
       " 'Last_Modif',\n",
       " 'GlobalID',\n",
       " 'Shape_Leng',\n",
       " 'Shape_Area']"
      ]
     },
     "execution_count": 225,
     "metadata": {},
     "output_type": "execute_result"
    }
   ],
   "source": [
    "ld.columns.tolist()"
   ]
  },
  {
   "cell_type": "code",
   "execution_count": 226,
   "metadata": {},
   "outputs": [
    {
     "data": {
      "text/plain": [
       "{'Alfalfa and Alfalfa Mixtures',\n",
       " 'Almonds',\n",
       " 'Apples',\n",
       " 'Avocados',\n",
       " 'Beans (Dry)',\n",
       " 'Bush Berries',\n",
       " 'Carrots',\n",
       " 'Cherries',\n",
       " 'Citrus',\n",
       " 'Cole Crops',\n",
       " 'Corn, Sorghum and Sudan',\n",
       " 'Cotton',\n",
       " 'Dates',\n",
       " 'Flowers, Nursery and Christmas Tree Farms',\n",
       " 'Grapes',\n",
       " 'Greenhouse',\n",
       " 'Idle',\n",
       " 'Kiwis',\n",
       " 'Lettuce/Leafy Greens',\n",
       " 'Managed Wetland',\n",
       " 'Melons, Squash and Cucumbers',\n",
       " 'Miscellaneous Deciduous',\n",
       " 'Miscellaneous Field Crops',\n",
       " 'Miscellaneous Grain and Hay',\n",
       " 'Miscellaneous Grasses',\n",
       " 'Miscellaneous Subtropical Fruits',\n",
       " 'Miscellaneous Truck Crops',\n",
       " 'Mixed Pasture',\n",
       " 'Olives',\n",
       " 'Onions and Garlic',\n",
       " 'Peaches/Nectarines',\n",
       " 'Pears',\n",
       " 'Peppers',\n",
       " 'Pistachios',\n",
       " 'Plums, Prunes and Apricots',\n",
       " 'Pomegranates',\n",
       " 'Potatoes and Sweet Potatoes',\n",
       " 'Rice',\n",
       " 'Safflower',\n",
       " 'Strawberries',\n",
       " 'Sunflowers',\n",
       " 'Tomatoes',\n",
       " 'Urban',\n",
       " 'Walnuts',\n",
       " 'Wheat',\n",
       " 'Young Perennials'}"
      ]
     },
     "execution_count": 226,
     "metadata": {},
     "output_type": "execute_result"
    }
   ],
   "source": [
    "#get croplist\n",
    "set(ld['Crop2016'].tolist())"
   ]
  },
  {
   "cell_type": "markdown",
   "metadata": {},
   "source": [
    "Original Approach: crop type -> get net water use per crop/1000 acres -> get  yield per acre per crop -> use to calculate parcel specific values for net water use and yeild -> then use price per unit or value of production/acre to get to a water value?\n",
    "\n",
    "New Approach:\n",
    "take acre-feet of water applied per crop and get minimum water volume based on assigned crop and # of acres on parcel. "
   ]
  },
  {
   "cell_type": "code",
   "execution_count": 244,
   "metadata": {
    "collapsed": true
   },
   "outputs": [],
   "source": [
    "#first load in crop yield data\n",
    "crop_yield = pd.read_csv(cropdata_location)"
   ]
  },
  {
   "cell_type": "code",
   "execution_count": 245,
   "metadata": {},
   "outputs": [
    {
     "data": {
      "text/plain": [
       "Index(['Commodity', 'Planted All Purpose Acres', 'Harvested Acres', 'Yield',\n",
       "       'Production', 'Price per Unit', 'Value of Production in Dollars',\n",
       "       'Crop Unit Vale ($/acre'],\n",
       "      dtype='object')"
      ]
     },
     "execution_count": 245,
     "metadata": {},
     "output_type": "execute_result"
    }
   ],
   "source": [
    "crop_yield.columns"
   ]
  },
  {
   "cell_type": "markdown",
   "metadata": {},
   "source": [
    "All of the crops are upper case so to make it easy we will upcase all of our crops in the dataframe"
   ]
  },
  {
   "cell_type": "code",
   "execution_count": 246,
   "metadata": {},
   "outputs": [
    {
     "data": {
      "text/plain": [
       "{'ALFALFA',\n",
       " 'ALMONDS',\n",
       " 'APPLES',\n",
       " 'AVOCADOS',\n",
       " 'BEANS, SNAP',\n",
       " 'BUSH BERRIES',\n",
       " 'CARROTS',\n",
       " 'CHERRIES',\n",
       " 'CITRUS',\n",
       " 'COLE CROPS',\n",
       " 'CORN, GRAIN',\n",
       " 'COTTON, COTTONSEED',\n",
       " 'DATES',\n",
       " 'FLOWERS, NURSERY AND CHRISTMAS TREE FARMS',\n",
       " 'GARLIC',\n",
       " 'GRAPES',\n",
       " 'GREENHOUSE',\n",
       " 'HAY, (EXCL ALFALFA)',\n",
       " 'IDLE',\n",
       " 'KIWIS',\n",
       " 'LETTUCE, HEAD',\n",
       " 'MANAGED WETLAND',\n",
       " 'MELONS, SQUASH AND CUCUMBERS',\n",
       " 'MISCELLANEOUS DECIDUOUS',\n",
       " 'MISCELLANEOUS FIELD CROPS',\n",
       " 'MISCELLANEOUS GRASSES',\n",
       " 'MISCELLANEOUS SUBTROPICAL FRUITS',\n",
       " 'MISCELLANEOUS TRUCK CROPS',\n",
       " 'MIXED PASTURE',\n",
       " 'OLIVES',\n",
       " 'PEACHES',\n",
       " 'PEARS',\n",
       " 'PEPPERS',\n",
       " 'PISTACHIOS',\n",
       " 'POMEGRANATES',\n",
       " 'POTATOES',\n",
       " 'PRUNES',\n",
       " 'RICE',\n",
       " 'SAFFLOWER',\n",
       " 'STRAWBERRIES',\n",
       " 'SUNFLOWER',\n",
       " 'TOMATOES, IN THE OPEN',\n",
       " 'URBAN',\n",
       " 'WALNUTS',\n",
       " 'WHEAT',\n",
       " 'YOUNG PERENNIALS'}"
      ]
     },
     "execution_count": 246,
     "metadata": {},
     "output_type": "execute_result"
    }
   ],
   "source": [
    "ld['Crop2016'] = ld['Crop2016'].str.upper()\n",
    "our_crops = set(ld['Crop2016'].tolist())\n",
    "our_crops"
   ]
  },
  {
   "cell_type": "markdown",
   "metadata": {},
   "source": [
    "Now let's compare the crops in our crop yield table with our the crops in our dataset"
   ]
  },
  {
   "cell_type": "code",
   "execution_count": 247,
   "metadata": {},
   "outputs": [
    {
     "data": {
      "text/plain": [
       "{'ALFALFA',\n",
       " 'APPLES',\n",
       " 'APRICOTS',\n",
       " 'ARTICHOKES',\n",
       " 'ARTICHOKES, FRESH MARKET',\n",
       " 'ARTICHOKES, UTILIZED',\n",
       " 'ASPARAGUS',\n",
       " 'ASPARAGUS, FRESH MARKET',\n",
       " 'ASPARAGUS, UTILIZED',\n",
       " 'BARLEY',\n",
       " 'BEANS, SNAP',\n",
       " 'BEANS, SNAP, FRESH MARKET',\n",
       " 'BEANS, SNAP, PROCESSING',\n",
       " 'BEANS, SNAP, UTILIZED',\n",
       " 'BROCCOLI',\n",
       " 'BROCCOLI, FRESH MARKET',\n",
       " 'BROCCOLI, PROCESSING',\n",
       " 'BROCCOLI, UTILIZED',\n",
       " 'CABBAGE',\n",
       " 'CABBAGE, FRESH MARKET',\n",
       " 'CABBAGE, PROCESSING',\n",
       " 'CABBAGE, UTILIZED',\n",
       " 'CARROTS',\n",
       " 'CARROTS, FRESH MARKET',\n",
       " 'CARROTS, PROCESSING',\n",
       " 'CARROTS, UTILIZED',\n",
       " 'CAULIFLOWER',\n",
       " 'CAULIFLOWER, FRESH MARKET',\n",
       " 'CAULIFLOWER, PROCESSING',\n",
       " 'CAULIFLOWER, UTILIZED',\n",
       " 'CELERY',\n",
       " 'CELERY, FRESH MARKET',\n",
       " 'CELERY, PROCESSING',\n",
       " 'CELERY, UTILIZED',\n",
       " 'CHERRIES, SWEET',\n",
       " 'CHICKPEAS',\n",
       " 'CORN',\n",
       " 'CORN, GRAIN',\n",
       " 'CORN, SILAGE',\n",
       " 'COTTON',\n",
       " 'COTTON, COTTONSEED',\n",
       " 'COTTON, PIMA',\n",
       " 'COTTON, UPLAND',\n",
       " 'CUCUMBERS',\n",
       " 'CUCUMBERS, FRESH MARKET',\n",
       " 'CUCUMBERS, PROCESSING',\n",
       " 'CUCUMBERS, UTILIZED',\n",
       " 'GARLIC',\n",
       " 'GARLIC, FRESH MARKET',\n",
       " 'GARLIC, PROCESSING',\n",
       " 'GARLIC, UTILIZED',\n",
       " 'GRAPEFRUIT',\n",
       " 'GRAPEFRUIT, FRESH MARKET',\n",
       " 'GRAPEFRUIT, PROCESSING',\n",
       " 'GRAPEFRUIT, UTILIZED',\n",
       " 'GRAPES',\n",
       " 'HAY',\n",
       " 'HAY & HAYLAGE',\n",
       " 'HAY & HAYLAGE, (EXCL ALFALFA)',\n",
       " 'HAY & HAYLAGE, ALFALFA',\n",
       " 'HAY, (EXCL ALFALFA)',\n",
       " 'HAYLAGE',\n",
       " 'HAYLAGE, (EXCL ALFALFA)',\n",
       " 'HAYLAGE, ALFALFA',\n",
       " 'LEMONS',\n",
       " 'LEMONS, FRESH MARKET',\n",
       " 'LEMONS, PROCESSING',\n",
       " 'LEMONS, UTILIZED',\n",
       " 'LETTUCE, HEAD',\n",
       " 'LETTUCE, HEAD, FRESH MARKET',\n",
       " 'LETTUCE, HEAD, UTILIZED',\n",
       " 'LETTUCE, LEAF',\n",
       " 'LETTUCE, LEAF, FRESH MARKET',\n",
       " 'LETTUCE, LEAF, UTILIZED',\n",
       " 'LETTUCE, ROMAINE',\n",
       " 'LETTUCE, ROMAINE, FRESH MARKET',\n",
       " 'LETTUCE, ROMAINE, UTILIZED',\n",
       " 'MELONS, CANTALOUP',\n",
       " 'MELONS, CANTALOUP, FRESH MARKET',\n",
       " 'MELONS, CANTALOUP, UTILIZED',\n",
       " 'MELONS, HONEYDEW',\n",
       " 'MELONS, HONEYDEW, FRESH MARKET',\n",
       " 'MELONS, HONEYDEW, UTILIZED',\n",
       " 'MELONS, WATERMELON',\n",
       " 'MELONS, WATERMELON, FRESH MARKET',\n",
       " 'MELONS, WATERMELON, UTILIZED',\n",
       " 'OATS',\n",
       " 'ORANGES',\n",
       " 'ORANGES, FRESH MARKET',\n",
       " 'ORANGES, PROCESSING',\n",
       " 'ORANGES, UTILIZED',\n",
       " 'PEACHES',\n",
       " 'PEARS',\n",
       " 'PEPPERS, BELL',\n",
       " 'PEPPERS, BELL, FRESH MARKET',\n",
       " 'PEPPERS, BELL, PROCESSING',\n",
       " 'PEPPERS, BELL, UTILIZED',\n",
       " 'PEPPERS, CHILE',\n",
       " 'PEPPERS, CHILE, FRESH MARKET',\n",
       " 'PEPPERS, CHILE, PROCESSING',\n",
       " 'PEPPERS, CHILE, UTILIZED',\n",
       " 'POTATOES',\n",
       " 'PRUNES',\n",
       " 'PUMPKINS',\n",
       " 'PUMPKINS, FRESH MARKET',\n",
       " 'PUMPKINS, UTILIZED',\n",
       " 'RICE',\n",
       " 'SAFFLOWER',\n",
       " 'SPINACH',\n",
       " 'SPINACH, FRESH MARKET',\n",
       " 'SPINACH, PROCESSING',\n",
       " 'SPINACH, UTILIZED',\n",
       " 'SQUASH',\n",
       " 'SQUASH, FRESH MARKET',\n",
       " 'SQUASH, PROCESSING',\n",
       " 'SQUASH, UTILIZED',\n",
       " 'SUGARBEETS',\n",
       " 'SUNFLOWER',\n",
       " 'SWEET CORN',\n",
       " 'SWEET CORN, FRESH MARKET',\n",
       " 'SWEET CORN, UTILIZED',\n",
       " 'SWEET POTATOES',\n",
       " 'SWEET POTATOES, FRESH MARKET',\n",
       " 'SWEET POTATOES, PROCESSING',\n",
       " 'SWEET POTATOES, UTILIZED',\n",
       " 'TANGERINES',\n",
       " 'TANGERINES, FRESH MARKET',\n",
       " 'TANGERINES, PROCESSING',\n",
       " 'TANGERINES, UTILIZED',\n",
       " 'TOMATOES',\n",
       " 'TOMATOES, FRESH MARKET',\n",
       " 'TOMATOES, IN THE OPEN',\n",
       " 'TOMATOES, IN THE OPEN, FRESH MARKET',\n",
       " 'TOMATOES, IN THE OPEN, PROCESSING',\n",
       " 'TOMATOES, IN THE OPEN, UTILIZED',\n",
       " 'TOMATOES, PROCESSING',\n",
       " 'WHEAT',\n",
       " 'WHEAT, SPRING, DURUM',\n",
       " 'WHEAT, WINTER'}"
      ]
     },
     "execution_count": 247,
     "metadata": {},
     "output_type": "execute_result"
    }
   ],
   "source": [
    "all_crops = set(crop_yield['Commodity'].tolist())\n",
    "all_crops"
   ]
  },
  {
   "cell_type": "code",
   "execution_count": 248,
   "metadata": {},
   "outputs": [
    {
     "data": {
      "text/plain": [
       "{'ALFALFA',\n",
       " 'APPLES',\n",
       " 'BEANS, SNAP',\n",
       " 'CARROTS',\n",
       " 'CORN, GRAIN',\n",
       " 'COTTON, COTTONSEED',\n",
       " 'GARLIC',\n",
       " 'GRAPES',\n",
       " 'HAY, (EXCL ALFALFA)',\n",
       " 'LETTUCE, HEAD',\n",
       " 'PEACHES',\n",
       " 'PEARS',\n",
       " 'POTATOES',\n",
       " 'PRUNES',\n",
       " 'RICE',\n",
       " 'SAFFLOWER',\n",
       " 'SUNFLOWER',\n",
       " 'TOMATOES, IN THE OPEN',\n",
       " 'WHEAT'}"
      ]
     },
     "execution_count": 248,
     "metadata": {},
     "output_type": "execute_result"
    }
   ],
   "source": [
    "overlap = our_crops.intersection(all_crops)\n",
    "overlap"
   ]
  },
  {
   "cell_type": "markdown",
   "metadata": {},
   "source": [
    "Seems like quite a few are missing, lets see which ones..."
   ]
  },
  {
   "cell_type": "code",
   "execution_count": 249,
   "metadata": {},
   "outputs": [
    {
     "name": "stdout",
     "output_type": "stream",
     "text": [
      "Crops not matched in our dataset:\n",
      " ALMONDS, AVOCADOS, BUSH BERRIES, CHERRIES, CITRUS, COLE CROPS, DATES, FLOWERS, NURSERY AND CHRISTMAS TREE FARMS, GREENHOUSE, IDLE, KIWIS, MANAGED WETLAND, MELONS, SQUASH AND CUCUMBERS, MISCELLANEOUS DECIDUOUS, MISCELLANEOUS FIELD CROPS, MISCELLANEOUS GRASSES, MISCELLANEOUS SUBTROPICAL FRUITS, MISCELLANEOUS TRUCK CROPS, MIXED PASTURE, OLIVES, PEPPERS, PISTACHIOS, POMEGRANATES, STRAWBERRIES, URBAN, WALNUTS, YOUNG PERENNIALS \n",
      "\n",
      "Crops left in the CA dataset:\n",
      " APRICOTS, ARTICHOKES, ARTICHOKES, FRESH MARKET, ARTICHOKES, UTILIZED, ASPARAGUS, ASPARAGUS, FRESH MARKET, ASPARAGUS, UTILIZED, BARLEY, BEANS, SNAP, FRESH MARKET, BEANS, SNAP, PROCESSING, BEANS, SNAP, UTILIZED, BROCCOLI, BROCCOLI, FRESH MARKET, BROCCOLI, PROCESSING, BROCCOLI, UTILIZED, CABBAGE, CABBAGE, FRESH MARKET, CABBAGE, PROCESSING, CABBAGE, UTILIZED, CARROTS, FRESH MARKET, CARROTS, PROCESSING, CARROTS, UTILIZED, CAULIFLOWER, CAULIFLOWER, FRESH MARKET, CAULIFLOWER, PROCESSING, CAULIFLOWER, UTILIZED, CELERY, CELERY, FRESH MARKET, CELERY, PROCESSING, CELERY, UTILIZED, CHERRIES, SWEET, CHICKPEAS, CORN, CORN, SILAGE, COTTON, COTTON, PIMA, COTTON, UPLAND, CUCUMBERS, CUCUMBERS, FRESH MARKET, CUCUMBERS, PROCESSING, CUCUMBERS, UTILIZED, GARLIC, FRESH MARKET, GARLIC, PROCESSING, GARLIC, UTILIZED, GRAPEFRUIT, GRAPEFRUIT, FRESH MARKET, GRAPEFRUIT, PROCESSING, GRAPEFRUIT, UTILIZED, HAY, HAY & HAYLAGE, HAY & HAYLAGE, (EXCL ALFALFA), HAY & HAYLAGE, ALFALFA, HAYLAGE, HAYLAGE, (EXCL ALFALFA), HAYLAGE, ALFALFA, LEMONS, LEMONS, FRESH MARKET, LEMONS, PROCESSING, LEMONS, UTILIZED, LETTUCE, HEAD, FRESH MARKET, LETTUCE, HEAD, UTILIZED, LETTUCE, LEAF, LETTUCE, LEAF, FRESH MARKET, LETTUCE, LEAF, UTILIZED, LETTUCE, ROMAINE, LETTUCE, ROMAINE, FRESH MARKET, LETTUCE, ROMAINE, UTILIZED, MELONS, CANTALOUP, MELONS, CANTALOUP, FRESH MARKET, MELONS, CANTALOUP, UTILIZED, MELONS, HONEYDEW, MELONS, HONEYDEW, FRESH MARKET, MELONS, HONEYDEW, UTILIZED, MELONS, WATERMELON, MELONS, WATERMELON, FRESH MARKET, MELONS, WATERMELON, UTILIZED, OATS, ORANGES, ORANGES, FRESH MARKET, ORANGES, PROCESSING, ORANGES, UTILIZED, PEPPERS, BELL, PEPPERS, BELL, FRESH MARKET, PEPPERS, BELL, PROCESSING, PEPPERS, BELL, UTILIZED, PEPPERS, CHILE, PEPPERS, CHILE, FRESH MARKET, PEPPERS, CHILE, PROCESSING, PEPPERS, CHILE, UTILIZED, PUMPKINS, PUMPKINS, FRESH MARKET, PUMPKINS, UTILIZED, SPINACH, SPINACH, FRESH MARKET, SPINACH, PROCESSING, SPINACH, UTILIZED, SQUASH, SQUASH, FRESH MARKET, SQUASH, PROCESSING, SQUASH, UTILIZED, SUGARBEETS, SWEET CORN, SWEET CORN, FRESH MARKET, SWEET CORN, UTILIZED, SWEET POTATOES, SWEET POTATOES, FRESH MARKET, SWEET POTATOES, PROCESSING, SWEET POTATOES, UTILIZED, TANGERINES, TANGERINES, FRESH MARKET, TANGERINES, PROCESSING, TANGERINES, UTILIZED, TOMATOES, TOMATOES, FRESH MARKET, TOMATOES, IN THE OPEN, FRESH MARKET, TOMATOES, IN THE OPEN, PROCESSING, TOMATOES, IN THE OPEN, UTILIZED, TOMATOES, PROCESSING, WHEAT, SPRING, DURUM, WHEAT, WINTER\n"
     ]
    }
   ],
   "source": [
    "our_remaining = our_crops - overlap\n",
    "\n",
    "all_remaining = all_crops - overlap\n",
    "\n",
    "print('Crops not matched in our dataset:\\n', ', '.join(sorted(list(our_remaining))), '\\n')\n",
    "\n",
    "print('Crops left in the CA dataset:\\n', ', '.join(sorted(list(all_remaining))))\n"
   ]
  },
  {
   "cell_type": "markdown",
   "metadata": {},
   "source": [
    "We need to fix some naming issues here for alfalfa, beans, corn, lettuce, 'melons, squash, and cucumber', miscellaneous grain and hay, garlic, peaches, prunes and apricots, potatoes and sweet potatoes, sunflower, we also have to select the crop data which has a value of production in dollars (revenue) value so we can get the value in dollars per acre foot of water applied to the crop. "
   ]
  },
  {
   "cell_type": "code",
   "execution_count": 250,
   "metadata": {
    "collapsed": true
   },
   "outputs": [],
   "source": [
    "ld = ld.replace({'ALFALFA AND ALFALFA MIXTURES':'ALFALFA', 'BEANS (DRY)': 'BEANS, SNAP', \n",
    "            'CORN, SORGHUM AND SUDAN':'CORN, GRAIN', 'LETTUCE/LEAFY GREENS':'LETTUCE, HEAD', \n",
    "            'MISCELLANEOUS GRAIN AND HAY': 'HAY, (EXCL ALFALFA)', 'ONIONS AND GARLIC': 'GARLIC', \n",
    "            'PEACHES/NECTARINES': 'PEACHES', 'PLUMS, PRUNES AND APRICOTS': 'PRUNES', \n",
    "            'POTATOES AND SWEET POTATOES': 'POTATOES', 'SUNFLOWERS': 'SUNFLOWER', 'TOMATOES': 'TOMATOES, IN THE OPEN', \n",
    "            'COTTON': 'COTTON, COTTONSEED'})\n",
    "\n"
   ]
  },
  {
   "cell_type": "code",
   "execution_count": 251,
   "metadata": {},
   "outputs": [
    {
     "data": {
      "text/plain": [
       "{'ALFALFA',\n",
       " 'ALMONDS',\n",
       " 'APPLES',\n",
       " 'AVOCADOS',\n",
       " 'BEANS, SNAP',\n",
       " 'BUSH BERRIES',\n",
       " 'CARROTS',\n",
       " 'CHERRIES',\n",
       " 'CITRUS',\n",
       " 'COLE CROPS',\n",
       " 'CORN, GRAIN',\n",
       " 'COTTON, COTTONSEED',\n",
       " 'DATES',\n",
       " 'FLOWERS, NURSERY AND CHRISTMAS TREE FARMS',\n",
       " 'GARLIC',\n",
       " 'GRAPES',\n",
       " 'GREENHOUSE',\n",
       " 'HAY, (EXCL ALFALFA)',\n",
       " 'IDLE',\n",
       " 'KIWIS',\n",
       " 'LETTUCE, HEAD',\n",
       " 'MANAGED WETLAND',\n",
       " 'MELONS, SQUASH AND CUCUMBERS',\n",
       " 'MISCELLANEOUS DECIDUOUS',\n",
       " 'MISCELLANEOUS FIELD CROPS',\n",
       " 'MISCELLANEOUS GRASSES',\n",
       " 'MISCELLANEOUS SUBTROPICAL FRUITS',\n",
       " 'MISCELLANEOUS TRUCK CROPS',\n",
       " 'MIXED PASTURE',\n",
       " 'OLIVES',\n",
       " 'PEACHES',\n",
       " 'PEARS',\n",
       " 'PEPPERS',\n",
       " 'PISTACHIOS',\n",
       " 'POMEGRANATES',\n",
       " 'POTATOES',\n",
       " 'PRUNES',\n",
       " 'RICE',\n",
       " 'SAFFLOWER',\n",
       " 'STRAWBERRIES',\n",
       " 'SUNFLOWER',\n",
       " 'TOMATOES, IN THE OPEN',\n",
       " 'URBAN',\n",
       " 'WALNUTS',\n",
       " 'WHEAT',\n",
       " 'YOUNG PERENNIALS'}"
      ]
     },
     "execution_count": 251,
     "metadata": {},
     "output_type": "execute_result"
    }
   ],
   "source": [
    "set(ld['Crop2016'].tolist())"
   ]
  },
  {
   "cell_type": "markdown",
   "metadata": {},
   "source": [
    "Now we should look at the overlap again and drop the rows that dont overlap"
   ]
  },
  {
   "cell_type": "code",
   "execution_count": 252,
   "metadata": {},
   "outputs": [
    {
     "name": "stdout",
     "output_type": "stream",
     "text": [
      "Matched: {'PEARS', 'CARROTS', 'ALFALFA', 'RICE', 'PRUNES', 'PEACHES', 'POTATOES', 'SAFFLOWER', 'COTTON, COTTONSEED', 'TOMATOES, IN THE OPEN', 'CORN, GRAIN', 'WHEAT', 'BEANS, SNAP', 'SUNFLOWER', 'APPLES', 'GARLIC', 'LETTUCE, HEAD', 'GRAPES', 'HAY, (EXCL ALFALFA)'}\n"
     ]
    }
   ],
   "source": [
    "our_crops = set(ld['Crop2016'].tolist())\n",
    "\n",
    "overlap = our_crops.intersection(all_crops)\n",
    "print('Matched:', overlap)"
   ]
  },
  {
   "cell_type": "code",
   "execution_count": 253,
   "metadata": {
    "collapsed": true
   },
   "outputs": [],
   "source": [
    "incrop = list(overlap)\n",
    "\n",
    "available_crops = ld['Crop2016'].isin(incrop)\n",
    "\n",
    "matched = ld[available_crops]"
   ]
  },
  {
   "cell_type": "code",
   "execution_count": 254,
   "metadata": {},
   "outputs": [
    {
     "data": {
      "text/plain": [
       "14716"
      ]
     },
     "execution_count": 254,
     "metadata": {},
     "output_type": "execute_result"
    }
   ],
   "source": [
    "len(matched)"
   ]
  },
  {
   "cell_type": "markdown",
   "metadata": {},
   "source": [
    "So with the current availble crop data we were able to match 14,967 records. Now lets also prune the CA data and merge it into our land data "
   ]
  },
  {
   "cell_type": "code",
   "execution_count": 255,
   "metadata": {
    "collapsed": true
   },
   "outputs": [],
   "source": [
    "available_commodity = crop_yield['Commodity'].isin(incrop)\n",
    "\n",
    "CA_prune = crop_yield[available_commodity]\n",
    "\n"
   ]
  },
  {
   "cell_type": "code",
   "execution_count": 256,
   "metadata": {},
   "outputs": [
    {
     "name": "stderr",
     "output_type": "stream",
     "text": [
      "/Users/d/anaconda3/lib/python3.6/site-packages/pandas/core/frame.py:4133: SettingWithCopyWarning: \n",
      "A value is trying to be set on a copy of a slice from a DataFrame\n",
      "\n",
      "See the caveats in the documentation: https://pandas.pydata.org/pandas-docs/stable/user_guide/indexing.html#returning-a-view-versus-a-copy\n",
      "  errors=errors,\n"
     ]
    }
   ],
   "source": [
    "#rename columns to merge\n",
    "\n",
    "CA_prune.rename(columns = {'Commodity': 'Crop'}, inplace=True)\n",
    "\n",
    "matched.rename(columns = {'Crop2016': 'Crop'}, inplace=True)\n",
    "\n"
   ]
  },
  {
   "cell_type": "code",
   "execution_count": 257,
   "metadata": {
    "collapsed": true
   },
   "outputs": [],
   "source": [
    "#now merge\n",
    "\n",
    "merged = matched.merge(CA_prune, on='Crop')"
   ]
  },
  {
   "cell_type": "code",
   "execution_count": 258,
   "metadata": {},
   "outputs": [
    {
     "data": {
      "text/plain": [
       "Index(['geoid', 'parcelnumb', 'usecode', 'improvval', 'landval', 'parval',\n",
       "       'owner', 'owner2', 'mailadd', 'mail_city', 'mail_state', 'mail_zip',\n",
       "       'address', 'saddno', 'saddpref', 'saddstr', 'saddsttyp', 'saddstsuf',\n",
       "       'sunit', 'scity', 'original_a', 'city', 'county', 'state2', 'szip',\n",
       "       'address_so', 'legaldesc', 'path', 'll_uuid', 'll_updated',\n",
       "       'homeowner_', 'lot_area', 'pers_prop_', 'tax_area_c', 'contract_n',\n",
       "       'contract_y', 'non_renewa', 'use_high_b', 'use_second', 'qoz',\n",
       "       'qoz_tract', 'll_gisacre', 'OBJECTID_1', 'DWR_revise', 'Symb_class',\n",
       "       'MULTIUSE', 'CLASS1', 'SUBCLASS1', 'SPECOND1', 'IRR_TYP1PA',\n",
       "       'IRR_TYP1PB', 'PCNT1', 'CLASS2', 'SUBCLASS2', 'SPECOND2', 'IRR_TYP2PA',\n",
       "       'IRR_TYP2PB', 'PCNT2', 'CLASS3', 'SUBCLASS3', 'SPECOND3', 'IRR_TYP3PA',\n",
       "       'IRR_TYP3PB', 'PCNT3', 'UCF_ATT', 'CROPTYP1', 'CROPTYP2', 'CROPTYP3',\n",
       "       'Region', 'Acres', 'County_1', 'Source', 'Crop', 'Modified_B',\n",
       "       'Date_Data_', 'Last_Modif', 'GlobalID', 'Shape_Leng', 'Shape_Area',\n",
       "       'Planted All Purpose Acres', 'Harvested Acres', 'Yield', 'Production',\n",
       "       'Price per Unit', 'Value of Production in Dollars',\n",
       "       'Crop Unit Vale ($/acre'],\n",
       "      dtype='object')"
      ]
     },
     "execution_count": 258,
     "metadata": {},
     "output_type": "execute_result"
    }
   ],
   "source": [
    "merged.columns"
   ]
  },
  {
   "cell_type": "markdown",
   "metadata": {},
   "source": [
    "Checking to see if the values we merged in are correct by crop\n"
   ]
  },
  {
   "cell_type": "code",
   "execution_count": 268,
   "metadata": {},
   "outputs": [
    {
     "name": "stdout",
     "output_type": "stream",
     "text": [
      "ALFALFA\n",
      "1455.5\n"
     ]
    }
   ],
   "source": [
    "print(merged.iloc[0]['Crop'])\n",
    "print(merged.iloc[0]['Crop Unit Vale ($/acre'])\n"
   ]
  },
  {
   "cell_type": "markdown",
   "metadata": {},
   "source": [
    "Below is a table of applied water per acre feet per crop -- we need to fill in the missing crops/decide on the source(s)"
   ]
  },
  {
   "cell_type": "code",
   "execution_count": 259,
   "metadata": {
    "collapsed": true
   },
   "outputs": [],
   "source": [
    " applied_water = {'ALFALFA': 5.2,\n",
    " 'APPLES': 2.2,\n",
    " 'BEANS, SNAP': 0.2,\n",
    " 'CARROTS': 1.3,\n",
    " 'CORN, GRAIN': 2.2,\n",
    " 'COTTON, COTTONSEED': 0.9,\n",
    " 'GARLIC': 0.2,\n",
    " 'GRAPES': 1.6,\n",
    " 'HAY, (EXCL ALFALFA)': 0.8,\n",
    " 'LETTUCE, HEAD': 1.3,\n",
    " 'PEACHES': 2.2,\n",
    " 'PEARS': 2.2,\n",
    " 'POTATOES': 0.1,\n",
    " 'PRUNES': 2.2,\n",
    " 'RICE': 2.7,\n",
    " 'SAFFLOWER': 0.1,\n",
    " 'SUNFLOWER': 1.7,\n",
    " 'TOMATOES, IN THE OPEN': 0.1,\n",
    " 'WHEAT': 0.8}"
   ]
  },
  {
   "cell_type": "markdown",
   "metadata": {},
   "source": [
    "source used for this value\n",
    "https://pacinst.org/wp-content/uploads/2015/04/CA-Ag-Water-Use.pdf\n",
    "\n"
   ]
  },
  {
   "cell_type": "markdown",
   "metadata": {},
   "source": [
    "Now we add two columns to our dataset to hold our applied water in millions of acre feet and our water productivity column and fill in both"
   ]
  },
  {
   "cell_type": "code",
   "execution_count": 260,
   "metadata": {
    "collapsed": true
   },
   "outputs": [],
   "source": [
    "merged['water_productivity'] = None\n",
    "merged['applied_water_mil'] = None"
   ]
  },
  {
   "cell_type": "code",
   "execution_count": 261,
   "metadata": {
    "collapsed": true
   },
   "outputs": [],
   "source": [
    "#add in applied water in millions acre feet\n",
    "for i, r in merged.iterrows():\n",
    "    \n",
    "    applied = applied_water[r['Crop']]\n",
    "    merged.at[i, 'applied_water_mil'] = applied"
   ]
  },
  {
   "cell_type": "markdown",
   "metadata": {},
   "source": [
    "Get total monetary value of crops per parcel using our crop unit value * parcel acres where 'crop unit value' is derived from the per crop CA total production in revenue divided by total harvested acres\n"
   ]
  },
  {
   "cell_type": "code",
   "execution_count": 269,
   "metadata": {
    "collapsed": true
   },
   "outputs": [],
   "source": [
    "\n",
    "for i, r in merged.iterrows():\n",
    "    merged.at[i,'Value of Production in Dollars'] = r['Crop Unit Vale ($/acre'] * r['ll_gisacre']\n",
    "    \n",
    "\n"
   ]
  },
  {
   "cell_type": "markdown",
   "metadata": {},
   "source": [
    "Now we need to get the economic value produced per acre-foot of water applied to the crop, as\n",
    "measured in dollars per acre-foot -- our 'water productivity'"
   ]
  },
  {
   "cell_type": "code",
   "execution_count": 270,
   "metadata": {
    "collapsed": true
   },
   "outputs": [],
   "source": [
    "#now divide millions by millions to get a revenue per acre feet of water applied\n",
    "for i, r in merged.iterrows():\n",
    "\n",
    "#try:\n",
    "        \n",
    "    converted = r['applied_water_mil'] * 1000000\n",
    "\n",
    "    merged.at[i, 'water_productivity'] = float(r['Value of Production in Dollars'])/converted\n",
    "\n",
    "#except:\n",
    "  \n",
    "\n",
    "        "
   ]
  },
  {
   "cell_type": "code",
   "execution_count": 271,
   "metadata": {},
   "outputs": [
    {
     "data": {
      "text/plain": [
       "7325      0.00104327\n",
       "7326     0.000618257\n",
       "7327       0.0131666\n",
       "7328     0.000364653\n",
       "7329      0.00448736\n",
       "            ...     \n",
       "14711        1.31906\n",
       "14712        1.31906\n",
       "14713          2.705\n",
       "14714      0.0171495\n",
       "14715      0.0656406\n",
       "Name: water_productivity, Length: 5567, dtype: object"
      ]
     },
     "execution_count": 271,
     "metadata": {},
     "output_type": "execute_result"
    }
   ],
   "source": [
    "merged['water_productivity']"
   ]
  },
  {
   "cell_type": "markdown",
   "metadata": {
    "collapsed": true
   },
   "source": [
    "now lets get minimum water available per parcel by using the acre feet applied per crop * parcel acreage"
   ]
  },
  {
   "cell_type": "code",
   "execution_count": 272,
   "metadata": {},
   "outputs": [],
   "source": [
    "merged['min_avail_water'] = None\n",
    "\n",
    "for i, r in merged.iterrows():\n",
    "    applied = applied_water[r['Crop']]\n",
    "    \n",
    "    merged.at[i, 'min_avail_water'] = applied * r['ll_gisacre'] \n",
    "    \n"
   ]
  },
  {
   "cell_type": "code",
   "execution_count": 273,
   "metadata": {},
   "outputs": [
    {
     "data": {
      "text/plain": [
       "7325      19.3816\n",
       "7326      11.4859\n",
       "7327      244.607\n",
       "7328      6.77446\n",
       "7329      83.3653\n",
       "           ...   \n",
       "14711     31.4628\n",
       "14712     31.4628\n",
       "14713     64.5206\n",
       "14714    0.409056\n",
       "14715     1.56568\n",
       "Name: min_avail_water, Length: 5567, dtype: object"
      ]
     },
     "execution_count": 273,
     "metadata": {},
     "output_type": "execute_result"
    }
   ],
   "source": [
    "merged['min_avail_water']"
   ]
  },
  {
   "cell_type": "markdown",
   "metadata": {},
   "source": [
    "Its also worth using the water productivity value to get a potential revenue total value from the number of acres. We can use our min_avail_water in acre-feet and multiply that by our water productivity value to get a min water revenue in dollars..."
   ]
  },
  {
   "cell_type": "code",
   "execution_count": 276,
   "metadata": {
    "collapsed": true
   },
   "outputs": [],
   "source": [
    "merged['min_water_rev'] = None\n",
    "\n",
    "for i, r in merged.iterrows():\n",
    "\n",
    "    merged.at[i, 'min_water_rev'] = r['min_avail_water'] * r['water_productivity'] \n",
    "    \n"
   ]
  },
  {
   "cell_type": "markdown",
   "metadata": {},
   "source": [
    "Its time to fold in the soil data... if we can"
   ]
  },
  {
   "cell_type": "code",
   "execution_count": 308,
   "metadata": {},
   "outputs": [],
   "source": [
    "soil_db = pd.read_csv(soildata_location1)"
   ]
  },
  {
   "cell_type": "code",
   "execution_count": 309,
   "metadata": {},
   "outputs": [
    {
     "data": {
      "text/html": [
       "<div>\n",
       "<style scoped>\n",
       "    .dataframe tbody tr th:only-of-type {\n",
       "        vertical-align: middle;\n",
       "    }\n",
       "\n",
       "    .dataframe tbody tr th {\n",
       "        vertical-align: top;\n",
       "    }\n",
       "\n",
       "    .dataframe thead th {\n",
       "        text-align: right;\n",
       "    }\n",
       "</style>\n",
       "<table border=\"1\" class=\"dataframe\">\n",
       "  <thead>\n",
       "    <tr style=\"text-align: right;\">\n",
       "      <th></th>\n",
       "      <th>Unnamed: 0</th>\n",
       "      <th>parcelnumb</th>\n",
       "      <th>intersect_area_acre</th>\n",
       "      <th>MUSYM</th>\n",
       "      <th>farmlndcl</th>\n",
       "      <th>irrcapcl</th>\n",
       "      <th>irrcapscl</th>\n",
       "      <th>nirrcapcl</th>\n",
       "      <th>nirrcalscl</th>\n",
       "    </tr>\n",
       "  </thead>\n",
       "  <tbody>\n",
       "    <tr>\n",
       "      <th>0</th>\n",
       "      <td>0</td>\n",
       "      <td>01302014ST</td>\n",
       "      <td>19.436938</td>\n",
       "      <td>W</td>\n",
       "      <td>Not prime farmland</td>\n",
       "      <td>NaN</td>\n",
       "      <td>NaN</td>\n",
       "      <td>NaN</td>\n",
       "      <td>NaN</td>\n",
       "    </tr>\n",
       "    <tr>\n",
       "      <th>1</th>\n",
       "      <td>1</td>\n",
       "      <td>01302015ST</td>\n",
       "      <td>1.936001</td>\n",
       "      <td>W</td>\n",
       "      <td>Not prime farmland</td>\n",
       "      <td>NaN</td>\n",
       "      <td>NaN</td>\n",
       "      <td>NaN</td>\n",
       "      <td>NaN</td>\n",
       "    </tr>\n",
       "    <tr>\n",
       "      <th>2</th>\n",
       "      <td>2</td>\n",
       "      <td>01302017S</td>\n",
       "      <td>23.598329</td>\n",
       "      <td>W</td>\n",
       "      <td>Not prime farmland</td>\n",
       "      <td>NaN</td>\n",
       "      <td>NaN</td>\n",
       "      <td>NaN</td>\n",
       "      <td>NaN</td>\n",
       "    </tr>\n",
       "    <tr>\n",
       "      <th>3</th>\n",
       "      <td>3</td>\n",
       "      <td>01302020T</td>\n",
       "      <td>6.558690</td>\n",
       "      <td>Cr</td>\n",
       "      <td>Prime farmland if irrigated and drained</td>\n",
       "      <td>1.0</td>\n",
       "      <td>NaN</td>\n",
       "      <td>4.0</td>\n",
       "      <td>c</td>\n",
       "    </tr>\n",
       "    <tr>\n",
       "      <th>4</th>\n",
       "      <td>4</td>\n",
       "      <td>01302024S</td>\n",
       "      <td>42.789082</td>\n",
       "      <td>Cs</td>\n",
       "      <td>Prime farmland if irrigated and reclaimed of e...</td>\n",
       "      <td>2.0</td>\n",
       "      <td>s</td>\n",
       "      <td>4.0</td>\n",
       "      <td>s</td>\n",
       "    </tr>\n",
       "    <tr>\n",
       "      <th>...</th>\n",
       "      <td>...</td>\n",
       "      <td>...</td>\n",
       "      <td>...</td>\n",
       "      <td>...</td>\n",
       "      <td>...</td>\n",
       "      <td>...</td>\n",
       "      <td>...</td>\n",
       "      <td>...</td>\n",
       "      <td>...</td>\n",
       "    </tr>\n",
       "    <tr>\n",
       "      <th>269832</th>\n",
       "      <td>269832</td>\n",
       "      <td>70259029</td>\n",
       "      <td>0.007326</td>\n",
       "      <td>Ha</td>\n",
       "      <td>Prime farmland if irrigated</td>\n",
       "      <td>2.0</td>\n",
       "      <td>s</td>\n",
       "      <td>4.0</td>\n",
       "      <td>s</td>\n",
       "    </tr>\n",
       "    <tr>\n",
       "      <th>269833</th>\n",
       "      <td>269833</td>\n",
       "      <td>73639002</td>\n",
       "      <td>0.007322</td>\n",
       "      <td>Hm</td>\n",
       "      <td>Prime farmland if irrigated</td>\n",
       "      <td>1.0</td>\n",
       "      <td>NaN</td>\n",
       "      <td>4.0</td>\n",
       "      <td>c</td>\n",
       "    </tr>\n",
       "    <tr>\n",
       "      <th>269834</th>\n",
       "      <td>269834</td>\n",
       "      <td>83007012</td>\n",
       "      <td>144.274395</td>\n",
       "      <td>Fw</td>\n",
       "      <td>Not prime farmland</td>\n",
       "      <td>3.0</td>\n",
       "      <td>s</td>\n",
       "      <td>6.0</td>\n",
       "      <td>s</td>\n",
       "    </tr>\n",
       "    <tr>\n",
       "      <th>269835</th>\n",
       "      <td>269835</td>\n",
       "      <td>83007013</td>\n",
       "      <td>18.439270</td>\n",
       "      <td>Fs</td>\n",
       "      <td>Not prime farmland</td>\n",
       "      <td>3.0</td>\n",
       "      <td>s</td>\n",
       "      <td>6.0</td>\n",
       "      <td>s</td>\n",
       "    </tr>\n",
       "    <tr>\n",
       "      <th>269836</th>\n",
       "      <td>269836</td>\n",
       "      <td>85502001</td>\n",
       "      <td>13.575881</td>\n",
       "      <td>CfB</td>\n",
       "      <td>Farmland of statewide importance</td>\n",
       "      <td>3.0</td>\n",
       "      <td>s</td>\n",
       "      <td>4.0</td>\n",
       "      <td>e</td>\n",
       "    </tr>\n",
       "  </tbody>\n",
       "</table>\n",
       "<p>269837 rows × 9 columns</p>\n",
       "</div>"
      ],
      "text/plain": [
       "        Unnamed: 0  parcelnumb  intersect_area_acre MUSYM  \\\n",
       "0                0  01302014ST            19.436938     W   \n",
       "1                1  01302015ST             1.936001     W   \n",
       "2                2   01302017S            23.598329     W   \n",
       "3                3   01302020T             6.558690    Cr   \n",
       "4                4   01302024S            42.789082    Cs   \n",
       "...            ...         ...                  ...   ...   \n",
       "269832      269832    70259029             0.007326    Ha   \n",
       "269833      269833    73639002             0.007322    Hm   \n",
       "269834      269834    83007012           144.274395    Fw   \n",
       "269835      269835    83007013            18.439270    Fs   \n",
       "269836      269836    85502001            13.575881   CfB   \n",
       "\n",
       "                                                farmlndcl  irrcapcl irrcapscl  \\\n",
       "0                                      Not prime farmland       NaN       NaN   \n",
       "1                                      Not prime farmland       NaN       NaN   \n",
       "2                                      Not prime farmland       NaN       NaN   \n",
       "3                 Prime farmland if irrigated and drained       1.0       NaN   \n",
       "4       Prime farmland if irrigated and reclaimed of e...       2.0         s   \n",
       "...                                                   ...       ...       ...   \n",
       "269832                        Prime farmland if irrigated       2.0         s   \n",
       "269833                        Prime farmland if irrigated       1.0       NaN   \n",
       "269834                                 Not prime farmland       3.0         s   \n",
       "269835                                 Not prime farmland       3.0         s   \n",
       "269836                   Farmland of statewide importance       3.0         s   \n",
       "\n",
       "        nirrcapcl nirrcalscl  \n",
       "0             NaN        NaN  \n",
       "1             NaN        NaN  \n",
       "2             NaN        NaN  \n",
       "3             4.0          c  \n",
       "4             4.0          s  \n",
       "...           ...        ...  \n",
       "269832        4.0          s  \n",
       "269833        4.0          c  \n",
       "269834        6.0          s  \n",
       "269835        6.0          s  \n",
       "269836        4.0          e  \n",
       "\n",
       "[269837 rows x 9 columns]"
      ]
     },
     "execution_count": 309,
     "metadata": {},
     "output_type": "execute_result"
    }
   ],
   "source": [
    "soil_db"
   ]
  },
  {
   "cell_type": "markdown",
   "metadata": {},
   "source": [
    "now lets try and do some anaysis and take a stab at regression"
   ]
  },
  {
   "cell_type": "code",
   "execution_count": 277,
   "metadata": {},
   "outputs": [
    {
     "name": "stdout",
     "output_type": "stream",
     "text": [
      "<class 'pandas.core.frame.DataFrame'>\n",
      "Int64Index: 5567 entries, 7325 to 14715\n",
      "Data columns (total 90 columns):\n",
      " #   Column                          Non-Null Count  Dtype  \n",
      "---  ------                          --------------  -----  \n",
      " 0   geoid                           5567 non-null   int64  \n",
      " 1   parcelnumb                      5567 non-null   object \n",
      " 2   usecode                         4627 non-null   object \n",
      " 3   improvval                       4626 non-null   float64\n",
      " 4   landval                         4626 non-null   float64\n",
      " 5   parval                          4626 non-null   float64\n",
      " 6   owner                           4955 non-null   object \n",
      " 7   owner2                          1414 non-null   object \n",
      " 8   mailadd                         4627 non-null   object \n",
      " 9   mail_city                       4537 non-null   object \n",
      " 10  mail_state                      4578 non-null   object \n",
      " 11  mail_zip                        4578 non-null   object \n",
      " 12  address                         2340 non-null   object \n",
      " 13  saddno                          2340 non-null   object \n",
      " 14  saddpref                        1831 non-null   object \n",
      " 15  saddstr                         2340 non-null   object \n",
      " 16  saddsttyp                       2305 non-null   object \n",
      " 17  saddstsuf                       0 non-null      object \n",
      " 18  sunit                           16 non-null     object \n",
      " 19  scity                           2340 non-null   object \n",
      " 20  original_a                      2339 non-null   object \n",
      " 21  city                            5567 non-null   object \n",
      " 22  county                          5567 non-null   object \n",
      " 23  state2                          5567 non-null   object \n",
      " 24  szip                            5212 non-null   object \n",
      " 25  address_so                      5567 non-null   object \n",
      " 26  legaldesc                       4584 non-null   object \n",
      " 27  path                            5567 non-null   object \n",
      " 28  ll_uuid                         5567 non-null   object \n",
      " 29  ll_updated                      5567 non-null   object \n",
      " 30  homeowner_                      4626 non-null   float64\n",
      " 31  lot_area                        4627 non-null   float64\n",
      " 32  pers_prop_                      4626 non-null   float64\n",
      " 33  tax_area_c                      4954 non-null   float64\n",
      " 34  contract_n                      2745 non-null   object \n",
      " 35  contract_y                      2745 non-null   float64\n",
      " 36  non_renewa                      26 non-null     float64\n",
      " 37  use_high_b                      4627 non-null   object \n",
      " 38  use_second                      4627 non-null   object \n",
      " 39  qoz                             5567 non-null   object \n",
      " 40  qoz_tract                       1990 non-null   float64\n",
      " 41  ll_gisacre                      5567 non-null   float64\n",
      " 42  OBJECTID_1                      5567 non-null   int64  \n",
      " 43  DWR_revise                      1557 non-null   object \n",
      " 44  Symb_class                      5567 non-null   object \n",
      " 45  MULTIUSE                        5567 non-null   object \n",
      " 46  CLASS1                          5567 non-null   object \n",
      " 47  SUBCLASS1                       5567 non-null   object \n",
      " 48  SPECOND1                        5567 non-null   object \n",
      " 49  IRR_TYP1PA                      5567 non-null   object \n",
      " 50  IRR_TYP1PB                      5567 non-null   object \n",
      " 51  PCNT1                           5567 non-null   object \n",
      " 52  CLASS2                          5567 non-null   object \n",
      " 53  SUBCLASS2                       5567 non-null   object \n",
      " 54  SPECOND2                        5567 non-null   object \n",
      " 55  IRR_TYP2PA                      5567 non-null   object \n",
      " 56  IRR_TYP2PB                      5567 non-null   object \n",
      " 57  PCNT2                           5567 non-null   int64  \n",
      " 58  CLASS3                          5567 non-null   object \n",
      " 59  SUBCLASS3                       5567 non-null   object \n",
      " 60  SPECOND3                        5567 non-null   object \n",
      " 61  IRR_TYP3PA                      5567 non-null   object \n",
      " 62  IRR_TYP3PB                      5567 non-null   object \n",
      " 63  PCNT3                           5567 non-null   object \n",
      " 64  UCF_ATT                         5567 non-null   object \n",
      " 65  CROPTYP1                        5567 non-null   object \n",
      " 66  CROPTYP2                        5567 non-null   object \n",
      " 67  CROPTYP3                        5567 non-null   object \n",
      " 68  Region                          5567 non-null   object \n",
      " 69  Acres                           5567 non-null   float64\n",
      " 70  County_1                        5567 non-null   object \n",
      " 71  Source                          5567 non-null   object \n",
      " 72  Crop                            5567 non-null   object \n",
      " 73  Modified_B                      5567 non-null   object \n",
      " 74  Date_Data_                      5567 non-null   object \n",
      " 75  Last_Modif                      5567 non-null   object \n",
      " 76  GlobalID                        5567 non-null   object \n",
      " 77  Shape_Leng                      5567 non-null   float64\n",
      " 78  Shape_Area                      5567 non-null   float64\n",
      " 79  Planted All Purpose Acres       2143 non-null   object \n",
      " 80  Harvested Acres                 4867 non-null   object \n",
      " 81  Yield                           4867 non-null   object \n",
      " 82  Production                      5567 non-null   object \n",
      " 83  Price per Unit                  4738 non-null   object \n",
      " 84  Value of Production in Dollars  4867 non-null   object \n",
      " 85  Crop Unit Vale ($/acre          4867 non-null   float64\n",
      " 86  water_productivity              4867 non-null   object \n",
      " 87  applied_water_mil               5567 non-null   object \n",
      " 88  min_avail_water                 5567 non-null   object \n",
      " 89  min_water_rev                   4867 non-null   object \n",
      "dtypes: float64(15), int64(3), object(72)\n",
      "memory usage: 4.0+ MB\n"
     ]
    }
   ],
   "source": [
    "merged.info()"
   ]
  },
  {
   "cell_type": "markdown",
   "metadata": {},
   "source": [
    "For our purposes we want to use the following features for hedonic \n",
    "regression:\n",
    "\n",
    "- landval: parcel land value, based on assessor\n",
    "- ll_gisacre: parcel acreage, as in size\n",
    "- water_productivity: revenue in dollars per acre feet of water applied based on assigne dcrop to parcel \n",
    "- min_avail_water: minimum volume of water available to parcel based on assigned crop\n",
    "- min_water_rev:\n",
    "- soil_quality: \n",
    "- usecode(?)\n",
    "\n",
    "\n"
   ]
  },
  {
   "cell_type": "code",
   "execution_count": 278,
   "metadata": {},
   "outputs": [],
   "source": [
    "hedonic_db = merged[['landval', 'll_gisacre', 'water_productivity', 'min_avail_water', 'min_water_rev']]\n",
    "hedonic_db = hedonic_db.astype('float64')"
   ]
  },
  {
   "cell_type": "code",
   "execution_count": 279,
   "metadata": {},
   "outputs": [
    {
     "data": {
      "text/html": [
       "<div>\n",
       "<style scoped>\n",
       "    .dataframe tbody tr th:only-of-type {\n",
       "        vertical-align: middle;\n",
       "    }\n",
       "\n",
       "    .dataframe tbody tr th {\n",
       "        vertical-align: top;\n",
       "    }\n",
       "\n",
       "    .dataframe thead th {\n",
       "        text-align: right;\n",
       "    }\n",
       "</style>\n",
       "<table border=\"1\" class=\"dataframe\">\n",
       "  <thead>\n",
       "    <tr style=\"text-align: right;\">\n",
       "      <th></th>\n",
       "      <th>landval</th>\n",
       "      <th>ll_gisacre</th>\n",
       "      <th>water_productivity</th>\n",
       "      <th>min_avail_water</th>\n",
       "      <th>min_water_rev</th>\n",
       "    </tr>\n",
       "  </thead>\n",
       "  <tbody>\n",
       "    <tr>\n",
       "      <th>7325</th>\n",
       "      <td>NaN</td>\n",
       "      <td>3.72723</td>\n",
       "      <td>0.001043</td>\n",
       "      <td>19.381596</td>\n",
       "      <td>0.020220</td>\n",
       "    </tr>\n",
       "    <tr>\n",
       "      <th>7326</th>\n",
       "      <td>71400.0</td>\n",
       "      <td>2.20882</td>\n",
       "      <td>0.000618</td>\n",
       "      <td>11.485864</td>\n",
       "      <td>0.007101</td>\n",
       "    </tr>\n",
       "    <tr>\n",
       "      <th>7327</th>\n",
       "      <td>169766.0</td>\n",
       "      <td>47.03981</td>\n",
       "      <td>0.013167</td>\n",
       "      <td>244.607012</td>\n",
       "      <td>3.220648</td>\n",
       "    </tr>\n",
       "    <tr>\n",
       "      <th>7328</th>\n",
       "      <td>6465.0</td>\n",
       "      <td>1.30278</td>\n",
       "      <td>0.000365</td>\n",
       "      <td>6.774456</td>\n",
       "      <td>0.002470</td>\n",
       "    </tr>\n",
       "    <tr>\n",
       "      <th>7329</th>\n",
       "      <td>71741.0</td>\n",
       "      <td>16.03178</td>\n",
       "      <td>0.004487</td>\n",
       "      <td>83.365256</td>\n",
       "      <td>0.374090</td>\n",
       "    </tr>\n",
       "  </tbody>\n",
       "</table>\n",
       "</div>"
      ],
      "text/plain": [
       "       landval  ll_gisacre  water_productivity  min_avail_water  min_water_rev\n",
       "7325       NaN     3.72723            0.001043        19.381596       0.020220\n",
       "7326   71400.0     2.20882            0.000618        11.485864       0.007101\n",
       "7327  169766.0    47.03981            0.013167       244.607012       3.220648\n",
       "7328    6465.0     1.30278            0.000365         6.774456       0.002470\n",
       "7329   71741.0    16.03178            0.004487        83.365256       0.374090"
      ]
     },
     "execution_count": 279,
     "metadata": {},
     "output_type": "execute_result"
    }
   ],
   "source": [
    "hedonic_db.head()"
   ]
  },
  {
   "cell_type": "markdown",
   "metadata": {},
   "source": [
    "now lets examine some features"
   ]
  },
  {
   "cell_type": "code",
   "execution_count": 280,
   "metadata": {},
   "outputs": [
    {
     "name": "stdout",
     "output_type": "stream",
     "text": [
      "[4513   90    6    1    1    0   14    0    0    1] [       0.   1271987.2  2543974.4  3815961.6  5087948.8  6359936.\n",
      "  7631923.2  8903910.4 10175897.6 11447884.8 12719872. ]\n"
     ]
    },
    {
     "data": {
      "text/plain": [
       "<matplotlib.axes._subplots.AxesSubplot at 0x13e64a358>"
      ]
     },
     "execution_count": 280,
     "metadata": {},
     "output_type": "execute_result"
    },
    {
     "data": {
      "image/png": "[encoded data removed]",
      "text/plain": [
       "<matplotlib.figure.Figure at 0x13e649940>"
      ]
     },
     "metadata": {},
     "output_type": "display_data"
    }
   ],
   "source": [
    "#land value\n",
    "landval = hedonic_db['landval'].dropna()\n",
    "\n",
    "hist,bin_edges = np.histogram(landval)\n",
    "print(hist, bin_edges)\n",
    "\n",
    "#minimum = min(landval)\n",
    "#print(minimum)\n",
    "#maximum = max(landval)\n",
    "#print(maximum)\n",
    "\n",
    "hedonic_db['landval'].dropna().plot.hist(range=[np.min(landval), np.max(landval)])\n",
    "\n"
   ]
  },
  {
   "cell_type": "code",
   "execution_count": 281,
   "metadata": {
    "scrolled": true
   },
   "outputs": [
    {
     "name": "stderr",
     "output_type": "stream",
     "text": [
      "/Users/d/anaconda3/lib/python3.6/site-packages/pandas/core/series.py:679: RuntimeWarning: divide by zero encountered in log\n",
      "  result = getattr(ufunc, method)(*inputs, **kwargs)\n"
     ]
    },
    {
     "data": {
      "text/plain": [
       "<matplotlib.axes._subplots.AxesSubplot at 0x13e648940>"
      ]
     },
     "execution_count": 281,
     "metadata": {},
     "output_type": "execute_result"
    },
    {
     "data": {
      "image/png": "[encoded data removed]",
      "text/plain": [
       "<matplotlib.figure.Figure at 0x13e869898>"
      ]
     },
     "metadata": {},
     "output_type": "display_data"
    }
   ],
   "source": [
    "#log transform and replot\n",
    "ln_landval = np.log(landval)\n",
    "\n",
    "ln_landval.plot.hist(range=[0, np.max(ln_landval)])"
   ]
  },
  {
   "cell_type": "markdown",
   "metadata": {},
   "source": [
    "So it looks more normally distributed on a log scale so lets add it to the dataframe"
   ]
  },
  {
   "cell_type": "code",
   "execution_count": 282,
   "metadata": {},
   "outputs": [
    {
     "name": "stderr",
     "output_type": "stream",
     "text": [
      "/Users/d/anaconda3/lib/python3.6/site-packages/pandas/core/series.py:679: RuntimeWarning: divide by zero encountered in log\n",
      "  result = getattr(ufunc, method)(*inputs, **kwargs)\n"
     ]
    }
   ],
   "source": [
    "hedonic_db['ln_landval'] = np.log(hedonic_db['landval'])\n"
   ]
  },
  {
   "cell_type": "markdown",
   "metadata": {},
   "source": [
    "Lets see how correlated the values are before we try and regress them."
   ]
  },
  {
   "cell_type": "code",
   "execution_count": 283,
   "metadata": {},
   "outputs": [
    {
     "data": {
      "text/html": [
       "<div>\n",
       "<style scoped>\n",
       "    .dataframe tbody tr th:only-of-type {\n",
       "        vertical-align: middle;\n",
       "    }\n",
       "\n",
       "    .dataframe tbody tr th {\n",
       "        vertical-align: top;\n",
       "    }\n",
       "\n",
       "    .dataframe thead th {\n",
       "        text-align: right;\n",
       "    }\n",
       "</style>\n",
       "<table border=\"1\" class=\"dataframe\">\n",
       "  <thead>\n",
       "    <tr style=\"text-align: right;\">\n",
       "      <th></th>\n",
       "      <th>landval</th>\n",
       "      <th>ll_gisacre</th>\n",
       "      <th>water_productivity</th>\n",
       "      <th>min_avail_water</th>\n",
       "      <th>min_water_rev</th>\n",
       "      <th>ln_landval</th>\n",
       "    </tr>\n",
       "  </thead>\n",
       "  <tbody>\n",
       "    <tr>\n",
       "      <th>landval</th>\n",
       "      <td>1.000000</td>\n",
       "      <td>0.543984</td>\n",
       "      <td>0.337154</td>\n",
       "      <td>0.344102</td>\n",
       "      <td>0.380591</td>\n",
       "      <td>0.550926</td>\n",
       "    </tr>\n",
       "    <tr>\n",
       "      <th>ll_gisacre</th>\n",
       "      <td>0.543984</td>\n",
       "      <td>1.000000</td>\n",
       "      <td>0.501622</td>\n",
       "      <td>0.612042</td>\n",
       "      <td>0.567883</td>\n",
       "      <td>0.621474</td>\n",
       "    </tr>\n",
       "    <tr>\n",
       "      <th>water_productivity</th>\n",
       "      <td>0.337154</td>\n",
       "      <td>0.501622</td>\n",
       "      <td>1.000000</td>\n",
       "      <td>-0.093656</td>\n",
       "      <td>0.817632</td>\n",
       "      <td>0.319104</td>\n",
       "    </tr>\n",
       "    <tr>\n",
       "      <th>min_avail_water</th>\n",
       "      <td>0.344102</td>\n",
       "      <td>0.612042</td>\n",
       "      <td>-0.093656</td>\n",
       "      <td>1.000000</td>\n",
       "      <td>0.111864</td>\n",
       "      <td>0.410740</td>\n",
       "    </tr>\n",
       "    <tr>\n",
       "      <th>min_water_rev</th>\n",
       "      <td>0.380591</td>\n",
       "      <td>0.567883</td>\n",
       "      <td>0.817632</td>\n",
       "      <td>0.111864</td>\n",
       "      <td>1.000000</td>\n",
       "      <td>0.294563</td>\n",
       "    </tr>\n",
       "    <tr>\n",
       "      <th>ln_landval</th>\n",
       "      <td>0.550926</td>\n",
       "      <td>0.621474</td>\n",
       "      <td>0.319104</td>\n",
       "      <td>0.410740</td>\n",
       "      <td>0.294563</td>\n",
       "      <td>1.000000</td>\n",
       "    </tr>\n",
       "  </tbody>\n",
       "</table>\n",
       "</div>"
      ],
      "text/plain": [
       "                     landval  ll_gisacre  water_productivity  min_avail_water  \\\n",
       "landval             1.000000    0.543984            0.337154         0.344102   \n",
       "ll_gisacre          0.543984    1.000000            0.501622         0.612042   \n",
       "water_productivity  0.337154    0.501622            1.000000        -0.093656   \n",
       "min_avail_water     0.344102    0.612042           -0.093656         1.000000   \n",
       "min_water_rev       0.380591    0.567883            0.817632         0.111864   \n",
       "ln_landval          0.550926    0.621474            0.319104         0.410740   \n",
       "\n",
       "                    min_water_rev  ln_landval  \n",
       "landval                  0.380591    0.550926  \n",
       "ll_gisacre               0.567883    0.621474  \n",
       "water_productivity       0.817632    0.319104  \n",
       "min_avail_water          0.111864    0.410740  \n",
       "min_water_rev            1.000000    0.294563  \n",
       "ln_landval               0.294563    1.000000  "
      ]
     },
     "execution_count": 283,
     "metadata": {},
     "output_type": "execute_result"
    }
   ],
   "source": [
    "hedonic_db.corr()"
   ]
  },
  {
   "cell_type": "markdown",
   "metadata": {},
   "source": [
    "So no correlations that would suggest we shouldnt be using these variables. Next up is to try a simple, flawed model to wrap our heads around the results. We can go back and look at feature engineering and comparing log transformations"
   ]
  },
  {
   "cell_type": "code",
   "execution_count": 285,
   "metadata": {},
   "outputs": [],
   "source": [
    "# for the purposes of this first run we arent going to interpolate nan values, just drop them all \n",
    "hedonic_db = hedonic_db.dropna()\n",
    "hedonic_db =hedonic_db[~hedonic_db.isin([np.nan, np.inf, -np.inf]).any(1)]"
   ]
  },
  {
   "cell_type": "markdown",
   "metadata": {},
   "source": [
    "Now we are going to run a quick regression"
   ]
  },
  {
   "cell_type": "code",
   "execution_count": 286,
   "metadata": {
    "collapsed": true
   },
   "outputs": [],
   "source": [
    "y = hedonic_db['landval']\n",
    "y_ln = hedonic_db['ln_landval']\n",
    "\n",
    "\n",
    "\n",
    "X = hedonic_db[['ll_gisacre', 'min_water_rev', 'min_avail_water']]\n",
    "\n"
   ]
  },
  {
   "cell_type": "code",
   "execution_count": 287,
   "metadata": {
    "collapsed": true
   },
   "outputs": [],
   "source": [
    "X_train, X_test, y_train, y_test = train_test_split(X, y_ln, test_size=0.2, random_state=1)"
   ]
  },
  {
   "cell_type": "code",
   "execution_count": 288,
   "metadata": {
    "collapsed": true
   },
   "outputs": [],
   "source": [
    "scaler = StandardScaler()\n",
    "X_train = pd.DataFrame(scaler.fit_transform(X_train), columns=X_train.columns)\n",
    "X_test = pd.DataFrame(scaler.transform(X_test), columns=X_test.columns)"
   ]
  },
  {
   "cell_type": "code",
   "execution_count": 289,
   "metadata": {},
   "outputs": [
    {
     "name": "stdout",
     "output_type": "stream",
     "text": [
      "R-squared: 0.3866437762083227\n",
      "Intercept: 11.726601164994396\n",
      "Coefficients: [ 1.00894131 -0.13474559  0.05565639]\n",
      "\n",
      "================ SUMMARY TABLE WITH P-VALUES =================\n",
      "Residuals:\n",
      "    Min       1Q   Median        3Q       Max\n",
      "-22.881  11.5858  41.6579  131.0913  759.9252\n",
      "\n",
      "\n",
      "Coefficients:\n",
      "                  Estimate  Std. Error  t value   p value\n",
      "_intercept       11.726601    3.396373   3.4527  0.000561\n",
      "ll_gisacre        1.008941    0.026930  37.4646  0.000000\n",
      "min_water_rev    -0.134746    0.007540 -17.8707  0.000000\n",
      "min_avail_water   0.055656    0.008596   6.4747  0.000000\n",
      "---\n",
      "R-squared:  -12367.25063,    Adjusted R-squared:  -12376.59457\n",
      "F-statistic: -1323.56 on 3 features\n"
     ]
    }
   ],
   "source": [
    "ols = LinearRegression()\n",
    "ols.fit(X_train, y_train)\n",
    "\n",
    "print(\"R-squared:\", ols.score(X_train, y_train))\n",
    "print(\"Intercept:\", ols.intercept_)\n",
    "print(\"Coefficients:\", ols.coef_)\n",
    "\n",
    "print(\"\\n================ SUMMARY TABLE WITH P-VALUES =================\")\n",
    "xlabels = X.columns\n",
    "stats.summary(ols, X, y_ln, xlabels)"
   ]
  },
  {
   "cell_type": "code",
   "execution_count": 290,
   "metadata": {
    "collapsed": true
   },
   "outputs": [],
   "source": [
    "\n",
    "# Collect the coefficients\n",
    "df_ols_coef = pd.DataFrame(ols.coef_, index=X_train.columns, columns=['Coefficients'])\n",
    "df_ols_coef['Coef_abs'] = df_ols_coef.Coefficients.abs()"
   ]
  },
  {
   "cell_type": "code",
   "execution_count": 291,
   "metadata": {
    "collapsed": true
   },
   "outputs": [],
   "source": [
    "predictions_train = ols.predict(X_train)\n",
    "predictions_test = ols.predict(X_test)"
   ]
  },
  {
   "cell_type": "code",
   "execution_count": 292,
   "metadata": {},
   "outputs": [
    {
     "name": "stdout",
     "output_type": "stream",
     "text": [
      "Training Score: 0.3866437762083227\n",
      "Cross validation scores: [0.38107038 0.40725112 0.38975423 0.38193484 0.36514595]\n",
      "Mean cross validation score: 0.3850313043608744\n",
      "Test Score: 0.36315822963084643\n"
     ]
    }
   ],
   "source": [
    "# Perform 5-fold cross-validation on the training set\n",
    "cv_scores = cross_val_score(ols, X_train, y_train, cv=5)\n",
    "\n",
    "print('Training Score:', ols.score(X_train, y_train))\n",
    "print('Cross validation scores:', cv_scores)\n",
    "print('Mean cross validation score:', cv_scores.mean())\n",
    "print('Test Score:', ols.score(X_test, y_test))"
   ]
  },
  {
   "cell_type": "code",
   "execution_count": 293,
   "metadata": {},
   "outputs": [
    {
     "name": "stdout",
     "output_type": "stream",
     "text": [
      "Shuffled cross validation score: [0.37542225 0.41360178 0.41567562 0.35553113 0.37030095]\n",
      "Mean shuffled cross validation score: 0.38610634489515094\n"
     ]
    }
   ],
   "source": [
    "# Shuffled 5-fold cross validation scores are rather similar\n",
    "kf = KFold(n_splits=5, shuffle=True, random_state=1)\n",
    "cv_scores_shuffled = cross_val_score(ols, X_train, y_train, cv=kf)\n",
    "\n",
    "print('Shuffled cross validation score:', cv_scores_shuffled)\n",
    "print('Mean shuffled cross validation score:', cv_scores_shuffled.mean())"
   ]
  },
  {
   "cell_type": "code",
   "execution_count": 294,
   "metadata": {},
   "outputs": [
    {
     "name": "stdout",
     "output_type": "stream",
     "text": [
      "Mean Squared Error: 1.692023002112822\n",
      "Root Mean Squared Error: 1.3007778450268985\n"
     ]
    }
   ],
   "source": [
    "print('Mean Squared Error:', metrics.mean_squared_error(y_test, predictions_test)) \n",
    "print('Root Mean Squared Error:', (metrics.mean_squared_error(y_test, predictions_test))**0.5)"
   ]
  },
  {
   "cell_type": "code",
   "execution_count": 295,
   "metadata": {},
   "outputs": [
    {
     "data": {
      "text/plain": [
       "count    3.180000e+03\n",
       "mean    -3.463337e-16\n",
       "std      1.224673e+00\n",
       "min     -6.388411e+00\n",
       "25%     -4.883032e-01\n",
       "50%      2.904494e-01\n",
       "75%      6.478201e-01\n",
       "max      3.990116e+00\n",
       "Name: ln_landval, dtype: float64"
      ]
     },
     "execution_count": 295,
     "metadata": {},
     "output_type": "execute_result"
    }
   ],
   "source": [
    "ols_residuals_0609 = (y_train - predictions_train)\n",
    "ols_residuals_0609.describe()"
   ]
  },
  {
   "cell_type": "code",
   "execution_count": 296,
   "metadata": {},
   "outputs": [
    {
     "name": "stdout",
     "output_type": "stream",
     "text": [
      "Skew: -1.3017343322443\n",
      "Kurtosis: 3.106801088866016\n",
      "Shapiro-Wilk test on normality=0.911, p=0.000\n"
     ]
    }
   ],
   "source": [
    "print(\"Skew:\", ols_residuals_0609.skew())\n",
    "print(\"Kurtosis:\", ols_residuals_0609.kurtosis())\n",
    "stat, p = shapiro(ols_residuals_0609)\n",
    "print('Shapiro-Wilk test on normality=%.3f, p=%.3f' % (stat, p))"
   ]
  },
  {
   "cell_type": "code",
   "execution_count": 310,
   "metadata": {},
   "outputs": [
    {
     "ename": "AttributeError",
     "evalue": "module 'regressors.stats' has no attribute 'probplot'",
     "output_type": "error",
     "traceback": [
      "\u001b[0;31m---------------------------------------------------------------------------\u001b[0m",
      "\u001b[0;31mAttributeError\u001b[0m                            Traceback (most recent call last)",
      "\u001b[0;32m<ipython-input-310-d08eec751d89>\u001b[0m in \u001b[0;36m<module>\u001b[0;34m()\u001b[0m\n\u001b[0;32m----> 1\u001b[0;31m \u001b[0mstats\u001b[0m\u001b[0;34m.\u001b[0m\u001b[0mprobplot\u001b[0m\u001b[0;34m(\u001b[0m\u001b[0mols_residuals_0609\u001b[0m\u001b[0;34m,\u001b[0m \u001b[0mdist\u001b[0m\u001b[0;34m=\u001b[0m\u001b[0;34m\"norm\"\u001b[0m\u001b[0;34m,\u001b[0m \u001b[0mplot\u001b[0m\u001b[0;34m=\u001b[0m\u001b[0mplt\u001b[0m\u001b[0;34m)\u001b[0m\u001b[0;34m\u001b[0m\u001b[0m\n\u001b[0m\u001b[1;32m      2\u001b[0m \u001b[0mplt\u001b[0m\u001b[0;34m.\u001b[0m\u001b[0mtitle\u001b[0m\u001b[0;34m(\u001b[0m\u001b[0;34m\"Quantile-Quantile Plot training set\"\u001b[0m\u001b[0;34m)\u001b[0m\u001b[0;34m;\u001b[0m\u001b[0;34m\u001b[0m\u001b[0m\n",
      "\u001b[0;31mAttributeError\u001b[0m: module 'regressors.stats' has no attribute 'probplot'"
     ]
    }
   ],
   "source": [
    "stats.probplot(ols_residuals_0609, dist=\"norm\", plot=plt)\n",
    "plt.title(\"Quantile-Quantile Plot training set\");"
   ]
  },
  {
   "cell_type": "code",
   "execution_count": 298,
   "metadata": {},
   "outputs": [
    {
     "name": "stdout",
     "output_type": "stream",
     "text": [
      "      ll_gisacre  min_water_rev  min_avail_water\n",
      "0       0.321394      -0.206109         0.467731\n",
      "1      -0.318335      -0.214427        -0.439718\n",
      "2       0.370298      -0.226153        -0.102910\n",
      "3      -0.399760      -0.244889        -0.198245\n",
      "4      -0.661221      -0.248131        -0.449308\n",
      "...          ...            ...              ...\n",
      "3175    0.352855       0.029239        -0.411544\n",
      "3176   -0.614618      -0.245667        -0.420446\n",
      "3177    1.773099       1.320816        -0.351927\n",
      "3178   -0.192752      -0.229290         0.603453\n",
      "3179    3.534348       4.386345        -0.277995\n",
      "\n",
      "[3180 rows x 3 columns]\n"
     ]
    }
   ],
   "source": [
    "print(X_train)"
   ]
  },
  {
   "cell_type": "code",
   "execution_count": 299,
   "metadata": {},
   "outputs": [
    {
     "data": {
      "image/png": "[encoded data removed]",
      "text/plain": [
       "<matplotlib.figure.Figure at 0x13eac6b00>"
      ]
     },
     "metadata": {},
     "output_type": "display_data"
    }
   ],
   "source": [
    "\n",
    "# Plotting the OLS residuals against the predicted-y and 'min_avail_water'. The residuals appear well-behaved\n",
    "fig, ax = plt.subplots(ncols=2, figsize=(15, 5))\n",
    "ax[0].scatter(ols_residuals_0609, predictions_train)\n",
    "ax[0].set_title('Residuals vs Predicted Target', fontsize=12)\n",
    "\n",
    "ax[1].scatter(ols_residuals_0609, X_train.min_avail_water)\n",
    "ax[1].set_title('Residuals vs Minimum Available Water', fontsize=12);"
   ]
  },
  {
   "cell_type": "code",
   "execution_count": 300,
   "metadata": {},
   "outputs": [
    {
     "name": "stdout",
     "output_type": "stream",
     "text": [
      "Best Ridge alpha: 0.3593813663804626\n",
      "Training score: 0.38664375982781907\n",
      "Test Score: 0.36315425294527526\n"
     ]
    }
   ],
   "source": [
    "# Ridge Cross-Validation\n",
    "ridge_mod = RidgeCV(alphas=np.logspace(-4, 4, 10), cv=5)\n",
    "ridge_mod.fit(X_train, y_train)\n",
    "\n",
    "print('Best Ridge alpha:', ridge_mod.alpha_)\n",
    "print('Training score:', ridge_mod.score(X_train, y_train))\n",
    "print(\"Test Score:\", ridge_mod.score(X_test, y_test))"
   ]
  },
  {
   "cell_type": "code",
   "execution_count": 301,
   "metadata": {
    "collapsed": true
   },
   "outputs": [],
   "source": [
    "df_ridge_coef = pd.DataFrame(ridge_mod.coef_, index=X_train.columns,\n",
    "                       columns=['Coefficients'])\n",
    "df_ridge_coef['Coef_abs'] = df_ridge_coef.Coefficients.abs()"
   ]
  },
  {
   "cell_type": "code",
   "execution_count": 302,
   "metadata": {},
   "outputs": [
    {
     "name": "stdout",
     "output_type": "stream",
     "text": [
      "Cross-validated training scores: [0.38116417 0.40714431 0.3896653  0.38195207 0.3652297 ]\n",
      "Mean cross-validated training score: 0.3850311097525466\n",
      "Training Score: 0.3866428027355744\n",
      "Test Score: 0.36312685789702015\n"
     ]
    }
   ],
   "source": [
    "# Confirmed similar to the above Ridge CV scores\n",
    "ridge_mod = Ridge(alpha=2.78)\n",
    "\n",
    "scores = cross_val_score(ridge_mod, X_train, y_train, cv=5)\n",
    "print(\"Cross-validated training scores:\", scores)\n",
    "print(\"Mean cross-validated training score:\", scores.mean())\n",
    "\n",
    "ridge_mod.fit(X_train, y_train)\n",
    "print(\"Training Score:\", ridge_mod.score(X_train, y_train))\n",
    "print(\"Test Score:\", ridge_mod.score(X_test, y_test))"
   ]
  },
  {
   "cell_type": "code",
   "execution_count": 303,
   "metadata": {},
   "outputs": [
    {
     "name": "stdout",
     "output_type": "stream",
     "text": [
      "Best Lasso alpha: 0.000774263682681127\n",
      "Training score: 0.3866425393847578\n",
      "Test Score: 0.3631538012638147\n"
     ]
    }
   ],
   "source": [
    "lasso_mod = LassoCV(alphas=np.logspace(-4, 4, 10), cv=5)\n",
    "lasso_mod.fit(X_train, y_train)\n",
    "\n",
    "print('Best Lasso alpha:', lasso_mod.alpha_)\n",
    "print('Training score:', lasso_mod.score(X_train, y_train))\n",
    "print(\"Test Score:\", lasso_mod.score(X_test, y_test))"
   ]
  },
  {
   "cell_type": "code",
   "execution_count": 304,
   "metadata": {
    "collapsed": true
   },
   "outputs": [],
   "source": [
    "df_lasso_coef = pd.DataFrame(lasso_mod.coef_, index=X_train.columns,\n",
    "                       columns=['Coefficients'])\n",
    "df_lasso_coef['Coef_abs'] = df_lasso_coef.Coefficients.abs()"
   ]
  },
  {
   "cell_type": "code",
   "execution_count": 305,
   "metadata": {},
   "outputs": [],
   "source": [
    "coef = pd.concat([df_ols_coef['Coefficients'], df_ridge_coef['Coefficients'], df_lasso_coef['Coefficients']])\n",
    "coef = pd.DataFrame(coef)\n",
    "coef.reset_index(level=0, inplace=True)\n",
    "coef.columns = ['variable', 'coefficient']\n"
   ]
  },
  {
   "cell_type": "code",
   "execution_count": 215,
   "metadata": {
    "collapsed": true
   },
   "outputs": [],
   "source": [
    "coef.loc[0:2, \"model\"] = \"ols\"\n",
    "coef.loc[3:5, \"model\"] = \"ridge\"\n",
    "coef.loc[6:9, \"model\"] = \"lasso\""
   ]
  },
  {
   "cell_type": "code",
   "execution_count": null,
   "metadata": {
    "collapsed": true
   },
   "outputs": [],
   "source": []
  }
 ],
 "metadata": {
  "kernelspec": {
   "display_name": "Python 3",
   "language": "python",
   "name": "python3"
  },
  "language_info": {
   "codemirror_mode": {
    "name": "ipython",
    "version": 3
   },
   "file_extension": ".py",
   "mimetype": "text/x-python",
   "name": "python",
   "nbconvert_exporter": "python",
   "pygments_lexer": "ipython3",
   "version": "3.6.1"
  }
 },
 "nbformat": 4,
 "nbformat_minor": 2
}
