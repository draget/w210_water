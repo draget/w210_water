{
 "cells": [
  {
   "cell_type": "markdown",
   "metadata": {},
   "source": [
    "# Value of Water Hedonic Regression Notebook"
   ]
  },
  {
   "cell_type": "markdown",
   "metadata": {},
   "source": [
    "To build our hedonic regression model for the economic value of water inherent in the value of agricultural land we focused on Fresno County, CA as our sample area given its large amount of agricultural land parcels and the availability of relevant data. \n",
    "\n",
    "In order to hypothesize a measurable valuation of water we considered two variables related to water and land that we could measure: water sources and water uses\n",
    "\n",
    "In our model we operate under the assumptions that where water comes from and how it is distributed effects the value it has to land (e.g. distance it travels to land and whether or not the land is irrigated) in addition to how much is used and how water is used on the land (e.g. water used for cultivating crops can be related to the revenue from the sales of those crops)\n",
    "\n",
    "Our water source data includes:\n",
    "- Water rights data, which we use to measure the distance from water sources to each agricultural land parcel\n",
    "\n",
    "Our water uses data is compiled from:\n",
    "- Crop overlay and water use data, which allows us to approximate a total minimum water use on each agricultural land parcel, productivity in revenue by acre foot of water used (based on crop water usage, yield, and sales revenue per agricultural land parcel)\n",
    "\n",
    "We then considered the control variables necessary to help isolate simulated value in the model. This includes soil quality and land parcel data which contains improvements to land, land size, land use classification for agricultral land parcels, and soil quality.  \n",
    "\n",
    "We built our dataset around the land parcel data becuase it allowed us to compile our feature set by land parcel which was a requirement for the web tool we built for leveraging our regression model results. \n",
    "\n"
   ]
  },
  {
   "cell_type": "code",
   "execution_count": 2,
   "metadata": {
    "collapsed": true
   },
   "outputs": [],
   "source": [
    "import numpy as np\n",
    "from scipy import interpolate\n",
    "import scipy.stats as stats\n",
    "import matplotlib.pyplot as plt\n",
    "import pandas as pd\n",
    "import numpy as np\n",
    "from bs4 import BeautifulSoup\n",
    "from requests import get\n",
    "import json\n",
    "from collections import Counter\n",
    "import re\n",
    "import os\n",
    "from dateutil.parser import parse\n",
    "import operator\n",
    "from uuid import uuid4\n",
    "import sys\n",
    "import geopandas\n",
    "import shapefile\n",
    "import probscale\n",
    "import seaborn as sns\n",
    "\n",
    "#from regressors import stats"
   ]
  },
  {
   "cell_type": "code",
   "execution_count": 3,
   "metadata": {
    "collapsed": true
   },
   "outputs": [],
   "source": [
    "from scipy.special import comb \n",
    "from sklearn import metrics,linear_model\n",
    "from sklearn.model_selection import KFold, train_test_split, cross_val_score\n",
    "from sklearn.preprocessing import StandardScaler\n",
    "from sklearn.linear_model import LinearRegression, Ridge, Lasso, RidgeCV, LassoCV\n",
    "from statsmodels.graphics.gofplots import qqplot\n",
    "from scipy import stats\n",
    "from scipy.stats import shapiro"
   ]
  },
  {
   "cell_type": "code",
   "execution_count": 4,
   "metadata": {
    "collapsed": true
   },
   "outputs": [],
   "source": [
    "%matplotlib inline\n",
    "import warnings\n",
    "warnings.filterwarnings('ignore')"
   ]
  },
  {
   "cell_type": "markdown",
   "metadata": {},
   "source": [
    "### Dataset Aggregation\n",
    "\n",
    "The data we are using in our dataset has been compiled from:\n",
    "- \n",
    "- \n",
    "- \n",
    "- \n"
   ]
  },
  {
   "cell_type": "code",
   "execution_count": 102,
   "metadata": {
    "collapsed": true
   },
   "outputs": [],
   "source": [
    "#load in data\n",
    "landdata_location = 'data/joined_combined_filtered_mined_soil_water_df_td_13_4.csv'\n",
    "#waterusagedata_location = 'data/'\n",
    "cropdata_location = 'data/cacropyielddata.csv'\n",
    "#soildata_location1 = 'data/soil_data_east.csv'\n",
    "#soildata_location2 = 'data/soil_data_west.csv'\n",
    "#soildata_location3 = 'data/soil_data_750.csv'\n",
    "#soildata_location4 = 'data/soil_data_740.csv'\n",
    "\n",
    "ld = pd.read_csv(landdata_location)\n"
   ]
  },
  {
   "cell_type": "markdown",
   "metadata": {},
   "source": [
    "### Land Parcel Data\n",
    "\n",
    "The land dataset we are using here is a compilation of Landgrids us parcel data for fresno county, crop yeild data from ____ and ___ from ____"
   ]
  },
  {
   "cell_type": "markdown",
   "metadata": {},
   "source": [
    "First we need to examine the variables in our land data and remove and select our land features of potential interest. "
   ]
  },
  {
   "cell_type": "code",
   "execution_count": 103,
   "metadata": {},
   "outputs": [
    {
     "data": {
      "text/html": [
       "<div>\n",
       "<style scoped>\n",
       "    .dataframe tbody tr th:only-of-type {\n",
       "        vertical-align: middle;\n",
       "    }\n",
       "\n",
       "    .dataframe tbody tr th {\n",
       "        vertical-align: top;\n",
       "    }\n",
       "\n",
       "    .dataframe thead th {\n",
       "        text-align: right;\n",
       "    }\n",
       "</style>\n",
       "<table border=\"1\" class=\"dataframe\">\n",
       "  <thead>\n",
       "    <tr style=\"text-align: right;\">\n",
       "      <th></th>\n",
       "      <th>Unnamed: 0</th>\n",
       "      <th>Unnamed: 0.1</th>\n",
       "      <th>Unnamed: 0_x</th>\n",
       "      <th>geoid</th>\n",
       "      <th>sourceagent</th>\n",
       "      <th>improvval</th>\n",
       "      <th>landval</th>\n",
       "      <th>parval</th>\n",
       "      <th>mail_addstr</th>\n",
       "      <th>homeowner_exemp</th>\n",
       "      <th>...</th>\n",
       "      <th>nirrcapcl</th>\n",
       "      <th>castorieindex</th>\n",
       "      <th>CropETo</th>\n",
       "      <th>WaterApplied</th>\n",
       "      <th>NetWaterUse_Applied</th>\n",
       "      <th>Factor</th>\n",
       "      <th>AppliedFromETo</th>\n",
       "      <th>AppliedWater</th>\n",
       "      <th>TotalWater</th>\n",
       "      <th>water_dist</th>\n",
       "    </tr>\n",
       "  </thead>\n",
       "  <tbody>\n",
       "    <tr>\n",
       "      <th>count</th>\n",
       "      <td>25342.000000</td>\n",
       "      <td>25342.000000</td>\n",
       "      <td>25342.000000</td>\n",
       "      <td>25342.0</td>\n",
       "      <td>0.0</td>\n",
       "      <td>2.270600e+04</td>\n",
       "      <td>2.270600e+04</td>\n",
       "      <td>2.270600e+04</td>\n",
       "      <td>0.0</td>\n",
       "      <td>22706.000000</td>\n",
       "      <td>...</td>\n",
       "      <td>24051.000000</td>\n",
       "      <td>23583.000000</td>\n",
       "      <td>23081.000000</td>\n",
       "      <td>8521.000000</td>\n",
       "      <td>17720.000000</td>\n",
       "      <td>18408.000000</td>\n",
       "      <td>23081.000000</td>\n",
       "      <td>25342.000000</td>\n",
       "      <td>25342.000000</td>\n",
       "      <td>25342.000000</td>\n",
       "    </tr>\n",
       "    <tr>\n",
       "      <th>mean</th>\n",
       "      <td>12670.500000</td>\n",
       "      <td>12670.500000</td>\n",
       "      <td>12653.044866</td>\n",
       "      <td>6019.0</td>\n",
       "      <td>NaN</td>\n",
       "      <td>2.044906e+05</td>\n",
       "      <td>1.821032e+05</td>\n",
       "      <td>3.971233e+05</td>\n",
       "      <td>NaN</td>\n",
       "      <td>968.937946</td>\n",
       "      <td>...</td>\n",
       "      <td>4.637978</td>\n",
       "      <td>67.803248</td>\n",
       "      <td>2.721640</td>\n",
       "      <td>2.691810</td>\n",
       "      <td>2.642999</td>\n",
       "      <td>0.715431</td>\n",
       "      <td>2.821391</td>\n",
       "      <td>2.732964</td>\n",
       "      <td>3.799631</td>\n",
       "      <td>11.359627</td>\n",
       "    </tr>\n",
       "    <tr>\n",
       "      <th>std</th>\n",
       "      <td>7315.749597</td>\n",
       "      <td>7315.749597</td>\n",
       "      <td>7297.576590</td>\n",
       "      <td>0.0</td>\n",
       "      <td>NaN</td>\n",
       "      <td>5.281402e+05</td>\n",
       "      <td>2.789549e+05</td>\n",
       "      <td>8.606946e+05</td>\n",
       "      <td>NaN</td>\n",
       "      <td>2422.772977</td>\n",
       "      <td>...</td>\n",
       "      <td>1.204787</td>\n",
       "      <td>27.120829</td>\n",
       "      <td>0.571238</td>\n",
       "      <td>0.534447</td>\n",
       "      <td>0.953045</td>\n",
       "      <td>0.110369</td>\n",
       "      <td>0.816054</td>\n",
       "      <td>0.779756</td>\n",
       "      <td>0.779756</td>\n",
       "      <td>6.090116</td>\n",
       "    </tr>\n",
       "    <tr>\n",
       "      <th>min</th>\n",
       "      <td>0.000000</td>\n",
       "      <td>0.000000</td>\n",
       "      <td>0.000000</td>\n",
       "      <td>6019.0</td>\n",
       "      <td>NaN</td>\n",
       "      <td>0.000000e+00</td>\n",
       "      <td>0.000000e+00</td>\n",
       "      <td>0.000000e+00</td>\n",
       "      <td>NaN</td>\n",
       "      <td>0.000000</td>\n",
       "      <td>...</td>\n",
       "      <td>3.000000</td>\n",
       "      <td>1.000000</td>\n",
       "      <td>1.568333</td>\n",
       "      <td>0.600000</td>\n",
       "      <td>1.372093</td>\n",
       "      <td>0.428173</td>\n",
       "      <td>1.173810</td>\n",
       "      <td>0.600000</td>\n",
       "      <td>1.666667</td>\n",
       "      <td>0.125373</td>\n",
       "    </tr>\n",
       "    <tr>\n",
       "      <th>25%</th>\n",
       "      <td>6335.250000</td>\n",
       "      <td>6335.250000</td>\n",
       "      <td>6334.250000</td>\n",
       "      <td>6019.0</td>\n",
       "      <td>NaN</td>\n",
       "      <td>2.019400e+04</td>\n",
       "      <td>4.766700e+04</td>\n",
       "      <td>1.079668e+05</td>\n",
       "      <td>NaN</td>\n",
       "      <td>0.000000</td>\n",
       "      <td>...</td>\n",
       "      <td>4.000000</td>\n",
       "      <td>46.000000</td>\n",
       "      <td>2.303333</td>\n",
       "      <td>2.500000</td>\n",
       "      <td>1.860000</td>\n",
       "      <td>0.676627</td>\n",
       "      <td>2.223810</td>\n",
       "      <td>1.860000</td>\n",
       "      <td>2.926667</td>\n",
       "      <td>6.115502</td>\n",
       "    </tr>\n",
       "    <tr>\n",
       "      <th>50%</th>\n",
       "      <td>12670.500000</td>\n",
       "      <td>12670.500000</td>\n",
       "      <td>12663.500000</td>\n",
       "      <td>6019.0</td>\n",
       "      <td>NaN</td>\n",
       "      <td>9.008800e+04</td>\n",
       "      <td>1.027580e+05</td>\n",
       "      <td>2.265005e+05</td>\n",
       "      <td>NaN</td>\n",
       "      <td>0.000000</td>\n",
       "      <td>...</td>\n",
       "      <td>4.000000</td>\n",
       "      <td>76.000000</td>\n",
       "      <td>2.876667</td>\n",
       "      <td>2.700000</td>\n",
       "      <td>2.367052</td>\n",
       "      <td>0.708955</td>\n",
       "      <td>3.042857</td>\n",
       "      <td>2.700000</td>\n",
       "      <td>3.766667</td>\n",
       "      <td>11.903961</td>\n",
       "    </tr>\n",
       "    <tr>\n",
       "      <th>75%</th>\n",
       "      <td>19005.750000</td>\n",
       "      <td>19005.750000</td>\n",
       "      <td>18967.750000</td>\n",
       "      <td>6019.0</td>\n",
       "      <td>NaN</td>\n",
       "      <td>2.005930e+05</td>\n",
       "      <td>2.047005e+05</td>\n",
       "      <td>4.151655e+05</td>\n",
       "      <td>NaN</td>\n",
       "      <td>0.000000</td>\n",
       "      <td>...</td>\n",
       "      <td>4.000000</td>\n",
       "      <td>90.000000</td>\n",
       "      <td>3.257500</td>\n",
       "      <td>2.900000</td>\n",
       "      <td>3.537037</td>\n",
       "      <td>0.786568</td>\n",
       "      <td>3.586905</td>\n",
       "      <td>3.537037</td>\n",
       "      <td>4.603704</td>\n",
       "      <td>15.470906</td>\n",
       "    </tr>\n",
       "    <tr>\n",
       "      <th>max</th>\n",
       "      <td>25341.000000</td>\n",
       "      <td>25341.000000</td>\n",
       "      <td>25285.000000</td>\n",
       "      <td>6019.0</td>\n",
       "      <td>NaN</td>\n",
       "      <td>1.990775e+07</td>\n",
       "      <td>9.230949e+06</td>\n",
       "      <td>5.226432e+07</td>\n",
       "      <td>NaN</td>\n",
       "      <td>21000.000000</td>\n",
       "      <td>...</td>\n",
       "      <td>8.000000</td>\n",
       "      <td>100.000000</td>\n",
       "      <td>3.771667</td>\n",
       "      <td>4.500000</td>\n",
       "      <td>5.044273</td>\n",
       "      <td>1.229223</td>\n",
       "      <td>4.321429</td>\n",
       "      <td>4.530405</td>\n",
       "      <td>5.597072</td>\n",
       "      <td>34.048164</td>\n",
       "    </tr>\n",
       "  </tbody>\n",
       "</table>\n",
       "<p>8 rows × 48 columns</p>\n",
       "</div>"
      ],
      "text/plain": [
       "         Unnamed: 0  Unnamed: 0.1  Unnamed: 0_x    geoid  sourceagent  \\\n",
       "count  25342.000000  25342.000000  25342.000000  25342.0          0.0   \n",
       "mean   12670.500000  12670.500000  12653.044866   6019.0          NaN   \n",
       "std     7315.749597   7315.749597   7297.576590      0.0          NaN   \n",
       "min        0.000000      0.000000      0.000000   6019.0          NaN   \n",
       "25%     6335.250000   6335.250000   6334.250000   6019.0          NaN   \n",
       "50%    12670.500000  12670.500000  12663.500000   6019.0          NaN   \n",
       "75%    19005.750000  19005.750000  18967.750000   6019.0          NaN   \n",
       "max    25341.000000  25341.000000  25285.000000   6019.0          NaN   \n",
       "\n",
       "          improvval       landval        parval  mail_addstr  homeowner_exemp  \\\n",
       "count  2.270600e+04  2.270600e+04  2.270600e+04          0.0     22706.000000   \n",
       "mean   2.044906e+05  1.821032e+05  3.971233e+05          NaN       968.937946   \n",
       "std    5.281402e+05  2.789549e+05  8.606946e+05          NaN      2422.772977   \n",
       "min    0.000000e+00  0.000000e+00  0.000000e+00          NaN         0.000000   \n",
       "25%    2.019400e+04  4.766700e+04  1.079668e+05          NaN         0.000000   \n",
       "50%    9.008800e+04  1.027580e+05  2.265005e+05          NaN         0.000000   \n",
       "75%    2.005930e+05  2.047005e+05  4.151655e+05          NaN         0.000000   \n",
       "max    1.990775e+07  9.230949e+06  5.226432e+07          NaN     21000.000000   \n",
       "\n",
       "       ...     nirrcapcl  castorieindex       CropETo  WaterApplied  \\\n",
       "count  ...  24051.000000   23583.000000  23081.000000   8521.000000   \n",
       "mean   ...      4.637978      67.803248      2.721640      2.691810   \n",
       "std    ...      1.204787      27.120829      0.571238      0.534447   \n",
       "min    ...      3.000000       1.000000      1.568333      0.600000   \n",
       "25%    ...      4.000000      46.000000      2.303333      2.500000   \n",
       "50%    ...      4.000000      76.000000      2.876667      2.700000   \n",
       "75%    ...      4.000000      90.000000      3.257500      2.900000   \n",
       "max    ...      8.000000     100.000000      3.771667      4.500000   \n",
       "\n",
       "       NetWaterUse_Applied        Factor  AppliedFromETo  AppliedWater  \\\n",
       "count         17720.000000  18408.000000    23081.000000  25342.000000   \n",
       "mean              2.642999      0.715431        2.821391      2.732964   \n",
       "std               0.953045      0.110369        0.816054      0.779756   \n",
       "min               1.372093      0.428173        1.173810      0.600000   \n",
       "25%               1.860000      0.676627        2.223810      1.860000   \n",
       "50%               2.367052      0.708955        3.042857      2.700000   \n",
       "75%               3.537037      0.786568        3.586905      3.537037   \n",
       "max               5.044273      1.229223        4.321429      4.530405   \n",
       "\n",
       "         TotalWater    water_dist  \n",
       "count  25342.000000  25342.000000  \n",
       "mean       3.799631     11.359627  \n",
       "std        0.779756      6.090116  \n",
       "min        1.666667      0.125373  \n",
       "25%        2.926667      6.115502  \n",
       "50%        3.766667     11.903961  \n",
       "75%        4.603704     15.470906  \n",
       "max        5.597072     34.048164  \n",
       "\n",
       "[8 rows x 48 columns]"
      ]
     },
     "execution_count": 103,
     "metadata": {},
     "output_type": "execute_result"
    }
   ],
   "source": [
    "ld.describe()"
   ]
  },
  {
   "cell_type": "code",
   "execution_count": 104,
   "metadata": {},
   "outputs": [
    {
     "name": "stdout",
     "output_type": "stream",
     "text": [
      "Number of colums: 105\n",
      "Unnamed: 0, Unnamed: 0.1, Unnamed: 0_x, geoid, sourceagent, parcelnumb, usecode, improvval, landval, parval, owner, owner2, mailadd, mail_addstr, mail_city, mail_state2, mail_zip, address, saddno, saddpref, saddstr, saddsttyp, sunit, scity, original_address, city, county, state2, szip, address_source, legaldesc, path, ll_uuid, ll_updated_at, homeowner_exemp, lot_area, pers_prop_val, tax_area_code, contract_number, contract_year, non_renewal_year, use_high_best, use_secondary, qoz, qoz_tract, ll_gisacre, lng, lat, gdfindex, Acres_x, Crop2016_x, DWR_revise, Symb_class, MULTIUSE, CLASS1, SPECOND1, PCNT1, CLASS2, SUBCLASS2, SPECOND2, IRR_TYP2PA, UCF_ATT, CROPTYP1, CROPTYP2, Region, Acres, County, Crop2016, GlobalID, Shape_Leng, Shape_Area, land, imps, pp, mhome, tot, pnumb, firstfloor, secondfloor, addsize, tra, loc, bclass, year, gize, pool, psize, Unnamed: 0_y, intersect_area_acre, MUSYM, farmlndcl, irrcapcl, irrcapscl, nirrcapcl, nirrcalscl, castorieindex, Crop, CropETo, WaterApplied, NetWaterUse_Applied, Factor, AppliedFromETo, AppliedWater, TotalWater, water_dist\n"
     ]
    }
   ],
   "source": [
    "print('Number of colums:', len(ld.columns.tolist()))\n",
    "print(', '.join(ld.columns.tolist()))"
   ]
  },
  {
   "cell_type": "code",
   "execution_count": null,
   "metadata": {
    "collapsed": true
   },
   "outputs": [],
   "source": []
  },
  {
   "cell_type": "markdown",
   "metadata": {},
   "source": []
  },
  {
   "cell_type": "markdown",
   "metadata": {},
   "source": [
    "We have 101 potential features in our land dataset, however there are 16 columns related to the mailing address which are not valuable to our regression analysis. We also don't need the legal description(legaldesc) for example. \n",
    "\n",
    "\n",
    "<a href= \"https://docs.google.com/spreadsheets/d/14RcBKyiEGa7q-SR0rFnDHVcovb9uegPJ3sfb3WlNPc0/edit#gid=1010834424\"> Data dictionary for landgrid data </a> (citation)\n",
    "\n",
    "The features of relevance to our analysis include:\n",
    "- parcel number (for merging our california crop yeild data and water rights\n",
    "- acreage (parcel size)\n",
    "- crop (mapped to the parcel using arcgis and crop overlay data for Fresno County) \n",
    "- the value of buildings and personal property on the parcel (firstfloor, secondfloor, addsize, gize)\n",
    "- whether or not the parcel has a pool (as a proxy for purely residential land use),  \n",
    "\n",
    "With respect to creating methods for measuring water access we are interested in:\n",
    "- if the land is or isn't irrigated\n",
    "- the type of irrigation \n",
    "- water applied\n",
    "- net water use\n",
    "- volume of water available\n",
    "- distance from water source"
   ]
  },
  {
   "cell_type": "code",
   "execution_count": 541,
   "metadata": {},
   "outputs": [],
   "source": [
    "#select features of interest\n",
    "land_data = ld[['parcelnumb', 'szip', 'county', 'landval', 'parval', #parcel identifiers\n",
    "                'll_gisacre', #parcel size in acres\n",
    "                'Crop2016', #parcel crop\n",
    "                'firstfloor', 'secondfloor', 'gize', 'mhome', 'pool', 'addsize', 'pers_prop_val', #building information for parcel\n",
    "                'farmlndcl', 'irrcapcl', 'nirrcapcl',  'nirrcalscl', 'castorieindex', #parcel irrigation data\n",
    "                'TotalWater', 'water_dist']] #total applied water in acre feet of water based on crop\n",
    "\n",
    "#remove all na values s"
   ]
  },
  {
   "cell_type": "code",
   "execution_count": 542,
   "metadata": {},
   "outputs": [
    {
     "name": "stdout",
     "output_type": "stream",
     "text": [
      "25342\n"
     ]
    },
    {
     "data": {
      "text/html": [
       "<div>\n",
       "<style scoped>\n",
       "    .dataframe tbody tr th:only-of-type {\n",
       "        vertical-align: middle;\n",
       "    }\n",
       "\n",
       "    .dataframe tbody tr th {\n",
       "        vertical-align: top;\n",
       "    }\n",
       "\n",
       "    .dataframe thead th {\n",
       "        text-align: right;\n",
       "    }\n",
       "</style>\n",
       "<table border=\"1\" class=\"dataframe\">\n",
       "  <thead>\n",
       "    <tr style=\"text-align: right;\">\n",
       "      <th></th>\n",
       "      <th>parcelnumb</th>\n",
       "      <th>szip</th>\n",
       "      <th>county</th>\n",
       "      <th>landval</th>\n",
       "      <th>parval</th>\n",
       "      <th>ll_gisacre</th>\n",
       "      <th>Crop2016</th>\n",
       "      <th>firstfloor</th>\n",
       "      <th>secondfloor</th>\n",
       "      <th>gize</th>\n",
       "      <th>...</th>\n",
       "      <th>pool</th>\n",
       "      <th>addsize</th>\n",
       "      <th>pers_prop_val</th>\n",
       "      <th>farmlndcl</th>\n",
       "      <th>irrcapcl</th>\n",
       "      <th>nirrcapcl</th>\n",
       "      <th>nirrcalscl</th>\n",
       "      <th>castorieindex</th>\n",
       "      <th>TotalWater</th>\n",
       "      <th>water_dist</th>\n",
       "    </tr>\n",
       "  </thead>\n",
       "  <tbody>\n",
       "    <tr>\n",
       "      <th>0</th>\n",
       "      <td>37002003</td>\n",
       "      <td>93654-9320</td>\n",
       "      <td>fresno</td>\n",
       "      <td>207423.0</td>\n",
       "      <td>294187.0</td>\n",
       "      <td>16.97049</td>\n",
       "      <td>Grapes</td>\n",
       "      <td>0.0</td>\n",
       "      <td>0.0</td>\n",
       "      <td>0.0</td>\n",
       "      <td>...</td>\n",
       "      <td>False</td>\n",
       "      <td>0.0</td>\n",
       "      <td>0.0</td>\n",
       "      <td>Prime farmland if irrigated</td>\n",
       "      <td>2.0</td>\n",
       "      <td>4.0</td>\n",
       "      <td>s</td>\n",
       "      <td>95.0</td>\n",
       "      <td>2.926667</td>\n",
       "      <td>11.698670</td>\n",
       "    </tr>\n",
       "    <tr>\n",
       "      <th>1</th>\n",
       "      <td>36309061</td>\n",
       "      <td>93654-9635</td>\n",
       "      <td>fresno</td>\n",
       "      <td>47692.0</td>\n",
       "      <td>72821.0</td>\n",
       "      <td>8.68291</td>\n",
       "      <td>Miscellaneous Deciduous</td>\n",
       "      <td>1148.0</td>\n",
       "      <td>0.0</td>\n",
       "      <td>0.0</td>\n",
       "      <td>...</td>\n",
       "      <td>False</td>\n",
       "      <td>0.0</td>\n",
       "      <td>0.0</td>\n",
       "      <td>Farmland of statewide importance</td>\n",
       "      <td>3.0</td>\n",
       "      <td>4.0</td>\n",
       "      <td>s</td>\n",
       "      <td>45.0</td>\n",
       "      <td>4.360258</td>\n",
       "      <td>8.498322</td>\n",
       "    </tr>\n",
       "    <tr>\n",
       "      <th>2</th>\n",
       "      <td>05326007T</td>\n",
       "      <td>93656</td>\n",
       "      <td>fresno</td>\n",
       "      <td>NaN</td>\n",
       "      <td>NaN</td>\n",
       "      <td>11.46775</td>\n",
       "      <td>Almonds</td>\n",
       "      <td>NaN</td>\n",
       "      <td>NaN</td>\n",
       "      <td>NaN</td>\n",
       "      <td>...</td>\n",
       "      <td>False</td>\n",
       "      <td>NaN</td>\n",
       "      <td>NaN</td>\n",
       "      <td>Prime farmland if irrigated and drained</td>\n",
       "      <td>2.0</td>\n",
       "      <td>4.0</td>\n",
       "      <td>s</td>\n",
       "      <td>86.0</td>\n",
       "      <td>4.603704</td>\n",
       "      <td>7.014496</td>\n",
       "    </tr>\n",
       "    <tr>\n",
       "      <th>3</th>\n",
       "      <td>30932018</td>\n",
       "      <td>93657-9406</td>\n",
       "      <td>fresno</td>\n",
       "      <td>97978.0</td>\n",
       "      <td>162075.0</td>\n",
       "      <td>20.13240</td>\n",
       "      <td>Miscellaneous Truck Crops</td>\n",
       "      <td>0.0</td>\n",
       "      <td>0.0</td>\n",
       "      <td>0.0</td>\n",
       "      <td>...</td>\n",
       "      <td>False</td>\n",
       "      <td>0.0</td>\n",
       "      <td>0.0</td>\n",
       "      <td>Prime farmland if irrigated</td>\n",
       "      <td>3.0</td>\n",
       "      <td>4.0</td>\n",
       "      <td>e</td>\n",
       "      <td>72.0</td>\n",
       "      <td>3.223960</td>\n",
       "      <td>1.441799</td>\n",
       "    </tr>\n",
       "    <tr>\n",
       "      <th>4</th>\n",
       "      <td>00124003</td>\n",
       "      <td>93620-9451</td>\n",
       "      <td>fresno</td>\n",
       "      <td>16825.0</td>\n",
       "      <td>153086.0</td>\n",
       "      <td>6.81335</td>\n",
       "      <td>Cotton</td>\n",
       "      <td>1920.0</td>\n",
       "      <td>0.0</td>\n",
       "      <td>440.0</td>\n",
       "      <td>...</td>\n",
       "      <td>False</td>\n",
       "      <td>0.0</td>\n",
       "      <td>0.0</td>\n",
       "      <td>NaN</td>\n",
       "      <td>NaN</td>\n",
       "      <td>NaN</td>\n",
       "      <td>NaN</td>\n",
       "      <td>NaN</td>\n",
       "      <td>4.061667</td>\n",
       "      <td>9.344364</td>\n",
       "    </tr>\n",
       "  </tbody>\n",
       "</table>\n",
       "<p>5 rows × 21 columns</p>\n",
       "</div>"
      ],
      "text/plain": [
       "  parcelnumb        szip  county   landval    parval  ll_gisacre  \\\n",
       "0   37002003  93654-9320  fresno  207423.0  294187.0    16.97049   \n",
       "1   36309061  93654-9635  fresno   47692.0   72821.0     8.68291   \n",
       "2  05326007T       93656  fresno       NaN       NaN    11.46775   \n",
       "3   30932018  93657-9406  fresno   97978.0  162075.0    20.13240   \n",
       "4   00124003  93620-9451  fresno   16825.0  153086.0     6.81335   \n",
       "\n",
       "                    Crop2016  firstfloor  secondfloor   gize  ...   pool  \\\n",
       "0                     Grapes         0.0          0.0    0.0  ...  False   \n",
       "1    Miscellaneous Deciduous      1148.0          0.0    0.0  ...  False   \n",
       "2                    Almonds         NaN          NaN    NaN  ...  False   \n",
       "3  Miscellaneous Truck Crops         0.0          0.0    0.0  ...  False   \n",
       "4                     Cotton      1920.0          0.0  440.0  ...  False   \n",
       "\n",
       "  addsize  pers_prop_val                                farmlndcl irrcapcl  \\\n",
       "0     0.0            0.0              Prime farmland if irrigated      2.0   \n",
       "1     0.0            0.0         Farmland of statewide importance      3.0   \n",
       "2     NaN            NaN  Prime farmland if irrigated and drained      2.0   \n",
       "3     0.0            0.0              Prime farmland if irrigated      3.0   \n",
       "4     0.0            0.0                                      NaN      NaN   \n",
       "\n",
       "   nirrcapcl  nirrcalscl castorieindex  TotalWater  water_dist  \n",
       "0        4.0           s          95.0    2.926667   11.698670  \n",
       "1        4.0           s          45.0    4.360258    8.498322  \n",
       "2        4.0           s          86.0    4.603704    7.014496  \n",
       "3        4.0           e          72.0    3.223960    1.441799  \n",
       "4        NaN         NaN           NaN    4.061667    9.344364  \n",
       "\n",
       "[5 rows x 21 columns]"
      ]
     },
     "execution_count": 542,
     "metadata": {},
     "output_type": "execute_result"
    }
   ],
   "source": [
    "print(len(land_data))\n",
    "land_data.head()"
   ]
  },
  {
   "cell_type": "markdown",
   "metadata": {},
   "source": [
    "For the purposes of our analysis we decided to drop the na values for all records in our dataset instead of imputing them in some columns and dropping others. Given the methods of aggregation that went into our source data -- for much of the land data, based on county assessors in Fresno and for our crop data, based on crop map overlays -- imputing missing information could misrepresent the variability in our model."
   ]
  },
  {
   "cell_type": "code",
   "execution_count": 543,
   "metadata": {},
   "outputs": [
    {
     "name": "stdout",
     "output_type": "stream",
     "text": [
      "20638\n"
     ]
    }
   ],
   "source": [
    "land_data.dropna(inplace=True)\n",
    "\n",
    "print(len(land_data))"
   ]
  },
  {
   "cell_type": "markdown",
   "metadata": {},
   "source": [
    "After removing nan values we lost 4704 records, about 18% of the land dataset. We then turned our attention to folding in our crop yield data "
   ]
  },
  {
   "cell_type": "markdown",
   "metadata": {},
   "source": [
    "### Crop Yield Data"
   ]
  },
  {
   "cell_type": "code",
   "execution_count": 544,
   "metadata": {
    "collapsed": true
   },
   "outputs": [],
   "source": [
    "#first load in crop yield data\n",
    "crop_yield = pd.read_csv(cropdata_location)"
   ]
  },
  {
   "cell_type": "code",
   "execution_count": 545,
   "metadata": {},
   "outputs": [
    {
     "name": "stdout",
     "output_type": "stream",
     "text": [
      "Commodity, Planted All Purpose Acres, Harvested Acres, Yield, Production, Price per Unit, Value of Production in Dollars, Crop Unit Vale ($/acre\n"
     ]
    }
   ],
   "source": [
    "print(', '.join(crop_yield.columns.tolist()))"
   ]
  },
  {
   "cell_type": "markdown",
   "metadata": {},
   "source": [
    "From the crop yield data, we took the unit price of a crop per acre ('Crop Unit Vale ($/acre') for calculating parcel specific crop production values in dollars and a water productivity measurement (see below).\n",
    "\n",
    "In order to do that we matched our land data crops to the crops in the California crop yield dataset.<sup>1</sup>\n",
    "\n",
    "____\n",
    "<sup>1</sup> Citation needed"
   ]
  },
  {
   "cell_type": "code",
   "execution_count": 546,
   "metadata": {},
   "outputs": [
    {
     "name": "stdout",
     "output_type": "stream",
     "text": [
      "CA crop yield crops:\n",
      "\t ALFALFA, ALMONDS, APPLES, APRICOTS, ARTICHOKES, ARTICHOKES, FRESH MARKET, ARTICHOKES, UTILIZED, ASPARAGUS, ASPARAGUS, FRESH MARKET, ASPARAGUS, UTILIZED, BARLEY, BEANS, SNAP, BEANS, SNAP, FRESH MARKET, BEANS, SNAP, PROCESSING, BEANS, SNAP, UTILIZED, BROCCOLI, BROCCOLI, FRESH MARKET, BROCCOLI, PROCESSING, BROCCOLI, UTILIZED, CABBAGE, CABBAGE, FRESH MARKET, CABBAGE, PROCESSING, CABBAGE, UTILIZED, CARROTS, CARROTS, FRESH MARKET, CARROTS, PROCESSING, CARROTS, UTILIZED, CAULIFLOWER, CAULIFLOWER, FRESH MARKET, CAULIFLOWER, PROCESSING, CAULIFLOWER, UTILIZED, CELERY, CELERY, FRESH MARKET, CELERY, PROCESSING, CELERY, UTILIZED, CHERRIES, SWEET, CHICKPEAS, CORN, CORN, GRAIN, CORN, SILAGE, COTTON, COTTON, COTTONSEED, COTTON, PIMA, COTTON, UPLAND, CUCUMBERS, CUCUMBERS, FRESH MARKET, CUCUMBERS, PROCESSING, CUCUMBERS, UTILIZED, GARLIC, GARLIC, FRESH MARKET, GARLIC, PROCESSING, GARLIC, UTILIZED, GRAPEFRUIT, GRAPEFRUIT, FRESH MARKET, GRAPEFRUIT, PROCESSING, GRAPEFRUIT, UTILIZED, GRAPES, HAY, HAY & HAYLAGE, HAY & HAYLAGE, (EXCL ALFALFA), HAY & HAYLAGE, ALFALFA, HAY, (EXCL ALFALFA), HAYLAGE, HAYLAGE, (EXCL ALFALFA), HAYLAGE, ALFALFA, LEMONS, LEMONS, FRESH MARKET, LEMONS, PROCESSING, LEMONS, UTILIZED, LETTUCE, HEAD, LETTUCE, HEAD, FRESH MARKET, LETTUCE, HEAD, UTILIZED, LETTUCE, LEAF, LETTUCE, LEAF, FRESH MARKET, LETTUCE, LEAF, UTILIZED, LETTUCE, ROMAINE, LETTUCE, ROMAINE, FRESH MARKET, LETTUCE, ROMAINE, UTILIZED, MELONS, CANTALOUP, MELONS, CANTALOUP, FRESH MARKET, MELONS, CANTALOUP, UTILIZED, MELONS, HONEYDEW, MELONS, HONEYDEW, FRESH MARKET, MELONS, HONEYDEW, UTILIZED, MELONS, WATERMELON, MELONS, WATERMELON, FRESH MARKET, MELONS, WATERMELON, UTILIZED, OATS, ORANGES, ORANGES, FRESH MARKET, ORANGES, PROCESSING, ORANGES, UTILIZED, PEACHES, PEARS, PEPPERS, BELL, PEPPERS, BELL, FRESH MARKET, PEPPERS, BELL, PROCESSING, PEPPERS, BELL, UTILIZED, PEPPERS, CHILE, PEPPERS, CHILE, FRESH MARKET, PEPPERS, CHILE, PROCESSING, PEPPERS, CHILE, UTILIZED, POTATOES, PRUNES, PUMPKINS, PUMPKINS, FRESH MARKET, PUMPKINS, UTILIZED, RICE, SAFFLOWER, SPINACH, SPINACH, FRESH MARKET, SPINACH, PROCESSING, SPINACH, UTILIZED, SQUASH, SQUASH, FRESH MARKET, SQUASH, PROCESSING, SQUASH, UTILIZED, SUGARBEETS, SUNFLOWER, SWEET CORN, SWEET CORN, FRESH MARKET, SWEET CORN, UTILIZED, SWEET POTATOES, SWEET POTATOES, FRESH MARKET, SWEET POTATOES, PROCESSING, SWEET POTATOES, UTILIZED, TANGERINES, TANGERINES, FRESH MARKET, TANGERINES, PROCESSING, TANGERINES, UTILIZED, TOMATOES, TOMATOES, FRESH MARKET, TOMATOES, IN THE OPEN, TOMATOES, IN THE OPEN, FRESH MARKET, TOMATOES, IN THE OPEN, PROCESSING, TOMATOES, IN THE OPEN, UTILIZED, TOMATOES, PROCESSING, WHEAT, WHEAT, SPRING, DURUM, WHEAT, WINTER\n"
     ]
    }
   ],
   "source": [
    "#crop yield crops\n",
    "ca_crops = set(crop_yield['Commodity'].tolist())\n",
    "               \n",
    "print('CA crop yield crops:\\n\\t', ', '.join(sorted(ca_crops)))"
   ]
  },
  {
   "cell_type": "code",
   "execution_count": 547,
   "metadata": {},
   "outputs": [
    {
     "name": "stdout",
     "output_type": "stream",
     "text": [
      "Land Dataset crops:\n",
      "\t ALFALFA AND ALFALFA MIXTURES, ALMONDS, APPLES, BEANS (DRY), BUSH BERRIES, CARROTS, CHERRIES, CITRUS, COLE CROPS, CORN, SORGHUM AND SUDAN, COTTON, DATES, FLOWERS, NURSERY AND CHRISTMAS TREE FARMS, GRAPES, GREENHOUSE, KIWIS, LETTUCE/LEAFY GREENS, MELONS, SQUASH AND CUCUMBERS, MISCELLANEOUS DECIDUOUS, MISCELLANEOUS GRAIN AND HAY, MISCELLANEOUS GRASSES, MISCELLANEOUS SUBTROPICAL FRUITS, MISCELLANEOUS TRUCK CROPS, MIXED PASTURE, OLIVES, ONIONS AND GARLIC, PEACHES/NECTARINES, PEARS, PEPPERS, PISTACHIOS, PLUMS, PRUNES AND APRICOTS, POMEGRANATES, RICE, SAFFLOWER, STRAWBERRIES, SUNFLOWERS, TOMATOES, WALNUTS, WHEAT, YOUNG PERENNIALS\n"
     ]
    }
   ],
   "source": [
    "#land data crop list\n",
    "land_data['Crop2016'] = land_data['Crop2016'].str.upper()\n",
    "land_crops = set(land_data['Crop2016'].tolist())\n",
    "print('Land Dataset crops:\\n\\t', ', '.join(sorted(land_crops)))"
   ]
  },
  {
   "cell_type": "code",
   "execution_count": 548,
   "metadata": {},
   "outputs": [
    {
     "name": "stdout",
     "output_type": "stream",
     "text": [
      "Overlap: ALMONDS, APPLES, SAFFLOWER, GRAPES, CARROTS, WHEAT, RICE, COTTON, TOMATOES, PEARS\n"
     ]
    }
   ],
   "source": [
    "overlap = land_crops.intersection(ca_crops)\n",
    "print('Overlap:', ', '.join(overlap))"
   ]
  },
  {
   "cell_type": "markdown",
   "metadata": {},
   "source": [
    "While there is a good amount of overlap the California crop yield dataset had more crops, some extra text that preveneted a match, and some groupings that intersected a single crop in our land data so we had to make some decisions about which to include.  "
   ]
  },
  {
   "cell_type": "code",
   "execution_count": 549,
   "metadata": {},
   "outputs": [
    {
     "name": "stdout",
     "output_type": "stream",
     "text": [
      "Crops not matched in land dataset:\n",
      " ALFALFA AND ALFALFA MIXTURES, BEANS (DRY), BUSH BERRIES, CHERRIES, CITRUS, COLE CROPS, CORN, SORGHUM AND SUDAN, DATES, FLOWERS, NURSERY AND CHRISTMAS TREE FARMS, GREENHOUSE, KIWIS, LETTUCE/LEAFY GREENS, MELONS, SQUASH AND CUCUMBERS, MISCELLANEOUS DECIDUOUS, MISCELLANEOUS GRAIN AND HAY, MISCELLANEOUS GRASSES, MISCELLANEOUS SUBTROPICAL FRUITS, MISCELLANEOUS TRUCK CROPS, MIXED PASTURE, OLIVES, ONIONS AND GARLIC, PEACHES/NECTARINES, PEPPERS, PISTACHIOS, PLUMS, PRUNES AND APRICOTS, POMEGRANATES, STRAWBERRIES, SUNFLOWERS, WALNUTS, YOUNG PERENNIALS \n",
      "\n",
      "Crops left in the california crop dataset:\n",
      " ALFALFA, APRICOTS, ARTICHOKES, ARTICHOKES, FRESH MARKET, ARTICHOKES, UTILIZED, ASPARAGUS, ASPARAGUS, FRESH MARKET, ASPARAGUS, UTILIZED, BARLEY, BEANS, SNAP, BEANS, SNAP, FRESH MARKET, BEANS, SNAP, PROCESSING, BEANS, SNAP, UTILIZED, BROCCOLI, BROCCOLI, FRESH MARKET, BROCCOLI, PROCESSING, BROCCOLI, UTILIZED, CABBAGE, CABBAGE, FRESH MARKET, CABBAGE, PROCESSING, CABBAGE, UTILIZED, CARROTS, FRESH MARKET, CARROTS, PROCESSING, CARROTS, UTILIZED, CAULIFLOWER, CAULIFLOWER, FRESH MARKET, CAULIFLOWER, PROCESSING, CAULIFLOWER, UTILIZED, CELERY, CELERY, FRESH MARKET, CELERY, PROCESSING, CELERY, UTILIZED, CHERRIES, SWEET, CHICKPEAS, CORN, CORN, GRAIN, CORN, SILAGE, COTTON, COTTONSEED, COTTON, PIMA, COTTON, UPLAND, CUCUMBERS, CUCUMBERS, FRESH MARKET, CUCUMBERS, PROCESSING, CUCUMBERS, UTILIZED, GARLIC, GARLIC, FRESH MARKET, GARLIC, PROCESSING, GARLIC, UTILIZED, GRAPEFRUIT, GRAPEFRUIT, FRESH MARKET, GRAPEFRUIT, PROCESSING, GRAPEFRUIT, UTILIZED, HAY, HAY & HAYLAGE, HAY & HAYLAGE, (EXCL ALFALFA), HAY & HAYLAGE, ALFALFA, HAY, (EXCL ALFALFA), HAYLAGE, HAYLAGE, (EXCL ALFALFA), HAYLAGE, ALFALFA, LEMONS, LEMONS, FRESH MARKET, LEMONS, PROCESSING, LEMONS, UTILIZED, LETTUCE, HEAD, LETTUCE, HEAD, FRESH MARKET, LETTUCE, HEAD, UTILIZED, LETTUCE, LEAF, LETTUCE, LEAF, FRESH MARKET, LETTUCE, LEAF, UTILIZED, LETTUCE, ROMAINE, LETTUCE, ROMAINE, FRESH MARKET, LETTUCE, ROMAINE, UTILIZED, MELONS, CANTALOUP, MELONS, CANTALOUP, FRESH MARKET, MELONS, CANTALOUP, UTILIZED, MELONS, HONEYDEW, MELONS, HONEYDEW, FRESH MARKET, MELONS, HONEYDEW, UTILIZED, MELONS, WATERMELON, MELONS, WATERMELON, FRESH MARKET, MELONS, WATERMELON, UTILIZED, OATS, ORANGES, ORANGES, FRESH MARKET, ORANGES, PROCESSING, ORANGES, UTILIZED, PEACHES, PEPPERS, BELL, PEPPERS, BELL, FRESH MARKET, PEPPERS, BELL, PROCESSING, PEPPERS, BELL, UTILIZED, PEPPERS, CHILE, PEPPERS, CHILE, FRESH MARKET, PEPPERS, CHILE, PROCESSING, PEPPERS, CHILE, UTILIZED, POTATOES, PRUNES, PUMPKINS, PUMPKINS, FRESH MARKET, PUMPKINS, UTILIZED, SPINACH, SPINACH, FRESH MARKET, SPINACH, PROCESSING, SPINACH, UTILIZED, SQUASH, SQUASH, FRESH MARKET, SQUASH, PROCESSING, SQUASH, UTILIZED, SUGARBEETS, SUNFLOWER, SWEET CORN, SWEET CORN, FRESH MARKET, SWEET CORN, UTILIZED, SWEET POTATOES, SWEET POTATOES, FRESH MARKET, SWEET POTATOES, PROCESSING, SWEET POTATOES, UTILIZED, TANGERINES, TANGERINES, FRESH MARKET, TANGERINES, PROCESSING, TANGERINES, UTILIZED, TOMATOES, FRESH MARKET, TOMATOES, IN THE OPEN, TOMATOES, IN THE OPEN, FRESH MARKET, TOMATOES, IN THE OPEN, PROCESSING, TOMATOES, IN THE OPEN, UTILIZED, TOMATOES, PROCESSING, WHEAT, SPRING, DURUM, WHEAT, WINTER\n"
     ]
    }
   ],
   "source": [
    "land_remaining = land_crops - overlap\n",
    "\n",
    "ca_remaining = ca_crops - overlap\n",
    "\n",
    "print('Crops not matched in land dataset:\\n', ', '.join(sorted(list(land_remaining))), '\\n')\n",
    "\n",
    "print('Crops left in the california crop dataset:\\n', ', '.join(sorted(list(ca_remaining))))\n"
   ]
  },
  {
   "cell_type": "markdown",
   "metadata": {},
   "source": [
    "We adjusted the labeling for alfalfa, beans, corn, lettuce, 'melons, squash, and cucumber', miscellaneous grain and hay, garlic, peaches, prunes and apricots, potatoes and sweet potatoes, sunflower. Where there were seemingly duplicate crop records, we made sure to select the crop data containing a 'Price per Unit' value."
   ]
  },
  {
   "cell_type": "code",
   "execution_count": 550,
   "metadata": {
    "collapsed": true
   },
   "outputs": [],
   "source": [
    "land_data = land_data.replace({'ALFALFA AND ALFALFA MIXTURES':'ALFALFA', 'BEANS (DRY)': 'BEANS, SNAP', \n",
    "            'CORN, SORGHUM AND SUDAN':'CORN, GRAIN', 'LETTUCE/LEAFY GREENS':'LETTUCE, HEAD', \n",
    "            'MISCELLANEOUS GRAIN AND HAY': 'HAY, (EXCL ALFALFA)', 'ONIONS AND GARLIC': 'GARLIC', \n",
    "            'PEACHES/NECTARINES': 'PEACHES', 'PLUMS, PRUNES AND APRICOTS': 'PRUNES', \n",
    "            'POTATOES AND SWEET POTATOES': 'POTATOES', 'SUNFLOWERS': 'SUNFLOWER', 'TOMATOES': 'TOMATOES, IN THE OPEN', \n",
    "            'COTTON': 'COTTON, COTTONSEED', 'CHERRIES':'CHERRIES, SWEET', 'SQUASH AND CUCUMBERS': 'SQUASH', })\n",
    "\n"
   ]
  },
  {
   "cell_type": "markdown",
   "metadata": {},
   "source": [
    "We then looked at the overlap again and dropped the rows that dont overlap"
   ]
  },
  {
   "cell_type": "code",
   "execution_count": 551,
   "metadata": {},
   "outputs": [
    {
     "name": "stdout",
     "output_type": "stream",
     "text": [
      "Matched: {'ALMONDS', 'CORN, GRAIN', 'APPLES', 'TOMATOES, IN THE OPEN', 'SAFFLOWER', 'GRAPES', 'CARROTS', 'PRUNES', 'WHEAT', 'BEANS, SNAP', 'COTTON, COTTONSEED', 'HAY, (EXCL ALFALFA)', 'GARLIC', 'CHERRIES, SWEET', 'RICE', 'ALFALFA', 'LETTUCE, HEAD', 'PEACHES', 'SUNFLOWER', 'PEARS'}\n"
     ]
    }
   ],
   "source": [
    "newland_crops = set(land_data['Crop2016'].tolist())\n",
    "\n",
    "overlap = newland_crops.intersection(ca_crops)\n",
    "print('Matched:', overlap)"
   ]
  },
  {
   "cell_type": "code",
   "execution_count": 552,
   "metadata": {
    "collapsed": true
   },
   "outputs": [],
   "source": [
    "incrop = list(overlap)\n",
    "\n",
    "available_crops = land_data['Crop2016'].isin(incrop)\n",
    "\n",
    "land_matched = land_data[available_crops]"
   ]
  },
  {
   "cell_type": "code",
   "execution_count": 553,
   "metadata": {},
   "outputs": [
    {
     "data": {
      "text/plain": [
       "14429"
      ]
     },
     "execution_count": 553,
     "metadata": {},
     "output_type": "execute_result"
    }
   ],
   "source": [
    "len(land_matched)"
   ]
  },
  {
   "cell_type": "markdown",
   "metadata": {},
   "source": [
    "With the available crop data we were able to match 14,429 records to our California crop yield data. "
   ]
  },
  {
   "cell_type": "code",
   "execution_count": 554,
   "metadata": {
    "collapsed": true
   },
   "outputs": [],
   "source": [
    "#get matched crops in ca crop yield\n",
    "\n",
    "available_commodity = crop_yield['Commodity'].isin(incrop)\n",
    "\n",
    "ca_crops = crop_yield[available_commodity]\n",
    "\n"
   ]
  },
  {
   "cell_type": "code",
   "execution_count": 555,
   "metadata": {
    "collapsed": true
   },
   "outputs": [],
   "source": [
    "#rename columns to merge\n",
    "\n",
    "ca_crops.rename(columns = {'Commodity': 'FinalCrop'}, inplace=True)\n",
    "merge_crops = ca_crops[['FinalCrop', 'Crop Unit Vale ($/acre']]\n",
    "\n",
    "land_matched.rename(columns = {'Crop2016': 'FinalCrop'}, inplace=True)\n",
    "\n",
    "\n"
   ]
  },
  {
   "cell_type": "code",
   "execution_count": 788,
   "metadata": {
    "collapsed": true
   },
   "outputs": [],
   "source": [
    "#now merge\n",
    "\n",
    "full_set = land_matched.merge(merge_crops, on='FinalCrop')"
   ]
  },
  {
   "cell_type": "markdown",
   "metadata": {},
   "source": [
    "Checking to see if values were merged in \n"
   ]
  },
  {
   "cell_type": "code",
   "execution_count": 789,
   "metadata": {},
   "outputs": [
    {
     "name": "stdout",
     "output_type": "stream",
     "text": [
      "GRAPES\n",
      "5840.0\n"
     ]
    }
   ],
   "source": [
    "print(full_set.iloc[0]['FinalCrop'])\n",
    "print(full_set.iloc[0]['Crop Unit Vale ($/acre'])\n"
   ]
  },
  {
   "cell_type": "markdown",
   "metadata": {
    "collapsed": true
   },
   "source": [
    "## Feature Engineering"
   ]
  },
  {
   "cell_type": "markdown",
   "metadata": {},
   "source": [
    "Based on our hypothesized value of water variables we thought the 'minimimum available water per parcel' would be helpful in our analysis in addition to the 'minimum water revenue per parcel'.\n",
    "\n",
    "\n",
    "We also wanted to explore whether or not 'water productivity'<sup>1</sup>- the economic value produced per acre-foot of water applied to the parcel crop, as measured in dollars per acre-foot - would be a good proxy for waters value as it relates to land value. \n",
    "\n",
    "We also wanted to see if controlling for the total monetary value of crops producable per parcel would be helpful in the model. \n",
    "\n",
    "\n",
    "____\n",
    "<sup>1</sup> citation needed"
   ]
  },
  {
   "cell_type": "markdown",
   "metadata": {},
   "source": [
    "Now we add two columns to our dataset to hold our applied water in millions of acre feet and our water productivity column and fill in both"
   ]
  },
  {
   "cell_type": "code",
   "execution_count": 790,
   "metadata": {},
   "outputs": [],
   "source": [
    "full_set['crop_rev'] = None\n",
    "full_set['water_productivity'] = None\n",
    "full_set['min_avail_water'] = None\n",
    "full_set['min_water_rev'] = None"
   ]
  },
  {
   "cell_type": "markdown",
   "metadata": {},
   "source": [
    "The 'crop_rev' feature is the total monetary value of crops per parcel using crop unit value * parcel acres where crop unit value is derived from the per crop CA total production in revenue divided by total harvested acres in the california crop yield dataset. \n",
    "\n",
    "We recognize this method is a bit crude given that not all acres on a given parcel are used entirely for cultivating crops. For the purposes of this exploration we created the measurement to look at its potential benefit in our analysis. "
   ]
  },
  {
   "cell_type": "code",
   "execution_count": 791,
   "metadata": {},
   "outputs": [],
   "source": [
    "full_set['Crop Unit Vale ($/acre'] = full_set['Crop Unit Vale ($/acre'].astype('float64')\n",
    "\n",
    "\n",
    "\n",
    "for i, r in full_set.iterrows():\n",
    "    full_set.at[i,'crop_rev'] = r['Crop Unit Vale ($/acre'] * r['ll_gisacre']\n",
    "    \n",
    "full_set['crop_rev'] = full_set['crop_rev'].astype('float64')\n",
    "    "
   ]
  },
  {
   "cell_type": "markdown",
   "metadata": {},
   "source": [
    "The 'water_productivity' feature is the parcel crop revenue value per acre divided by the total water per acre of applied water to the crop. "
   ]
  },
  {
   "cell_type": "code",
   "execution_count": 792,
   "metadata": {},
   "outputs": [],
   "source": [
    "\n",
    "for i, r in full_set.iterrows():\n",
    "\n",
    "\n",
    "    #divide millions by millions to get a revenue per acre feet of water applied\n",
    "    converted = r['TotalWater'] * 1000000\n",
    "\n",
    "    full_set.at[i, 'water_productivity'] = float(r['crop_rev'])/converted\n",
    "\n",
    "  \n",
    "full_set['water_productivity'] = full_set['water_productivity'].astype('float64')"
   ]
  },
  {
   "cell_type": "code",
   "execution_count": 793,
   "metadata": {},
   "outputs": [
    {
     "data": {
      "text/plain": [
       "0    0.033864\n",
       "1    0.071694\n",
       "2    0.314373\n",
       "3    0.026831\n",
       "4    0.077111\n",
       "Name: water_productivity, dtype: float64"
      ]
     },
     "execution_count": 793,
     "metadata": {},
     "output_type": "execute_result"
    }
   ],
   "source": [
    "full_set['water_productivity'].head()"
   ]
  },
  {
   "cell_type": "markdown",
   "metadata": {
    "collapsed": true
   },
   "source": [
    "The minimum water available per parcel was derved using the acre feet applied per crop * parcel acreage"
   ]
  },
  {
   "cell_type": "code",
   "execution_count": 794,
   "metadata": {
    "collapsed": true
   },
   "outputs": [],
   "source": [
    "for i, r in full_set.iterrows():\n",
    "\n",
    "    \n",
    "    full_set.at[i, 'min_avail_water'] = r['TotalWater'] * r['ll_gisacre'] \n",
    "\n",
    "full_set['min_avail_water'] = full_set['min_avail_water'].astype('float64')"
   ]
  },
  {
   "cell_type": "code",
   "execution_count": 795,
   "metadata": {},
   "outputs": [
    {
     "data": {
      "text/plain": [
       "0     49.666967\n",
       "1    105.151621\n",
       "2    461.082900\n",
       "3     39.351989\n",
       "4    113.096673\n",
       "Name: min_avail_water, dtype: float64"
      ]
     },
     "execution_count": 795,
     "metadata": {},
     "output_type": "execute_result"
    }
   ],
   "source": [
    "full_set['min_avail_water'].head()"
   ]
  },
  {
   "cell_type": "markdown",
   "metadata": {},
   "source": [
    "We then used the water productivity value to get a potential revenue total value from the number of acres. We took our min_avail_water in acre-feet and multiplied that by our water productivity value to get a min water revenue in dollars."
   ]
  },
  {
   "cell_type": "code",
   "execution_count": 796,
   "metadata": {
    "collapsed": true
   },
   "outputs": [],
   "source": [
    "for i, r in full_set.iterrows():\n",
    "\n",
    "    full_set.at[i, 'min_water_rev'] = r['min_avail_water'] * r['water_productivity'] \n",
    "    \n",
    "\n",
    "full_set['min_water_rev'] = full_set['min_water_rev'].astype('float64')"
   ]
  },
  {
   "cell_type": "code",
   "execution_count": 797,
   "metadata": {
    "scrolled": true
   },
   "outputs": [
    {
     "data": {
      "text/plain": [
       "0          1.681906\n",
       "1          7.538731\n",
       "2        144.952048\n",
       "3          1.055844\n",
       "4          8.720994\n",
       "            ...    \n",
       "14424      0.009663\n",
       "14425      0.620649\n",
       "14426      0.009145\n",
       "14427      0.177085\n",
       "14428      0.011488\n",
       "Name: min_water_rev, Length: 14429, dtype: float64"
      ]
     },
     "execution_count": 797,
     "metadata": {},
     "output_type": "execute_result"
    }
   ],
   "source": [
    "full_set['min_water_rev']"
   ]
  },
  {
   "cell_type": "markdown",
   "metadata": {},
   "source": [
    "Given that we are focusing on agricultural land we decided to remove the parcels which had the presence of a swimming pool, as they denoted a residential use for the parcel"
   ]
  },
  {
   "cell_type": "code",
   "execution_count": 798,
   "metadata": {
    "collapsed": true
   },
   "outputs": [],
   "source": [
    "\n",
    "#exclude pools\n",
    "full_set.drop(full_set[full_set['pool'] == True].index, inplace=True)\n",
    "\n"
   ]
  },
  {
   "cell_type": "code",
   "execution_count": 799,
   "metadata": {},
   "outputs": [
    {
     "data": {
      "text/plain": [
       "0        False\n",
       "1        False\n",
       "2        False\n",
       "3        False\n",
       "4        False\n",
       "         ...  \n",
       "14424    False\n",
       "14425    False\n",
       "14426    False\n",
       "14427    False\n",
       "14428    False\n",
       "Name: pool, Length: 13630, dtype: bool"
      ]
     },
     "execution_count": 799,
     "metadata": {},
     "output_type": "execute_result"
    }
   ],
   "source": [
    "full_set['pool']"
   ]
  },
  {
   "cell_type": "markdown",
   "metadata": {},
   "source": [
    "Lets do some work on the land value by summing building land size and excluding those records with a pool"
   ]
  },
  {
   "cell_type": "code",
   "execution_count": 800,
   "metadata": {
    "collapsed": true
   },
   "outputs": [],
   "source": [
    "full_set[\"add_g_size\"] = full_set[\"addsize\"] + full_set[\"gize\"]\n",
    "full_set[\"add_g_size\"] = full_set[\"add_g_size\"].astype('float64')"
   ]
  },
  {
   "cell_type": "markdown",
   "metadata": {},
   "source": [
    "## Feature Analysis"
   ]
  },
  {
   "cell_type": "markdown",
   "metadata": {},
   "source": [
    "After compiling our data we wanted to conduct some univariate and bivariate analysis on our variables to see what has potential in regression analysis. \n"
   ]
  },
  {
   "cell_type": "code",
   "execution_count": 801,
   "metadata": {},
   "outputs": [
    {
     "name": "stdout",
     "output_type": "stream",
     "text": [
      "Featureset: parcelnumb, szip, county, landval, parval, ll_gisacre, FinalCrop, firstfloor, secondfloor, gize, mhome, pool, addsize, pers_prop_val, farmlndcl, irrcapcl, nirrcapcl, nirrcalscl, castorieindex, TotalWater, water_dist, Crop Unit Vale ($/acre, crop_rev, water_productivity, min_avail_water, min_water_rev, add_g_size\n"
     ]
    }
   ],
   "source": [
    "print('Featureset:', ', '.join(full_set.columns))"
   ]
  },
  {
   "cell_type": "code",
   "execution_count": 802,
   "metadata": {},
   "outputs": [
    {
     "data": {
      "text/html": [
       "<div>\n",
       "<style scoped>\n",
       "    .dataframe tbody tr th:only-of-type {\n",
       "        vertical-align: middle;\n",
       "    }\n",
       "\n",
       "    .dataframe tbody tr th {\n",
       "        vertical-align: top;\n",
       "    }\n",
       "\n",
       "    .dataframe thead th {\n",
       "        text-align: right;\n",
       "    }\n",
       "</style>\n",
       "<table border=\"1\" class=\"dataframe\">\n",
       "  <thead>\n",
       "    <tr style=\"text-align: right;\">\n",
       "      <th></th>\n",
       "      <th>landval</th>\n",
       "      <th>parval</th>\n",
       "      <th>ll_gisacre</th>\n",
       "      <th>firstfloor</th>\n",
       "      <th>secondfloor</th>\n",
       "      <th>gize</th>\n",
       "      <th>mhome</th>\n",
       "      <th>addsize</th>\n",
       "      <th>pers_prop_val</th>\n",
       "      <th>irrcapcl</th>\n",
       "      <th>nirrcapcl</th>\n",
       "      <th>castorieindex</th>\n",
       "      <th>TotalWater</th>\n",
       "      <th>water_dist</th>\n",
       "      <th>Crop Unit Vale ($/acre</th>\n",
       "      <th>crop_rev</th>\n",
       "      <th>water_productivity</th>\n",
       "      <th>min_avail_water</th>\n",
       "      <th>min_water_rev</th>\n",
       "      <th>add_g_size</th>\n",
       "    </tr>\n",
       "  </thead>\n",
       "  <tbody>\n",
       "    <tr>\n",
       "      <th>count</th>\n",
       "      <td>1.363000e+04</td>\n",
       "      <td>1.363000e+04</td>\n",
       "      <td>13630.000000</td>\n",
       "      <td>13630.000000</td>\n",
       "      <td>13630.000000</td>\n",
       "      <td>13630.000000</td>\n",
       "      <td>13630.000000</td>\n",
       "      <td>13630.000000</td>\n",
       "      <td>1.363000e+04</td>\n",
       "      <td>13630.000000</td>\n",
       "      <td>13630.000000</td>\n",
       "      <td>13630.000000</td>\n",
       "      <td>13630.000000</td>\n",
       "      <td>13630.000000</td>\n",
       "      <td>11744.000000</td>\n",
       "      <td>1.174400e+04</td>\n",
       "      <td>11744.000000</td>\n",
       "      <td>13630.000000</td>\n",
       "      <td>1.174400e+04</td>\n",
       "      <td>13630.000000</td>\n",
       "    </tr>\n",
       "    <tr>\n",
       "      <th>mean</th>\n",
       "      <td>1.838440e+05</td>\n",
       "      <td>3.697223e+05</td>\n",
       "      <td>46.708659</td>\n",
       "      <td>1107.571827</td>\n",
       "      <td>26.857594</td>\n",
       "      <td>162.871900</td>\n",
       "      <td>577.059428</td>\n",
       "      <td>44.784006</td>\n",
       "      <td>2.175156e+04</td>\n",
       "      <td>2.265371</td>\n",
       "      <td>4.587968</td>\n",
       "      <td>71.537417</td>\n",
       "      <td>3.684189</td>\n",
       "      <td>11.969699</td>\n",
       "      <td>5201.802976</td>\n",
       "      <td>2.444403e+05</td>\n",
       "      <td>0.066903</td>\n",
       "      <td>180.212053</td>\n",
       "      <td>4.585257e+01</td>\n",
       "      <td>207.655906</td>\n",
       "    </tr>\n",
       "    <tr>\n",
       "      <th>std</th>\n",
       "      <td>2.704524e+05</td>\n",
       "      <td>7.563466e+05</td>\n",
       "      <td>81.421718</td>\n",
       "      <td>7435.743812</td>\n",
       "      <td>177.635441</td>\n",
       "      <td>859.455181</td>\n",
       "      <td>4981.569927</td>\n",
       "      <td>234.019843</td>\n",
       "      <td>2.503725e+05</td>\n",
       "      <td>0.876527</td>\n",
       "      <td>1.150181</td>\n",
       "      <td>25.870165</td>\n",
       "      <td>0.777842</td>\n",
       "      <td>5.658416</td>\n",
       "      <td>2212.243147</td>\n",
       "      <td>4.904888e+05</td>\n",
       "      <td>0.133574</td>\n",
       "      <td>329.043107</td>\n",
       "      <td>2.291858e+02</td>\n",
       "      <td>918.074267</td>\n",
       "    </tr>\n",
       "    <tr>\n",
       "      <th>min</th>\n",
       "      <td>0.000000e+00</td>\n",
       "      <td>0.000000e+00</td>\n",
       "      <td>0.007320</td>\n",
       "      <td>0.000000</td>\n",
       "      <td>0.000000</td>\n",
       "      <td>0.000000</td>\n",
       "      <td>0.000000</td>\n",
       "      <td>0.000000</td>\n",
       "      <td>0.000000e+00</td>\n",
       "      <td>1.000000</td>\n",
       "      <td>3.000000</td>\n",
       "      <td>3.000000</td>\n",
       "      <td>2.438760</td>\n",
       "      <td>0.279622</td>\n",
       "      <td>363.409836</td>\n",
       "      <td>5.236736e+00</td>\n",
       "      <td>0.000002</td>\n",
       "      <td>0.021423</td>\n",
       "      <td>7.546136e-08</td>\n",
       "      <td>0.000000</td>\n",
       "    </tr>\n",
       "    <tr>\n",
       "      <th>25%</th>\n",
       "      <td>5.150525e+04</td>\n",
       "      <td>1.089202e+05</td>\n",
       "      <td>4.749678</td>\n",
       "      <td>0.000000</td>\n",
       "      <td>0.000000</td>\n",
       "      <td>0.000000</td>\n",
       "      <td>0.000000</td>\n",
       "      <td>0.000000</td>\n",
       "      <td>0.000000e+00</td>\n",
       "      <td>2.000000</td>\n",
       "      <td>4.000000</td>\n",
       "      <td>57.000000</td>\n",
       "      <td>2.926667</td>\n",
       "      <td>7.224683</td>\n",
       "      <td>5840.000000</td>\n",
       "      <td>1.445731e+04</td>\n",
       "      <td>0.004171</td>\n",
       "      <td>17.502717</td>\n",
       "      <td>7.796189e-02</td>\n",
       "      <td>0.000000</td>\n",
       "    </tr>\n",
       "    <tr>\n",
       "      <th>50%</th>\n",
       "      <td>1.078085e+05</td>\n",
       "      <td>2.218005e+05</td>\n",
       "      <td>19.569145</td>\n",
       "      <td>0.000000</td>\n",
       "      <td>0.000000</td>\n",
       "      <td>0.000000</td>\n",
       "      <td>0.000000</td>\n",
       "      <td>0.000000</td>\n",
       "      <td>0.000000e+00</td>\n",
       "      <td>2.000000</td>\n",
       "      <td>4.000000</td>\n",
       "      <td>77.000000</td>\n",
       "      <td>3.600193</td>\n",
       "      <td>12.649338</td>\n",
       "      <td>5840.000000</td>\n",
       "      <td>1.110120e+05</td>\n",
       "      <td>0.031773</td>\n",
       "      <td>72.781438</td>\n",
       "      <td>2.173540e+00</td>\n",
       "      <td>0.000000</td>\n",
       "    </tr>\n",
       "    <tr>\n",
       "      <th>75%</th>\n",
       "      <td>2.100220e+05</td>\n",
       "      <td>4.028700e+05</td>\n",
       "      <td>40.531590</td>\n",
       "      <td>1296.000000</td>\n",
       "      <td>0.000000</td>\n",
       "      <td>0.000000</td>\n",
       "      <td>0.000000</td>\n",
       "      <td>0.000000</td>\n",
       "      <td>0.000000e+00</td>\n",
       "      <td>3.000000</td>\n",
       "      <td>4.000000</td>\n",
       "      <td>95.000000</td>\n",
       "      <td>4.603704</td>\n",
       "      <td>15.673171</td>\n",
       "      <td>6176.250000</td>\n",
       "      <td>2.290742e+05</td>\n",
       "      <td>0.072815</td>\n",
       "      <td>173.037101</td>\n",
       "      <td>9.167945e+00</td>\n",
       "      <td>155.000000</td>\n",
       "    </tr>\n",
       "    <tr>\n",
       "      <th>max</th>\n",
       "      <td>8.312000e+06</td>\n",
       "      <td>4.857407e+07</td>\n",
       "      <td>918.587540</td>\n",
       "      <td>408030.000000</td>\n",
       "      <td>4944.000000</td>\n",
       "      <td>67200.000000</td>\n",
       "      <td>182200.000000</td>\n",
       "      <td>9130.000000</td>\n",
       "      <td>1.179470e+07</td>\n",
       "      <td>6.000000</td>\n",
       "      <td>7.000000</td>\n",
       "      <td>100.000000</td>\n",
       "      <td>5.597072</td>\n",
       "      <td>33.513405</td>\n",
       "      <td>12121.370370</td>\n",
       "      <td>7.815969e+06</td>\n",
       "      <td>2.311442</td>\n",
       "      <td>3645.871531</td>\n",
       "      <td>5.039807e+03</td>\n",
       "      <td>67200.000000</td>\n",
       "    </tr>\n",
       "  </tbody>\n",
       "</table>\n",
       "</div>"
      ],
      "text/plain": [
       "            landval        parval    ll_gisacre     firstfloor   secondfloor  \\\n",
       "count  1.363000e+04  1.363000e+04  13630.000000   13630.000000  13630.000000   \n",
       "mean   1.838440e+05  3.697223e+05     46.708659    1107.571827     26.857594   \n",
       "std    2.704524e+05  7.563466e+05     81.421718    7435.743812    177.635441   \n",
       "min    0.000000e+00  0.000000e+00      0.007320       0.000000      0.000000   \n",
       "25%    5.150525e+04  1.089202e+05      4.749678       0.000000      0.000000   \n",
       "50%    1.078085e+05  2.218005e+05     19.569145       0.000000      0.000000   \n",
       "75%    2.100220e+05  4.028700e+05     40.531590    1296.000000      0.000000   \n",
       "max    8.312000e+06  4.857407e+07    918.587540  408030.000000   4944.000000   \n",
       "\n",
       "               gize          mhome       addsize  pers_prop_val      irrcapcl  \\\n",
       "count  13630.000000   13630.000000  13630.000000   1.363000e+04  13630.000000   \n",
       "mean     162.871900     577.059428     44.784006   2.175156e+04      2.265371   \n",
       "std      859.455181    4981.569927    234.019843   2.503725e+05      0.876527   \n",
       "min        0.000000       0.000000      0.000000   0.000000e+00      1.000000   \n",
       "25%        0.000000       0.000000      0.000000   0.000000e+00      2.000000   \n",
       "50%        0.000000       0.000000      0.000000   0.000000e+00      2.000000   \n",
       "75%        0.000000       0.000000      0.000000   0.000000e+00      3.000000   \n",
       "max    67200.000000  182200.000000   9130.000000   1.179470e+07      6.000000   \n",
       "\n",
       "          nirrcapcl  castorieindex    TotalWater    water_dist  \\\n",
       "count  13630.000000   13630.000000  13630.000000  13630.000000   \n",
       "mean       4.587968      71.537417      3.684189     11.969699   \n",
       "std        1.150181      25.870165      0.777842      5.658416   \n",
       "min        3.000000       3.000000      2.438760      0.279622   \n",
       "25%        4.000000      57.000000      2.926667      7.224683   \n",
       "50%        4.000000      77.000000      3.600193     12.649338   \n",
       "75%        4.000000      95.000000      4.603704     15.673171   \n",
       "max        7.000000     100.000000      5.597072     33.513405   \n",
       "\n",
       "       Crop Unit Vale ($/acre      crop_rev  water_productivity  \\\n",
       "count            11744.000000  1.174400e+04        11744.000000   \n",
       "mean              5201.802976  2.444403e+05            0.066903   \n",
       "std               2212.243147  4.904888e+05            0.133574   \n",
       "min                363.409836  5.236736e+00            0.000002   \n",
       "25%               5840.000000  1.445731e+04            0.004171   \n",
       "50%               5840.000000  1.110120e+05            0.031773   \n",
       "75%               6176.250000  2.290742e+05            0.072815   \n",
       "max              12121.370370  7.815969e+06            2.311442   \n",
       "\n",
       "       min_avail_water  min_water_rev    add_g_size  \n",
       "count     13630.000000   1.174400e+04  13630.000000  \n",
       "mean        180.212053   4.585257e+01    207.655906  \n",
       "std         329.043107   2.291858e+02    918.074267  \n",
       "min           0.021423   7.546136e-08      0.000000  \n",
       "25%          17.502717   7.796189e-02      0.000000  \n",
       "50%          72.781438   2.173540e+00      0.000000  \n",
       "75%         173.037101   9.167945e+00    155.000000  \n",
       "max        3645.871531   5.039807e+03  67200.000000  "
      ]
     },
     "execution_count": 802,
     "metadata": {},
     "output_type": "execute_result"
    }
   ],
   "source": [
    "full_set.describe()"
   ]
  },
  {
   "cell_type": "markdown",
   "metadata": {},
   "source": [
    "mean values for land, acreage, water dist, min avail water"
   ]
  },
  {
   "cell_type": "code",
   "execution_count": 803,
   "metadata": {},
   "outputs": [
    {
     "data": {
      "text/plain": [
       "array([[<matplotlib.axes._subplots.AxesSubplot object at 0x145a5eac8>,\n",
       "        <matplotlib.axes._subplots.AxesSubplot object at 0x145a00080>,\n",
       "        <matplotlib.axes._subplots.AxesSubplot object at 0x148bfd9e8>,\n",
       "        <matplotlib.axes._subplots.AxesSubplot object at 0x145b9cda0>],\n",
       "       [<matplotlib.axes._subplots.AxesSubplot object at 0x1475f72b0>,\n",
       "        <matplotlib.axes._subplots.AxesSubplot object at 0x143b49080>,\n",
       "        <matplotlib.axes._subplots.AxesSubplot object at 0x149ad1438>,\n",
       "        <matplotlib.axes._subplots.AxesSubplot object at 0x149bbd5f8>],\n",
       "       [<matplotlib.axes._subplots.AxesSubplot object at 0x149bbd5c0>,\n",
       "        <matplotlib.axes._subplots.AxesSubplot object at 0x14280e2e8>,\n",
       "        <matplotlib.axes._subplots.AxesSubplot object at 0x1445593c8>,\n",
       "        <matplotlib.axes._subplots.AxesSubplot object at 0x13debf2e8>],\n",
       "       [<matplotlib.axes._subplots.AxesSubplot object at 0x13de0fcc0>,\n",
       "        <matplotlib.axes._subplots.AxesSubplot object at 0x13decf978>,\n",
       "        <matplotlib.axes._subplots.AxesSubplot object at 0x14379a828>,\n",
       "        <matplotlib.axes._subplots.AxesSubplot object at 0x148bec518>],\n",
       "       [<matplotlib.axes._subplots.AxesSubplot object at 0x13dda7c88>,\n",
       "        <matplotlib.axes._subplots.AxesSubplot object at 0x143b5c438>,\n",
       "        <matplotlib.axes._subplots.AxesSubplot object at 0x145b30ba8>,\n",
       "        <matplotlib.axes._subplots.AxesSubplot object at 0x149a51358>],\n",
       "       [<matplotlib.axes._subplots.AxesSubplot object at 0x148a8dac8>,\n",
       "        <matplotlib.axes._subplots.AxesSubplot object at 0x149bb3278>,\n",
       "        <matplotlib.axes._subplots.AxesSubplot object at 0x140b389e8>,\n",
       "        <matplotlib.axes._subplots.AxesSubplot object at 0x14bc7b198>]],\n",
       "      dtype=object)"
      ]
     },
     "execution_count": 803,
     "metadata": {},
     "output_type": "execute_result"
    },
    {
     "data": {
      "image/png": "[encoded data removed]",
      "text/plain": [
       "<Figure size 1440x1440 with 24 Axes>"
      ]
     },
     "metadata": {},
     "output_type": "display_data"
    }
   ],
   "source": [
    "full_set.hist(layout=(6,4), figsize=(20,20), bins=10)"
   ]
  },
  {
   "cell_type": "markdown",
   "metadata": {},
   "source": [
    "Noticeably our water distane metric is the only regularly distributed feature set. Our target variable for regression, 'landval' (land value) is positive skewed along with most of our numerical features. To see if we can get a more normal distribution on those we will perform a log transformation\n",
    "\n",
    "We also have some clear categorical features in 'farmlndcl', 'irrcapcl', 'nirrcapcl', and 'nirrcalscl' which have to do with irrigation \n",
    "\n",
    "We also have an ordinal feature with 'castorieindex'\n",
    "\n"
   ]
  },
  {
   "cell_type": "code",
   "execution_count": 805,
   "metadata": {},
   "outputs": [
    {
     "data": {
      "text/plain": [
       "array([[<matplotlib.axes._subplots.AxesSubplot object at 0x148b5f2b0>,\n",
       "        <matplotlib.axes._subplots.AxesSubplot object at 0x14d4a84e0>,\n",
       "        <matplotlib.axes._subplots.AxesSubplot object at 0x14d495c50>],\n",
       "       [<matplotlib.axes._subplots.AxesSubplot object at 0x14ab06400>,\n",
       "        <matplotlib.axes._subplots.AxesSubplot object at 0x14aafbb70>,\n",
       "        <matplotlib.axes._subplots.AxesSubplot object at 0x14aec8320>],\n",
       "       [<matplotlib.axes._subplots.AxesSubplot object at 0x14d185a90>,\n",
       "        <matplotlib.axes._subplots.AxesSubplot object at 0x147d80208>,\n",
       "        <matplotlib.axes._subplots.AxesSubplot object at 0x147d80278>],\n",
       "       [<matplotlib.axes._subplots.AxesSubplot object at 0x1474b3160>,\n",
       "        <matplotlib.axes._subplots.AxesSubplot object at 0x146d668d0>,\n",
       "        <matplotlib.axes._subplots.AxesSubplot object at 0x146ddf080>]],\n",
       "      dtype=object)"
      ]
     },
     "execution_count": 805,
     "metadata": {},
     "output_type": "execute_result"
    },
    {
     "data": {
      "image/png": "[encoded data removed]",
      "text/plain": [
       "<Figure size 1440x1440 with 12 Axes>"
      ]
     },
     "metadata": {},
     "output_type": "display_data"
    }
   ],
   "source": [
    "full_set['landval_log'] = np.log(full_set['landval'])\n",
    "full_set['ll_gisacre_log'] = np.log(full_set['ll_gisacre'])\n",
    "full_set['TotalWater_log'] = np.log(full_set['TotalWater'])\n",
    "full_set['min_avail_water_log'] = np.log(full_set['min_avail_water'])\n",
    "full_set['firstfloor_log'] = np.log(full_set['firstfloor'])\n",
    "full_set['secondfloor_log'] = np.log(full_set['secondfloor'])\n",
    "full_set['add_g_size_log'] = np.log(full_set['add_g_size'])\n",
    "full_set['water_productivity_log'] = np.log(full_set['water_productivity'])\n",
    "full_set['castorieindex_log'] = np.log(full_set['castorieindex'])\n",
    "full_set['crop_rev_log'] = np.log(full_set['crop_rev'])\n",
    "\n",
    "\n",
    "\n",
    "full_set[np.isfinite(full_set[['landval_log', 'TotalWater_log', 'min_avail_water_log', 'firstfloor_log', 'secondfloor_log', 'll_gisacre_log','add_g_size_log', 'water_productivity_log', 'castorieindex_log', 'crop_rev_log']])][['landval_log', 'll_gisacre_log', 'TotalWater_log', 'min_avail_water_log', 'firstfloor_log', 'secondfloor_log','add_g_size_log', 'water_productivity_log', 'castorieindex_log', 'crop_rev_log']].hist(figsize=(20,20), layout=(4,3))\n",
    "\n",
    "\n",
    "\n"
   ]
  },
  {
   "cell_type": "markdown",
   "metadata": {},
   "source": [
    "After applying log transforms to our positively skewed numerical features we see a clear change in the distribution for land value, acreage, minimum water available, and the parcel building size features. \n",
    "\n",
    "\n",
    "\n"
   ]
  },
  {
   "cell_type": "code",
   "execution_count": 806,
   "metadata": {},
   "outputs": [
    {
     "data": {
      "text/plain": [
       "<matplotlib.axes._subplots.AxesSubplot at 0x147c9a630>"
      ]
     },
     "execution_count": 806,
     "metadata": {},
     "output_type": "execute_result"
    },
    {
     "data": {
      "image/png": "[encoded data removed]",
      "text/plain": [
       "<Figure size 720x576 with 2 Axes>"
      ]
     },
     "metadata": {},
     "output_type": "display_data"
    }
   ],
   "source": [
    "f, ax = plt.subplots(figsize=(10, 8))\n",
    "corr = full_set.corr()\n",
    "sns.heatmap(corr,\n",
    "            xticklabels=corr.columns.values,\n",
    "            yticklabels=corr.columns.values)"
   ]
  },
  {
   "cell_type": "markdown",
   "metadata": {},
   "source": [
    "We then turned to our target variable to get a sense of the land parcel values we are looking at\n"
   ]
  },
  {
   "cell_type": "code",
   "execution_count": 807,
   "metadata": {},
   "outputs": [
    {
     "data": {
      "text/plain": [
       "<seaborn.axisgrid.PairGrid at 0x147d0c358>"
      ]
     },
     "execution_count": 807,
     "metadata": {},
     "output_type": "execute_result"
    },
    {
     "data": {
      "image/png": "[encoded data removed]",
      "text/plain": [
       "<Figure size 360x360 with 6 Axes>"
      ]
     },
     "metadata": {},
     "output_type": "display_data"
    }
   ],
   "source": [
    "land_water_bivariate = full_set[['landval_log','ll_gisacre_log']]\n",
    "\n",
    "sns.pairplot(land_water_bivariate[np.isfinite(land_water_bivariate[['landval_log', 'll_gisacre_log']])])\n",
    "                       \n",
    "                       "
   ]
  },
  {
   "cell_type": "code",
   "execution_count": 808,
   "metadata": {},
   "outputs": [
    {
     "ename": "SyntaxError",
     "evalue": "invalid syntax (<ipython-input-808-0e9bb4695de4>, line 1)",
     "output_type": "error",
     "traceback": [
      "\u001b[0;36m  File \u001b[0;32m\"<ipython-input-808-0e9bb4695de4>\"\u001b[0;36m, line \u001b[0;32m1\u001b[0m\n\u001b[0;31m    We then turned to bivariate analysis to see their interactions in particular with land value.\u001b[0m\n\u001b[0m          ^\u001b[0m\n\u001b[0;31mSyntaxError\u001b[0m\u001b[0;31m:\u001b[0m invalid syntax\n"
     ]
    }
   ],
   "source": [
    "We then turned to bivariate analysis to see their interactions in particular with land value. "
   ]
  },
  {
   "cell_type": "markdown",
   "metadata": {},
   "source": [
    "bivariate analysis on water productivity and land, acreage and land, total water and land, water distance and land, min avial water and land"
   ]
  },
  {
   "cell_type": "markdown",
   "metadata": {},
   "source": [
    "## categorical data eda goes here"
   ]
  },
  {
   "cell_type": "code",
   "execution_count": 809,
   "metadata": {},
   "outputs": [
    {
     "name": "stdout",
     "output_type": "stream",
     "text": [
      "Farmlndcl values:\n",
      " Prime farmland if irrigated and either protected from flooding or not frequently flooded during the growing season\n",
      " Not prime farmland\n",
      " Prime farmland if irrigated\n",
      " Prime farmland if irrigated and reclaimed of excess salts and sodium\n",
      " Prime farmland if irrigated and drained\n",
      " Farmland of statewide importance\n"
     ]
    }
   ],
   "source": [
    "#what is in farmland column\n",
    "\n",
    "print('Farmlndcl values:\\n', '\\n '.join(set(full_set['farmlndcl'].tolist())))"
   ]
  },
  {
   "cell_type": "code",
   "execution_count": 810,
   "metadata": {},
   "outputs": [
    {
     "data": {
      "image/png": "[encoded data removed]",
      "text/plain": [
       "<Figure size 432x288 with 1 Axes>"
      ]
     },
     "metadata": {},
     "output_type": "display_data"
    }
   ],
   "source": [
    "#frequency distribution for farmland\n",
    "\n",
    "farmland_count = full_set['farmlndcl'].value_counts()\n",
    "labels = []\n",
    "#make the text nicer\n",
    "for label in farmland_count.index:\n",
    "    word = label.split(' ')\n",
    "    if len(word) < 8:\n",
    "        word.insert(2, '\\n')\n",
    "    else:\n",
    "        word.insert(5, '\\n')\n",
    "        word.insert(10, '\\n')\n",
    "    labels.append(' '.join(word))\n",
    "    \n",
    "\n",
    "        \n",
    "sns.set(style=\"darkgrid\")\n",
    "sns.barplot(labels, farmland_count.values, alpha=0.9)\n",
    "plt.title('Farmland potential frequency distribution')\n",
    "plt.xlabel('Farmland potential', fontsize=12)\n",
    "plt.ylabel('Number of Occurrences', fontsize=12)\n",
    "plt.xticks(rotation=80)\n",
    "plt.show()"
   ]
  },
  {
   "cell_type": "code",
   "execution_count": 811,
   "metadata": {},
   "outputs": [
    {
     "data": {
      "text/plain": [
       "Index(['parcelnumb', 'szip', 'county', 'landval', 'parval', 'll_gisacre',\n",
       "       'FinalCrop', 'firstfloor', 'secondfloor', 'gize', 'mhome', 'pool',\n",
       "       'addsize', 'pers_prop_val', 'farmlndcl', 'irrcapcl', 'nirrcapcl',\n",
       "       'nirrcalscl', 'castorieindex', 'TotalWater', 'water_dist',\n",
       "       'Crop Unit Vale ($/acre', 'crop_rev', 'water_productivity',\n",
       "       'min_avail_water', 'min_water_rev', 'add_g_size', 'landval_log',\n",
       "       'll_gisacre_log', 'TotalWater_log', 'min_avail_water_log',\n",
       "       'firstfloor_log', 'secondfloor_log', 'add_g_size_log',\n",
       "       'water_productivity_log', 'castorieindex_log', 'crop_rev_log'],\n",
       "      dtype='object')"
      ]
     },
     "execution_count": 811,
     "metadata": {},
     "output_type": "execute_result"
    }
   ],
   "source": [
    "full_set.columns"
   ]
  },
  {
   "cell_type": "code",
   "execution_count": 812,
   "metadata": {},
   "outputs": [
    {
     "ename": "SyntaxError",
     "evalue": "invalid syntax (<ipython-input-812-f1f9c8a3fbd3>, line 1)",
     "output_type": "error",
     "traceback": [
      "\u001b[0;36m  File \u001b[0;32m\"<ipython-input-812-f1f9c8a3fbd3>\"\u001b[0;36m, line \u001b[0;32m1\u001b[0m\n\u001b[0;31m    interestingly prime irrigated farmland had the highest frequency in our dataset\u001b[0m\n\u001b[0m                      ^\u001b[0m\n\u001b[0;31mSyntaxError\u001b[0m\u001b[0;31m:\u001b[0m invalid syntax\n"
     ]
    }
   ],
   "source": [
    "interestingly prime irrigated farmland had the highest frequency in our dataset\n",
    "\n",
    "In order to add it to farmland potential to our regression model we encoded the categories numerically."
   ]
  },
  {
   "cell_type": "code",
   "execution_count": 813,
   "metadata": {},
   "outputs": [
    {
     "data": {
      "text/plain": [
       "0    2.0\n",
       "1    2.0\n",
       "2    2.0\n",
       "3    2.0\n",
       "4    2.0\n",
       "Name: farmlndcl, dtype: float64"
      ]
     },
     "execution_count": 813,
     "metadata": {},
     "output_type": "execute_result"
    }
   ],
   "source": [
    "full_set['farmlndcl'] = full_set['farmlndcl'].astype('category')\n",
    "full_set['farmlndcl'] = full_set['farmlndcl'].cat.codes\n",
    "full_set['farmlndcl'] = full_set['farmlndcl'].astype('float64')\n",
    "\n",
    "\n",
    "full_set['farmlndcl'].head()"
   ]
  },
  {
   "cell_type": "code",
   "execution_count": 814,
   "metadata": {},
   "outputs": [
    {
     "data": {
      "image/png": "[encoded data removed]",
      "text/plain": [
       "<Figure size 432x288 with 1 Axes>"
      ]
     },
     "metadata": {},
     "output_type": "display_data"
    }
   ],
   "source": [
    "irrigation_count = full_set['irrcapcl'].value_counts()       \n",
    "sns.set(style=\"darkgrid\")\n",
    "sns.barplot(irrigation_count.index, irrigation_count.values, alpha=0.9)\n",
    "plt.title('irrigation status distribution')\n",
    "plt.xlabel('irrigation status', fontsize=12)\n",
    "plt.ylabel('Number of Occurrences', fontsize=12)\n",
    "plt.xticks(rotation=80)\n",
    "plt.show()"
   ]
  },
  {
   "cell_type": "code",
   "execution_count": 815,
   "metadata": {},
   "outputs": [
    {
     "data": {
      "text/plain": [
       "0    1.0\n",
       "1    0.0\n",
       "2    1.0\n",
       "3    2.0\n",
       "4    2.0\n",
       "Name: irrcapcl, dtype: float64"
      ]
     },
     "execution_count": 815,
     "metadata": {},
     "output_type": "execute_result"
    }
   ],
   "source": [
    "full_set['irrcapcl'] = full_set['irrcapcl'].astype('category')\n",
    "full_set['irrcapcl'] = full_set['irrcapcl'].cat.codes\n",
    "full_set['irrcapcl'] = full_set['irrcapcl'].astype('float64')\n",
    "\n",
    "full_set['irrcapcl'].head()"
   ]
  },
  {
   "cell_type": "code",
   "execution_count": 816,
   "metadata": {},
   "outputs": [
    {
     "data": {
      "image/png": "[encoded data removed]",
      "text/plain": [
       "<Figure size 432x288 with 1 Axes>"
      ]
     },
     "metadata": {},
     "output_type": "display_data"
    }
   ],
   "source": [
    "irrigation_count = full_set['nirrcapcl'].value_counts()       \n",
    "sns.set(style=\"darkgrid\")\n",
    "sns.barplot(irrigation_count.index, irrigation_count.values, alpha=0.9)\n",
    "plt.title('irrigation status distribution')\n",
    "plt.xlabel('irrigation status', fontsize=12)\n",
    "plt.ylabel('Number of Occurrences', fontsize=12)\n",
    "plt.xticks(rotation=80)\n",
    "plt.show()"
   ]
  },
  {
   "cell_type": "code",
   "execution_count": 817,
   "metadata": {},
   "outputs": [
    {
     "data": {
      "text/plain": [
       "0    1.0\n",
       "1    1.0\n",
       "2    1.0\n",
       "3    1.0\n",
       "4    1.0\n",
       "Name: nirrcapcl, dtype: float64"
      ]
     },
     "execution_count": 817,
     "metadata": {},
     "output_type": "execute_result"
    }
   ],
   "source": [
    "full_set['nirrcapcl'] = full_set['nirrcapcl'].astype('category')\n",
    "full_set['nirrcapcl'] = full_set['nirrcapcl'].cat.codes\n",
    "full_set['nirrcapcl'] = full_set['nirrcapcl'].astype('float64')\n",
    "\n",
    "full_set['nirrcapcl'].head()"
   ]
  },
  {
   "cell_type": "code",
   "execution_count": 818,
   "metadata": {},
   "outputs": [
    {
     "data": {
      "image/png": "[encoded data removed]",
      "text/plain": [
       "<Figure size 432x288 with 1 Axes>"
      ]
     },
     "metadata": {},
     "output_type": "display_data"
    }
   ],
   "source": [
    "irrigation_count = full_set['nirrcalscl'].value_counts()       \n",
    "sns.set(style=\"darkgrid\")\n",
    "sns.barplot(irrigation_count.index, irrigation_count.values, alpha=0.9)\n",
    "plt.title('land categorization distribution')\n",
    "plt.xlabel('land categorization', fontsize=12)\n",
    "plt.ylabel('Number of Occurrences', fontsize=12)\n",
    "plt.xticks(rotation=80)\n",
    "plt.show()"
   ]
  },
  {
   "cell_type": "code",
   "execution_count": 819,
   "metadata": {},
   "outputs": [
    {
     "data": {
      "text/plain": [
       "0    2.0\n",
       "1    2.0\n",
       "2    2.0\n",
       "3    2.0\n",
       "4    2.0\n",
       "Name: farmlndcl, dtype: float64"
      ]
     },
     "execution_count": 819,
     "metadata": {},
     "output_type": "execute_result"
    }
   ],
   "source": [
    "full_set['nirrcalscl'] = full_set['nirrcalscl'].astype('category')\n",
    "full_set['nirrcalscl'] = full_set['nirrcalscl'].cat.codes\n",
    "full_set['nirrcalscl'] = full_set['nirrcalscl'].astype('float64')\n",
    "\n",
    "full_set['farmlndcl'].head()"
   ]
  },
  {
   "cell_type": "code",
   "execution_count": 820,
   "metadata": {},
   "outputs": [
    {
     "data": {
      "text/plain": [
       "{3.0,\n",
       " 4.0,\n",
       " 5.0,\n",
       " 7.0,\n",
       " 10.0,\n",
       " 11.0,\n",
       " 12.0,\n",
       " 14.0,\n",
       " 15.0,\n",
       " 16.0,\n",
       " 18.0,\n",
       " 20.0,\n",
       " 21.0,\n",
       " 22.0,\n",
       " 23.0,\n",
       " 24.0,\n",
       " 25.0,\n",
       " 26.0,\n",
       " 27.0,\n",
       " 28.0,\n",
       " 29.0,\n",
       " 30.0,\n",
       " 31.0,\n",
       " 32.0,\n",
       " 33.0,\n",
       " 34.0,\n",
       " 35.0,\n",
       " 36.0,\n",
       " 37.0,\n",
       " 38.0,\n",
       " 39.0,\n",
       " 41.0,\n",
       " 42.0,\n",
       " 43.0,\n",
       " 44.0,\n",
       " 45.0,\n",
       " 46.0,\n",
       " 47.0,\n",
       " 48.0,\n",
       " 49.0,\n",
       " 50.0,\n",
       " 51.0,\n",
       " 52.0,\n",
       " 53.0,\n",
       " 54.0,\n",
       " 56.0,\n",
       " 57.0,\n",
       " 58.0,\n",
       " 59.0,\n",
       " 60.0,\n",
       " 61.0,\n",
       " 62.0,\n",
       " 63.0,\n",
       " 64.0,\n",
       " 65.0,\n",
       " 67.0,\n",
       " 68.0,\n",
       " 69.0,\n",
       " 70.0,\n",
       " 71.0,\n",
       " 72.0,\n",
       " 73.0,\n",
       " 75.0,\n",
       " 76.0,\n",
       " 77.0,\n",
       " 80.0,\n",
       " 81.0,\n",
       " 85.0,\n",
       " 86.0,\n",
       " 88.0,\n",
       " 90.0,\n",
       " 95.0,\n",
       " 100.0}"
      ]
     },
     "execution_count": 820,
     "metadata": {},
     "output_type": "execute_result"
    }
   ],
   "source": [
    "set(full_set['castorieindex'].tolist())"
   ]
  },
  {
   "cell_type": "code",
   "execution_count": 821,
   "metadata": {},
   "outputs": [
    {
     "data": {
      "image/png": "[encoded data removed]",
      "text/plain": [
       "<Figure size 432x288 with 1 Axes>"
      ]
     },
     "metadata": {},
     "output_type": "display_data"
    }
   ],
   "source": [
    "castorie_count = full_set['castorieindex'].value_counts()       \n",
    "sns.set(style=\"darkgrid\")\n",
    "sns.barplot(castorie_count.index, castorie_count.values, alpha=0.9)\n",
    "plt.title('castorieindex distribution')\n",
    "plt.xlabel('castorieindex', fontsize=12)\n",
    "plt.ylabel('Number of Occurrences', fontsize=12)\n",
    "plt.xticks(rotation=80)\n",
    "plt.show()"
   ]
  },
  {
   "cell_type": "markdown",
   "metadata": {},
   "source": [
    "## Hedonic Regression Analysis"
   ]
  },
  {
   "cell_type": "markdown",
   "metadata": {},
   "source": [
    "For our purposes we want to use the following features for hedonic \n",
    "regression:\n",
    "\n",
    "- landval: parcel land value, based on assessor\n",
    "- ll_gisacre: parcel acreage, as in size\n",
    "\n",
    "\n",
    "\n",
    "\n"
   ]
  },
  {
   "cell_type": "markdown",
   "metadata": {},
   "source": [
    "Earlier we derived several water variables that we thought would help explain the value of water in our regression analysis. Given our methods which used crop data and water applied to crop data per acre foot, we should check to see if our variables have multicollinearity"
   ]
  },
  {
   "cell_type": "code",
   "execution_count": 822,
   "metadata": {},
   "outputs": [
    {
     "name": "stdout",
     "output_type": "stream",
     "text": [
      "              landval  ll_gisacre  firstfloor  secondfloor      gize\n",
      "landval      1.000000    0.636023    0.055569    -0.004404  0.013369\n",
      "ll_gisacre   0.636023    1.000000   -0.041015    -0.041044 -0.058248\n",
      "firstfloor   0.055569   -0.041015    1.000000     0.157698  0.230662\n",
      "secondfloor -0.004404   -0.041044    0.157698     1.000000  0.083014\n",
      "gize         0.013369   -0.058248    0.230662     0.083014  1.000000\n"
     ]
    },
    {
     "data": {
      "text/plain": [
       "<matplotlib.axes._subplots.AxesSubplot at 0x14bd61cf8>"
      ]
     },
     "execution_count": 822,
     "metadata": {},
     "output_type": "execute_result"
    },
    {
     "data": {
      "image/png": "[encoded data removed]",
      "text/plain": [
       "<Figure size 720x576 with 2 Axes>"
      ]
     },
     "metadata": {},
     "output_type": "display_data"
    }
   ],
   "source": [
    "##check aganst acreage, building on land\n",
    "print(full_set[['landval', 'll_gisacre', 'firstfloor', 'secondfloor', 'gize']].corr())\n",
    "\n",
    "f, ax = plt.subplots(figsize=(10, 8))\n",
    "corr = full_set[['landval', 'll_gisacre', 'firstfloor', 'secondfloor', 'gize']].corr()\n",
    "sns.heatmap(corr,\n",
    "            xticklabels=corr.columns.values,\n",
    "            yticklabels=corr.columns.values)"
   ]
  },
  {
   "cell_type": "code",
   "execution_count": 823,
   "metadata": {},
   "outputs": [
    {
     "name": "stdout",
     "output_type": "stream",
     "text": [
      "                     landval  min_avail_water  min_water_rev  TotalWater  \\\n",
      "landval             1.000000         0.620690       0.499762    0.083858   \n",
      "min_avail_water     0.620690         1.000000       0.735678    0.233726   \n",
      "min_water_rev       0.499762         0.735678       1.000000    0.048264   \n",
      "TotalWater          0.083858         0.233726       0.048264    1.000000   \n",
      "water_productivity  0.553996         0.752843       0.880114   -0.004177   \n",
      "\n",
      "                    water_productivity  \n",
      "landval                       0.553996  \n",
      "min_avail_water               0.752843  \n",
      "min_water_rev                 0.880114  \n",
      "TotalWater                   -0.004177  \n",
      "water_productivity            1.000000  \n"
     ]
    },
    {
     "data": {
      "text/plain": [
       "<matplotlib.axes._subplots.AxesSubplot at 0x14df54208>"
      ]
     },
     "execution_count": 823,
     "metadata": {},
     "output_type": "execute_result"
    },
    {
     "data": {
      "image/png": "[encoded data removed]",
      "text/plain": [
       "<Figure size 720x576 with 2 Axes>"
      ]
     },
     "metadata": {},
     "output_type": "display_data"
    }
   ],
   "source": [
    "#water metrics\n",
    "print(full_set[['landval', 'min_avail_water', 'min_water_rev', 'TotalWater', 'water_productivity']].corr())\n",
    "\n",
    "f, ax = plt.subplots(figsize=(10, 8))\n",
    "corr = full_set[['landval', 'min_avail_water', 'min_water_rev', 'TotalWater', 'water_productivity']].corr()\n",
    "sns.heatmap(corr,\n",
    "            xticklabels=corr.columns.values,\n",
    "            yticklabels=corr.columns.values)"
   ]
  },
  {
   "cell_type": "code",
   "execution_count": 824,
   "metadata": {},
   "outputs": [
    {
     "name": "stdout",
     "output_type": "stream",
     "text": [
      "             landval  irrcapcl  nirrcapcl  nirrcalscl\n",
      "landval     1.000000  0.013644   0.109749    0.015911\n",
      "irrcapcl    0.013644  1.000000  -0.056347    0.587741\n",
      "nirrcapcl   0.109749 -0.056347   1.000000   -0.014078\n",
      "nirrcalscl  0.015911  0.587741  -0.014078    1.000000\n"
     ]
    },
    {
     "data": {
      "text/plain": [
       "<matplotlib.axes._subplots.AxesSubplot at 0x14df6c668>"
      ]
     },
     "execution_count": 824,
     "metadata": {},
     "output_type": "execute_result"
    },
    {
     "data": {
      "image/png": "[encoded data removed]",
      "text/plain": [
       "<Figure size 720x576 with 2 Axes>"
      ]
     },
     "metadata": {},
     "output_type": "display_data"
    }
   ],
   "source": [
    "\n",
    "print(full_set[['landval', 'irrcapcl', 'nirrcapcl', 'nirrcalscl']].corr())\n",
    "\n",
    "f, ax = plt.subplots(figsize=(10, 8))\n",
    "corr = full_set[['landval', 'irrcapcl', 'nirrcapcl', 'nirrcalscl']].corr()\n",
    "sns.heatmap(corr,\n",
    "            xticklabels=corr.columns.values,\n",
    "            yticklabels=corr.columns.values)"
   ]
  },
  {
   "cell_type": "markdown",
   "metadata": {},
   "source": [
    "Lets see how correlated the values of interest are before we try and regress some of them."
   ]
  },
  {
   "cell_type": "code",
   "execution_count": 825,
   "metadata": {},
   "outputs": [
    {
     "data": {
      "text/html": [
       "<div>\n",
       "<style scoped>\n",
       "    .dataframe tbody tr th:only-of-type {\n",
       "        vertical-align: middle;\n",
       "    }\n",
       "\n",
       "    .dataframe tbody tr th {\n",
       "        vertical-align: top;\n",
       "    }\n",
       "\n",
       "    .dataframe thead th {\n",
       "        text-align: right;\n",
       "    }\n",
       "</style>\n",
       "<table border=\"1\" class=\"dataframe\">\n",
       "  <thead>\n",
       "    <tr style=\"text-align: right;\">\n",
       "      <th></th>\n",
       "      <th>landval</th>\n",
       "      <th>parval</th>\n",
       "      <th>ll_gisacre</th>\n",
       "      <th>firstfloor</th>\n",
       "      <th>secondfloor</th>\n",
       "      <th>gize</th>\n",
       "      <th>mhome</th>\n",
       "      <th>pool</th>\n",
       "      <th>addsize</th>\n",
       "      <th>pers_prop_val</th>\n",
       "      <th>...</th>\n",
       "      <th>landval_log</th>\n",
       "      <th>ll_gisacre_log</th>\n",
       "      <th>TotalWater_log</th>\n",
       "      <th>min_avail_water_log</th>\n",
       "      <th>firstfloor_log</th>\n",
       "      <th>secondfloor_log</th>\n",
       "      <th>add_g_size_log</th>\n",
       "      <th>water_productivity_log</th>\n",
       "      <th>castorieindex_log</th>\n",
       "      <th>crop_rev_log</th>\n",
       "    </tr>\n",
       "  </thead>\n",
       "  <tbody>\n",
       "    <tr>\n",
       "      <th>landval</th>\n",
       "      <td>1.000000</td>\n",
       "      <td>0.570543</td>\n",
       "      <td>0.636023</td>\n",
       "      <td>0.055569</td>\n",
       "      <td>-0.004404</td>\n",
       "      <td>0.013369</td>\n",
       "      <td>0.036967</td>\n",
       "      <td>NaN</td>\n",
       "      <td>-0.005330</td>\n",
       "      <td>0.071357</td>\n",
       "      <td>...</td>\n",
       "      <td>0.635832</td>\n",
       "      <td>0.485586</td>\n",
       "      <td>0.086238</td>\n",
       "      <td>0.485878</td>\n",
       "      <td>0.067835</td>\n",
       "      <td>0.037105</td>\n",
       "      <td>0.071645</td>\n",
       "      <td>0.437473</td>\n",
       "      <td>-0.103187</td>\n",
       "      <td>0.445331</td>\n",
       "    </tr>\n",
       "    <tr>\n",
       "      <th>parval</th>\n",
       "      <td>0.570543</td>\n",
       "      <td>1.000000</td>\n",
       "      <td>0.441504</td>\n",
       "      <td>0.413511</td>\n",
       "      <td>0.202249</td>\n",
       "      <td>0.098500</td>\n",
       "      <td>0.044021</td>\n",
       "      <td>NaN</td>\n",
       "      <td>0.034596</td>\n",
       "      <td>0.292333</td>\n",
       "      <td>...</td>\n",
       "      <td>0.389930</td>\n",
       "      <td>0.312291</td>\n",
       "      <td>0.051119</td>\n",
       "      <td>0.312007</td>\n",
       "      <td>0.365062</td>\n",
       "      <td>0.189012</td>\n",
       "      <td>0.219457</td>\n",
       "      <td>0.282166</td>\n",
       "      <td>-0.038999</td>\n",
       "      <td>0.286916</td>\n",
       "    </tr>\n",
       "    <tr>\n",
       "      <th>ll_gisacre</th>\n",
       "      <td>0.636023</td>\n",
       "      <td>0.441504</td>\n",
       "      <td>1.000000</td>\n",
       "      <td>-0.041015</td>\n",
       "      <td>-0.041044</td>\n",
       "      <td>-0.058248</td>\n",
       "      <td>0.023511</td>\n",
       "      <td>NaN</td>\n",
       "      <td>-0.042596</td>\n",
       "      <td>0.079180</td>\n",
       "      <td>...</td>\n",
       "      <td>0.513258</td>\n",
       "      <td>0.629641</td>\n",
       "      <td>0.132009</td>\n",
       "      <td>0.632214</td>\n",
       "      <td>-0.079280</td>\n",
       "      <td>0.049297</td>\n",
       "      <td>-0.039010</td>\n",
       "      <td>0.535776</td>\n",
       "      <td>-0.194968</td>\n",
       "      <td>0.547787</td>\n",
       "    </tr>\n",
       "    <tr>\n",
       "      <th>firstfloor</th>\n",
       "      <td>0.055569</td>\n",
       "      <td>0.413511</td>\n",
       "      <td>-0.041015</td>\n",
       "      <td>1.000000</td>\n",
       "      <td>0.157698</td>\n",
       "      <td>0.230662</td>\n",
       "      <td>-0.003529</td>\n",
       "      <td>NaN</td>\n",
       "      <td>0.016145</td>\n",
       "      <td>0.107989</td>\n",
       "      <td>...</td>\n",
       "      <td>0.043133</td>\n",
       "      <td>-0.035464</td>\n",
       "      <td>-0.023326</td>\n",
       "      <td>-0.037336</td>\n",
       "      <td>0.613949</td>\n",
       "      <td>0.128572</td>\n",
       "      <td>0.232840</td>\n",
       "      <td>-0.030224</td>\n",
       "      <td>0.026635</td>\n",
       "      <td>-0.032629</td>\n",
       "    </tr>\n",
       "    <tr>\n",
       "      <th>secondfloor</th>\n",
       "      <td>-0.004404</td>\n",
       "      <td>0.202249</td>\n",
       "      <td>-0.041044</td>\n",
       "      <td>0.157698</td>\n",
       "      <td>1.000000</td>\n",
       "      <td>0.083014</td>\n",
       "      <td>0.012423</td>\n",
       "      <td>NaN</td>\n",
       "      <td>0.128781</td>\n",
       "      <td>0.097089</td>\n",
       "      <td>...</td>\n",
       "      <td>-0.001232</td>\n",
       "      <td>-0.059035</td>\n",
       "      <td>-0.017601</td>\n",
       "      <td>-0.059845</td>\n",
       "      <td>0.084228</td>\n",
       "      <td>0.817278</td>\n",
       "      <td>0.105878</td>\n",
       "      <td>-0.060314</td>\n",
       "      <td>0.038561</td>\n",
       "      <td>-0.062205</td>\n",
       "    </tr>\n",
       "    <tr>\n",
       "      <th>gize</th>\n",
       "      <td>0.013369</td>\n",
       "      <td>0.098500</td>\n",
       "      <td>-0.058248</td>\n",
       "      <td>0.230662</td>\n",
       "      <td>0.083014</td>\n",
       "      <td>1.000000</td>\n",
       "      <td>-0.001319</td>\n",
       "      <td>NaN</td>\n",
       "      <td>0.122886</td>\n",
       "      <td>0.053205</td>\n",
       "      <td>...</td>\n",
       "      <td>0.007282</td>\n",
       "      <td>-0.063312</td>\n",
       "      <td>-0.039134</td>\n",
       "      <td>-0.066383</td>\n",
       "      <td>0.257445</td>\n",
       "      <td>0.203711</td>\n",
       "      <td>0.481820</td>\n",
       "      <td>-0.042628</td>\n",
       "      <td>0.042430</td>\n",
       "      <td>-0.046524</td>\n",
       "    </tr>\n",
       "    <tr>\n",
       "      <th>mhome</th>\n",
       "      <td>0.036967</td>\n",
       "      <td>0.044021</td>\n",
       "      <td>0.023511</td>\n",
       "      <td>-0.003529</td>\n",
       "      <td>0.012423</td>\n",
       "      <td>-0.001319</td>\n",
       "      <td>1.000000</td>\n",
       "      <td>NaN</td>\n",
       "      <td>0.023035</td>\n",
       "      <td>0.017920</td>\n",
       "      <td>...</td>\n",
       "      <td>0.037680</td>\n",
       "      <td>0.023393</td>\n",
       "      <td>-0.006144</td>\n",
       "      <td>0.022288</td>\n",
       "      <td>-0.006253</td>\n",
       "      <td>-0.004712</td>\n",
       "      <td>0.006554</td>\n",
       "      <td>0.029246</td>\n",
       "      <td>-0.005493</td>\n",
       "      <td>0.028545</td>\n",
       "    </tr>\n",
       "    <tr>\n",
       "      <th>pool</th>\n",
       "      <td>NaN</td>\n",
       "      <td>NaN</td>\n",
       "      <td>NaN</td>\n",
       "      <td>NaN</td>\n",
       "      <td>NaN</td>\n",
       "      <td>NaN</td>\n",
       "      <td>NaN</td>\n",
       "      <td>NaN</td>\n",
       "      <td>NaN</td>\n",
       "      <td>NaN</td>\n",
       "      <td>...</td>\n",
       "      <td>NaN</td>\n",
       "      <td>NaN</td>\n",
       "      <td>NaN</td>\n",
       "      <td>NaN</td>\n",
       "      <td>NaN</td>\n",
       "      <td>NaN</td>\n",
       "      <td>NaN</td>\n",
       "      <td>NaN</td>\n",
       "      <td>NaN</td>\n",
       "      <td>NaN</td>\n",
       "    </tr>\n",
       "    <tr>\n",
       "      <th>addsize</th>\n",
       "      <td>-0.005330</td>\n",
       "      <td>0.034596</td>\n",
       "      <td>-0.042596</td>\n",
       "      <td>0.016145</td>\n",
       "      <td>0.128781</td>\n",
       "      <td>0.122886</td>\n",
       "      <td>0.023035</td>\n",
       "      <td>NaN</td>\n",
       "      <td>1.000000</td>\n",
       "      <td>0.009446</td>\n",
       "      <td>...</td>\n",
       "      <td>0.010751</td>\n",
       "      <td>-0.041714</td>\n",
       "      <td>-0.032934</td>\n",
       "      <td>-0.044514</td>\n",
       "      <td>-0.035207</td>\n",
       "      <td>0.115182</td>\n",
       "      <td>0.412838</td>\n",
       "      <td>-0.028649</td>\n",
       "      <td>0.042132</td>\n",
       "      <td>-0.031973</td>\n",
       "    </tr>\n",
       "    <tr>\n",
       "      <th>pers_prop_val</th>\n",
       "      <td>0.071357</td>\n",
       "      <td>0.292333</td>\n",
       "      <td>0.079180</td>\n",
       "      <td>0.107989</td>\n",
       "      <td>0.097089</td>\n",
       "      <td>0.053205</td>\n",
       "      <td>0.017920</td>\n",
       "      <td>NaN</td>\n",
       "      <td>0.009446</td>\n",
       "      <td>1.000000</td>\n",
       "      <td>...</td>\n",
       "      <td>0.063794</td>\n",
       "      <td>0.068340</td>\n",
       "      <td>0.018170</td>\n",
       "      <td>0.069037</td>\n",
       "      <td>0.137701</td>\n",
       "      <td>0.128728</td>\n",
       "      <td>0.141152</td>\n",
       "      <td>0.054815</td>\n",
       "      <td>-0.004429</td>\n",
       "      <td>0.056690</td>\n",
       "    </tr>\n",
       "    <tr>\n",
       "      <th>farmlndcl</th>\n",
       "      <td>-0.069929</td>\n",
       "      <td>-0.027292</td>\n",
       "      <td>-0.096330</td>\n",
       "      <td>0.002677</td>\n",
       "      <td>-0.009792</td>\n",
       "      <td>0.007378</td>\n",
       "      <td>-0.000081</td>\n",
       "      <td>NaN</td>\n",
       "      <td>0.017580</td>\n",
       "      <td>-0.009968</td>\n",
       "      <td>...</td>\n",
       "      <td>-0.066727</td>\n",
       "      <td>-0.088455</td>\n",
       "      <td>-0.010178</td>\n",
       "      <td>-0.087907</td>\n",
       "      <td>-0.007344</td>\n",
       "      <td>-0.074106</td>\n",
       "      <td>-0.039657</td>\n",
       "      <td>-0.049993</td>\n",
       "      <td>0.385069</td>\n",
       "      <td>-0.049191</td>\n",
       "    </tr>\n",
       "    <tr>\n",
       "      <th>irrcapcl</th>\n",
       "      <td>0.013644</td>\n",
       "      <td>-0.006804</td>\n",
       "      <td>-0.018114</td>\n",
       "      <td>-0.011082</td>\n",
       "      <td>-0.006116</td>\n",
       "      <td>0.013840</td>\n",
       "      <td>0.016102</td>\n",
       "      <td>NaN</td>\n",
       "      <td>0.008167</td>\n",
       "      <td>-0.002951</td>\n",
       "      <td>...</td>\n",
       "      <td>0.001463</td>\n",
       "      <td>-0.007849</td>\n",
       "      <td>-0.000524</td>\n",
       "      <td>-0.007759</td>\n",
       "      <td>-0.048352</td>\n",
       "      <td>0.018767</td>\n",
       "      <td>-0.006670</td>\n",
       "      <td>-0.001577</td>\n",
       "      <td>-0.540097</td>\n",
       "      <td>-0.001882</td>\n",
       "    </tr>\n",
       "    <tr>\n",
       "      <th>nirrcapcl</th>\n",
       "      <td>0.109749</td>\n",
       "      <td>0.071708</td>\n",
       "      <td>0.373525</td>\n",
       "      <td>-0.044456</td>\n",
       "      <td>-0.068151</td>\n",
       "      <td>-0.079310</td>\n",
       "      <td>-0.012014</td>\n",
       "      <td>NaN</td>\n",
       "      <td>-0.082250</td>\n",
       "      <td>0.003141</td>\n",
       "      <td>...</td>\n",
       "      <td>0.055218</td>\n",
       "      <td>0.247350</td>\n",
       "      <td>0.220055</td>\n",
       "      <td>0.266647</td>\n",
       "      <td>0.055882</td>\n",
       "      <td>0.019753</td>\n",
       "      <td>-0.008736</td>\n",
       "      <td>0.165632</td>\n",
       "      <td>-0.341531</td>\n",
       "      <td>0.188500</td>\n",
       "    </tr>\n",
       "    <tr>\n",
       "      <th>nirrcalscl</th>\n",
       "      <td>0.015911</td>\n",
       "      <td>-0.023814</td>\n",
       "      <td>0.010651</td>\n",
       "      <td>-0.007793</td>\n",
       "      <td>-0.027470</td>\n",
       "      <td>0.002217</td>\n",
       "      <td>0.007892</td>\n",
       "      <td>NaN</td>\n",
       "      <td>0.004455</td>\n",
       "      <td>0.008026</td>\n",
       "      <td>...</td>\n",
       "      <td>0.013004</td>\n",
       "      <td>0.033390</td>\n",
       "      <td>0.095059</td>\n",
       "      <td>0.043100</td>\n",
       "      <td>-0.037750</td>\n",
       "      <td>-0.030516</td>\n",
       "      <td>-0.000171</td>\n",
       "      <td>0.005047</td>\n",
       "      <td>-0.428433</td>\n",
       "      <td>0.014992</td>\n",
       "    </tr>\n",
       "    <tr>\n",
       "      <th>castorieindex</th>\n",
       "      <td>-0.099548</td>\n",
       "      <td>-0.035680</td>\n",
       "      <td>-0.196410</td>\n",
       "      <td>0.031109</td>\n",
       "      <td>0.042783</td>\n",
       "      <td>0.041864</td>\n",
       "      <td>-0.004943</td>\n",
       "      <td>NaN</td>\n",
       "      <td>0.041206</td>\n",
       "      <td>-0.004685</td>\n",
       "      <td>...</td>\n",
       "      <td>-0.042551</td>\n",
       "      <td>-0.104481</td>\n",
       "      <td>-0.185697</td>\n",
       "      <td>-0.122715</td>\n",
       "      <td>-0.022266</td>\n",
       "      <td>0.017052</td>\n",
       "      <td>0.003188</td>\n",
       "      <td>0.009969</td>\n",
       "      <td>0.945015</td>\n",
       "      <td>-0.009211</td>\n",
       "    </tr>\n",
       "    <tr>\n",
       "      <th>TotalWater</th>\n",
       "      <td>0.083858</td>\n",
       "      <td>0.051879</td>\n",
       "      <td>0.128355</td>\n",
       "      <td>-0.020836</td>\n",
       "      <td>-0.016674</td>\n",
       "      <td>-0.037038</td>\n",
       "      <td>-0.005656</td>\n",
       "      <td>NaN</td>\n",
       "      <td>-0.032191</td>\n",
       "      <td>0.018025</td>\n",
       "      <td>...</td>\n",
       "      <td>0.052356</td>\n",
       "      <td>0.116145</td>\n",
       "      <td>0.996920</td>\n",
       "      <td>0.222358</td>\n",
       "      <td>-0.013911</td>\n",
       "      <td>0.128051</td>\n",
       "      <td>0.024023</td>\n",
       "      <td>-0.015552</td>\n",
       "      <td>-0.171211</td>\n",
       "      <td>0.087978</td>\n",
       "    </tr>\n",
       "    <tr>\n",
       "      <th>water_dist</th>\n",
       "      <td>-0.030214</td>\n",
       "      <td>-0.016046</td>\n",
       "      <td>0.034610</td>\n",
       "      <td>-0.016551</td>\n",
       "      <td>-0.029562</td>\n",
       "      <td>-0.003268</td>\n",
       "      <td>-0.001199</td>\n",
       "      <td>NaN</td>\n",
       "      <td>-0.010965</td>\n",
       "      <td>-0.015023</td>\n",
       "      <td>...</td>\n",
       "      <td>-0.012891</td>\n",
       "      <td>0.037745</td>\n",
       "      <td>-0.120252</td>\n",
       "      <td>0.023965</td>\n",
       "      <td>-0.060580</td>\n",
       "      <td>-0.083608</td>\n",
       "      <td>-0.028100</td>\n",
       "      <td>0.145185</td>\n",
       "      <td>0.274420</td>\n",
       "      <td>0.133106</td>\n",
       "    </tr>\n",
       "    <tr>\n",
       "      <th>Crop Unit Vale ($/acre</th>\n",
       "      <td>0.002460</td>\n",
       "      <td>0.019289</td>\n",
       "      <td>-0.011803</td>\n",
       "      <td>-0.005620</td>\n",
       "      <td>-0.016152</td>\n",
       "      <td>0.007212</td>\n",
       "      <td>0.003463</td>\n",
       "      <td>NaN</td>\n",
       "      <td>0.000210</td>\n",
       "      <td>0.003452</td>\n",
       "      <td>...</td>\n",
       "      <td>0.061218</td>\n",
       "      <td>0.073364</td>\n",
       "      <td>-0.053424</td>\n",
       "      <td>0.065770</td>\n",
       "      <td>-0.010880</td>\n",
       "      <td>-0.074553</td>\n",
       "      <td>0.013851</td>\n",
       "      <td>0.436959</td>\n",
       "      <td>0.169798</td>\n",
       "      <td>0.429683</td>\n",
       "    </tr>\n",
       "    <tr>\n",
       "      <th>crop_rev</th>\n",
       "      <td>0.563934</td>\n",
       "      <td>0.401629</td>\n",
       "      <td>0.845522</td>\n",
       "      <td>-0.038877</td>\n",
       "      <td>-0.039603</td>\n",
       "      <td>-0.051013</td>\n",
       "      <td>0.015922</td>\n",
       "      <td>NaN</td>\n",
       "      <td>-0.045354</td>\n",
       "      <td>0.044317</td>\n",
       "      <td>...</td>\n",
       "      <td>0.442913</td>\n",
       "      <td>0.537726</td>\n",
       "      <td>0.098762</td>\n",
       "      <td>0.538126</td>\n",
       "      <td>-0.083846</td>\n",
       "      <td>0.004572</td>\n",
       "      <td>-0.047307</td>\n",
       "      <td>0.550945</td>\n",
       "      <td>-0.122567</td>\n",
       "      <td>0.558998</td>\n",
       "    </tr>\n",
       "    <tr>\n",
       "      <th>water_productivity</th>\n",
       "      <td>0.553996</td>\n",
       "      <td>0.397510</td>\n",
       "      <td>0.826967</td>\n",
       "      <td>-0.036852</td>\n",
       "      <td>-0.037319</td>\n",
       "      <td>-0.047683</td>\n",
       "      <td>0.017586</td>\n",
       "      <td>NaN</td>\n",
       "      <td>-0.042153</td>\n",
       "      <td>0.041910</td>\n",
       "      <td>...</td>\n",
       "      <td>0.437994</td>\n",
       "      <td>0.528918</td>\n",
       "      <td>0.005316</td>\n",
       "      <td>0.518812</td>\n",
       "      <td>-0.085821</td>\n",
       "      <td>-0.012975</td>\n",
       "      <td>-0.046765</td>\n",
       "      <td>0.553663</td>\n",
       "      <td>-0.114812</td>\n",
       "      <td>0.552014</td>\n",
       "    </tr>\n",
       "    <tr>\n",
       "      <th>min_avail_water</th>\n",
       "      <td>0.620690</td>\n",
       "      <td>0.428878</td>\n",
       "      <td>0.975711</td>\n",
       "      <td>-0.040515</td>\n",
       "      <td>-0.040061</td>\n",
       "      <td>-0.058119</td>\n",
       "      <td>0.022929</td>\n",
       "      <td>NaN</td>\n",
       "      <td>-0.042950</td>\n",
       "      <td>0.081036</td>\n",
       "      <td>...</td>\n",
       "      <td>0.497657</td>\n",
       "      <td>0.611558</td>\n",
       "      <td>0.234292</td>\n",
       "      <td>0.625590</td>\n",
       "      <td>-0.070153</td>\n",
       "      <td>0.059133</td>\n",
       "      <td>-0.033629</td>\n",
       "      <td>0.504665</td>\n",
       "      <td>-0.199916</td>\n",
       "      <td>0.528032</td>\n",
       "    </tr>\n",
       "    <tr>\n",
       "      <th>min_water_rev</th>\n",
       "      <td>0.499762</td>\n",
       "      <td>0.358402</td>\n",
       "      <td>0.777544</td>\n",
       "      <td>-0.022027</td>\n",
       "      <td>-0.021758</td>\n",
       "      <td>-0.029801</td>\n",
       "      <td>0.009478</td>\n",
       "      <td>NaN</td>\n",
       "      <td>-0.027512</td>\n",
       "      <td>0.026278</td>\n",
       "      <td>...</td>\n",
       "      <td>0.280896</td>\n",
       "      <td>0.319610</td>\n",
       "      <td>0.055356</td>\n",
       "      <td>0.319465</td>\n",
       "      <td>-0.029487</td>\n",
       "      <td>0.072643</td>\n",
       "      <td>-0.029088</td>\n",
       "      <td>0.312743</td>\n",
       "      <td>-0.109751</td>\n",
       "      <td>0.317240</td>\n",
       "    </tr>\n",
       "    <tr>\n",
       "      <th>add_g_size</th>\n",
       "      <td>0.011157</td>\n",
       "      <td>0.101029</td>\n",
       "      <td>-0.065387</td>\n",
       "      <td>0.220050</td>\n",
       "      <td>0.110541</td>\n",
       "      <td>0.967474</td>\n",
       "      <td>0.004637</td>\n",
       "      <td>NaN</td>\n",
       "      <td>0.369942</td>\n",
       "      <td>0.052215</td>\n",
       "      <td>...</td>\n",
       "      <td>0.009557</td>\n",
       "      <td>-0.069903</td>\n",
       "      <td>-0.045030</td>\n",
       "      <td>-0.073491</td>\n",
       "      <td>0.237583</td>\n",
       "      <td>0.227008</td>\n",
       "      <td>0.570158</td>\n",
       "      <td>-0.047042</td>\n",
       "      <td>0.050460</td>\n",
       "      <td>-0.051516</td>\n",
       "    </tr>\n",
       "    <tr>\n",
       "      <th>landval_log</th>\n",
       "      <td>0.635832</td>\n",
       "      <td>0.389930</td>\n",
       "      <td>0.513258</td>\n",
       "      <td>0.043133</td>\n",
       "      <td>-0.001232</td>\n",
       "      <td>0.007282</td>\n",
       "      <td>0.037680</td>\n",
       "      <td>NaN</td>\n",
       "      <td>0.010751</td>\n",
       "      <td>0.063794</td>\n",
       "      <td>...</td>\n",
       "      <td>1.000000</td>\n",
       "      <td>0.749875</td>\n",
       "      <td>0.053341</td>\n",
       "      <td>0.741565</td>\n",
       "      <td>0.035365</td>\n",
       "      <td>-0.037907</td>\n",
       "      <td>0.033036</td>\n",
       "      <td>0.692894</td>\n",
       "      <td>-0.041191</td>\n",
       "      <td>0.695740</td>\n",
       "    </tr>\n",
       "    <tr>\n",
       "      <th>ll_gisacre_log</th>\n",
       "      <td>0.485586</td>\n",
       "      <td>0.312291</td>\n",
       "      <td>0.629641</td>\n",
       "      <td>-0.035464</td>\n",
       "      <td>-0.059035</td>\n",
       "      <td>-0.063312</td>\n",
       "      <td>0.023393</td>\n",
       "      <td>NaN</td>\n",
       "      <td>-0.041714</td>\n",
       "      <td>0.068340</td>\n",
       "      <td>...</td>\n",
       "      <td>0.749875</td>\n",
       "      <td>1.000000</td>\n",
       "      <td>0.118308</td>\n",
       "      <td>0.994156</td>\n",
       "      <td>-0.125623</td>\n",
       "      <td>-0.132709</td>\n",
       "      <td>-0.049699</td>\n",
       "      <td>0.913258</td>\n",
       "      <td>-0.118337</td>\n",
       "      <td>0.922141</td>\n",
       "    </tr>\n",
       "    <tr>\n",
       "      <th>TotalWater_log</th>\n",
       "      <td>0.086238</td>\n",
       "      <td>0.051119</td>\n",
       "      <td>0.132009</td>\n",
       "      <td>-0.023326</td>\n",
       "      <td>-0.017601</td>\n",
       "      <td>-0.039134</td>\n",
       "      <td>-0.006144</td>\n",
       "      <td>NaN</td>\n",
       "      <td>-0.032934</td>\n",
       "      <td>0.018170</td>\n",
       "      <td>...</td>\n",
       "      <td>0.053341</td>\n",
       "      <td>0.118308</td>\n",
       "      <td>1.000000</td>\n",
       "      <td>0.224815</td>\n",
       "      <td>-0.014470</td>\n",
       "      <td>0.124790</td>\n",
       "      <td>0.023307</td>\n",
       "      <td>-0.013667</td>\n",
       "      <td>-0.173220</td>\n",
       "      <td>0.090087</td>\n",
       "    </tr>\n",
       "    <tr>\n",
       "      <th>min_avail_water_log</th>\n",
       "      <td>0.485878</td>\n",
       "      <td>0.312007</td>\n",
       "      <td>0.632214</td>\n",
       "      <td>-0.037336</td>\n",
       "      <td>-0.059845</td>\n",
       "      <td>-0.066383</td>\n",
       "      <td>0.022288</td>\n",
       "      <td>NaN</td>\n",
       "      <td>-0.044514</td>\n",
       "      <td>0.069037</td>\n",
       "      <td>...</td>\n",
       "      <td>0.741565</td>\n",
       "      <td>0.994156</td>\n",
       "      <td>0.224815</td>\n",
       "      <td>1.000000</td>\n",
       "      <td>-0.126091</td>\n",
       "      <td>-0.119805</td>\n",
       "      <td>-0.046466</td>\n",
       "      <td>0.893197</td>\n",
       "      <td>-0.134956</td>\n",
       "      <td>0.913763</td>\n",
       "    </tr>\n",
       "    <tr>\n",
       "      <th>firstfloor_log</th>\n",
       "      <td>0.067835</td>\n",
       "      <td>0.365062</td>\n",
       "      <td>-0.079280</td>\n",
       "      <td>0.613949</td>\n",
       "      <td>0.084228</td>\n",
       "      <td>0.257445</td>\n",
       "      <td>-0.006253</td>\n",
       "      <td>NaN</td>\n",
       "      <td>-0.035207</td>\n",
       "      <td>0.137701</td>\n",
       "      <td>...</td>\n",
       "      <td>0.035365</td>\n",
       "      <td>-0.125623</td>\n",
       "      <td>-0.014470</td>\n",
       "      <td>-0.126091</td>\n",
       "      <td>1.000000</td>\n",
       "      <td>0.148892</td>\n",
       "      <td>0.434418</td>\n",
       "      <td>-0.123295</td>\n",
       "      <td>-0.024401</td>\n",
       "      <td>-0.126124</td>\n",
       "    </tr>\n",
       "    <tr>\n",
       "      <th>secondfloor_log</th>\n",
       "      <td>0.037105</td>\n",
       "      <td>0.189012</td>\n",
       "      <td>0.049297</td>\n",
       "      <td>0.128572</td>\n",
       "      <td>0.817278</td>\n",
       "      <td>0.203711</td>\n",
       "      <td>-0.004712</td>\n",
       "      <td>NaN</td>\n",
       "      <td>0.115182</td>\n",
       "      <td>0.128728</td>\n",
       "      <td>...</td>\n",
       "      <td>-0.037907</td>\n",
       "      <td>-0.132709</td>\n",
       "      <td>0.124790</td>\n",
       "      <td>-0.119805</td>\n",
       "      <td>0.148892</td>\n",
       "      <td>1.000000</td>\n",
       "      <td>0.335355</td>\n",
       "      <td>-0.173392</td>\n",
       "      <td>-0.003138</td>\n",
       "      <td>-0.162488</td>\n",
       "    </tr>\n",
       "    <tr>\n",
       "      <th>add_g_size_log</th>\n",
       "      <td>0.071645</td>\n",
       "      <td>0.219457</td>\n",
       "      <td>-0.039010</td>\n",
       "      <td>0.232840</td>\n",
       "      <td>0.105878</td>\n",
       "      <td>0.481820</td>\n",
       "      <td>0.006554</td>\n",
       "      <td>NaN</td>\n",
       "      <td>0.412838</td>\n",
       "      <td>0.141152</td>\n",
       "      <td>...</td>\n",
       "      <td>0.033036</td>\n",
       "      <td>-0.049699</td>\n",
       "      <td>0.023307</td>\n",
       "      <td>-0.046466</td>\n",
       "      <td>0.434418</td>\n",
       "      <td>0.335355</td>\n",
       "      <td>1.000000</td>\n",
       "      <td>-0.035469</td>\n",
       "      <td>0.000895</td>\n",
       "      <td>-0.033101</td>\n",
       "    </tr>\n",
       "    <tr>\n",
       "      <th>water_productivity_log</th>\n",
       "      <td>0.437473</td>\n",
       "      <td>0.282166</td>\n",
       "      <td>0.535776</td>\n",
       "      <td>-0.030224</td>\n",
       "      <td>-0.060314</td>\n",
       "      <td>-0.042628</td>\n",
       "      <td>0.029246</td>\n",
       "      <td>NaN</td>\n",
       "      <td>-0.028649</td>\n",
       "      <td>0.054815</td>\n",
       "      <td>...</td>\n",
       "      <td>0.692894</td>\n",
       "      <td>0.913258</td>\n",
       "      <td>-0.013667</td>\n",
       "      <td>0.893197</td>\n",
       "      <td>-0.123295</td>\n",
       "      <td>-0.173392</td>\n",
       "      <td>-0.035469</td>\n",
       "      <td>1.000000</td>\n",
       "      <td>-0.009690</td>\n",
       "      <td>0.994610</td>\n",
       "    </tr>\n",
       "    <tr>\n",
       "      <th>castorieindex_log</th>\n",
       "      <td>-0.103187</td>\n",
       "      <td>-0.038999</td>\n",
       "      <td>-0.194968</td>\n",
       "      <td>0.026635</td>\n",
       "      <td>0.038561</td>\n",
       "      <td>0.042430</td>\n",
       "      <td>-0.005493</td>\n",
       "      <td>NaN</td>\n",
       "      <td>0.042132</td>\n",
       "      <td>-0.004429</td>\n",
       "      <td>...</td>\n",
       "      <td>-0.041191</td>\n",
       "      <td>-0.118337</td>\n",
       "      <td>-0.173220</td>\n",
       "      <td>-0.134956</td>\n",
       "      <td>-0.024401</td>\n",
       "      <td>-0.003138</td>\n",
       "      <td>0.000895</td>\n",
       "      <td>-0.009690</td>\n",
       "      <td>1.000000</td>\n",
       "      <td>-0.027178</td>\n",
       "    </tr>\n",
       "    <tr>\n",
       "      <th>crop_rev_log</th>\n",
       "      <td>0.445331</td>\n",
       "      <td>0.286916</td>\n",
       "      <td>0.547787</td>\n",
       "      <td>-0.032629</td>\n",
       "      <td>-0.062205</td>\n",
       "      <td>-0.046524</td>\n",
       "      <td>0.028545</td>\n",
       "      <td>NaN</td>\n",
       "      <td>-0.031973</td>\n",
       "      <td>0.056690</td>\n",
       "      <td>...</td>\n",
       "      <td>0.695740</td>\n",
       "      <td>0.922141</td>\n",
       "      <td>0.090087</td>\n",
       "      <td>0.913763</td>\n",
       "      <td>-0.126124</td>\n",
       "      <td>-0.162488</td>\n",
       "      <td>-0.033101</td>\n",
       "      <td>0.994610</td>\n",
       "      <td>-0.027178</td>\n",
       "      <td>1.000000</td>\n",
       "    </tr>\n",
       "  </tbody>\n",
       "</table>\n",
       "<p>33 rows × 33 columns</p>\n",
       "</div>"
      ],
      "text/plain": [
       "                         landval    parval  ll_gisacre  firstfloor  \\\n",
       "landval                 1.000000  0.570543    0.636023    0.055569   \n",
       "parval                  0.570543  1.000000    0.441504    0.413511   \n",
       "ll_gisacre              0.636023  0.441504    1.000000   -0.041015   \n",
       "firstfloor              0.055569  0.413511   -0.041015    1.000000   \n",
       "secondfloor            -0.004404  0.202249   -0.041044    0.157698   \n",
       "gize                    0.013369  0.098500   -0.058248    0.230662   \n",
       "mhome                   0.036967  0.044021    0.023511   -0.003529   \n",
       "pool                         NaN       NaN         NaN         NaN   \n",
       "addsize                -0.005330  0.034596   -0.042596    0.016145   \n",
       "pers_prop_val           0.071357  0.292333    0.079180    0.107989   \n",
       "farmlndcl              -0.069929 -0.027292   -0.096330    0.002677   \n",
       "irrcapcl                0.013644 -0.006804   -0.018114   -0.011082   \n",
       "nirrcapcl               0.109749  0.071708    0.373525   -0.044456   \n",
       "nirrcalscl              0.015911 -0.023814    0.010651   -0.007793   \n",
       "castorieindex          -0.099548 -0.035680   -0.196410    0.031109   \n",
       "TotalWater              0.083858  0.051879    0.128355   -0.020836   \n",
       "water_dist             -0.030214 -0.016046    0.034610   -0.016551   \n",
       "Crop Unit Vale ($/acre  0.002460  0.019289   -0.011803   -0.005620   \n",
       "crop_rev                0.563934  0.401629    0.845522   -0.038877   \n",
       "water_productivity      0.553996  0.397510    0.826967   -0.036852   \n",
       "min_avail_water         0.620690  0.428878    0.975711   -0.040515   \n",
       "min_water_rev           0.499762  0.358402    0.777544   -0.022027   \n",
       "add_g_size              0.011157  0.101029   -0.065387    0.220050   \n",
       "landval_log             0.635832  0.389930    0.513258    0.043133   \n",
       "ll_gisacre_log          0.485586  0.312291    0.629641   -0.035464   \n",
       "TotalWater_log          0.086238  0.051119    0.132009   -0.023326   \n",
       "min_avail_water_log     0.485878  0.312007    0.632214   -0.037336   \n",
       "firstfloor_log          0.067835  0.365062   -0.079280    0.613949   \n",
       "secondfloor_log         0.037105  0.189012    0.049297    0.128572   \n",
       "add_g_size_log          0.071645  0.219457   -0.039010    0.232840   \n",
       "water_productivity_log  0.437473  0.282166    0.535776   -0.030224   \n",
       "castorieindex_log      -0.103187 -0.038999   -0.194968    0.026635   \n",
       "crop_rev_log            0.445331  0.286916    0.547787   -0.032629   \n",
       "\n",
       "                        secondfloor      gize     mhome  pool   addsize  \\\n",
       "landval                   -0.004404  0.013369  0.036967   NaN -0.005330   \n",
       "parval                     0.202249  0.098500  0.044021   NaN  0.034596   \n",
       "ll_gisacre                -0.041044 -0.058248  0.023511   NaN -0.042596   \n",
       "firstfloor                 0.157698  0.230662 -0.003529   NaN  0.016145   \n",
       "secondfloor                1.000000  0.083014  0.012423   NaN  0.128781   \n",
       "gize                       0.083014  1.000000 -0.001319   NaN  0.122886   \n",
       "mhome                      0.012423 -0.001319  1.000000   NaN  0.023035   \n",
       "pool                            NaN       NaN       NaN   NaN       NaN   \n",
       "addsize                    0.128781  0.122886  0.023035   NaN  1.000000   \n",
       "pers_prop_val              0.097089  0.053205  0.017920   NaN  0.009446   \n",
       "farmlndcl                 -0.009792  0.007378 -0.000081   NaN  0.017580   \n",
       "irrcapcl                  -0.006116  0.013840  0.016102   NaN  0.008167   \n",
       "nirrcapcl                 -0.068151 -0.079310 -0.012014   NaN -0.082250   \n",
       "nirrcalscl                -0.027470  0.002217  0.007892   NaN  0.004455   \n",
       "castorieindex              0.042783  0.041864 -0.004943   NaN  0.041206   \n",
       "TotalWater                -0.016674 -0.037038 -0.005656   NaN -0.032191   \n",
       "water_dist                -0.029562 -0.003268 -0.001199   NaN -0.010965   \n",
       "Crop Unit Vale ($/acre    -0.016152  0.007212  0.003463   NaN  0.000210   \n",
       "crop_rev                  -0.039603 -0.051013  0.015922   NaN -0.045354   \n",
       "water_productivity        -0.037319 -0.047683  0.017586   NaN -0.042153   \n",
       "min_avail_water           -0.040061 -0.058119  0.022929   NaN -0.042950   \n",
       "min_water_rev             -0.021758 -0.029801  0.009478   NaN -0.027512   \n",
       "add_g_size                 0.110541  0.967474  0.004637   NaN  0.369942   \n",
       "landval_log               -0.001232  0.007282  0.037680   NaN  0.010751   \n",
       "ll_gisacre_log            -0.059035 -0.063312  0.023393   NaN -0.041714   \n",
       "TotalWater_log            -0.017601 -0.039134 -0.006144   NaN -0.032934   \n",
       "min_avail_water_log       -0.059845 -0.066383  0.022288   NaN -0.044514   \n",
       "firstfloor_log             0.084228  0.257445 -0.006253   NaN -0.035207   \n",
       "secondfloor_log            0.817278  0.203711 -0.004712   NaN  0.115182   \n",
       "add_g_size_log             0.105878  0.481820  0.006554   NaN  0.412838   \n",
       "water_productivity_log    -0.060314 -0.042628  0.029246   NaN -0.028649   \n",
       "castorieindex_log          0.038561  0.042430 -0.005493   NaN  0.042132   \n",
       "crop_rev_log              -0.062205 -0.046524  0.028545   NaN -0.031973   \n",
       "\n",
       "                        pers_prop_val  ...  landval_log  ll_gisacre_log  \\\n",
       "landval                      0.071357  ...     0.635832        0.485586   \n",
       "parval                       0.292333  ...     0.389930        0.312291   \n",
       "ll_gisacre                   0.079180  ...     0.513258        0.629641   \n",
       "firstfloor                   0.107989  ...     0.043133       -0.035464   \n",
       "secondfloor                  0.097089  ...    -0.001232       -0.059035   \n",
       "gize                         0.053205  ...     0.007282       -0.063312   \n",
       "mhome                        0.017920  ...     0.037680        0.023393   \n",
       "pool                              NaN  ...          NaN             NaN   \n",
       "addsize                      0.009446  ...     0.010751       -0.041714   \n",
       "pers_prop_val                1.000000  ...     0.063794        0.068340   \n",
       "farmlndcl                   -0.009968  ...    -0.066727       -0.088455   \n",
       "irrcapcl                    -0.002951  ...     0.001463       -0.007849   \n",
       "nirrcapcl                    0.003141  ...     0.055218        0.247350   \n",
       "nirrcalscl                   0.008026  ...     0.013004        0.033390   \n",
       "castorieindex               -0.004685  ...    -0.042551       -0.104481   \n",
       "TotalWater                   0.018025  ...     0.052356        0.116145   \n",
       "water_dist                  -0.015023  ...    -0.012891        0.037745   \n",
       "Crop Unit Vale ($/acre       0.003452  ...     0.061218        0.073364   \n",
       "crop_rev                     0.044317  ...     0.442913        0.537726   \n",
       "water_productivity           0.041910  ...     0.437994        0.528918   \n",
       "min_avail_water              0.081036  ...     0.497657        0.611558   \n",
       "min_water_rev                0.026278  ...     0.280896        0.319610   \n",
       "add_g_size                   0.052215  ...     0.009557       -0.069903   \n",
       "landval_log                  0.063794  ...     1.000000        0.749875   \n",
       "ll_gisacre_log               0.068340  ...     0.749875        1.000000   \n",
       "TotalWater_log               0.018170  ...     0.053341        0.118308   \n",
       "min_avail_water_log          0.069037  ...     0.741565        0.994156   \n",
       "firstfloor_log               0.137701  ...     0.035365       -0.125623   \n",
       "secondfloor_log              0.128728  ...    -0.037907       -0.132709   \n",
       "add_g_size_log               0.141152  ...     0.033036       -0.049699   \n",
       "water_productivity_log       0.054815  ...     0.692894        0.913258   \n",
       "castorieindex_log           -0.004429  ...    -0.041191       -0.118337   \n",
       "crop_rev_log                 0.056690  ...     0.695740        0.922141   \n",
       "\n",
       "                        TotalWater_log  min_avail_water_log  firstfloor_log  \\\n",
       "landval                       0.086238             0.485878        0.067835   \n",
       "parval                        0.051119             0.312007        0.365062   \n",
       "ll_gisacre                    0.132009             0.632214       -0.079280   \n",
       "firstfloor                   -0.023326            -0.037336        0.613949   \n",
       "secondfloor                  -0.017601            -0.059845        0.084228   \n",
       "gize                         -0.039134            -0.066383        0.257445   \n",
       "mhome                        -0.006144             0.022288       -0.006253   \n",
       "pool                               NaN                  NaN             NaN   \n",
       "addsize                      -0.032934            -0.044514       -0.035207   \n",
       "pers_prop_val                 0.018170             0.069037        0.137701   \n",
       "farmlndcl                    -0.010178            -0.087907       -0.007344   \n",
       "irrcapcl                     -0.000524            -0.007759       -0.048352   \n",
       "nirrcapcl                     0.220055             0.266647        0.055882   \n",
       "nirrcalscl                    0.095059             0.043100       -0.037750   \n",
       "castorieindex                -0.185697            -0.122715       -0.022266   \n",
       "TotalWater                    0.996920             0.222358       -0.013911   \n",
       "water_dist                   -0.120252             0.023965       -0.060580   \n",
       "Crop Unit Vale ($/acre       -0.053424             0.065770       -0.010880   \n",
       "crop_rev                      0.098762             0.538126       -0.083846   \n",
       "water_productivity            0.005316             0.518812       -0.085821   \n",
       "min_avail_water               0.234292             0.625590       -0.070153   \n",
       "min_water_rev                 0.055356             0.319465       -0.029487   \n",
       "add_g_size                   -0.045030            -0.073491        0.237583   \n",
       "landval_log                   0.053341             0.741565        0.035365   \n",
       "ll_gisacre_log                0.118308             0.994156       -0.125623   \n",
       "TotalWater_log                1.000000             0.224815       -0.014470   \n",
       "min_avail_water_log           0.224815             1.000000       -0.126091   \n",
       "firstfloor_log               -0.014470            -0.126091        1.000000   \n",
       "secondfloor_log               0.124790            -0.119805        0.148892   \n",
       "add_g_size_log                0.023307            -0.046466        0.434418   \n",
       "water_productivity_log       -0.013667             0.893197       -0.123295   \n",
       "castorieindex_log            -0.173220            -0.134956       -0.024401   \n",
       "crop_rev_log                  0.090087             0.913763       -0.126124   \n",
       "\n",
       "                        secondfloor_log  add_g_size_log  \\\n",
       "landval                        0.037105        0.071645   \n",
       "parval                         0.189012        0.219457   \n",
       "ll_gisacre                     0.049297       -0.039010   \n",
       "firstfloor                     0.128572        0.232840   \n",
       "secondfloor                    0.817278        0.105878   \n",
       "gize                           0.203711        0.481820   \n",
       "mhome                         -0.004712        0.006554   \n",
       "pool                                NaN             NaN   \n",
       "addsize                        0.115182        0.412838   \n",
       "pers_prop_val                  0.128728        0.141152   \n",
       "farmlndcl                     -0.074106       -0.039657   \n",
       "irrcapcl                       0.018767       -0.006670   \n",
       "nirrcapcl                      0.019753       -0.008736   \n",
       "nirrcalscl                    -0.030516       -0.000171   \n",
       "castorieindex                  0.017052        0.003188   \n",
       "TotalWater                     0.128051        0.024023   \n",
       "water_dist                    -0.083608       -0.028100   \n",
       "Crop Unit Vale ($/acre        -0.074553        0.013851   \n",
       "crop_rev                       0.004572       -0.047307   \n",
       "water_productivity            -0.012975       -0.046765   \n",
       "min_avail_water                0.059133       -0.033629   \n",
       "min_water_rev                  0.072643       -0.029088   \n",
       "add_g_size                     0.227008        0.570158   \n",
       "landval_log                   -0.037907        0.033036   \n",
       "ll_gisacre_log                -0.132709       -0.049699   \n",
       "TotalWater_log                 0.124790        0.023307   \n",
       "min_avail_water_log           -0.119805       -0.046466   \n",
       "firstfloor_log                 0.148892        0.434418   \n",
       "secondfloor_log                1.000000        0.335355   \n",
       "add_g_size_log                 0.335355        1.000000   \n",
       "water_productivity_log        -0.173392       -0.035469   \n",
       "castorieindex_log             -0.003138        0.000895   \n",
       "crop_rev_log                  -0.162488       -0.033101   \n",
       "\n",
       "                        water_productivity_log  castorieindex_log  \\\n",
       "landval                               0.437473          -0.103187   \n",
       "parval                                0.282166          -0.038999   \n",
       "ll_gisacre                            0.535776          -0.194968   \n",
       "firstfloor                           -0.030224           0.026635   \n",
       "secondfloor                          -0.060314           0.038561   \n",
       "gize                                 -0.042628           0.042430   \n",
       "mhome                                 0.029246          -0.005493   \n",
       "pool                                       NaN                NaN   \n",
       "addsize                              -0.028649           0.042132   \n",
       "pers_prop_val                         0.054815          -0.004429   \n",
       "farmlndcl                            -0.049993           0.385069   \n",
       "irrcapcl                             -0.001577          -0.540097   \n",
       "nirrcapcl                             0.165632          -0.341531   \n",
       "nirrcalscl                            0.005047          -0.428433   \n",
       "castorieindex                         0.009969           0.945015   \n",
       "TotalWater                           -0.015552          -0.171211   \n",
       "water_dist                            0.145185           0.274420   \n",
       "Crop Unit Vale ($/acre                0.436959           0.169798   \n",
       "crop_rev                              0.550945          -0.122567   \n",
       "water_productivity                    0.553663          -0.114812   \n",
       "min_avail_water                       0.504665          -0.199916   \n",
       "min_water_rev                         0.312743          -0.109751   \n",
       "add_g_size                           -0.047042           0.050460   \n",
       "landval_log                           0.692894          -0.041191   \n",
       "ll_gisacre_log                        0.913258          -0.118337   \n",
       "TotalWater_log                       -0.013667          -0.173220   \n",
       "min_avail_water_log                   0.893197          -0.134956   \n",
       "firstfloor_log                       -0.123295          -0.024401   \n",
       "secondfloor_log                      -0.173392          -0.003138   \n",
       "add_g_size_log                       -0.035469           0.000895   \n",
       "water_productivity_log                1.000000          -0.009690   \n",
       "castorieindex_log                    -0.009690           1.000000   \n",
       "crop_rev_log                          0.994610          -0.027178   \n",
       "\n",
       "                        crop_rev_log  \n",
       "landval                     0.445331  \n",
       "parval                      0.286916  \n",
       "ll_gisacre                  0.547787  \n",
       "firstfloor                 -0.032629  \n",
       "secondfloor                -0.062205  \n",
       "gize                       -0.046524  \n",
       "mhome                       0.028545  \n",
       "pool                             NaN  \n",
       "addsize                    -0.031973  \n",
       "pers_prop_val               0.056690  \n",
       "farmlndcl                  -0.049191  \n",
       "irrcapcl                   -0.001882  \n",
       "nirrcapcl                   0.188500  \n",
       "nirrcalscl                  0.014992  \n",
       "castorieindex              -0.009211  \n",
       "TotalWater                  0.087978  \n",
       "water_dist                  0.133106  \n",
       "Crop Unit Vale ($/acre      0.429683  \n",
       "crop_rev                    0.558998  \n",
       "water_productivity          0.552014  \n",
       "min_avail_water             0.528032  \n",
       "min_water_rev               0.317240  \n",
       "add_g_size                 -0.051516  \n",
       "landval_log                 0.695740  \n",
       "ll_gisacre_log              0.922141  \n",
       "TotalWater_log              0.090087  \n",
       "min_avail_water_log         0.913763  \n",
       "firstfloor_log             -0.126124  \n",
       "secondfloor_log            -0.162488  \n",
       "add_g_size_log             -0.033101  \n",
       "water_productivity_log      0.994610  \n",
       "castorieindex_log          -0.027178  \n",
       "crop_rev_log                1.000000  \n",
       "\n",
       "[33 rows x 33 columns]"
      ]
     },
     "execution_count": 825,
     "metadata": {},
     "output_type": "execute_result"
    }
   ],
   "source": [
    "full_set.corr()"
   ]
  },
  {
   "cell_type": "markdown",
   "metadata": {},
   "source": [
    "So no correlations that would suggest we shouldnt be using these variables. Before we ran out regeression we did some final filtering to narrow our parcel set down to agricultural uses. In that veign for our target variable we  "
   ]
  },
  {
   "cell_type": "code",
   "execution_count": 826,
   "metadata": {},
   "outputs": [
    {
     "data": {
      "text/plain": [
       "8591"
      ]
     },
     "execution_count": 826,
     "metadata": {},
     "output_type": "execute_result"
    }
   ],
   "source": [
    "##need to move these filters into the variable eda for them\n",
    "\n",
    "modeling_set = full_set[(full_set[\"secondfloor\"] < 1) & \n",
    "         (full_set[\"mhome\"] < 1)  & \n",
    "         (full_set[\"pers_prop_val\"] < 1) & \n",
    "         (full_set[\"landval\"] < 1000000) & \n",
    "         (full_set[\"landval\"] > 10000)].copy()\n",
    "\n",
    "modeling_set.replace([np.inf, -np.inf], 0, inplace=True)\n",
    "modeling_set.dropna(inplace=True)\n",
    "len(modeling_set)\n",
    "\n",
    "#filter out parvals between "
   ]
  },
  {
   "cell_type": "markdown",
   "metadata": {},
   "source": [
    "We ran regressions with a few different equations:\n",
    "\n",
    "landvalue (log of) = agricultural revenue (acreage X crop revenue per acre) + minimum water access+ minimum water revenue (min water access X water_productivity) + nirrcapcl + irracapcl + TotalWater + building size"
   ]
  },
  {
   "cell_type": "code",
   "execution_count": 827,
   "metadata": {},
   "outputs": [
    {
     "name": "stdout",
     "output_type": "stream",
     "text": [
      "(8591, 9)\n"
     ]
    }
   ],
   "source": [
    "y = modeling_set['landval']\n",
    "y_ln = modeling_set['landval_log']\n",
    "\n",
    "\n",
    "\n",
    "X_log = modeling_set[['ll_gisacre_log', 'firstfloor_log', 'secondfloor_log', 'min_avail_water_log', 'water_dist', 'farmlndcl', 'nirrcapcl', 'add_g_size_log', 'crop_rev']]\n",
    "\n",
    "X = modeling_set[['ll_gisacre', 'firstfloor', 'secondfloor', 'min_avail_water', 'water_dist', 'farmlndcl', 'nirrcapcl', 'add_g_size', 'crop_rev']]\n",
    "\n",
    "print(X.shape)"
   ]
  },
  {
   "cell_type": "code",
   "execution_count": 828,
   "metadata": {},
   "outputs": [],
   "source": [
    "X_train, X_test, y_train, y_test = train_test_split(X, y, test_size=0.2, random_state=1)\n",
    "X_log_train, X_log_test, y_log_train, y_log_test = train_test_split(X_log, y_ln, test_size=0.2, random_state=1)\n",
    "\n"
   ]
  },
  {
   "cell_type": "code",
   "execution_count": 829,
   "metadata": {},
   "outputs": [],
   "source": [
    "#non log\n",
    "scaler = StandardScaler()\n",
    "X_train = pd.DataFrame(scaler.fit_transform(X_train), columns=X_train.columns)\n",
    "X_test = pd.DataFrame(scaler.transform(X_test), columns=X_test.columns)\n",
    "\n",
    "#scaler2 = StandardScaler()\n",
    "#X_train = pd.DataFrame(scaler2.fit_transform(X_train), columns=X_train.columns)\n",
    "#X_test = pd.DataFrame(scaler2.transform(X_test), columns=X_test.columns)"
   ]
  },
  {
   "cell_type": "code",
   "execution_count": 830,
   "metadata": {},
   "outputs": [],
   "source": [
    "#log\n",
    "scaler2 = StandardScaler()\n",
    "X_log_train = pd.DataFrame(scaler2.fit_transform(X_log_train), columns=X_log_train.columns)\n",
    "X_log_test = pd.DataFrame(scaler2.transform(X_log_test), columns=X_log_test.columns)"
   ]
  },
  {
   "cell_type": "code",
   "execution_count": 831,
   "metadata": {
    "scrolled": true
   },
   "outputs": [
    {
     "name": "stdout",
     "output_type": "stream",
     "text": [
      "\n",
      "================ SUMMARY TABLE WITH P-VALUES for non transformed Target Variable =================\n",
      "R-squared: 0.488899877559365\n",
      "Intercept: 168407.1421711292\n",
      "Coefficients: [ 1.07145096e+05  8.06666925e+03 -3.63797881e-12  1.29460968e+04\n",
      "  6.12650149e+02 -5.16078679e+03 -3.18922450e+04 -8.55615629e+02\n",
      "  8.66804858e+03]\n",
      "\n",
      "\n",
      "      ll_gisacre  firstfloor  secondfloor  min_avail_water  water_dist  \\\n",
      "0      -0.399708   -0.200410          0.0        -0.446228    0.717158   \n",
      "1       0.410982   -0.200410          0.0         0.579829    1.046106   \n",
      "2      -0.389866   -0.200410          0.0        -0.427688   -0.951749   \n",
      "3      -0.660820    0.206424          0.0        -0.632566   -1.052643   \n",
      "4      -0.655480    0.046721          0.0        -0.628755   -0.248324   \n",
      "...          ...         ...          ...              ...         ...   \n",
      "6867   -0.568015   -0.200410          0.0        -0.566337    3.345150   \n",
      "6868    1.746543   -0.200410          0.0         1.747209   -0.980715   \n",
      "6869   -0.669871    0.094749          0.0        -0.639025   -0.826843   \n",
      "6870   -0.645776   -0.200410          0.0        -0.606438   -1.648160   \n",
      "6871   -0.673512    0.105007          0.0        -0.641623    0.289983   \n",
      "\n",
      "      farmlndcl  nirrcapcl  add_g_size  crop_rev  \n",
      "0      0.227174  -0.539418   -0.338780 -0.306332  \n",
      "1      0.227174   2.007392   -0.338780  0.522968  \n",
      "2      0.227174  -0.539418   -0.338780 -0.547522  \n",
      "3      1.092550  -0.539418    0.761807 -0.554174  \n",
      "4      0.227174  -0.539418   -0.338780 -0.549105  \n",
      "...         ...        ...         ...       ...  \n",
      "6867  -1.503578   2.007392   -0.338780 -0.466085  \n",
      "6868  -1.503578  -0.539418   -0.338780 -0.273725  \n",
      "6869  -1.503578  -0.539418    1.220385 -0.562765  \n",
      "6870  -1.503578  -0.539418   -0.338780 -0.537837  \n",
      "6871   0.227174  -0.539418    0.211513 -0.566220  \n",
      "\n",
      "[6872 rows x 9 columns]\n"
     ]
    }
   ],
   "source": [
    "ols = LinearRegression()\n",
    "ols.fit(X_train, y_train)\n",
    "print(\"\\n================ SUMMARY TABLE WITH P-VALUES for non transformed Target Variable =================\")\n",
    "print(\"R-squared:\", ols.score(X_train, y_train))\n",
    "print(\"Intercept:\", ols.intercept_)\n",
    "print(\"Coefficients:\", ols.coef_)\n",
    "print('\\n')\n",
    "xlabels = X.columns\n",
    "#stats.describe(ols, X, y_ln, xlabels)\n",
    "print(X_train)"
   ]
  },
  {
   "cell_type": "code",
   "execution_count": 832,
   "metadata": {},
   "outputs": [
    {
     "name": "stdout",
     "output_type": "stream",
     "text": [
      "\n",
      "================ SUMMARY TABLE WITH P-VALUES for Log Transformed Target Variable =================\n",
      "R-squared: 0.5371382529592426\n",
      "Intercept: 11.598688469793547\n",
      "Coefficients: [ 5.74742584e-01  1.56509092e-01  3.33066907e-16  6.60804628e-02\n",
      " -1.99095036e-02 -2.50055437e-02 -1.30129662e-01 -6.53025840e-02\n",
      "  1.93910476e-01]\n",
      "\n",
      "\n",
      "      ll_gisacre_log  firstfloor_log  secondfloor_log  min_avail_water_log  \\\n",
      "0           0.079443       -0.780856              0.0            -0.040441   \n",
      "1           0.867208       -0.780856              0.0             0.980558   \n",
      "2           0.099344       -0.780856              0.0             0.009176   \n",
      "3          -1.397031        1.300414              0.0            -1.473273   \n",
      "4          -1.273220        1.161425              0.0            -1.353121   \n",
      "...              ...             ...              ...                  ...   \n",
      "6867       -0.445460       -0.780856              0.0            -0.549829   \n",
      "6868        1.332665       -0.780856              0.0             1.358800   \n",
      "6869       -1.695701        1.210942              0.0            -1.763114   \n",
      "6870       -1.099227       -0.780856              0.0            -0.927751   \n",
      "6871       -1.878397        1.220468              0.0            -1.940410   \n",
      "\n",
      "      water_dist  farmlndcl  nirrcapcl  add_g_size_log  crop_rev  \n",
      "0       0.717158   0.227174  -0.539418       -0.561800 -0.306332  \n",
      "1       1.046106   0.227174   2.007392       -0.561800  0.522968  \n",
      "2      -0.951749   0.227174  -0.539418       -0.561800 -0.547522  \n",
      "3      -1.052643   1.092550  -0.539418        1.761187 -0.554174  \n",
      "4      -0.248324   0.227174  -0.539418       -0.561800 -0.549105  \n",
      "...          ...        ...        ...             ...       ...  \n",
      "6867    3.345150  -1.503578   2.007392       -0.561800 -0.466085  \n",
      "6868   -0.980715  -1.503578  -0.539418       -0.561800 -0.273725  \n",
      "6869   -0.826843  -1.503578  -0.539418        1.888483 -0.562765  \n",
      "6870   -1.648160  -1.503578  -0.539418       -0.561800 -0.537837  \n",
      "6871    0.289983   0.227174  -0.539418        1.507860 -0.566220  \n",
      "\n",
      "[6872 rows x 9 columns]\n"
     ]
    }
   ],
   "source": [
    "ols_log = LinearRegression()\n",
    "ols_log.fit(X_log_train, y_log_train)\n",
    "print(\"\\n================ SUMMARY TABLE WITH P-VALUES for Log Transformed Target Variable =================\")\n",
    "print(\"R-squared:\", ols_log.score(X_log_train, y_log_train))\n",
    "print(\"Intercept:\", ols_log.intercept_)\n",
    "print(\"Coefficients:\", ols_log.coef_)\n",
    "print('\\n')\n",
    "x_loglabels = X_log.columns\n",
    "#stats.describe(ols, X, y_ln, xlabels)\n",
    "print(X_log_train)"
   ]
  },
  {
   "cell_type": "code",
   "execution_count": 833,
   "metadata": {
    "collapsed": true
   },
   "outputs": [],
   "source": [
    "\n",
    "# Collect the coefficients\n",
    "df_ols_coef = pd.DataFrame(ols.coef_, index=X_train.columns, columns=['Coefficients'])\n",
    "df_ols_coef['Coef_abs'] = df_ols_coef.Coefficients.abs()\n",
    "\n",
    "df_ols_coef_log = pd.DataFrame(ols.coef_, index=X_log_train.columns, columns=['Coefficients'])\n",
    "df_ols_coef_log['Coef_abs'] = df_ols_coef.Coefficients.abs()"
   ]
  },
  {
   "cell_type": "code",
   "execution_count": 834,
   "metadata": {
    "collapsed": true
   },
   "outputs": [],
   "source": [
    "predictions_train = ols.predict(X_train)\n",
    "predictions_test = ols.predict(X_test)\n",
    "\n",
    "predictions_train_log = ols_log.predict(X_log_train)\n",
    "predictions_test_log = ols_log.predict(X_log_test)"
   ]
  },
  {
   "cell_type": "code",
   "execution_count": 835,
   "metadata": {},
   "outputs": [
    {
     "name": "stdout",
     "output_type": "stream",
     "text": [
      "Non Transformed\n",
      "Training Score: 0.488899877559365\n",
      "Cross validation scores: [0.5006584  0.52730487 0.45847417 0.49017858 0.4653565 ]\n",
      "Mean cross validation score: 0.4883945058407127\n",
      "Test Score: 0.5161916284559431\n"
     ]
    }
   ],
   "source": [
    "# Perform 5-fold cross-validation on the training set\n",
    "cv_scores = cross_val_score(ols, X_train, y_train, cv=5)\n",
    "print('Non Transformed')\n",
    "print('Training Score:', ols.score(X_train, y_train))\n",
    "print('Cross validation scores:', cv_scores)\n",
    "print('Mean cross validation score:', cv_scores.mean())\n",
    "print('Test Score:', ols.score(X_test, y_test))"
   ]
  },
  {
   "cell_type": "code",
   "execution_count": 836,
   "metadata": {},
   "outputs": [
    {
     "name": "stdout",
     "output_type": "stream",
     "text": [
      "Log Transformed\n",
      "Training Score: -44715678651.40575\n",
      "Cross validation scores: [0.53898874 0.53176641 0.53101568 0.53785386 0.5383052 ]\n",
      "Mean cross validation score: 0.5355859788888113\n",
      "Test Score: 0.5340514421763989\n"
     ]
    }
   ],
   "source": [
    "cv_log_scores = cross_val_score(ols_log, X_log_train, y_log_train, cv=5)\n",
    "print('Log Transformed')\n",
    "print('Training Score:', ols.score(X_log_train, y_log_train))\n",
    "print('Cross validation scores:', cv_log_scores)\n",
    "print('Mean cross validation score:', cv_log_scores.mean())\n",
    "print('Test Score:', ols_log.score(X_log_test, y_log_test))"
   ]
  },
  {
   "cell_type": "code",
   "execution_count": 837,
   "metadata": {},
   "outputs": [
    {
     "name": "stdout",
     "output_type": "stream",
     "text": [
      "Shuffled cross validation score: [0.40883488 0.53980882 0.56180499 0.43195368 0.47999598]\n",
      "Mean shuffled cross validation score: 0.4844796706901392\n"
     ]
    }
   ],
   "source": [
    "# Shuffled 5-fold cross validation scores are rather similar\n",
    "kf = KFold(n_splits=5, shuffle=True, random_state=1)\n",
    "cv_scores_shuffled = cross_val_score(ols, X_train, y_train, cv=kf)\n",
    "\n",
    "print('Shuffled cross validation score:', cv_scores_shuffled)\n",
    "print('Mean shuffled cross validation score:', cv_scores_shuffled.mean())"
   ]
  },
  {
   "cell_type": "code",
   "execution_count": 838,
   "metadata": {},
   "outputs": [
    {
     "name": "stdout",
     "output_type": "stream",
     "text": [
      "Mean Squared Error: 13824124187.444777\n",
      "Root Mean Squared Error: 117576.0357702401\n"
     ]
    }
   ],
   "source": [
    "print('Mean Squared Error:', metrics.mean_squared_error(y_test, predictions_test)) \n",
    "print('Root Mean Squared Error:', (metrics.mean_squared_error(y_test, predictions_test))**0.5)"
   ]
  },
  {
   "cell_type": "code",
   "execution_count": 839,
   "metadata": {},
   "outputs": [
    {
     "data": {
      "text/plain": [
       "count    6.872000e+03\n",
       "mean     2.744366e-12\n",
       "std      1.196870e+05\n",
       "min     -5.819722e+05\n",
       "25%     -6.448214e+04\n",
       "50%     -2.665026e+04\n",
       "75%      1.093677e+04\n",
       "max      9.489584e+05\n",
       "Name: landval, dtype: float64"
      ]
     },
     "execution_count": 839,
     "metadata": {},
     "output_type": "execute_result"
    }
   ],
   "source": [
    "ols_residuals = (y_train - predictions_train)\n",
    "ols_residuals.describe()"
   ]
  },
  {
   "cell_type": "code",
   "execution_count": 840,
   "metadata": {},
   "outputs": [
    {
     "name": "stdout",
     "output_type": "stream",
     "text": [
      "Skew: 2.6824801756070973\n",
      "Kurtosis: 11.124422300663356\n",
      "Shapiro-Wilk test on normality=0.714, p=0.000\n"
     ]
    }
   ],
   "source": [
    "print(\"Skew:\", ols_residuals.skew())\n",
    "print(\"Kurtosis:\", ols_residuals.kurtosis())\n",
    "stat, p = shapiro(ols_residuals)\n",
    "print('Shapiro-Wilk test on normality=%.3f, p=%.3f' % (stat, p))"
   ]
  },
  {
   "cell_type": "code",
   "execution_count": 841,
   "metadata": {},
   "outputs": [
    {
     "data": {
      "image/png": "[encoded data removed]",
      "text/plain": [
       "<Figure size 432x288 with 1 Axes>"
      ]
     },
     "metadata": {},
     "output_type": "display_data"
    }
   ],
   "source": [
    "stats.probplot(ols_residuals, dist=\"norm\", plot=plt)\n",
    "plt.title(\"Quantile-Quantile Plot training set\");"
   ]
  },
  {
   "cell_type": "code",
   "execution_count": 842,
   "metadata": {},
   "outputs": [
    {
     "data": {
      "image/png": "[encoded data removed]",
      "text/plain": [
       "<Figure size 1080x360 with 2 Axes>"
      ]
     },
     "metadata": {},
     "output_type": "display_data"
    }
   ],
   "source": [
    "\n",
    "# Plotting the OLS residuals against the predicted-y and 'min_avail_water'. The residuals appear well-behaved\n",
    "fig, ax = plt.subplots(ncols=2, figsize=(15, 5))\n",
    "ax[0].scatter(ols_residuals, predictions_train)\n",
    "ax[0].set_title('Residuals vs Predicted Target', fontsize=12)\n",
    "\n",
    "ax[1].scatter(ols_residuals, X_train.min_avail_water)\n",
    "ax[1].set_title('Residuals vs Minimum Available Water', fontsize=12);"
   ]
  },
  {
   "cell_type": "code",
   "execution_count": null,
   "metadata": {
    "collapsed": true
   },
   "outputs": [],
   "source": [
    "penalty = ['l1', 'l2']\n",
    "C = [0.0001, 0.001, 0.01, 0.1, 1, 10, 100, 1000]\n",
    "class_weight = [{1:0.5, 0:0.5}, {1:0.4, 0:0.6}, {1:0.6, 0:0.4}, {1:0.7, 0:0.3}]\n",
    "solver = ['liblinear', 'saga']\n",
    "\n",
    "param_grid = dict(penalty=penalty,\n",
    "                  C=C,\n",
    "                  class_weight=class_weight,\n",
    "                  solver=solver)\n",
    "\n",
    "grid = GridSearchCV(estimator=logistic,\n",
    "                    param_grid=param_grid,\n",
    "                    scoring='roc_auc',\n",
    "                    verbose=1,\n",
    "                    n_jobs=-1)\n",
    "grid_result = grid.fit(X_train, y_train)\n",
    "\n",
    "print('Best Score: ', grid_result.best_score_)\n",
    "print('Best Params: ', grid_result.best_params_)"
   ]
  },
  {
   "cell_type": "code",
   "execution_count": null,
   "metadata": {
    "collapsed": true
   },
   "outputs": [],
   "source": []
  },
  {
   "cell_type": "code",
   "execution_count": 843,
   "metadata": {},
   "outputs": [
    {
     "name": "stdout",
     "output_type": "stream",
     "text": [
      "Best Ridge alpha: 2.782559402207126\n",
      "Training score: 0.48889878323047214\n",
      "Test Score: 0.5161868531273501\n"
     ]
    }
   ],
   "source": [
    "# Ridge Cross-Validation\n",
    "ridge_mod = RidgeCV(alphas=np.logspace(-4, 4, 10), cv=5)\n",
    "ridge_mod.fit(X_train, y_train)\n",
    "\n",
    "print('Best Ridge alpha:', ridge_mod.alpha_)\n",
    "print('Training score:', ridge_mod.score(X_train, y_train))\n",
    "print(\"Test Score:\", ridge_mod.score(X_test, y_test))"
   ]
  },
  {
   "cell_type": "code",
   "execution_count": 844,
   "metadata": {
    "collapsed": true
   },
   "outputs": [],
   "source": [
    "df_ridge_coef = pd.DataFrame(ridge_mod.coef_, index=X_train.columns,\n",
    "                       columns=['Coefficients'])\n",
    "df_ridge_coef['Coef_abs'] = df_ridge_coef.Coefficients.abs()"
   ]
  },
  {
   "cell_type": "code",
   "execution_count": 845,
   "metadata": {},
   "outputs": [
    {
     "name": "stdout",
     "output_type": "stream",
     "text": [
      "Cross-validated training scores: [0.50060664 0.52724102 0.45855757 0.4901598  0.4654169 ]\n",
      "Mean cross-validated training score: 0.4883963874157467\n",
      "Training Score: 0.4888987852141979\n",
      "Test Score: 0.5161868586094148\n"
     ]
    }
   ],
   "source": [
    "# Confirmed similar to the above Ridge CV scores\n",
    "ridge_mod = Ridge(alpha=2.78)\n",
    "\n",
    "scores = cross_val_score(ridge_mod, X_train, y_train, cv=5)\n",
    "print(\"Cross-validated training scores:\", scores)\n",
    "print(\"Mean cross-validated training score:\", scores.mean())\n",
    "\n",
    "ridge_mod.fit(X_train, y_train)\n",
    "print(\"Training Score:\", ridge_mod.score(X_train, y_train))\n",
    "print(\"Test Score:\", ridge_mod.score(X_test, y_test))"
   ]
  },
  {
   "cell_type": "code",
   "execution_count": 846,
   "metadata": {},
   "outputs": [
    {
     "name": "stdout",
     "output_type": "stream",
     "text": [
      "Best Lasso alpha: 166.81005372000558\n",
      "Training score: 0.48888984944917463\n",
      "Test Score: 0.5162323738983436\n"
     ]
    }
   ],
   "source": [
    "lasso_mod = LassoCV(alphas=np.logspace(-4, 4, 10), cv=5)\n",
    "lasso_mod.fit(X_train, y_train)\n",
    "\n",
    "print('Best Lasso alpha:', lasso_mod.alpha_)\n",
    "print('Training score:', lasso_mod.score(X_train, y_train))\n",
    "print(\"Test Score:\", lasso_mod.score(X_test, y_test))"
   ]
  },
  {
   "cell_type": "code",
   "execution_count": 847,
   "metadata": {
    "collapsed": true
   },
   "outputs": [],
   "source": [
    "df_lasso_coef = pd.DataFrame(lasso_mod.coef_, index=X_train.columns,\n",
    "                       columns=['Coefficients'])\n",
    "df_lasso_coef['Coef_abs'] = df_lasso_coef.Coefficients.abs()"
   ]
  },
  {
   "cell_type": "code",
   "execution_count": 848,
   "metadata": {
    "collapsed": true
   },
   "outputs": [],
   "source": [
    "coef = pd.concat([df_ols_coef['Coefficients'], df_ridge_coef['Coefficients'], df_lasso_coef['Coefficients']])\n",
    "coef = pd.DataFrame(coef)\n",
    "coef.reset_index(level=0, inplace=True)\n",
    "coef.columns = ['variable', 'coefficient']\n"
   ]
  },
  {
   "cell_type": "code",
   "execution_count": 849,
   "metadata": {
    "collapsed": true
   },
   "outputs": [],
   "source": [
    "coef.loc[0:2, \"model\"] = \"ols\"\n",
    "coef.loc[3:5, \"model\"] = \"ridge\"\n",
    "coef.loc[6:9, \"model\"] = \"lasso\""
   ]
  },
  {
   "cell_type": "markdown",
   "metadata": {},
   "source": [
    "### Water value as a portion of land value derivation"
   ]
  },
  {
   "cell_type": "markdown",
   "metadata": {},
   "source": [
    "We generated two different hedonic models, one with log transformations for the target and majority of dependent variables to leverage more normal variable distributions, and the other model without any transformed variables.\n",
    "\n",
    "Now we will apply the water variable coefficients to the land value to get the monetary value of water as a portion of the land value. "
   ]
  },
  {
   "cell_type": "code",
   "execution_count": 850,
   "metadata": {},
   "outputs": [],
   "source": [
    "full_set.columns\n",
    "output = full_set[['parcelnumb', 'county', 'szip', 'landval']]"
   ]
  },
  {
   "cell_type": "code",
   "execution_count": 851,
   "metadata": {},
   "outputs": [
    {
     "data": {
      "text/html": [
       "<div>\n",
       "<style scoped>\n",
       "    .dataframe tbody tr th:only-of-type {\n",
       "        vertical-align: middle;\n",
       "    }\n",
       "\n",
       "    .dataframe tbody tr th {\n",
       "        vertical-align: top;\n",
       "    }\n",
       "\n",
       "    .dataframe thead th {\n",
       "        text-align: right;\n",
       "    }\n",
       "</style>\n",
       "<table border=\"1\" class=\"dataframe\">\n",
       "  <thead>\n",
       "    <tr style=\"text-align: right;\">\n",
       "      <th></th>\n",
       "      <th>parcelnumb</th>\n",
       "      <th>county</th>\n",
       "      <th>szip</th>\n",
       "      <th>landval</th>\n",
       "      <th>water_val</th>\n",
       "    </tr>\n",
       "  </thead>\n",
       "  <tbody>\n",
       "    <tr>\n",
       "      <th>0</th>\n",
       "      <td>37002003</td>\n",
       "      <td>fresno</td>\n",
       "      <td>93654-9320</td>\n",
       "      <td>207423.0</td>\n",
       "      <td>206401.576550</td>\n",
       "    </tr>\n",
       "    <tr>\n",
       "      <th>1</th>\n",
       "      <td>35302073</td>\n",
       "      <td>fresno</td>\n",
       "      <td>93625-9728</td>\n",
       "      <td>119474.0</td>\n",
       "      <td>118885.668208</td>\n",
       "    </tr>\n",
       "    <tr>\n",
       "      <th>2</th>\n",
       "      <td>04233003</td>\n",
       "      <td>fresno</td>\n",
       "      <td>93725-9118</td>\n",
       "      <td>359218.0</td>\n",
       "      <td>357449.084842</td>\n",
       "    </tr>\n",
       "    <tr>\n",
       "      <th>3</th>\n",
       "      <td>04234005</td>\n",
       "      <td>fresno</td>\n",
       "      <td>93609-9726</td>\n",
       "      <td>31632.0</td>\n",
       "      <td>31476.232961</td>\n",
       "    </tr>\n",
       "    <tr>\n",
       "      <th>4</th>\n",
       "      <td>04234009</td>\n",
       "      <td>fresno</td>\n",
       "      <td>93609-9764</td>\n",
       "      <td>147651.0</td>\n",
       "      <td>146923.914798</td>\n",
       "    </tr>\n",
       "  </tbody>\n",
       "</table>\n",
       "</div>"
      ],
      "text/plain": [
       "  parcelnumb  county        szip   landval      water_val\n",
       "0   37002003  fresno  93654-9320  207423.0  206401.576550\n",
       "1   35302073  fresno  93625-9728  119474.0  118885.668208\n",
       "2   04233003  fresno  93725-9118  359218.0  357449.084842\n",
       "3   04234005  fresno  93609-9726   31632.0   31476.232961\n",
       "4   04234009  fresno  93609-9764  147651.0  146923.914798"
      ]
     },
     "execution_count": 851,
     "metadata": {},
     "output_type": "execute_result"
    }
   ],
   "source": [
    "#using log tranformed coefficients\n",
    "output['water_val'] = output['landval'] * 0.10485408 + output['landval'] * 1.07198983 + output['landval'] *  -0.26373292 + output['landval'] *0.08196466\n",
    "\n",
    "output.head()"
   ]
  },
  {
   "cell_type": "code",
   "execution_count": 209,
   "metadata": {},
   "outputs": [],
   "source": [
    "output.to_csv('fresno_watervalue_derived_4_15.csv', columns=('parcelnumb', 'county', 'szip', 'landval', 'water_val'))"
   ]
  },
  {
   "cell_type": "code",
   "execution_count": 214,
   "metadata": {},
   "outputs": [
    {
     "data": {
      "text/plain": [
       "197"
      ]
     },
     "execution_count": 214,
     "metadata": {},
     "output_type": "execute_result"
    }
   ],
   "source": [
    "#non log-transformed coefficients\n",
    "\n",
    "hedonic_for_viz = ols.predict(X)\n",
    "\n",
    "\n",
    "\n"
   ]
  },
  {
   "cell_type": "code",
   "execution_count": null,
   "metadata": {
    "collapsed": true
   },
   "outputs": [],
   "source": []
  }
 ],
 "metadata": {
  "kernelspec": {
   "display_name": "Python 3",
   "language": "python",
   "name": "python3"
  },
  "language_info": {
   "codemirror_mode": {
    "name": "ipython",
    "version": 3
   },
   "file_extension": ".py",
   "mimetype": "text/x-python",
   "name": "python",
   "nbconvert_exporter": "python",
   "pygments_lexer": "ipython3",
   "version": "3.6.9"
  }
 },
 "nbformat": 4,
 "nbformat_minor": 2
}
