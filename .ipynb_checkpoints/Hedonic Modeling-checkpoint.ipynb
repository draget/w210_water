{
 "cells": [
  {
   "cell_type": "code",
   "execution_count": 3,
   "metadata": {},
   "outputs": [],
   "source": [
    "import numpy as np\n",
    "from scipy import interpolate, stats\n",
    "import matplotlib.pyplot as plt\n",
    "import pandas as pd\n",
    "import numpy as np\n",
    "from bs4 import BeautifulSoup\n",
    "from requests import get\n",
    "import json\n",
    "import matplotlib.pyplot as plt\n",
    "from collections import Counter\n",
    "import re\n",
    "import os\n",
    "from dateutil.parser import parse\n",
    "import operator\n",
    "from uuid import uuid4\n",
    "import sys\n",
    "import geopandas\n",
    "import shapefile"
   ]
  },
  {
   "cell_type": "code",
   "execution_count": 9,
   "metadata": {},
   "outputs": [],
   "source": [
    "#load in data\n",
    "landdata_location = '../joined_combined_filtered_df_td_27_3.csv'\n",
    "cropdata_location = 'CACropYieldData.csv'\n",
    "\n",
    "ld = pd.read_csv(landdata_location)\n"
   ]
  },
  {
   "cell_type": "code",
   "execution_count": 5,
   "metadata": {},
   "outputs": [
    {
     "name": "stdout",
     "output_type": "stream",
     "text": [
      "0 Unnamed: 0 : 25268\n",
      "1 geoid : 25268\n",
      "2 sourceagent : 0\n",
      "3 parcelnumb : 25268\n",
      "4 usecode : 22666\n",
      "5 usedesc : 0\n",
      "6 zoning : 0\n",
      "7 zoning_description : 0\n",
      "8 struct : 0\n",
      "9 multistruct : 0\n",
      "10 structno : 0\n",
      "11 yearbuilt : 0\n",
      "12 numstories : 0\n",
      "13 numunits : 0\n",
      "14 structstyle : 0\n",
      "15 parvaltype : 0\n",
      "16 improvval : 22653\n",
      "17 landval : 22653\n",
      "18 parval : 22653\n",
      "19 agval : 0\n",
      "20 saleprice : 0\n",
      "21 saledate : 0\n",
      "22 taxamt : 0\n",
      "23 owntype : 0\n",
      "24 owner : 23583\n",
      "25 ownfrst : 0\n",
      "26 ownlast : 0\n",
      "27 owner2 : 5315\n",
      "28 owner3 : 0\n",
      "29 owner4 : 0\n",
      "30 subsurfown : 0\n",
      "31 subowntype : 0\n",
      "32 mailadd : 22668\n",
      "33 mail_address2 : 0\n",
      "34 careof : 0\n",
      "35 mail_addno : 0\n",
      "36 mail_addpref : 0\n",
      "37 mail_addstr : 0\n",
      "38 mail_addsttyp : 0\n",
      "39 mail_addstsuf : 0\n",
      "40 mail_unit : 0\n",
      "41 mail_city : 22399\n",
      "42 mail_state2 : 22474\n",
      "43 mail_zip : 22474\n",
      "44 mail_urbanization : 0\n",
      "45 address : 13338\n",
      "46 address2 : 0\n",
      "47 saddno : 13338\n",
      "48 saddpref : 12133\n",
      "49 saddstr : 13338\n",
      "50 saddsttyp : 13244\n",
      "51 saddstsuf : 0\n",
      "52 sunit : 12\n",
      "53 scity : 13338\n",
      "54 original_address : 13328\n",
      "55 city : 25268\n",
      "56 county : 25268\n",
      "57 state2 : 25268\n",
      "58 szip : 24606\n",
      "59 urbanization : 0\n",
      "60 location_name : 0\n",
      "61 address_source : 25268\n",
      "62 legaldesc : 22128\n",
      "63 plat : 0\n",
      "64 book : 0\n",
      "65 page : 0\n",
      "66 block : 0\n",
      "67 lot : 0\n",
      "68 neighborhood : 0\n",
      "69 subdivision : 0\n",
      "70 census_tract : 0\n",
      "71 census_block : 0\n",
      "72 census_blockgroup : 0\n",
      "73 sourceref : 0\n",
      "74 sourcedate : 0\n",
      "75 sourceurl : 0\n",
      "76 recrdareatx : 0\n",
      "77 recrdareano : 0\n",
      "78 gisacre : 0\n",
      "79 sqft : 0\n",
      "80 reviseddate : 0\n",
      "81 path : 25268\n",
      "82 ll_stable_id : 0\n",
      "83 ll_uuid : 25268\n",
      "84 ll_updated_at : 25268\n",
      "85 lbcs_activity : 0\n",
      "86 lbcs_function : 0\n",
      "87 lbcs_structure : 0\n",
      "88 lbcs_site : 0\n",
      "89 lbcs_ownership : 0\n",
      "90 homeowner_exemp : 22653\n",
      "91 lot_area : 22668\n",
      "92 pers_prop_val : 22653\n",
      "93 tax_area_code : 23568\n",
      "94 contract_number : 10362\n",
      "95 contract_year : 10362\n",
      "96 non_renewal_year : 186\n",
      "97 use_high_best : 22666\n",
      "98 use_secondary : 22666\n",
      "99 qoz : 25268\n",
      "100 qoz_tract : 7184\n",
      "101 ll_gisacre : 25268\n",
      "102 ll_gissqft : 0\n",
      "103 lng : 25268\n",
      "104 lat : 25268\n",
      "105 gdfindex : 25268\n",
      "106 Acres_x : 25268\n",
      "107 Crop2016_x : 25268\n",
      "108 DWR_revise : 3109\n",
      "109 Symb_class : 25268\n",
      "110 MULTIUSE : 25268\n",
      "111 CLASS1 : 25268\n",
      "112 SUBCLASS1 : 25268\n",
      "113 SPECOND1 : 25268\n",
      "114 IRR_TYP1PA : 25268\n",
      "115 IRR_TYP1PB : 25268\n",
      "116 PCNT1 : 25268\n",
      "117 CLASS2 : 25268\n",
      "118 SUBCLASS2 : 25268\n",
      "119 SPECOND2 : 25268\n",
      "120 IRR_TYP2PA : 25268\n",
      "121 IRR_TYP2PB : 25268\n",
      "122 PCNT2 : 25268\n",
      "123 CLASS3 : 25268\n",
      "124 SUBCLASS3 : 25268\n",
      "125 SPECOND3 : 25268\n",
      "126 IRR_TYP3PA : 25268\n",
      "127 IRR_TYP3PB : 25268\n",
      "128 PCNT3 : 25268\n",
      "129 UCF_ATT : 25268\n",
      "130 CROPTYP1 : 25268\n",
      "131 CROPTYP2 : 25268\n",
      "132 CROPTYP3 : 25268\n",
      "133 Region : 25268\n",
      "134 Acres : 25268\n",
      "135 County : 25268\n",
      "136 Comments : 0\n",
      "137 Source : 25268\n",
      "138 Crop2016 : 25268\n",
      "139 Modified_B : 25268\n",
      "140 Date_Data_ : 25268\n",
      "141 Last_Modif : 25268\n",
      "142 GlobalID : 25268\n",
      "143 Shape_Leng : 25268\n",
      "144 Shape_Area : 25268\n"
     ]
    }
   ],
   "source": [
    "#check out which columns have values, drop the columns with no values\n",
    "columns = ld.columns.tolist()\n",
    "\n",
    "i = 0\n",
    "for c in columns:\n",
    "    \n",
    "    nonan = len(ld[c].dropna().tolist())\n",
    "    print(i, c,':',nonan)\n",
    "    i+=1\n",
    "    \n",
    "    if nonan == 0:\n",
    "        #print('Dropped:', c)\n",
    "        ld.drop(c, inplace=True, axis=1)\n",
    "        \n",
    "  "
   ]
  },
  {
   "cell_type": "code",
   "execution_count": 6,
   "metadata": {},
   "outputs": [
    {
     "data": {
      "text/plain": [
       "['Unnamed: 0',\n",
       " 'geoid',\n",
       " 'parcelnumb',\n",
       " 'usecode',\n",
       " 'improvval',\n",
       " 'landval',\n",
       " 'parval',\n",
       " 'owner',\n",
       " 'owner2',\n",
       " 'mailadd',\n",
       " 'mail_city',\n",
       " 'mail_state2',\n",
       " 'mail_zip',\n",
       " 'address',\n",
       " 'saddno',\n",
       " 'saddpref',\n",
       " 'saddstr',\n",
       " 'saddsttyp',\n",
       " 'sunit',\n",
       " 'scity',\n",
       " 'original_address',\n",
       " 'city',\n",
       " 'county',\n",
       " 'state2',\n",
       " 'szip',\n",
       " 'address_source',\n",
       " 'legaldesc',\n",
       " 'path',\n",
       " 'll_uuid',\n",
       " 'll_updated_at',\n",
       " 'homeowner_exemp',\n",
       " 'lot_area',\n",
       " 'pers_prop_val',\n",
       " 'tax_area_code',\n",
       " 'contract_number',\n",
       " 'contract_year',\n",
       " 'non_renewal_year',\n",
       " 'use_high_best',\n",
       " 'use_secondary',\n",
       " 'qoz',\n",
       " 'qoz_tract',\n",
       " 'll_gisacre',\n",
       " 'lng',\n",
       " 'lat',\n",
       " 'gdfindex',\n",
       " 'Acres_x',\n",
       " 'Crop2016_x',\n",
       " 'DWR_revise',\n",
       " 'Symb_class',\n",
       " 'MULTIUSE',\n",
       " 'CLASS1',\n",
       " 'SUBCLASS1',\n",
       " 'SPECOND1',\n",
       " 'IRR_TYP1PA',\n",
       " 'IRR_TYP1PB',\n",
       " 'PCNT1',\n",
       " 'CLASS2',\n",
       " 'SUBCLASS2',\n",
       " 'SPECOND2',\n",
       " 'IRR_TYP2PA',\n",
       " 'IRR_TYP2PB',\n",
       " 'PCNT2',\n",
       " 'CLASS3',\n",
       " 'SUBCLASS3',\n",
       " 'SPECOND3',\n",
       " 'IRR_TYP3PA',\n",
       " 'IRR_TYP3PB',\n",
       " 'PCNT3',\n",
       " 'UCF_ATT',\n",
       " 'CROPTYP1',\n",
       " 'CROPTYP2',\n",
       " 'CROPTYP3',\n",
       " 'Region',\n",
       " 'Acres',\n",
       " 'County',\n",
       " 'Source',\n",
       " 'Crop2016',\n",
       " 'Modified_B',\n",
       " 'Date_Data_',\n",
       " 'Last_Modif',\n",
       " 'GlobalID',\n",
       " 'Shape_Leng',\n",
       " 'Shape_Area']"
      ]
     },
     "execution_count": 6,
     "metadata": {},
     "output_type": "execute_result"
    }
   ],
   "source": [
    "ld.columns.tolist()"
   ]
  },
  {
   "cell_type": "code",
   "execution_count": 7,
   "metadata": {},
   "outputs": [
    {
     "data": {
      "text/plain": [
       "{'Alfalfa and Alfalfa Mixtures',\n",
       " 'Almonds',\n",
       " 'Apples',\n",
       " 'Avocados',\n",
       " 'Beans (Dry)',\n",
       " 'Bush Berries',\n",
       " 'Carrots',\n",
       " 'Cherries',\n",
       " 'Citrus',\n",
       " 'Cole Crops',\n",
       " 'Corn, Sorghum and Sudan',\n",
       " 'Cotton',\n",
       " 'Dates',\n",
       " 'Flowers, Nursery and Christmas Tree Farms',\n",
       " 'Grapes',\n",
       " 'Greenhouse',\n",
       " 'Kiwis',\n",
       " 'Lettuce/Leafy Greens',\n",
       " 'Melons, Squash and Cucumbers',\n",
       " 'Miscellaneous Deciduous',\n",
       " 'Miscellaneous Field Crops',\n",
       " 'Miscellaneous Grain and Hay',\n",
       " 'Miscellaneous Grasses',\n",
       " 'Miscellaneous Subtropical Fruits',\n",
       " 'Miscellaneous Truck Crops',\n",
       " 'Mixed Pasture',\n",
       " 'Olives',\n",
       " 'Onions and Garlic',\n",
       " 'Peaches/Nectarines',\n",
       " 'Pears',\n",
       " 'Peppers',\n",
       " 'Pistachios',\n",
       " 'Plums, Prunes and Apricots',\n",
       " 'Pomegranates',\n",
       " 'Rice',\n",
       " 'Safflower',\n",
       " 'Strawberries',\n",
       " 'Sunflowers',\n",
       " 'Tomatoes',\n",
       " 'Walnuts',\n",
       " 'Wheat',\n",
       " 'Young Perennials'}"
      ]
     },
     "execution_count": 7,
     "metadata": {},
     "output_type": "execute_result"
    }
   ],
   "source": [
    "#get croplist\n",
    "set(ld['Crop2016'].tolist())"
   ]
  },
  {
   "cell_type": "markdown",
   "metadata": {},
   "source": [
    "So we are going to take the crop type -> get net water use per crop/1000 acres -> get  yield per acre per crop -> use to calculate parcel specific values for net water use and yeild -> then use price per unit or value of production/acre to get to a water value?"
   ]
  },
  {
   "cell_type": "code",
   "execution_count": 10,
   "metadata": {},
   "outputs": [],
   "source": [
    "#first load in crop yield data\n",
    "crop_yield = pd.read_csv(cropdata_location)"
   ]
  },
  {
   "cell_type": "code",
   "execution_count": 11,
   "metadata": {},
   "outputs": [
    {
     "data": {
      "text/plain": [
       "Index(['Commodity', 'Planted All Purpose Acres', 'Harvested Acres', 'Yield',\n",
       "       'Production', 'Price per Unit', 'Value of Production in Dollars'],\n",
       "      dtype='object')"
      ]
     },
     "execution_count": 11,
     "metadata": {},
     "output_type": "execute_result"
    }
   ],
   "source": [
    "crop_yield.columns"
   ]
  },
  {
   "cell_type": "markdown",
   "metadata": {},
   "source": [
    "All of the crops are upper case so to make it easy we will upcase all of our crops in the dataframe"
   ]
  },
  {
   "cell_type": "code",
   "execution_count": 12,
   "metadata": {},
   "outputs": [
    {
     "data": {
      "text/plain": [
       "{'ALFALFA AND ALFALFA MIXTURES',\n",
       " 'ALMONDS',\n",
       " 'APPLES',\n",
       " 'AVOCADOS',\n",
       " 'BEANS (DRY)',\n",
       " 'BUSH BERRIES',\n",
       " 'CARROTS',\n",
       " 'CHERRIES',\n",
       " 'CITRUS',\n",
       " 'COLE CROPS',\n",
       " 'CORN, SORGHUM AND SUDAN',\n",
       " 'COTTON',\n",
       " 'DATES',\n",
       " 'FLOWERS, NURSERY AND CHRISTMAS TREE FARMS',\n",
       " 'GRAPES',\n",
       " 'GREENHOUSE',\n",
       " 'KIWIS',\n",
       " 'LETTUCE/LEAFY GREENS',\n",
       " 'MELONS, SQUASH AND CUCUMBERS',\n",
       " 'MISCELLANEOUS DECIDUOUS',\n",
       " 'MISCELLANEOUS FIELD CROPS',\n",
       " 'MISCELLANEOUS GRAIN AND HAY',\n",
       " 'MISCELLANEOUS GRASSES',\n",
       " 'MISCELLANEOUS SUBTROPICAL FRUITS',\n",
       " 'MISCELLANEOUS TRUCK CROPS',\n",
       " 'MIXED PASTURE',\n",
       " 'OLIVES',\n",
       " 'ONIONS AND GARLIC',\n",
       " 'PEACHES/NECTARINES',\n",
       " 'PEARS',\n",
       " 'PEPPERS',\n",
       " 'PISTACHIOS',\n",
       " 'PLUMS, PRUNES AND APRICOTS',\n",
       " 'POMEGRANATES',\n",
       " 'RICE',\n",
       " 'SAFFLOWER',\n",
       " 'STRAWBERRIES',\n",
       " 'SUNFLOWERS',\n",
       " 'TOMATOES',\n",
       " 'WALNUTS',\n",
       " 'WHEAT',\n",
       " 'YOUNG PERENNIALS'}"
      ]
     },
     "execution_count": 12,
     "metadata": {},
     "output_type": "execute_result"
    }
   ],
   "source": [
    "ld['Crop2016'] = ld['Crop2016'].str.upper()\n",
    "our_crops = set(ld['Crop2016'].tolist())\n",
    "our_crops"
   ]
  },
  {
   "cell_type": "markdown",
   "metadata": {},
   "source": [
    "Now let's compare the crops in our crop yield table with our the crops in our dataset"
   ]
  },
  {
   "cell_type": "code",
   "execution_count": 13,
   "metadata": {},
   "outputs": [
    {
     "data": {
      "text/plain": [
       "{'ALFALFA',\n",
       " 'APPLES',\n",
       " 'APRICOTS',\n",
       " 'ARTICHOKES',\n",
       " 'ARTICHOKES, FRESH MARKET',\n",
       " 'ARTICHOKES, UTILIZED',\n",
       " 'ASPARAGUS',\n",
       " 'ASPARAGUS, FRESH MARKET',\n",
       " 'ASPARAGUS, UTILIZED',\n",
       " 'BARLEY',\n",
       " 'BEANS, SNAP',\n",
       " 'BEANS, SNAP, FRESH MARKET',\n",
       " 'BEANS, SNAP, PROCESSING',\n",
       " 'BEANS, SNAP, UTILIZED',\n",
       " 'BROCCOLI',\n",
       " 'BROCCOLI, FRESH MARKET',\n",
       " 'BROCCOLI, PROCESSING',\n",
       " 'BROCCOLI, UTILIZED',\n",
       " 'CABBAGE',\n",
       " 'CABBAGE, FRESH MARKET',\n",
       " 'CABBAGE, PROCESSING',\n",
       " 'CABBAGE, UTILIZED',\n",
       " 'CARROTS',\n",
       " 'CARROTS, FRESH MARKET',\n",
       " 'CARROTS, PROCESSING',\n",
       " 'CARROTS, UTILIZED',\n",
       " 'CAULIFLOWER',\n",
       " 'CAULIFLOWER, FRESH MARKET',\n",
       " 'CAULIFLOWER, PROCESSING',\n",
       " 'CAULIFLOWER, UTILIZED',\n",
       " 'CELERY',\n",
       " 'CELERY, FRESH MARKET',\n",
       " 'CELERY, PROCESSING',\n",
       " 'CELERY, UTILIZED',\n",
       " 'CHERRIES, SWEET',\n",
       " 'CHICKPEAS',\n",
       " 'CORN',\n",
       " 'CORN, GRAIN',\n",
       " 'CORN, SILAGE',\n",
       " 'COTTON',\n",
       " 'COTTON, COTTONSEED',\n",
       " 'COTTON, PIMA',\n",
       " 'COTTON, UPLAND',\n",
       " 'CUCUMBERS',\n",
       " 'CUCUMBERS, FRESH MARKET',\n",
       " 'CUCUMBERS, PROCESSING',\n",
       " 'CUCUMBERS, UTILIZED',\n",
       " 'GARLIC',\n",
       " 'GARLIC, FRESH MARKET',\n",
       " 'GARLIC, PROCESSING',\n",
       " 'GARLIC, UTILIZED',\n",
       " 'GRAPEFRUIT',\n",
       " 'GRAPEFRUIT, FRESH MARKET',\n",
       " 'GRAPEFRUIT, PROCESSING',\n",
       " 'GRAPEFRUIT, UTILIZED',\n",
       " 'GRAPES',\n",
       " 'HAY',\n",
       " 'HAY & HAYLAGE',\n",
       " 'HAY & HAYLAGE, (EXCL ALFALFA)',\n",
       " 'HAY & HAYLAGE, ALFALFA',\n",
       " 'HAY, (EXCL ALFALFA)',\n",
       " 'HAYLAGE',\n",
       " 'HAYLAGE, (EXCL ALFALFA)',\n",
       " 'HAYLAGE, ALFALFA',\n",
       " 'LEMONS',\n",
       " 'LEMONS, FRESH MARKET',\n",
       " 'LEMONS, PROCESSING',\n",
       " 'LEMONS, UTILIZED',\n",
       " 'LETTUCE, HEAD',\n",
       " 'LETTUCE, HEAD, FRESH MARKET',\n",
       " 'LETTUCE, HEAD, UTILIZED',\n",
       " 'LETTUCE, LEAF',\n",
       " 'LETTUCE, LEAF, FRESH MARKET',\n",
       " 'LETTUCE, LEAF, UTILIZED',\n",
       " 'LETTUCE, ROMAINE',\n",
       " 'LETTUCE, ROMAINE, FRESH MARKET',\n",
       " 'LETTUCE, ROMAINE, UTILIZED',\n",
       " 'MELONS, CANTALOUP',\n",
       " 'MELONS, CANTALOUP, FRESH MARKET',\n",
       " 'MELONS, CANTALOUP, UTILIZED',\n",
       " 'MELONS, HONEYDEW',\n",
       " 'MELONS, HONEYDEW, FRESH MARKET',\n",
       " 'MELONS, HONEYDEW, UTILIZED',\n",
       " 'MELONS, WATERMELON',\n",
       " 'MELONS, WATERMELON, FRESH MARKET',\n",
       " 'MELONS, WATERMELON, UTILIZED',\n",
       " 'OATS',\n",
       " 'ORANGES',\n",
       " 'ORANGES, FRESH MARKET',\n",
       " 'ORANGES, PROCESSING',\n",
       " 'ORANGES, UTILIZED',\n",
       " 'PEACHES',\n",
       " 'PEARS',\n",
       " 'PEPPERS, BELL',\n",
       " 'PEPPERS, BELL, FRESH MARKET',\n",
       " 'PEPPERS, BELL, PROCESSING',\n",
       " 'PEPPERS, BELL, UTILIZED',\n",
       " 'PEPPERS, CHILE',\n",
       " 'PEPPERS, CHILE, FRESH MARKET',\n",
       " 'PEPPERS, CHILE, PROCESSING',\n",
       " 'PEPPERS, CHILE, UTILIZED',\n",
       " 'POTATOES',\n",
       " 'PRUNES',\n",
       " 'PUMPKINS',\n",
       " 'PUMPKINS, FRESH MARKET',\n",
       " 'PUMPKINS, UTILIZED',\n",
       " 'RICE',\n",
       " 'SAFFLOWER',\n",
       " 'SPINACH',\n",
       " 'SPINACH, FRESH MARKET',\n",
       " 'SPINACH, PROCESSING',\n",
       " 'SPINACH, UTILIZED',\n",
       " 'SQUASH',\n",
       " 'SQUASH, FRESH MARKET',\n",
       " 'SQUASH, PROCESSING',\n",
       " 'SQUASH, UTILIZED',\n",
       " 'SUGARBEETS',\n",
       " 'SUNFLOWER',\n",
       " 'SWEET CORN',\n",
       " 'SWEET CORN, FRESH MARKET',\n",
       " 'SWEET CORN, UTILIZED',\n",
       " 'SWEET POTATOES',\n",
       " 'SWEET POTATOES, FRESH MARKET',\n",
       " 'SWEET POTATOES, PROCESSING',\n",
       " 'SWEET POTATOES, UTILIZED',\n",
       " 'TANGERINES',\n",
       " 'TANGERINES, FRESH MARKET',\n",
       " 'TANGERINES, PROCESSING',\n",
       " 'TANGERINES, UTILIZED',\n",
       " 'TOMATOES',\n",
       " 'TOMATOES, FRESH MARKET',\n",
       " 'TOMATOES, IN THE OPEN',\n",
       " 'TOMATOES, IN THE OPEN, FRESH MARKET',\n",
       " 'TOMATOES, IN THE OPEN, PROCESSING',\n",
       " 'TOMATOES, IN THE OPEN, UTILIZED',\n",
       " 'TOMATOES, PROCESSING',\n",
       " 'WHEAT',\n",
       " 'WHEAT, SPRING, DURUM',\n",
       " 'WHEAT, WINTER'}"
      ]
     },
     "execution_count": 13,
     "metadata": {},
     "output_type": "execute_result"
    }
   ],
   "source": [
    "all_crops = set(crop_yield['Commodity'].tolist())\n",
    "all_crops"
   ]
  },
  {
   "cell_type": "code",
   "execution_count": 14,
   "metadata": {},
   "outputs": [
    {
     "data": {
      "text/plain": [
       "{'APPLES',\n",
       " 'CARROTS',\n",
       " 'COTTON',\n",
       " 'GRAPES',\n",
       " 'PEARS',\n",
       " 'RICE',\n",
       " 'SAFFLOWER',\n",
       " 'TOMATOES',\n",
       " 'WHEAT'}"
      ]
     },
     "execution_count": 14,
     "metadata": {},
     "output_type": "execute_result"
    }
   ],
   "source": [
    "overlap = our_crops.intersection(all_crops)\n",
    "overlap"
   ]
  },
  {
   "cell_type": "markdown",
   "metadata": {},
   "source": [
    "Seems like quite a few are missing, lets see which ones..."
   ]
  },
  {
   "cell_type": "code",
   "execution_count": 15,
   "metadata": {},
   "outputs": [
    {
     "name": "stdout",
     "output_type": "stream",
     "text": [
      "Crops not matched in our dataset:\n",
      " ALFALFA AND ALFALFA MIXTURES, ALMONDS, AVOCADOS, BEANS (DRY), BUSH BERRIES, CHERRIES, CITRUS, COLE CROPS, CORN, SORGHUM AND SUDAN, DATES, FLOWERS, NURSERY AND CHRISTMAS TREE FARMS, GREENHOUSE, KIWIS, LETTUCE/LEAFY GREENS, MELONS, SQUASH AND CUCUMBERS, MISCELLANEOUS DECIDUOUS, MISCELLANEOUS FIELD CROPS, MISCELLANEOUS GRAIN AND HAY, MISCELLANEOUS GRASSES, MISCELLANEOUS SUBTROPICAL FRUITS, MISCELLANEOUS TRUCK CROPS, MIXED PASTURE, OLIVES, ONIONS AND GARLIC, PEACHES/NECTARINES, PEPPERS, PISTACHIOS, PLUMS, PRUNES AND APRICOTS, POMEGRANATES, STRAWBERRIES, SUNFLOWERS, WALNUTS, YOUNG PERENNIALS \n",
      "\n",
      "Crops left in the CA dataset:\n",
      " ALFALFA, APRICOTS, ARTICHOKES, ARTICHOKES, FRESH MARKET, ARTICHOKES, UTILIZED, ASPARAGUS, ASPARAGUS, FRESH MARKET, ASPARAGUS, UTILIZED, BARLEY, BEANS, SNAP, BEANS, SNAP, FRESH MARKET, BEANS, SNAP, PROCESSING, BEANS, SNAP, UTILIZED, BROCCOLI, BROCCOLI, FRESH MARKET, BROCCOLI, PROCESSING, BROCCOLI, UTILIZED, CABBAGE, CABBAGE, FRESH MARKET, CABBAGE, PROCESSING, CABBAGE, UTILIZED, CARROTS, FRESH MARKET, CARROTS, PROCESSING, CARROTS, UTILIZED, CAULIFLOWER, CAULIFLOWER, FRESH MARKET, CAULIFLOWER, PROCESSING, CAULIFLOWER, UTILIZED, CELERY, CELERY, FRESH MARKET, CELERY, PROCESSING, CELERY, UTILIZED, CHERRIES, SWEET, CHICKPEAS, CORN, CORN, GRAIN, CORN, SILAGE, COTTON, COTTONSEED, COTTON, PIMA, COTTON, UPLAND, CUCUMBERS, CUCUMBERS, FRESH MARKET, CUCUMBERS, PROCESSING, CUCUMBERS, UTILIZED, GARLIC, GARLIC, FRESH MARKET, GARLIC, PROCESSING, GARLIC, UTILIZED, GRAPEFRUIT, GRAPEFRUIT, FRESH MARKET, GRAPEFRUIT, PROCESSING, GRAPEFRUIT, UTILIZED, HAY, HAY & HAYLAGE, HAY & HAYLAGE, (EXCL ALFALFA), HAY & HAYLAGE, ALFALFA, HAY, (EXCL ALFALFA), HAYLAGE, HAYLAGE, (EXCL ALFALFA), HAYLAGE, ALFALFA, LEMONS, LEMONS, FRESH MARKET, LEMONS, PROCESSING, LEMONS, UTILIZED, LETTUCE, HEAD, LETTUCE, HEAD, FRESH MARKET, LETTUCE, HEAD, UTILIZED, LETTUCE, LEAF, LETTUCE, LEAF, FRESH MARKET, LETTUCE, LEAF, UTILIZED, LETTUCE, ROMAINE, LETTUCE, ROMAINE, FRESH MARKET, LETTUCE, ROMAINE, UTILIZED, MELONS, CANTALOUP, MELONS, CANTALOUP, FRESH MARKET, MELONS, CANTALOUP, UTILIZED, MELONS, HONEYDEW, MELONS, HONEYDEW, FRESH MARKET, MELONS, HONEYDEW, UTILIZED, MELONS, WATERMELON, MELONS, WATERMELON, FRESH MARKET, MELONS, WATERMELON, UTILIZED, OATS, ORANGES, ORANGES, FRESH MARKET, ORANGES, PROCESSING, ORANGES, UTILIZED, PEACHES, PEPPERS, BELL, PEPPERS, BELL, FRESH MARKET, PEPPERS, BELL, PROCESSING, PEPPERS, BELL, UTILIZED, PEPPERS, CHILE, PEPPERS, CHILE, FRESH MARKET, PEPPERS, CHILE, PROCESSING, PEPPERS, CHILE, UTILIZED, POTATOES, PRUNES, PUMPKINS, PUMPKINS, FRESH MARKET, PUMPKINS, UTILIZED, SPINACH, SPINACH, FRESH MARKET, SPINACH, PROCESSING, SPINACH, UTILIZED, SQUASH, SQUASH, FRESH MARKET, SQUASH, PROCESSING, SQUASH, UTILIZED, SUGARBEETS, SUNFLOWER, SWEET CORN, SWEET CORN, FRESH MARKET, SWEET CORN, UTILIZED, SWEET POTATOES, SWEET POTATOES, FRESH MARKET, SWEET POTATOES, PROCESSING, SWEET POTATOES, UTILIZED, TANGERINES, TANGERINES, FRESH MARKET, TANGERINES, PROCESSING, TANGERINES, UTILIZED, TOMATOES, FRESH MARKET, TOMATOES, IN THE OPEN, TOMATOES, IN THE OPEN, FRESH MARKET, TOMATOES, IN THE OPEN, PROCESSING, TOMATOES, IN THE OPEN, UTILIZED, TOMATOES, PROCESSING, WHEAT, SPRING, DURUM, WHEAT, WINTER\n"
     ]
    }
   ],
   "source": [
    "our_remaining = our_crops - overlap\n",
    "\n",
    "all_remaining = all_crops - overlap\n",
    "\n",
    "print('Crops not matched in our dataset:\\n', ', '.join(sorted(list(our_remaining))), '\\n')\n",
    "\n",
    "print('Crops left in the CA dataset:\\n', ', '.join(sorted(list(all_remaining))))\n"
   ]
  },
  {
   "cell_type": "markdown",
   "metadata": {},
   "source": [
    "We need to fix some naming issues here for alfalfa, beans, corn, lettuce, 'melons, squash, and cucumber', miscellaneous grain and hay, garlic, peaches, prunes and apricots, potatoes and sweet potatoes, sunflower, we also have to select the crop data which has a value of production in dollars (revenue) value so we can get the value in dollars per acre foot of water applied to the crop. "
   ]
  },
  {
   "cell_type": "code",
   "execution_count": 16,
   "metadata": {},
   "outputs": [],
   "source": [
    "ld = ld.replace({'ALFALFA AND ALFALFA MIXTURES':'ALFALFA', 'BEANS (DRY)': 'BEANS, SNAP', \n",
    "            'CORN, SORGHUM AND SUDAN':'CORN, GRAIN', 'LETTUCE/LEAFY GREENS':'LETTUCE, HEAD', \n",
    "            'MISCELLANEOUS GRAIN AND HAY': 'HAY, (EXCL ALFALFA)', 'ONIONS AND GARLIC': 'GARLIC', \n",
    "            'PEACHES/NECTARINES': 'PEACHES', 'PLUMS, PRUNES AND APRICOTS': 'PRUNES', \n",
    "            'POTATOES AND SWEET POTATOES': 'POTATOES', 'SUNFLOWERS': 'SUNFLOWER', 'TOMATOES': 'TOMATOES, IN THE OPEN', \n",
    "            'COTTON': 'COTTON, COTTONSEED'})\n",
    "\n"
   ]
  },
  {
   "cell_type": "code",
   "execution_count": 17,
   "metadata": {},
   "outputs": [
    {
     "data": {
      "text/plain": [
       "{'ALFALFA',\n",
       " 'ALMONDS',\n",
       " 'APPLES',\n",
       " 'AVOCADOS',\n",
       " 'BEANS, SNAP',\n",
       " 'BUSH BERRIES',\n",
       " 'CARROTS',\n",
       " 'CHERRIES',\n",
       " 'CITRUS',\n",
       " 'COLE CROPS',\n",
       " 'CORN, GRAIN',\n",
       " 'COTTON, COTTONSEED',\n",
       " 'DATES',\n",
       " 'FLOWERS, NURSERY AND CHRISTMAS TREE FARMS',\n",
       " 'GARLIC',\n",
       " 'GRAPES',\n",
       " 'GREENHOUSE',\n",
       " 'HAY, (EXCL ALFALFA)',\n",
       " 'KIWIS',\n",
       " 'LETTUCE, HEAD',\n",
       " 'MELONS, SQUASH AND CUCUMBERS',\n",
       " 'MISCELLANEOUS DECIDUOUS',\n",
       " 'MISCELLANEOUS FIELD CROPS',\n",
       " 'MISCELLANEOUS GRASSES',\n",
       " 'MISCELLANEOUS SUBTROPICAL FRUITS',\n",
       " 'MISCELLANEOUS TRUCK CROPS',\n",
       " 'MIXED PASTURE',\n",
       " 'OLIVES',\n",
       " 'PEACHES',\n",
       " 'PEARS',\n",
       " 'PEPPERS',\n",
       " 'PISTACHIOS',\n",
       " 'POMEGRANATES',\n",
       " 'PRUNES',\n",
       " 'RICE',\n",
       " 'SAFFLOWER',\n",
       " 'STRAWBERRIES',\n",
       " 'SUNFLOWER',\n",
       " 'TOMATOES, IN THE OPEN',\n",
       " 'WALNUTS',\n",
       " 'WHEAT',\n",
       " 'YOUNG PERENNIALS'}"
      ]
     },
     "execution_count": 17,
     "metadata": {},
     "output_type": "execute_result"
    }
   ],
   "source": [
    "set(ld['Crop2016'].tolist())"
   ]
  },
  {
   "cell_type": "markdown",
   "metadata": {},
   "source": [
    "Now we should look at the overlap again and drop the rows that dont overlap"
   ]
  },
  {
   "cell_type": "code",
   "execution_count": 18,
   "metadata": {},
   "outputs": [
    {
     "data": {
      "text/plain": [
       "{'ALFALFA',\n",
       " 'APPLES',\n",
       " 'BEANS, SNAP',\n",
       " 'CARROTS',\n",
       " 'CORN, GRAIN',\n",
       " 'COTTON, COTTONSEED',\n",
       " 'GARLIC',\n",
       " 'GRAPES',\n",
       " 'HAY, (EXCL ALFALFA)',\n",
       " 'LETTUCE, HEAD',\n",
       " 'PEACHES',\n",
       " 'PEARS',\n",
       " 'PRUNES',\n",
       " 'RICE',\n",
       " 'SAFFLOWER',\n",
       " 'SUNFLOWER',\n",
       " 'TOMATOES, IN THE OPEN',\n",
       " 'WHEAT'}"
      ]
     },
     "execution_count": 18,
     "metadata": {},
     "output_type": "execute_result"
    }
   ],
   "source": [
    "our_crops = set(ld['Crop2016'].tolist())\n",
    "\n",
    "overlap = our_crops.intersection(all_crops)\n",
    "overlap"
   ]
  },
  {
   "cell_type": "code",
   "execution_count": 19,
   "metadata": {},
   "outputs": [],
   "source": [
    "incrop = list(overlap)\n",
    "\n",
    "available_crops = ld['Crop2016'].isin(incrop)\n",
    "\n",
    "matched = ld[available_crops]"
   ]
  },
  {
   "cell_type": "code",
   "execution_count": 20,
   "metadata": {},
   "outputs": [
    {
     "data": {
      "text/plain": [
       "13225"
      ]
     },
     "execution_count": 20,
     "metadata": {},
     "output_type": "execute_result"
    }
   ],
   "source": [
    "len(matched)"
   ]
  },
  {
   "cell_type": "markdown",
   "metadata": {},
   "source": [
    "So with the current availble crop data we were able to match 14,967 records. Now lets also prune the CA data and merge it into our land data "
   ]
  },
  {
   "cell_type": "code",
   "execution_count": 21,
   "metadata": {},
   "outputs": [],
   "source": [
    "available_commodity = crop_yield['Commodity'].isin(incrop)\n",
    "\n",
    "CA_prune = crop_yield[available_commodity]\n",
    "\n"
   ]
  },
  {
   "cell_type": "code",
   "execution_count": 22,
   "metadata": {},
   "outputs": [
    {
     "name": "stderr",
     "output_type": "stream",
     "text": [
      "/home/draget/.local/lib/python3.6/site-packages/pandas/core/frame.py:4238: SettingWithCopyWarning: \n",
      "A value is trying to be set on a copy of a slice from a DataFrame\n",
      "\n",
      "See the caveats in the documentation: http://pandas.pydata.org/pandas-docs/stable/user_guide/indexing.html#returning-a-view-versus-a-copy\n",
      "  return super().rename(**kwargs)\n"
     ]
    }
   ],
   "source": [
    "#rename columns to merge\n",
    "\n",
    "CA_prune.rename(columns = {'Commodity': 'Crop'}, inplace=True)\n",
    "\n",
    "matched.rename(columns = {'Crop2016': 'Crop'}, inplace=True)\n",
    "\n"
   ]
  },
  {
   "cell_type": "code",
   "execution_count": 23,
   "metadata": {},
   "outputs": [],
   "source": [
    "#now merge\n",
    "\n",
    "merged = matched.merge(CA_prune, on='Crop')"
   ]
  },
  {
   "cell_type": "code",
   "execution_count": 24,
   "metadata": {},
   "outputs": [
    {
     "data": {
      "text/plain": [
       "Index(['Unnamed: 0', 'geoid', 'sourceagent', 'parcelnumb', 'usecode',\n",
       "       'usedesc', 'zoning', 'zoning_description', 'struct', 'multistruct',\n",
       "       ...\n",
       "       'Last_Modif', 'GlobalID', 'Shape_Leng', 'Shape_Area',\n",
       "       'Planted All Purpose Acres', 'Harvested Acres', 'Yield', 'Production',\n",
       "       'Price per Unit', 'Value of Production in Dollars'],\n",
       "      dtype='object', length=151)"
      ]
     },
     "execution_count": 24,
     "metadata": {},
     "output_type": "execute_result"
    }
   ],
   "source": [
    "merged.columns"
   ]
  },
  {
   "cell_type": "markdown",
   "metadata": {},
   "source": [
    "Now we just need to create the gross water usage column using average acre feet of water applied per acreage per crop."
   ]
  },
  {
   "cell_type": "code",
   "execution_count": 25,
   "metadata": {},
   "outputs": [],
   "source": [
    " applied_water = {'ALFALFA': 5.2,\n",
    " 'APPLES': 2.2,\n",
    " 'BEANS, SNAP': 0.2,\n",
    " 'CARROTS': 1.3,\n",
    " 'CORN, GRAIN': 2.2,\n",
    " 'COTTON, COTTONSEED': 0.9,\n",
    " 'GARLIC': 0.2,\n",
    " 'GRAPES': 1.6,\n",
    " 'HAY, (EXCL ALFALFA)': 0.8,\n",
    " 'LETTUCE, HEAD': 1.3,\n",
    " 'PEACHES': 2.2,\n",
    " 'PEARS': 2.2,\n",
    " 'POTATOES': 0.1,\n",
    " 'PRUNES': 2.2,\n",
    " 'RICE': 2.7,\n",
    " 'SAFFLOWER': 0.1,\n",
    " 'SUNFLOWER': 1.7,\n",
    " 'TOMATOES, IN THE OPEN': 0.1,\n",
    " 'WHEAT': 0.8}"
   ]
  },
  {
   "cell_type": "markdown",
   "metadata": {},
   "source": [
    "source used for this value\n",
    "https://pacinst.org/wp-content/uploads/2015/04/CA-Ag-Water-Use.pdf\n",
    "\n"
   ]
  },
  {
   "cell_type": "markdown",
   "metadata": {},
   "source": [
    "Now we add two columns to our dataset to hold our applied water in millions of acre feet and our water productivity column and fill in both"
   ]
  },
  {
   "cell_type": "code",
   "execution_count": 26,
   "metadata": {},
   "outputs": [],
   "source": [
    "merged['applied_water_mil'] = None\n",
    "merged['water_productivity'] = None"
   ]
  },
  {
   "cell_type": "code",
   "execution_count": 27,
   "metadata": {},
   "outputs": [],
   "source": [
    "#add in applied water in millions acre feet\n",
    "for i, r in merged.iterrows():\n",
    "    \n",
    "    applied = applied_water[r['Crop']]\n",
    "    merged.at[i, 'applied_water_mil'] = applied"
   ]
  },
  {
   "cell_type": "code",
   "execution_count": 28,
   "metadata": {},
   "outputs": [
    {
     "name": "stdout",
     "output_type": "stream",
     "text": [
      "Before: {nan, '827,126,000', '327,277,000', '844,190,000', '775,761,000', '23,897,000', '47,766,000', '253,227,000', '44,336,000', '45,864,000', '19,094,000', '1,174,395,000', '874,290,000', '98,820,000'}\n"
     ]
    }
   ],
   "source": [
    "#clean up Value of Production in Dollars\n",
    "\n",
    "print('Before:', set(merged['Value of Production in Dollars'].tolist()))\n",
    "\n",
    "merged.dropna(subset=['Value of Production in Dollars'], inplace = True)\n",
    "\n"
   ]
  },
  {
   "cell_type": "code",
   "execution_count": 29,
   "metadata": {},
   "outputs": [],
   "source": [
    "for i, r in merged.iterrows():\n",
    "    \n",
    "    stripped = r['Value of Production in Dollars'].replace(',', '')\n",
    "    merged.at[i, 'Value of Production in Dollars'] = int(stripped)"
   ]
  },
  {
   "cell_type": "code",
   "execution_count": 30,
   "metadata": {},
   "outputs": [
    {
     "name": "stdout",
     "output_type": "stream",
     "text": [
      "After: {98820000, 44336000, 45864000, 327277000, 775761000, 23897000, 844190000, 827126000, 874290000, 47766000, 253227000, 19094000, 1174395000}\n"
     ]
    }
   ],
   "source": [
    "print('After:', set(merged['Value of Production in Dollars'].tolist()))"
   ]
  },
  {
   "cell_type": "code",
   "execution_count": 31,
   "metadata": {},
   "outputs": [],
   "source": [
    "#now divide millions by millions to get a revenue per acre feet of water applied\n",
    "for i, r in merged.iterrows():\n",
    "\n",
    "#try:\n",
    "        \n",
    "    converted = r['applied_water_mil'] * 1000000\n",
    "\n",
    "    merged.at[i, 'water_productivity'] = float(r['Value of Production in Dollars'])/converted\n",
    "\n",
    "#except:\n",
    "  \n",
    "\n",
    "        "
   ]
  },
  {
   "cell_type": "code",
   "execution_count": 32,
   "metadata": {},
   "outputs": [
    {
     "data": {
      "text/plain": [
       "6611      109.8\n",
       "6612      109.8\n",
       "6613      109.8\n",
       "6614      109.8\n",
       "6615      109.8\n",
       "          ...  \n",
       "13220    238.97\n",
       "13221    238.97\n",
       "13222    238.97\n",
       "13223    238.97\n",
       "13224    238.97\n",
       "Name: water_productivity, Length: 5108, dtype: object"
      ]
     },
     "execution_count": 32,
     "metadata": {},
     "output_type": "execute_result"
    }
   ],
   "source": [
    "merged['water_productivity']"
   ]
  },
  {
   "cell_type": "code",
   "execution_count": 34,
   "metadata": {},
   "outputs": [],
   "source": [
    "merged.to_csv(\"merged.csv\")"
   ]
  }
 ],
 "metadata": {
  "kernelspec": {
   "display_name": "Python 3",
   "language": "python",
   "name": "python3"
  },
  "language_info": {
   "codemirror_mode": {
    "name": "ipython",
    "version": 3
   },
   "file_extension": ".py",
   "mimetype": "text/x-python",
   "name": "python",
   "nbconvert_exporter": "python",
   "pygments_lexer": "ipython3",
   "version": "3.6.9"
  }
 },
 "nbformat": 4,
 "nbformat_minor": 2
}
