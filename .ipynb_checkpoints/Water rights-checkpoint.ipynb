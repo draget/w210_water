{
 "cells": [
  {
   "cell_type": "code",
   "execution_count": 2,
   "metadata": {},
   "outputs": [],
   "source": [
    "import numpy as np\n",
    "from scipy import interpolate, stats\n",
    "import matplotlib.pyplot as plt\n",
    "import pandas as pd\n",
    "import geopy.distance\n",
    "from scipy.stats import norm"
   ]
  },
  {
   "cell_type": "code",
   "execution_count": 3,
   "metadata": {},
   "outputs": [
    {
     "name": "stdout",
     "output_type": "stream",
     "text": [
      "Index(['geometry', 'POD_ID', 'APPL_ID', 'POD_NUM', 'TOWNSHIP_NUMBER',\n",
      "       'TOWNSHIP_DIRECTION', 'RANGE_NUMBER', 'RANGE_DIRECTION',\n",
      "       'SECTION_NUMBER', 'SECTION_CLASSIFIER', 'QUARTER', 'QUARTER_QUARTER',\n",
      "       'MERIDIAN', 'NORTH_COORD', 'EAST_COORD', 'SP_ZONE', 'LATITUDE',\n",
      "       'LONGITUDE', 'TRIB_DESC', 'Location_Method', 'SOURCE_NAME', 'Moveable',\n",
      "       'Has_OPOD', 'WATERSHED', 'COUNTY', 'WELL_NUMBER', 'QUAD_MAP_NAME',\n",
      "       'QUAD_MAP_NUM', 'QUAD_MAP_MIN_SER', 'PARCEL_NUMBER',\n",
      "       'DIVERSION_SITE_NAME', 'SPECIAL_AREA', 'HUC_12', 'HUC_8', 'HU_8_NAME',\n",
      "       'HU_12_NAME', 'DIRECT_DIV_AMOUNT', 'DIVERSION_STORAGE_AMOUNT',\n",
      "       'DIVERSION_AC_FT', 'POD_STATUS', ' FACE_VALUE_AMOUNT ',\n",
      "       'DIVERSION_TYPE', 'DIVERSION_CODE_TYPE', 'WR_TYPE', 'WR_STATUS',\n",
      "       'STORAGE_TYPE', 'POD_UNIT', 'FIRST_NAME', 'LAST_NAME', 'ENTITY_TYPE'],\n",
      "      dtype='object')\n"
     ]
    }
   ],
   "source": [
    "df = pd.read_csv(\"../data/Fresno_Water_Rights.csv\")\n",
    "print(df.columns)"
   ]
  },
  {
   "cell_type": "code",
   "execution_count": 4,
   "metadata": {},
   "outputs": [],
   "source": [
    "df = df.dropna(subset=['LATITUDE', 'LONGITUDE', 'DIRECT_DIV_AMOUNT', 'POD_UNIT'])\n",
    "df2 = df[['LATITUDE', 'LONGITUDE', 'DIRECT_DIV_AMOUNT', 'POD_UNIT']]\n",
    "\n",
    "# There are multiple diversions on some locations\n",
    "df2 = df2.groupby(['LATITUDE', 'LONGITUDE', 'POD_UNIT'], as_index = False).sum()"
   ]
  },
  {
   "cell_type": "code",
   "execution_count": 5,
   "metadata": {},
   "outputs": [],
   "source": [
    "df2 = df2[df2[\"DIRECT_DIV_AMOUNT\"] != 0]"
   ]
  },
  {
   "cell_type": "code",
   "execution_count": 6,
   "metadata": {},
   "outputs": [],
   "source": [
    "x = df2[\"LATITUDE\"].values\n",
    "y = df2[\"LONGITUDE\"].values\n",
    "z = df2[\"DIRECT_DIV_AMOUNT\"].values # Should we include storage div amounts\n",
    "# What are the units? Are the units different depending on the units column?"
   ]
  },
  {
   "cell_type": "code",
   "execution_count": 7,
   "metadata": {},
   "outputs": [
    {
     "data": {
      "text/html": [
       "<div>\n",
       "<style scoped>\n",
       "    .dataframe tbody tr th:only-of-type {\n",
       "        vertical-align: middle;\n",
       "    }\n",
       "\n",
       "    .dataframe tbody tr th {\n",
       "        vertical-align: top;\n",
       "    }\n",
       "\n",
       "    .dataframe thead th {\n",
       "        text-align: right;\n",
       "    }\n",
       "</style>\n",
       "<table border=\"1\" class=\"dataframe\">\n",
       "  <thead>\n",
       "    <tr style=\"text-align: right;\">\n",
       "      <th></th>\n",
       "      <th>count</th>\n",
       "      <th>mean</th>\n",
       "      <th>std</th>\n",
       "      <th>min</th>\n",
       "      <th>25%</th>\n",
       "      <th>50%</th>\n",
       "      <th>75%</th>\n",
       "      <th>max</th>\n",
       "    </tr>\n",
       "    <tr>\n",
       "      <th>POD_UNIT</th>\n",
       "      <th></th>\n",
       "      <th></th>\n",
       "      <th></th>\n",
       "      <th></th>\n",
       "      <th></th>\n",
       "      <th></th>\n",
       "      <th></th>\n",
       "      <th></th>\n",
       "    </tr>\n",
       "  </thead>\n",
       "  <tbody>\n",
       "    <tr>\n",
       "      <th>Cubic Feet per Second</th>\n",
       "      <td>232.0</td>\n",
       "      <td>1953.658871</td>\n",
       "      <td>3362.274465</td>\n",
       "      <td>0.002</td>\n",
       "      <td>2.23</td>\n",
       "      <td>175.0</td>\n",
       "      <td>4500.0</td>\n",
       "      <td>32953.0</td>\n",
       "    </tr>\n",
       "    <tr>\n",
       "      <th>Gallons per Day</th>\n",
       "      <td>286.0</td>\n",
       "      <td>3039.386364</td>\n",
       "      <td>4703.431183</td>\n",
       "      <td>3.000</td>\n",
       "      <td>200.00</td>\n",
       "      <td>600.0</td>\n",
       "      <td>5957.5</td>\n",
       "      <td>36000.0</td>\n",
       "    </tr>\n",
       "    <tr>\n",
       "      <th>Gallons per Minute</th>\n",
       "      <td>10.0</td>\n",
       "      <td>2431.800000</td>\n",
       "      <td>1451.199182</td>\n",
       "      <td>18.000</td>\n",
       "      <td>1500.00</td>\n",
       "      <td>3500.0</td>\n",
       "      <td>3500.0</td>\n",
       "      <td>3500.0</td>\n",
       "    </tr>\n",
       "  </tbody>\n",
       "</table>\n",
       "</div>"
      ],
      "text/plain": [
       "                       count         mean          std     min      25%  \\\n",
       "POD_UNIT                                                                  \n",
       "Cubic Feet per Second  232.0  1953.658871  3362.274465   0.002     2.23   \n",
       "Gallons per Day        286.0  3039.386364  4703.431183   3.000   200.00   \n",
       "Gallons per Minute      10.0  2431.800000  1451.199182  18.000  1500.00   \n",
       "\n",
       "                          50%     75%      max  \n",
       "POD_UNIT                                        \n",
       "Cubic Feet per Second   175.0  4500.0  32953.0  \n",
       "Gallons per Day         600.0  5957.5  36000.0  \n",
       "Gallons per Minute     3500.0  3500.0   3500.0  "
      ]
     },
     "execution_count": 7,
     "metadata": {},
     "output_type": "execute_result"
    }
   ],
   "source": [
    "df2.groupby(['POD_UNIT'])['DIRECT_DIV_AMOUNT'].describe()"
   ]
  },
  {
   "cell_type": "code",
   "execution_count": 8,
   "metadata": {},
   "outputs": [
    {
     "data": {
      "text/plain": [
       "(array([381., 112.,  17.,  10.,   3.,   0.,   2.,   0.,   1.,   2.]),\n",
       " array([2.00000000e-03, 3.60000180e+03, 7.20000160e+03, 1.08000014e+04,\n",
       "        1.44000012e+04, 1.80000010e+04, 2.16000008e+04, 2.52000006e+04,\n",
       "        2.88000004e+04, 3.24000002e+04, 3.60000000e+04]),\n",
       " <a list of 10 Patch objects>)"
      ]
     },
     "execution_count": 8,
     "metadata": {},
     "output_type": "execute_result"
    },
    {
     "data": {
      "image/png": "[encoded data removed]",
      "text/plain": [
       "<Figure size 432x288 with 1 Axes>"
      ]
     },
     "metadata": {
      "needs_background": "light"
     },
     "output_type": "display_data"
    }
   ],
   "source": [
    "plt.hist(z)"
   ]
  },
  {
   "cell_type": "code",
   "execution_count": 9,
   "metadata": {},
   "outputs": [
    {
     "data": {
      "text/plain": [
       "DescribeResult(nobs=528, minmax=(0.002, 36000.0), mean=2550.816965909091, variance=17241687.57831448, skewness=3.4282176310423638, kurtosis=18.30684740815012)"
      ]
     },
     "execution_count": 9,
     "metadata": {},
     "output_type": "execute_result"
    }
   ],
   "source": [
    "stats.describe(z)"
   ]
  },
  {
   "cell_type": "code",
   "execution_count": 10,
   "metadata": {},
   "outputs": [],
   "source": [
    "s = np.empty(len(z))\n",
    "\n",
    "for i in range(0, len(z)):\n",
    "    \n",
    "    lat1 = x[i]\n",
    "    long1 = y[i]\n",
    "    \n",
    "    dist_sum = 0\n",
    "    \n",
    "    for j in range(0, len(z)):\n",
    "        \n",
    "        if i == j:\n",
    "            next\n",
    "        \n",
    "        lat2 = x[j]\n",
    "        long2 = y[j]\n",
    "        \n",
    "        dist_sum = dist_sum + geopy.distance.distance((lat1, long1), (lat2, long2)).km\n",
    "        \n",
    "    s[i] = dist_sum / (len(z) - 1)"
   ]
  },
  {
   "cell_type": "code",
   "execution_count": 11,
   "metadata": {},
   "outputs": [
    {
     "name": "stdout",
     "output_type": "stream",
     "text": [
      "s12 = geo_dist(lat1,lon1,lat2,lon2)\n",
      "\n",
      "Wrapper for ``geo_dist``.\n",
      "\n",
      "Parameters\n",
      "----------\n",
      "lat1 : input float\n",
      "lon1 : input float\n",
      "lat2 : input float\n",
      "lon2 : input float\n",
      "\n",
      "Returns\n",
      "-------\n",
      "s12 : float\n",
      "\n"
     ]
    }
   ],
   "source": [
    "import geof\n",
    "print(geof.geo_dist.__doc__)"
   ]
  },
  {
   "cell_type": "code",
   "execution_count": 12,
   "metadata": {},
   "outputs": [],
   "source": [
    "import math\n",
    "\n",
    "def norm_pdf(x, mean = 0, scale = 1):\n",
    "    \n",
    "    factor = 1/(scale * math.sqrt(2*math.pi))\n",
    "    \n",
    "    exponent = -0.5*((x - mean)/scale)**2\n",
    "    \n",
    "    return factor*math.exp(exponent)\n",
    "    "
   ]
  },
  {
   "cell_type": "code",
   "execution_count": 13,
   "metadata": {},
   "outputs": [
    {
     "data": {
      "text/plain": [
       "0.03315904626424956"
      ]
     },
     "execution_count": 13,
     "metadata": {},
     "output_type": "execute_result"
    }
   ],
   "source": [
    "norm.pdf(5, scale = 3)"
   ]
  },
  {
   "cell_type": "code",
   "execution_count": 14,
   "metadata": {},
   "outputs": [
    {
     "data": {
      "text/plain": [
       "0.03315904626424956"
      ]
     },
     "execution_count": 14,
     "metadata": {},
     "output_type": "execute_result"
    }
   ],
   "source": [
    "norm_pdf(5, scale = 3)"
   ]
  },
  {
   "cell_type": "code",
   "execution_count": 32,
   "metadata": {},
   "outputs": [],
   "source": [
    "def water_right_score(lat, long):\n",
    "    \n",
    "    score = 0\n",
    "    \n",
    "    disp = np.mean(s)/2\n",
    "    \n",
    "    for i in range(0, len(z)):\n",
    "        \n",
    "        lat1 = x[i]\n",
    "        long1 = y[i]\n",
    "        right1 = z[i]\n",
    "        #disp1 = s[i]/2\n",
    "        \n",
    "        dist = geof.geo_dist(lat1, long1, lat, long)\n",
    "        #dist = geopy.distance.distance((lat1, long1), (lat, long)).km\n",
    "        \n",
    "        #amnt = norm.pdf(dist, scale = disp)\n",
    "        amnt = norm_pdf(dist, scale = disp)\n",
    "        \n",
    "        #print(right1,\"\\t\",dist,\"\\t\",amnt)\n",
    "        \n",
    "        score = score + right1*amnt\n",
    "        \n",
    "    return score"
   ]
  },
  {
   "cell_type": "code",
   "execution_count": 72,
   "metadata": {},
   "outputs": [],
   "source": [
    "def water_right_avg_dist(lat, long):\n",
    "    \n",
    "    score = 0  \n",
    "   \n",
    "    for i in range(0, len(z)):\n",
    "        \n",
    "        lat1 = x[i]\n",
    "        long1 = y[i]\n",
    "        \n",
    "        dist = geof.geo_dist(lat1, long1, lat, long)\n",
    "       \n",
    "        score = score + dist\n",
    "        \n",
    "    return score/(len(z))"
   ]
  },
  {
   "cell_type": "code",
   "execution_count": 102,
   "metadata": {},
   "outputs": [],
   "source": [
    "def water_right_avg_5_dist(lat, long):\n",
    "    \n",
    "    dists = []\n",
    "    score = 0  \n",
    "   \n",
    "    for i in range(0, len(z)):\n",
    "        \n",
    "        lat1 = x[i]\n",
    "        long1 = y[i]\n",
    "        \n",
    "        dist = geof.geo_dist(lat1, long1, lat, long)\n",
    "       \n",
    "        dists.append(dist)\n",
    "              \n",
    "    top5 = sorted(dists)[0:5]\n",
    "    #print(top5)\n",
    "    score = np.mean(top5)    \n",
    "        \n",
    "    return score"
   ]
  },
  {
   "cell_type": "code",
   "execution_count": 79,
   "metadata": {},
   "outputs": [],
   "source": [
    "def water_right_score2(lat, long):\n",
    "    \n",
    "    score = 0  \n",
    "   \n",
    "    for i in range(0, len(z)):\n",
    "        \n",
    "        lat1 = x[i]\n",
    "        long1 = y[i]\n",
    "        right1 = z[i]\n",
    "        \n",
    "        dist = geof.geo_dist(lat1, long1, lat, long)\n",
    "       \n",
    "        score = score + right1/dist\n",
    "        \n",
    "    return score/(len(z))"
   ]
  },
  {
   "cell_type": "code",
   "execution_count": 141,
   "metadata": {},
   "outputs": [],
   "source": [
    "def water_right_5_score2(lat, long):\n",
    "    \n",
    "    dists = []\n",
    "    rights = []\n",
    "    score = 0  \n",
    "   \n",
    "    for i in range(0, len(z)):\n",
    "        \n",
    "        lat1 = x[i]\n",
    "        long1 = y[i]\n",
    "        right1 = z[i]\n",
    "        \n",
    "        dist = geof.geo_dist(lat1, long1, lat, long)\n",
    "       \n",
    "        scores.append(dist)\n",
    "        rights.append(right1)\n",
    "    \n",
    "    top5 = sorted(scores, reverse = True)[0:5]\n",
    "    score = np.mean(top5)\n",
    "    \n",
    "    return score"
   ]
  },
  {
   "cell_type": "code",
   "execution_count": null,
   "metadata": {},
   "outputs": [],
   "source": []
  },
  {
   "cell_type": "code",
   "execution_count": 16,
   "metadata": {},
   "outputs": [
    {
     "data": {
      "text/plain": [
       "46.399583242603676"
      ]
     },
     "execution_count": 16,
     "metadata": {},
     "output_type": "execute_result"
    }
   ],
   "source": [
    "geof.geo_dist(36.1, -119, 36, -119.5)"
   ]
  },
  {
   "cell_type": "code",
   "execution_count": 17,
   "metadata": {},
   "outputs": [
    {
     "data": {
      "text/plain": [
       "46.399583242603676"
      ]
     },
     "execution_count": 17,
     "metadata": {},
     "output_type": "execute_result"
    }
   ],
   "source": [
    "geopy.distance.distance((36.1, -119), (36, -119.5)).km"
   ]
  },
  {
   "cell_type": "code",
   "execution_count": 49,
   "metadata": {},
   "outputs": [
    {
     "data": {
      "text/plain": [
       "DescribeResult(nobs=528, minmax=(0.002, 36000.0), mean=2550.816965909091, variance=17241687.57831448, skewness=3.4282176310423638, kurtosis=18.30684740815012)"
      ]
     },
     "execution_count": 49,
     "metadata": {},
     "output_type": "execute_result"
    }
   ],
   "source": [
    "stats.describe(z)"
   ]
  },
  {
   "cell_type": "code",
   "execution_count": 18,
   "metadata": {},
   "outputs": [
    {
     "data": {
      "text/plain": [
       "DescribeResult(nobs=528, minmax=(35.9961773, 37.46789265), mean=36.80226565535985, variance=0.11895423235272785, skewness=-0.46449815146669243, kurtosis=-0.640381074918738)"
      ]
     },
     "execution_count": 18,
     "metadata": {},
     "output_type": "execute_result"
    }
   ],
   "source": [
    "stats.describe(x)"
   ]
  },
  {
   "cell_type": "code",
   "execution_count": 19,
   "metadata": {},
   "outputs": [
    {
     "data": {
      "text/plain": [
       "DescribeResult(nobs=528, minmax=(-120.80045530000001, -118.6798), mean=-119.6087769939394, variance=0.3094009127144158, skewness=-0.8062618322321279, kurtosis=-0.7000862858459329)"
      ]
     },
     "execution_count": 19,
     "metadata": {},
     "output_type": "execute_result"
    }
   ],
   "source": [
    "stats.describe(y)"
   ]
  },
  {
   "cell_type": "code",
   "execution_count": 43,
   "metadata": {},
   "outputs": [
    {
     "data": {
      "text/plain": [
       "36.67002692998901"
      ]
     },
     "execution_count": 43,
     "metadata": {},
     "output_type": "execute_result"
    }
   ],
   "source": [
    "np.mean(s)/2"
   ]
  },
  {
   "cell_type": "code",
   "execution_count": 33,
   "metadata": {},
   "outputs": [],
   "source": [
    "x_up = 37.46789265\n",
    "x_low = 35.97575564\n",
    "y_up = -118.6798\n",
    "y_low = -120.8004553\n",
    "\n",
    "xnew = np.arange(x_low, x_up, (x_up - x_low)/300)[0:300]\n",
    "ynew = np.arange(y_low, y_up, (y_up - y_low)/300)[0:300]"
   ]
  },
  {
   "cell_type": "code",
   "execution_count": 34,
   "metadata": {},
   "outputs": [
    {
     "data": {
      "text/plain": [
       "DescribeResult(nobs=90000, minmax=(26.824477175811253, 6601.016897547887), mean=2933.217562218607, variance=2847345.9646252412, skewness=0.0801616115581973, kurtosis=-0.8526864331687096)"
      ]
     },
     "execution_count": 34,
     "metadata": {},
     "output_type": "execute_result"
    }
   ],
   "source": [
    "xv, yv = np.meshgrid(xnew, ynew)\n",
    "fv = np.vectorize(water_right_score)\n",
    "zv = fv(xv,yv)\n",
    "stats.describe(zv.flatten())"
   ]
  },
  {
   "cell_type": "code",
   "execution_count": 20,
   "metadata": {},
   "outputs": [],
   "source": [
    "%load_ext line_profiler"
   ]
  },
  {
   "cell_type": "code",
   "execution_count": 40,
   "metadata": {},
   "outputs": [],
   "source": [
    "%lprun -f norm_pdf water_right_score(36.0,119.0)"
   ]
  },
  {
   "cell_type": "code",
   "execution_count": 35,
   "metadata": {},
   "outputs": [
    {
     "data": {
      "image/png": "[encoded data removed]",
      "text/plain": [
       "<Figure size 720x720 with 2 Axes>"
      ]
     },
     "metadata": {
      "needs_background": "light"
     },
     "output_type": "display_data"
    }
   ],
   "source": [
    "fig, ax = plt.subplots(figsize=(10, 10))\n",
    "\n",
    "cp = plt.contourf(xv, yv, zv)\n",
    "plt.colorbar(cp)\n",
    "\n",
    "plt.scatter(x,y, s = z/100, c = 'r')\n",
    "\n",
    "ax.set_title('Contour Plot')\n",
    "ax.set_xlabel('lat')\n",
    "ax.set_ylabel('long')\n",
    "plt.show()"
   ]
  },
  {
   "cell_type": "code",
   "execution_count": 37,
   "metadata": {},
   "outputs": [
    {
     "data": {
      "image/png": "[encoded data removed]",
      "text/plain": [
       "<Figure size 720x720 with 2 Axes>"
      ]
     },
     "metadata": {
      "needs_background": "light"
     },
     "output_type": "display_data"
    }
   ],
   "source": [
    "fig, ax = plt.subplots(figsize=(10, 10))\n",
    "\n",
    "cp = plt.contourf(xv, yv, zv, levels = 10)\n",
    "plt.colorbar(cp)\n",
    "\n",
    "plt.scatter(x,y, s = z/100, c = 'r')\n",
    "\n",
    "ax.set_title('Contour Plot')\n",
    "ax.set_xlabel('lat')\n",
    "ax.set_ylabel('long')\n",
    "plt.show()"
   ]
  },
  {
   "cell_type": "code",
   "execution_count": 41,
   "metadata": {},
   "outputs": [
    {
     "data": {
      "text/plain": [
       "2899.6392391934796"
      ]
     },
     "execution_count": 41,
     "metadata": {},
     "output_type": "execute_result"
    }
   ],
   "source": [
    "water_right_score(36.65,-120.25)"
   ]
  },
  {
   "cell_type": "code",
   "execution_count": 42,
   "metadata": {},
   "outputs": [
    {
     "data": {
      "text/plain": [
       "3589.241359747409"
      ]
     },
     "execution_count": 42,
     "metadata": {},
     "output_type": "execute_result"
    }
   ],
   "source": [
    "water_right_score(36.65,-120.0)"
   ]
  },
  {
   "cell_type": "code",
   "execution_count": 47,
   "metadata": {},
   "outputs": [
    {
     "name": "stderr",
     "output_type": "stream",
     "text": [
      "/home/draget/.local/lib/python3.6/site-packages/IPython/core/interactiveshell.py:3063: DtypeWarning: Columns (15,17,21,37,84) have mixed types. Specify dtype option on import or set low_memory=False.\n",
      "  interactivity=interactivity, compiler=compiler, result=result)\n"
     ]
    }
   ],
   "source": [
    "water_df = pd.read_csv(\"../joined_combined_filtered_mined_soil_water_df_td_6_4.csv\")"
   ]
  },
  {
   "cell_type": "code",
   "execution_count": 48,
   "metadata": {},
   "outputs": [
    {
     "data": {
      "text/plain": [
       "Index(['Unnamed: 0', 'Unnamed: 0_x', 'geoid', 'sourceagent', 'parcelnumb',\n",
       "       'usecode', 'improvval', 'landval', 'parval', 'owner',\n",
       "       ...\n",
       "       'nirrcalscl', 'castorieindex', 'Crop', 'CropETo', 'WaterApplied',\n",
       "       'NetWaterUse_Applied', 'Factor', 'AppliedFromETo', 'AppliedWater',\n",
       "       'TotalWater'],\n",
       "      dtype='object', length=103)"
      ]
     },
     "execution_count": 48,
     "metadata": {},
     "output_type": "execute_result"
    }
   ],
   "source": [
    "water_df.columns"
   ]
  },
  {
   "cell_type": "code",
   "execution_count": 64,
   "metadata": {},
   "outputs": [],
   "source": [
    "scores = water_df.apply(lambda x: water_right_score(x[\"lat\"], x[\"lng\"]), axis=1).values"
   ]
  },
  {
   "cell_type": "code",
   "execution_count": 103,
   "metadata": {},
   "outputs": [],
   "source": [
    "dists = water_df.apply(lambda x: water_right_avg_5_dist(x[\"lat\"], x[\"lng\"]), axis=1).values"
   ]
  },
  {
   "cell_type": "code",
   "execution_count": 142,
   "metadata": {},
   "outputs": [],
   "source": [
    "scores2 = water_df.apply(lambda x: water_right_5_score2(x[\"lat\"], x[\"lng\"]), axis=1).values"
   ]
  },
  {
   "cell_type": "code",
   "execution_count": 66,
   "metadata": {},
   "outputs": [],
   "source": [
    "appwater = water_df[\"AppliedWater\"].values"
   ]
  },
  {
   "cell_type": "code",
   "execution_count": 87,
   "metadata": {},
   "outputs": [],
   "source": [
    "parval = water_df[\"parval\"].values"
   ]
  },
  {
   "cell_type": "code",
   "execution_count": 143,
   "metadata": {},
   "outputs": [
    {
     "data": {
      "text/plain": [
       "array([ 852.28636562,  900.78777365, 1011.24216288, ...,  631.36046442,\n",
       "        742.66607663,  529.80865122])"
      ]
     },
     "execution_count": 143,
     "metadata": {},
     "output_type": "execute_result"
    }
   ],
   "source": [
    "scores2"
   ]
  },
  {
   "cell_type": "code",
   "execution_count": 144,
   "metadata": {},
   "outputs": [
    {
     "data": {
      "text/plain": [
       "<matplotlib.collections.PathCollection at 0x7f23d5b87a90>"
      ]
     },
     "execution_count": 144,
     "metadata": {},
     "output_type": "execute_result"
    },
    {
     "data": {
      "image/png": "[encoded data removed]",
      "text/plain": [
       "<Figure size 432x288 with 1 Axes>"
      ]
     },
     "metadata": {
      "needs_background": "light"
     },
     "output_type": "display_data"
    }
   ],
   "source": [
    "plt.scatter(appwater, scores2)"
   ]
  },
  {
   "cell_type": "code",
   "execution_count": 147,
   "metadata": {},
   "outputs": [
    {
     "data": {
      "text/plain": [
       "LinregressResult(slope=107.29827075968554, intercept=601.3491860169285, rvalue=0.06109019926836463, pvalue=2.166436664120456e-22, stderr=11.013008226721658)"
      ]
     },
     "execution_count": 147,
     "metadata": {},
     "output_type": "execute_result"
    }
   ],
   "source": [
    "stats.linregress(appwater, scores2)"
   ]
  },
  {
   "cell_type": "code",
   "execution_count": 145,
   "metadata": {},
   "outputs": [],
   "source": [
    "statistic, edges, no = stats.binned_statistic(appwater, scores2, 'mean', bins = 8)"
   ]
  },
  {
   "cell_type": "code",
   "execution_count": 146,
   "metadata": {},
   "outputs": [
    {
     "data": {
      "text/plain": [
       "[<matplotlib.lines.Line2D at 0x7f23d5743198>]"
      ]
     },
     "execution_count": 146,
     "metadata": {},
     "output_type": "execute_result"
    },
    {
     "data": {
      "image/png": "[encoded data removed]",
      "text/plain": [
       "<Figure size 432x288 with 1 Axes>"
      ]
     },
     "metadata": {
      "needs_background": "light"
     },
     "output_type": "display_data"
    }
   ],
   "source": [
    "plt.plot(statistic)"
   ]
  },
  {
   "cell_type": "code",
   "execution_count": 130,
   "metadata": {},
   "outputs": [],
   "source": [
    "statistic, edges, no = stats.binned_statistic(appwater, dists, 'mean', bins = 8)"
   ]
  },
  {
   "cell_type": "code",
   "execution_count": 129,
   "metadata": {},
   "outputs": [
    {
     "data": {
      "text/plain": [
       "[<matplotlib.lines.Line2D at 0x7f23d2aaeac8>]"
      ]
     },
     "execution_count": 129,
     "metadata": {},
     "output_type": "execute_result"
    },
    {
     "data": {
      "image/png": "[encoded data removed]",
      "text/plain": [
       "<Figure size 432x288 with 1 Axes>"
      ]
     },
     "metadata": {
      "needs_background": "light"
     },
     "output_type": "display_data"
    }
   ],
   "source": [
    "plt.plot(statistic)"
   ]
  },
  {
   "cell_type": "code",
   "execution_count": 107,
   "metadata": {},
   "outputs": [],
   "source": [
    "pd.DataFrame(appwater, dists).to_csv(\"app_dist.csv\")"
   ]
  },
  {
   "cell_type": "code",
   "execution_count": 84,
   "metadata": {},
   "outputs": [
    {
     "data": {
      "text/plain": [
       "array([5097.33825599, 5326.88171322, 3736.59960667, ..., 4589.41833934,\n",
       "       5229.10461092, 4067.30395809])"
      ]
     },
     "execution_count": 84,
     "metadata": {},
     "output_type": "execute_result"
    }
   ],
   "source": [
    "scores"
   ]
  },
  {
   "cell_type": "code",
   "execution_count": 85,
   "metadata": {},
   "outputs": [
    {
     "data": {
      "text/plain": [
       "array([59.57773407, 65.7014693 , 51.5893303 , ..., 50.63785034,\n",
       "       60.57039473, 45.92007329])"
      ]
     },
     "execution_count": 85,
     "metadata": {},
     "output_type": "execute_result"
    }
   ],
   "source": [
    "scores2"
   ]
  }
 ],
 "metadata": {
  "kernelspec": {
   "display_name": "Python 3",
   "language": "python",
   "name": "python3"
  },
  "language_info": {
   "codemirror_mode": {
    "name": "ipython",
    "version": 3
   },
   "file_extension": ".py",
   "mimetype": "text/x-python",
   "name": "python",
   "nbconvert_exporter": "python",
   "pygments_lexer": "ipython3",
   "version": "3.6.9"
  }
 },
 "nbformat": 4,
 "nbformat_minor": 4
}
