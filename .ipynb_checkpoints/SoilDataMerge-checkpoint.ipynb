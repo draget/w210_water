{
 "cells": [
  {
   "cell_type": "code",
   "execution_count": 1,
   "metadata": {},
   "outputs": [],
   "source": [
    "import pandas as pd\n",
    "import numpy as np"
   ]
  },
  {
   "cell_type": "code",
   "execution_count": 2,
   "metadata": {},
   "outputs": [
    {
     "name": "stderr",
     "output_type": "stream",
     "text": [
      "/home/draget/.local/lib/python3.6/site-packages/IPython/core/interactiveshell.py:3063: DtypeWarning: Columns (42,46,50,51,57,93) have mixed types. Specify dtype option on import or set low_memory=False.\n",
      "  interactivity=interactivity, compiler=compiler, result=result)\n"
     ]
    }
   ],
   "source": [
    "soil_east_df = pd.read_csv(\"../soil/soil_east_intersect_warea.csv\")"
   ]
  },
  {
   "cell_type": "code",
   "execution_count": 4,
   "metadata": {},
   "outputs": [],
   "source": [
    "soil_east_df[\"intersect_area_acre\"] = soil_east_df[\"area\"]*0.000247105"
   ]
  },
  {
   "cell_type": "code",
   "execution_count": 9,
   "metadata": {},
   "outputs": [
    {
     "data": {
      "text/plain": [
       "Index(['geoid', 'sourceagen', 'parcelnumb', 'usecode', 'usedesc', 'zoning',\n",
       "       'zoning_des', 'struct', 'multistruc', 'structno',\n",
       "       ...\n",
       "       'qoz_tract', 'll_gisacre', 'll_gissqft', 'AREASYMBOL', 'SPATIALVER',\n",
       "       'MUSYM', 'MUKEY', 'area', 'perimeter', 'intersect_area_acre'],\n",
       "      dtype='object', length=109)"
      ]
     },
     "execution_count": 9,
     "metadata": {},
     "output_type": "execute_result"
    }
   ],
   "source": [
    "soil_east_df.columns"
   ]
  },
  {
   "cell_type": "code",
   "execution_count": 16,
   "metadata": {},
   "outputs": [],
   "source": [
    "max_soil_east_df = soil_east_df.loc[soil_east_df.groupby([\"parcelnumb\"])[\"intersect_area_acre\"].idxmax()]"
   ]
  },
  {
   "cell_type": "code",
   "execution_count": 20,
   "metadata": {},
   "outputs": [],
   "source": [
    "soil_properties_east_df = pd.read_csv(\"../soil/Farm_value_query_TD_east.txt\")"
   ]
  },
  {
   "cell_type": "code",
   "execution_count": 21,
   "metadata": {},
   "outputs": [
    {
     "data": {
      "text/html": [
       "<div>\n",
       "<style scoped>\n",
       "    .dataframe tbody tr th:only-of-type {\n",
       "        vertical-align: middle;\n",
       "    }\n",
       "\n",
       "    .dataframe tbody tr th {\n",
       "        vertical-align: top;\n",
       "    }\n",
       "\n",
       "    .dataframe thead th {\n",
       "        text-align: right;\n",
       "    }\n",
       "</style>\n",
       "<table border=\"1\" class=\"dataframe\">\n",
       "  <thead>\n",
       "    <tr style=\"text-align: right;\">\n",
       "      <th></th>\n",
       "      <th>musym</th>\n",
       "      <th>mukey</th>\n",
       "      <th>farmlndcl</th>\n",
       "      <th>irrcapcl</th>\n",
       "      <th>irrcapscl</th>\n",
       "      <th>nirrcapcl</th>\n",
       "      <th>nirrcalscl</th>\n",
       "    </tr>\n",
       "  </thead>\n",
       "  <tbody>\n",
       "    <tr>\n",
       "      <th>0</th>\n",
       "      <td>100tc</td>\n",
       "      <td>1487066</td>\n",
       "      <td>Prime farmland if irrigated</td>\n",
       "      <td>3.0</td>\n",
       "      <td>e</td>\n",
       "      <td>3.0</td>\n",
       "      <td>e</td>\n",
       "    </tr>\n",
       "    <tr>\n",
       "      <th>1</th>\n",
       "      <td>103tc</td>\n",
       "      <td>1487067</td>\n",
       "      <td>Not prime farmland</td>\n",
       "      <td>6.0</td>\n",
       "      <td>e</td>\n",
       "      <td>6.0</td>\n",
       "      <td>e</td>\n",
       "    </tr>\n",
       "    <tr>\n",
       "      <th>2</th>\n",
       "      <td>104ki</td>\n",
       "      <td>1487069</td>\n",
       "      <td>Farmland of statewide importance</td>\n",
       "      <td>3.0</td>\n",
       "      <td>s</td>\n",
       "      <td>7.0</td>\n",
       "      <td>s</td>\n",
       "    </tr>\n",
       "    <tr>\n",
       "      <th>3</th>\n",
       "      <td>105tw</td>\n",
       "      <td>464548</td>\n",
       "      <td>Farmland of statewide importance</td>\n",
       "      <td>4.0</td>\n",
       "      <td>s</td>\n",
       "      <td>7.0</td>\n",
       "      <td>s</td>\n",
       "    </tr>\n",
       "    <tr>\n",
       "      <th>4</th>\n",
       "      <td>106tc</td>\n",
       "      <td>464552</td>\n",
       "      <td>Not prime farmland</td>\n",
       "      <td>6.0</td>\n",
       "      <td>e</td>\n",
       "      <td>6.0</td>\n",
       "      <td>e</td>\n",
       "    </tr>\n",
       "    <tr>\n",
       "      <th>...</th>\n",
       "      <td>...</td>\n",
       "      <td>...</td>\n",
       "      <td>...</td>\n",
       "      <td>...</td>\n",
       "      <td>...</td>\n",
       "      <td>...</td>\n",
       "      <td>...</td>\n",
       "    </tr>\n",
       "    <tr>\n",
       "      <th>394</th>\n",
       "      <td>YhB</td>\n",
       "      <td>464543</td>\n",
       "      <td>Not prime farmland</td>\n",
       "      <td>6.0</td>\n",
       "      <td>e</td>\n",
       "      <td>6.0</td>\n",
       "      <td>e</td>\n",
       "    </tr>\n",
       "    <tr>\n",
       "      <th>395</th>\n",
       "      <td>YkA</td>\n",
       "      <td>464544</td>\n",
       "      <td>Farmland of statewide importance</td>\n",
       "      <td>4.0</td>\n",
       "      <td>s</td>\n",
       "      <td>4.0</td>\n",
       "      <td>s</td>\n",
       "    </tr>\n",
       "    <tr>\n",
       "      <th>396</th>\n",
       "      <td>YkB</td>\n",
       "      <td>464545</td>\n",
       "      <td>Farmland of statewide importance</td>\n",
       "      <td>4.0</td>\n",
       "      <td>e</td>\n",
       "      <td>4.0</td>\n",
       "      <td>e</td>\n",
       "    </tr>\n",
       "    <tr>\n",
       "      <th>397</th>\n",
       "      <td>YlB</td>\n",
       "      <td>464546</td>\n",
       "      <td>Not prime farmland</td>\n",
       "      <td>6.0</td>\n",
       "      <td>e</td>\n",
       "      <td>6.0</td>\n",
       "      <td>e</td>\n",
       "    </tr>\n",
       "    <tr>\n",
       "      <th>398</th>\n",
       "      <td>YmA</td>\n",
       "      <td>464547</td>\n",
       "      <td>Farmland of statewide importance</td>\n",
       "      <td>4.0</td>\n",
       "      <td>s</td>\n",
       "      <td>4.0</td>\n",
       "      <td>s</td>\n",
       "    </tr>\n",
       "  </tbody>\n",
       "</table>\n",
       "<p>399 rows × 7 columns</p>\n",
       "</div>"
      ],
      "text/plain": [
       "     musym    mukey                         farmlndcl  irrcapcl irrcapscl  \\\n",
       "0    100tc  1487066       Prime farmland if irrigated       3.0         e   \n",
       "1    103tc  1487067                Not prime farmland       6.0         e   \n",
       "2    104ki  1487069  Farmland of statewide importance       3.0         s   \n",
       "3    105tw   464548  Farmland of statewide importance       4.0         s   \n",
       "4    106tc   464552                Not prime farmland       6.0         e   \n",
       "..     ...      ...                               ...       ...       ...   \n",
       "394    YhB   464543                Not prime farmland       6.0         e   \n",
       "395    YkA   464544  Farmland of statewide importance       4.0         s   \n",
       "396    YkB   464545  Farmland of statewide importance       4.0         e   \n",
       "397    YlB   464546                Not prime farmland       6.0         e   \n",
       "398    YmA   464547  Farmland of statewide importance       4.0         s   \n",
       "\n",
       "     nirrcapcl nirrcalscl  \n",
       "0          3.0          e  \n",
       "1          6.0          e  \n",
       "2          7.0          s  \n",
       "3          7.0          s  \n",
       "4          6.0          e  \n",
       "..         ...        ...  \n",
       "394        6.0          e  \n",
       "395        4.0          s  \n",
       "396        4.0          e  \n",
       "397        6.0          e  \n",
       "398        4.0          s  \n",
       "\n",
       "[399 rows x 7 columns]"
      ]
     },
     "execution_count": 21,
     "metadata": {},
     "output_type": "execute_result"
    }
   ],
   "source": [
    "soil_properties_east_df"
   ]
  },
  {
   "cell_type": "code",
   "execution_count": 28,
   "metadata": {},
   "outputs": [
    {
     "data": {
      "text/plain": [
       "Index(['geoid', 'sourceagen', 'parcelnumb', 'usecode', 'usedesc', 'zoning',\n",
       "       'zoning_des', 'struct', 'multistruc', 'structno',\n",
       "       ...\n",
       "       'area', 'perimeter', 'intersect_area_acre', 'musym', 'mukey',\n",
       "       'farmlndcl', 'irrcapcl', 'irrcapscl', 'nirrcapcl', 'nirrcalscl'],\n",
       "      dtype='object', length=116)"
      ]
     },
     "execution_count": 28,
     "metadata": {},
     "output_type": "execute_result"
    }
   ],
   "source": [
    "soil_data_east.columns"
   ]
  },
  {
   "cell_type": "code",
   "execution_count": 37,
   "metadata": {},
   "outputs": [],
   "source": [
    "soil_data_east = pd.merge(left = max_soil_east_df, right = soil_properties_east_df, left_on = \"MUSYM\", right_on = \"musym\", how = \"left\")"
   ]
  },
  {
   "cell_type": "code",
   "execution_count": 39,
   "metadata": {},
   "outputs": [],
   "source": [
    "soil_data_east = soil_data_east[[\"parcelnumb\", \"intersect_area_acre\", \"MUSYM\", \"farmlndcl\", \"irrcapcl\", \"irrcapscl\", \"nirrcapcl\", \"nirrcalscl\"]]"
   ]
  },
  {
   "cell_type": "code",
   "execution_count": 43,
   "metadata": {},
   "outputs": [],
   "source": [
    "soil_data_east.to_csv(\"../soil/soil_data_east.csv\")"
   ]
  }
 ],
 "metadata": {
  "kernelspec": {
   "display_name": "Python 3",
   "language": "python",
   "name": "python3"
  },
  "language_info": {
   "codemirror_mode": {
    "name": "ipython",
    "version": 3
   },
   "file_extension": ".py",
   "mimetype": "text/x-python",
   "name": "python",
   "nbconvert_exporter": "python",
   "pygments_lexer": "ipython3",
   "version": "3.6.9"
  }
 },
 "nbformat": 4,
 "nbformat_minor": 4
}
