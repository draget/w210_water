{
 "cells": [
  {
   "cell_type": "code",
   "execution_count": 102,
   "metadata": {},
   "outputs": [],
   "source": [
    "import pandas as pd\n",
    "import numpy as np\n",
    "from sklearn.ensemble import RandomForestRegressor\n",
    "from sklearn.linear_model import LinearRegression\n",
    "from matplotlib import pyplot as plt"
   ]
  },
  {
   "cell_type": "code",
   "execution_count": 3,
   "metadata": {},
   "outputs": [],
   "source": [
    "soil_west = pd.read_csv(\"../soil/soil_data_west.csv\")\n",
    "soil_east = pd.read_csv(\"../soil/soil_data_east.csv\")\n",
    "soil_740 = pd.read_csv(\"../soil/soil_data_740.csv\")\n",
    "soil_750 = pd.read_csv(\"../soil/soil_data_750.csv\")"
   ]
  },
  {
   "cell_type": "code",
   "execution_count": 5,
   "metadata": {},
   "outputs": [
    {
     "data": {
      "text/plain": [
       "(296951, 9)"
      ]
     },
     "execution_count": 5,
     "metadata": {},
     "output_type": "execute_result"
    }
   ],
   "source": [
    "soil = pd.concat([soil_west, soil_east, soil_740, soil_750])\n",
    "soil.shape"
   ]
  },
  {
   "cell_type": "code",
   "execution_count": 8,
   "metadata": {},
   "outputs": [
    {
     "data": {
      "text/plain": [
       "(25268, 145)"
      ]
     },
     "execution_count": 8,
     "metadata": {},
     "output_type": "execute_result"
    }
   ],
   "source": [
    "parcel_crop = pd.read_csv(\"../joined_combined_filtered_df_td_27_3.csv\")\n",
    "parcel_crop.shape"
   ]
  },
  {
   "cell_type": "code",
   "execution_count": 10,
   "metadata": {},
   "outputs": [
    {
     "data": {
      "text/plain": [
       "(25324, 153)"
      ]
     },
     "execution_count": 10,
     "metadata": {},
     "output_type": "execute_result"
    }
   ],
   "source": [
    "parcel_crop_soil = pd.merge(left = parcel_crop, right = soil, on = \"parcelnumb\", how = \"left\")\n",
    "parcel_crop_soil.shape"
   ]
  },
  {
   "cell_type": "code",
   "execution_count": 14,
   "metadata": {},
   "outputs": [],
   "source": [
    "water_usage_df = pd.read_csv(\"CropWaterUsage.csv\")"
   ]
  },
  {
   "cell_type": "code",
   "execution_count": 16,
   "metadata": {},
   "outputs": [],
   "source": [
    "parcel_crop_soil_water = pd.merge(left = parcel_crop_soil, right = water_usage_df, on = \"Crop2016\", how = \"left\")"
   ]
  },
  {
   "cell_type": "code",
   "execution_count": 17,
   "metadata": {},
   "outputs": [
    {
     "name": "stdout",
     "output_type": "stream",
     "text": [
      "Unnamed: 0_x\n",
      "geoid\n",
      "sourceagent\n",
      "parcelnumb\n",
      "usecode\n",
      "usedesc\n",
      "zoning\n",
      "zoning_description\n",
      "struct\n",
      "multistruct\n",
      "structno\n",
      "yearbuilt\n",
      "numstories\n",
      "numunits\n",
      "structstyle\n",
      "parvaltype\n",
      "improvval\n",
      "landval\n",
      "parval\n",
      "agval\n",
      "saleprice\n",
      "saledate\n",
      "taxamt\n",
      "owntype\n",
      "owner\n",
      "ownfrst\n",
      "ownlast\n",
      "owner2\n",
      "owner3\n",
      "owner4\n",
      "subsurfown\n",
      "subowntype\n",
      "mailadd\n",
      "mail_address2\n",
      "careof\n",
      "mail_addno\n",
      "mail_addpref\n",
      "mail_addstr\n",
      "mail_addsttyp\n",
      "mail_addstsuf\n",
      "mail_unit\n",
      "mail_city\n",
      "mail_state2\n",
      "mail_zip\n",
      "mail_urbanization\n",
      "address\n",
      "address2\n",
      "saddno\n",
      "saddpref\n",
      "saddstr\n",
      "saddsttyp\n",
      "saddstsuf\n",
      "sunit\n",
      "scity\n",
      "original_address\n",
      "city\n",
      "county\n",
      "state2\n",
      "szip\n",
      "urbanization\n",
      "location_name\n",
      "address_source\n",
      "legaldesc\n",
      "plat\n",
      "book\n",
      "page\n",
      "block\n",
      "lot\n",
      "neighborhood\n",
      "subdivision\n",
      "census_tract\n",
      "census_block\n",
      "census_blockgroup\n",
      "sourceref\n",
      "sourcedate\n",
      "sourceurl\n",
      "recrdareatx\n",
      "recrdareano\n",
      "gisacre\n",
      "sqft\n",
      "reviseddate\n",
      "path\n",
      "ll_stable_id\n",
      "ll_uuid\n",
      "ll_updated_at\n",
      "lbcs_activity\n",
      "lbcs_function\n",
      "lbcs_structure\n",
      "lbcs_site\n",
      "lbcs_ownership\n",
      "homeowner_exemp\n",
      "lot_area\n",
      "pers_prop_val\n",
      "tax_area_code\n",
      "contract_number\n",
      "contract_year\n",
      "non_renewal_year\n",
      "use_high_best\n",
      "use_secondary\n",
      "qoz\n",
      "qoz_tract\n",
      "ll_gisacre\n",
      "ll_gissqft\n",
      "lng\n",
      "lat\n",
      "gdfindex\n",
      "Acres_x\n",
      "Crop2016_x\n",
      "DWR_revise\n",
      "Symb_class\n",
      "MULTIUSE\n",
      "CLASS1\n",
      "SUBCLASS1\n",
      "SPECOND1\n",
      "IRR_TYP1PA\n",
      "IRR_TYP1PB\n",
      "PCNT1\n",
      "CLASS2\n",
      "SUBCLASS2\n",
      "SPECOND2\n",
      "IRR_TYP2PA\n",
      "IRR_TYP2PB\n",
      "PCNT2\n",
      "CLASS3\n",
      "SUBCLASS3\n",
      "SPECOND3\n",
      "IRR_TYP3PA\n",
      "IRR_TYP3PB\n",
      "PCNT3\n",
      "UCF_ATT\n",
      "CROPTYP1\n",
      "CROPTYP2\n",
      "CROPTYP3\n",
      "Region\n",
      "Acres\n",
      "County\n",
      "Comments\n",
      "Source\n",
      "Crop2016\n",
      "Modified_B\n",
      "Date_Data_\n",
      "Last_Modif\n",
      "GlobalID\n",
      "Shape_Leng\n",
      "Shape_Area\n",
      "Unnamed: 0_y\n",
      "intersect_area_acre\n",
      "MUSYM\n",
      "farmlndcl\n",
      "irrcapcl\n",
      "irrcapscl\n",
      "nirrcapcl\n",
      "nirrcalscl\n",
      "Crop\n",
      "CropETo\n",
      "WaterApplied\n",
      "NetWaterUse_Applied\n",
      "Factor\n",
      "AppliedFromETo\n",
      "AppliedWater\n",
      "TotalWater\n"
     ]
    }
   ],
   "source": [
    "for col in parcel_crop_soil_water.columns:\n",
    "    print(col)"
   ]
  },
  {
   "cell_type": "code",
   "execution_count": 83,
   "metadata": {},
   "outputs": [
    {
     "data": {
      "text/plain": [
       "(25324, 7)"
      ]
     },
     "execution_count": 83,
     "metadata": {},
     "output_type": "execute_result"
    }
   ],
   "source": [
    "#usecode, #scity\n",
    "\n",
    "feature_df = parcel_crop_soil_water[[\"ll_gisacre\", \"pers_prop_val\", \"homeowner_exemp\", \"TotalWater\", \"irrcapcl\", \"nirrcapcl\", \"parval\"]]\n",
    "feature_df.shape"
   ]
  },
  {
   "cell_type": "code",
   "execution_count": 84,
   "metadata": {},
   "outputs": [],
   "source": [
    "feature_df = feature_df.dropna()"
   ]
  },
  {
   "cell_type": "code",
   "execution_count": 85,
   "metadata": {},
   "outputs": [],
   "source": [
    "X = feature_df[feature_df.columns[0:6]].values"
   ]
  },
  {
   "cell_type": "code",
   "execution_count": 86,
   "metadata": {},
   "outputs": [],
   "source": [
    "y = feature_df[feature_df.columns[6]].values"
   ]
  },
  {
   "cell_type": "code",
   "execution_count": 93,
   "metadata": {},
   "outputs": [],
   "source": [
    "#regr = RandomForestRegressor(oob_score = True)\n",
    "regr = LinearRegression()"
   ]
  },
  {
   "cell_type": "code",
   "execution_count": 94,
   "metadata": {},
   "outputs": [
    {
     "data": {
      "text/plain": [
       "LinearRegression(copy_X=True, fit_intercept=True, n_jobs=None, normalize=False)"
      ]
     },
     "execution_count": 94,
     "metadata": {},
     "output_type": "execute_result"
    }
   ],
   "source": [
    "regr.fit(X,y)"
   ]
  },
  {
   "cell_type": "code",
   "execution_count": 95,
   "metadata": {},
   "outputs": [
    {
     "data": {
      "text/plain": [
       "array([ 4.89725084e+03,  1.25316939e+00,  4.25442887e+00,  3.74443845e+04,\n",
       "       -3.41176703e+03, -6.38151896e+04])"
      ]
     },
     "execution_count": 95,
     "metadata": {},
     "output_type": "execute_result"
    }
   ],
   "source": [
    "regr.coef_"
   ]
  },
  {
   "cell_type": "code",
   "execution_count": 96,
   "metadata": {},
   "outputs": [
    {
     "data": {
      "text/plain": [
       "0.3325772499083484"
      ]
     },
     "execution_count": 96,
     "metadata": {},
     "output_type": "execute_result"
    }
   ],
   "source": [
    "regr.score(X,y)"
   ]
  },
  {
   "cell_type": "code",
   "execution_count": 89,
   "metadata": {},
   "outputs": [
    {
     "data": {
      "text/plain": [
       "0.16797401286633884"
      ]
     },
     "execution_count": 89,
     "metadata": {},
     "output_type": "execute_result"
    }
   ],
   "source": [
    "regr.oob_score_"
   ]
  },
  {
   "cell_type": "code",
   "execution_count": 90,
   "metadata": {},
   "outputs": [
    {
     "data": {
      "text/plain": [
       "array([0.51493345, 0.31301922, 0.00419487, 0.10545991, 0.04323288,\n",
       "       0.01915967])"
      ]
     },
     "execution_count": 90,
     "metadata": {},
     "output_type": "execute_result"
    }
   ],
   "source": [
    "regr.feature_importances_"
   ]
  },
  {
   "cell_type": "code",
   "execution_count": 101,
   "metadata": {},
   "outputs": [
    {
     "data": {
      "text/plain": [
       "array([594969.82284903])"
      ]
     },
     "execution_count": 101,
     "metadata": {},
     "output_type": "execute_result"
    }
   ],
   "source": [
    "regr.predict([[34,0,0,5,1,1]])"
   ]
  },
  {
   "cell_type": "code",
   "execution_count": 74,
   "metadata": {},
   "outputs": [
    {
     "data": {
      "text/html": [
       "<div>\n",
       "<style scoped>\n",
       "    .dataframe tbody tr th:only-of-type {\n",
       "        vertical-align: middle;\n",
       "    }\n",
       "\n",
       "    .dataframe tbody tr th {\n",
       "        vertical-align: top;\n",
       "    }\n",
       "\n",
       "    .dataframe thead th {\n",
       "        text-align: right;\n",
       "    }\n",
       "</style>\n",
       "<table border=\"1\" class=\"dataframe\">\n",
       "  <thead>\n",
       "    <tr style=\"text-align: right;\">\n",
       "      <th></th>\n",
       "      <th>ll_gisacre</th>\n",
       "      <th>pers_prop_val</th>\n",
       "      <th>homeowner_exemp</th>\n",
       "      <th>TotalWater</th>\n",
       "      <th>irrcapcl</th>\n",
       "      <th>parval</th>\n",
       "    </tr>\n",
       "  </thead>\n",
       "  <tbody>\n",
       "    <tr>\n",
       "      <th>0</th>\n",
       "      <td>16.97049</td>\n",
       "      <td>0.0</td>\n",
       "      <td>0.0</td>\n",
       "      <td>2.926667</td>\n",
       "      <td>2.0</td>\n",
       "      <td>294187.0</td>\n",
       "    </tr>\n",
       "    <tr>\n",
       "      <th>1</th>\n",
       "      <td>8.68291</td>\n",
       "      <td>0.0</td>\n",
       "      <td>0.0</td>\n",
       "      <td>4.360258</td>\n",
       "      <td>3.0</td>\n",
       "      <td>72821.0</td>\n",
       "    </tr>\n",
       "    <tr>\n",
       "      <th>3</th>\n",
       "      <td>20.13240</td>\n",
       "      <td>0.0</td>\n",
       "      <td>0.0</td>\n",
       "      <td>3.223960</td>\n",
       "      <td>3.0</td>\n",
       "      <td>162075.0</td>\n",
       "    </tr>\n",
       "    <tr>\n",
       "      <th>7</th>\n",
       "      <td>2.14084</td>\n",
       "      <td>0.0</td>\n",
       "      <td>7000.0</td>\n",
       "      <td>4.467857</td>\n",
       "      <td>4.0</td>\n",
       "      <td>234449.0</td>\n",
       "    </tr>\n",
       "    <tr>\n",
       "      <th>28</th>\n",
       "      <td>19.79715</td>\n",
       "      <td>0.0</td>\n",
       "      <td>0.0</td>\n",
       "      <td>4.603704</td>\n",
       "      <td>1.0</td>\n",
       "      <td>1867425.0</td>\n",
       "    </tr>\n",
       "    <tr>\n",
       "      <th>...</th>\n",
       "      <td>...</td>\n",
       "      <td>...</td>\n",
       "      <td>...</td>\n",
       "      <td>...</td>\n",
       "      <td>...</td>\n",
       "      <td>...</td>\n",
       "    </tr>\n",
       "    <tr>\n",
       "      <th>25317</th>\n",
       "      <td>17.36936</td>\n",
       "      <td>0.0</td>\n",
       "      <td>0.0</td>\n",
       "      <td>4.413095</td>\n",
       "      <td>2.0</td>\n",
       "      <td>1953871.0</td>\n",
       "    </tr>\n",
       "    <tr>\n",
       "      <th>25318</th>\n",
       "      <td>25.45396</td>\n",
       "      <td>40810.0</td>\n",
       "      <td>0.0</td>\n",
       "      <td>2.926667</td>\n",
       "      <td>1.0</td>\n",
       "      <td>316219.0</td>\n",
       "    </tr>\n",
       "    <tr>\n",
       "      <th>25319</th>\n",
       "      <td>33.98161</td>\n",
       "      <td>0.0</td>\n",
       "      <td>0.0</td>\n",
       "      <td>4.043617</td>\n",
       "      <td>1.0</td>\n",
       "      <td>254344.0</td>\n",
       "    </tr>\n",
       "    <tr>\n",
       "      <th>25321</th>\n",
       "      <td>18.56196</td>\n",
       "      <td>0.0</td>\n",
       "      <td>0.0</td>\n",
       "      <td>4.603704</td>\n",
       "      <td>2.0</td>\n",
       "      <td>250908.0</td>\n",
       "    </tr>\n",
       "    <tr>\n",
       "      <th>25323</th>\n",
       "      <td>13.75780</td>\n",
       "      <td>0.0</td>\n",
       "      <td>0.0</td>\n",
       "      <td>4.948810</td>\n",
       "      <td>1.0</td>\n",
       "      <td>324041.0</td>\n",
       "    </tr>\n",
       "  </tbody>\n",
       "</table>\n",
       "<p>21564 rows × 6 columns</p>\n",
       "</div>"
      ],
      "text/plain": [
       "       ll_gisacre  pers_prop_val  homeowner_exemp  TotalWater  irrcapcl  \\\n",
       "0        16.97049            0.0              0.0    2.926667       2.0   \n",
       "1         8.68291            0.0              0.0    4.360258       3.0   \n",
       "3        20.13240            0.0              0.0    3.223960       3.0   \n",
       "7         2.14084            0.0           7000.0    4.467857       4.0   \n",
       "28       19.79715            0.0              0.0    4.603704       1.0   \n",
       "...           ...            ...              ...         ...       ...   \n",
       "25317    17.36936            0.0              0.0    4.413095       2.0   \n",
       "25318    25.45396        40810.0              0.0    2.926667       1.0   \n",
       "25319    33.98161            0.0              0.0    4.043617       1.0   \n",
       "25321    18.56196            0.0              0.0    4.603704       2.0   \n",
       "25323    13.75780            0.0              0.0    4.948810       1.0   \n",
       "\n",
       "          parval  \n",
       "0       294187.0  \n",
       "1        72821.0  \n",
       "3       162075.0  \n",
       "7       234449.0  \n",
       "28     1867425.0  \n",
       "...          ...  \n",
       "25317  1953871.0  \n",
       "25318   316219.0  \n",
       "25319   254344.0  \n",
       "25321   250908.0  \n",
       "25323   324041.0  \n",
       "\n",
       "[21564 rows x 6 columns]"
      ]
     },
     "execution_count": 74,
     "metadata": {},
     "output_type": "execute_result"
    }
   ],
   "source": [
    "feature_df"
   ]
  },
  {
   "cell_type": "code",
   "execution_count": 104,
   "metadata": {},
   "outputs": [
    {
     "data": {
      "text/plain": [
       "<matplotlib.collections.PathCollection at 0x7f873264a128>"
      ]
     },
     "execution_count": 104,
     "metadata": {},
     "output_type": "execute_result"
    },
    {
     "data": {
      "image/png": "[encoded data removed]",
      "text/plain": [
       "<Figure size 432x288 with 1 Axes>"
      ]
     },
     "metadata": {
      "needs_background": "light"
     },
     "output_type": "display_data"
    }
   ],
   "source": [
    "plt.scatter(parcel_crop_soil_water[\"ll_gisacre\"], parcel_crop_soil_water[\"landval\"])"
   ]
  },
  {
   "cell_type": "code",
   "execution_count": 120,
   "metadata": {},
   "outputs": [
    {
     "data": {
      "text/plain": [
       "<matplotlib.axes._subplots.AxesSubplot at 0x7f872b3baac8>"
      ]
     },
     "execution_count": 120,
     "metadata": {},
     "output_type": "execute_result"
    },
    {
     "data": {
      "image/png": "[encoded data removed]",
      "text/plain": [
       "<Figure size 432x288 with 1 Axes>"
      ]
     },
     "metadata": {
      "needs_background": "light"
     },
     "output_type": "display_data"
    }
   ],
   "source": [
    "parcel_crop_soil_water.groupby(\"Crop2016\")[\"ll_gisacre\"].sum().sort_values(ascending = False).head(10).plot(kind = 'barh')"
   ]
  },
  {
   "cell_type": "code",
   "execution_count": 162,
   "metadata": {},
   "outputs": [
    {
     "data": {
      "text/plain": [
       "<matplotlib.axes._subplots.AxesSubplot at 0x7f871e3394e0>"
      ]
     },
     "execution_count": 162,
     "metadata": {},
     "output_type": "execute_result"
    },
    {
     "data": {
      "image/png": "[encoded data removed]",
      "text/plain": [
       "<Figure size 432x288 with 1 Axes>"
      ]
     },
     "metadata": {
      "needs_background": "light"
     },
     "output_type": "display_data"
    }
   ],
   "source": [
    "parcel_crop_soil_water[\"farmlndcl\"].value_counts().head(4).plot(kind = 'barh')"
   ]
  },
  {
   "cell_type": "code",
   "execution_count": 160,
   "metadata": {},
   "outputs": [
    {
     "data": {
      "text/plain": [
       "<matplotlib.axes._subplots.AxesSubplot at 0x7f871e45d0b8>"
      ]
     },
     "execution_count": 160,
     "metadata": {},
     "output_type": "execute_result"
    },
    {
     "data": {
      "image/png": "[encoded data removed]",
      "text/plain": [
       "<Figure size 432x288 with 1 Axes>"
      ]
     },
     "metadata": {
      "needs_background": "light"
     },
     "output_type": "display_data"
    }
   ],
   "source": [
    "parcel_crop_soil_water[\"irrcapcl\"].value_counts().sort_index().plot(kind = 'barh')"
   ]
  },
  {
   "cell_type": "code",
   "execution_count": 161,
   "metadata": {},
   "outputs": [
    {
     "data": {
      "text/plain": [
       "<matplotlib.axes._subplots.AxesSubplot at 0x7f871e436e10>"
      ]
     },
     "execution_count": 161,
     "metadata": {},
     "output_type": "execute_result"
    },
    {
     "data": {
      "image/png": "[encoded data removed]",
      "text/plain": [
       "<Figure size 432x288 with 1 Axes>"
      ]
     },
     "metadata": {
      "needs_background": "light"
     },
     "output_type": "display_data"
    }
   ],
   "source": [
    "parcel_crop_soil_water[\"Crop2016\"].value_counts().head(10).plot(kind = 'barh')"
   ]
  },
  {
   "cell_type": "code",
   "execution_count": 135,
   "metadata": {},
   "outputs": [
    {
     "data": {
      "text/plain": [
       "<BarContainer object of 20 artists>"
      ]
     },
     "execution_count": 135,
     "metadata": {},
     "output_type": "execute_result"
    },
    {
     "data": {
      "image/png": "[encoded data removed]",
      "text/plain": [
       "<Figure size 432x288 with 1 Axes>"
      ]
     },
     "metadata": {
      "needs_background": "light"
     },
     "output_type": "display_data"
    }
   ],
   "source": [
    "z = water_usage_df[[\"Crop2016\", \"TotalWater\"]]\n",
    "z = z.dropna().sort_values(by = 'TotalWater', ascending = False).head(20)\n",
    "plt.barh(z[\"Crop2016\"], z[\"TotalWater\"])"
   ]
  },
  {
   "cell_type": "code",
   "execution_count": 149,
   "metadata": {},
   "outputs": [
    {
     "data": {
      "text/plain": [
       "<matplotlib.axes._subplots.AxesSubplot at 0x7f871e92ce80>"
      ]
     },
     "execution_count": 149,
     "metadata": {},
     "output_type": "execute_result"
    },
    {
     "data": {
      "image/png": "[encoded data removed]",
      "text/plain": [
       "<Figure size 720x576 with 1 Axes>"
      ]
     },
     "metadata": {
      "needs_background": "light"
     },
     "output_type": "display_data"
    }
   ],
   "source": [
    "parcel_crop_soil_water[\"parval\"].hist(bins = range(0,50000,5000), figsize = [10,8])"
   ]
  }
 ],
 "metadata": {
  "kernelspec": {
   "display_name": "Python 3",
   "language": "python",
   "name": "python3"
  },
  "language_info": {
   "codemirror_mode": {
    "name": "ipython",
    "version": 3
   },
   "file_extension": ".py",
   "mimetype": "text/x-python",
   "name": "python",
   "nbconvert_exporter": "python",
   "pygments_lexer": "ipython3",
   "version": "3.6.9"
  }
 },
 "nbformat": 4,
 "nbformat_minor": 4
}
