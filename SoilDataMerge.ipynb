{
 "cells": [
  {
   "cell_type": "markdown",
   "metadata": {},
   "source": [
    "### Soil Data Merge\n",
    "\n",
    "CSV files for soil datasets are extracted from Web Soil Survey access databases using SQL. This notebook then merges them with GIS extracted geographic soil data, which has been intersected with the Fresno parcel shapefile in QGIS. The output is soil quality against parcel number."
   ]
  },
  {
   "cell_type": "code",
   "execution_count": 2,
   "metadata": {},
   "outputs": [],
   "source": [
    "import pandas as pd\n",
    "import numpy as np"
   ]
  },
  {
   "cell_type": "code",
   "execution_count": 67,
   "metadata": {},
   "outputs": [],
   "source": [
    "soil_east_df = pd.read_csv(\"../soil/soil_750_intersect_warea.csv\")"
   ]
  },
  {
   "cell_type": "code",
   "execution_count": 68,
   "metadata": {},
   "outputs": [],
   "source": [
    "soil_east_df[\"intersect_area_acre\"] = soil_east_df[\"area\"]*0.000247105"
   ]
  },
  {
   "cell_type": "code",
   "execution_count": 69,
   "metadata": {},
   "outputs": [],
   "source": [
    "max_soil_east_df = soil_east_df.loc[soil_east_df.groupby([\"parcelnumb\"])[\"intersect_area_acre\"].idxmax()]"
   ]
  },
  {
   "cell_type": "code",
   "execution_count": 70,
   "metadata": {},
   "outputs": [],
   "source": [
    "soil_properties_east_df = pd.read_csv(\"../soil/Farm_value_query_TD_750_2.txt\")"
   ]
  },
  {
   "cell_type": "code",
   "execution_count": 71,
   "metadata": {},
   "outputs": [],
   "source": [
    "soil_data_east = pd.merge(left = max_soil_east_df, right = soil_properties_east_df, left_on = \"MUSYM\", right_on = \"musym\", how = \"left\")"
   ]
  },
  {
   "cell_type": "code",
   "execution_count": 72,
   "metadata": {},
   "outputs": [],
   "source": [
    "soil_data_east = soil_data_east[[\"parcelnumb\", \"intersect_area_acre\", \"MUSYM\", \"farmlndcl\", \"irrcapcl\", \"irrcapscl\", \"nirrcapcl\", \"nirrcalscl\", \"castorieindex\"]]"
   ]
  },
  {
   "cell_type": "code",
   "execution_count": 73,
   "metadata": {},
   "outputs": [],
   "source": [
    "soil_data_east.to_csv(\"../soil/soil_data_750_2.csv\")"
   ]
  }
 ],
 "metadata": {
  "kernelspec": {
   "display_name": "Python 3",
   "language": "python",
   "name": "python3"
  },
  "language_info": {
   "codemirror_mode": {
    "name": "ipython",
    "version": 3
   },
   "file_extension": ".py",
   "mimetype": "text/x-python",
   "name": "python",
   "nbconvert_exporter": "python",
   "pygments_lexer": "ipython3",
   "version": "3.6.9"
  }
 },
 "nbformat": 4,
 "nbformat_minor": 4
}
