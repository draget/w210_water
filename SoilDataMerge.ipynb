{
 "cells": [
  {
   "cell_type": "code",
   "execution_count": 1,
   "metadata": {},
   "outputs": [],
   "source": [
    "import pandas as pd\n",
    "import numpy as np"
   ]
  },
  {
   "cell_type": "code",
   "execution_count": 69,
   "metadata": {},
   "outputs": [
    {
     "name": "stderr",
     "output_type": "stream",
     "text": [
      "/home/draget/.local/lib/python3.6/site-packages/IPython/core/interactiveshell.py:3063: DtypeWarning: Columns (47,51) have mixed types. Specify dtype option on import or set low_memory=False.\n",
      "  interactivity=interactivity, compiler=compiler, result=result)\n"
     ]
    }
   ],
   "source": [
    "soil_east_df = pd.read_csv(\"../soil/soil_750_intersect_warea.csv\")"
   ]
  },
  {
   "cell_type": "code",
   "execution_count": 70,
   "metadata": {},
   "outputs": [],
   "source": [
    "soil_east_df[\"intersect_area_acre\"] = soil_east_df[\"area\"]*0.000247105"
   ]
  },
  {
   "cell_type": "code",
   "execution_count": 71,
   "metadata": {},
   "outputs": [
    {
     "data": {
      "text/plain": [
       "Index(['geoid', 'sourceagen', 'parcelnumb', 'usecode', 'usedesc', 'zoning',\n",
       "       'zoning_des', 'struct', 'multistruc', 'structno',\n",
       "       ...\n",
       "       'qoz_tract', 'll_gisacre', 'll_gissqft', 'AREASYMBOL', 'SPATIALVER',\n",
       "       'MUSYM', 'MUKEY', 'area', 'perimeter', 'intersect_area_acre'],\n",
       "      dtype='object', length=109)"
      ]
     },
     "execution_count": 71,
     "metadata": {},
     "output_type": "execute_result"
    }
   ],
   "source": [
    "soil_east_df.columns"
   ]
  },
  {
   "cell_type": "code",
   "execution_count": 72,
   "metadata": {},
   "outputs": [],
   "source": [
    "max_soil_east_df = soil_east_df.loc[soil_east_df.groupby([\"parcelnumb\"])[\"intersect_area_acre\"].idxmax()]"
   ]
  },
  {
   "cell_type": "code",
   "execution_count": 73,
   "metadata": {},
   "outputs": [],
   "source": [
    "soil_properties_east_df = pd.read_csv(\"../soil/Farm_value_query_TD_750.txt\")"
   ]
  },
  {
   "cell_type": "code",
   "execution_count": 74,
   "metadata": {},
   "outputs": [
    {
     "data": {
      "text/html": [
       "<div>\n",
       "<style scoped>\n",
       "    .dataframe tbody tr th:only-of-type {\n",
       "        vertical-align: middle;\n",
       "    }\n",
       "\n",
       "    .dataframe tbody tr th {\n",
       "        vertical-align: top;\n",
       "    }\n",
       "\n",
       "    .dataframe thead th {\n",
       "        text-align: right;\n",
       "    }\n",
       "</style>\n",
       "<table border=\"1\" class=\"dataframe\">\n",
       "  <thead>\n",
       "    <tr style=\"text-align: right;\">\n",
       "      <th></th>\n",
       "      <th>musym</th>\n",
       "      <th>mukey</th>\n",
       "      <th>farmlndcl</th>\n",
       "      <th>irrcapcl</th>\n",
       "      <th>irrcapscl</th>\n",
       "      <th>nirrcapcl</th>\n",
       "      <th>nirrcalscl</th>\n",
       "    </tr>\n",
       "  </thead>\n",
       "  <tbody>\n",
       "    <tr>\n",
       "      <th>0</th>\n",
       "      <td>101</td>\n",
       "      <td>465076</td>\n",
       "      <td>Not prime farmland</td>\n",
       "      <td>NaN</td>\n",
       "      <td>NaN</td>\n",
       "      <td>6.0</td>\n",
       "      <td>e</td>\n",
       "    </tr>\n",
       "    <tr>\n",
       "      <th>1</th>\n",
       "      <td>102</td>\n",
       "      <td>465077</td>\n",
       "      <td>Not prime farmland</td>\n",
       "      <td>NaN</td>\n",
       "      <td>NaN</td>\n",
       "      <td>6.0</td>\n",
       "      <td>e</td>\n",
       "    </tr>\n",
       "    <tr>\n",
       "      <th>2</th>\n",
       "      <td>103</td>\n",
       "      <td>465078</td>\n",
       "      <td>Not prime farmland</td>\n",
       "      <td>NaN</td>\n",
       "      <td>NaN</td>\n",
       "      <td>8.0</td>\n",
       "      <td>e</td>\n",
       "    </tr>\n",
       "    <tr>\n",
       "      <th>3</th>\n",
       "      <td>104</td>\n",
       "      <td>465079</td>\n",
       "      <td>Not prime farmland</td>\n",
       "      <td>NaN</td>\n",
       "      <td>NaN</td>\n",
       "      <td>6.0</td>\n",
       "      <td>w</td>\n",
       "    </tr>\n",
       "    <tr>\n",
       "      <th>4</th>\n",
       "      <td>105</td>\n",
       "      <td>465080</td>\n",
       "      <td>Not prime farmland</td>\n",
       "      <td>NaN</td>\n",
       "      <td>NaN</td>\n",
       "      <td>6.0</td>\n",
       "      <td>e</td>\n",
       "    </tr>\n",
       "    <tr>\n",
       "      <th>...</th>\n",
       "      <td>...</td>\n",
       "      <td>...</td>\n",
       "      <td>...</td>\n",
       "      <td>...</td>\n",
       "      <td>...</td>\n",
       "      <td>...</td>\n",
       "      <td>...</td>\n",
       "    </tr>\n",
       "    <tr>\n",
       "      <th>115</th>\n",
       "      <td>TxDef</td>\n",
       "      <td>1674963</td>\n",
       "      <td>Not prime farmland</td>\n",
       "      <td>4.0</td>\n",
       "      <td>e</td>\n",
       "      <td>4.0</td>\n",
       "      <td>e</td>\n",
       "    </tr>\n",
       "    <tr>\n",
       "      <th>116</th>\n",
       "      <td>TxFef</td>\n",
       "      <td>1674964</td>\n",
       "      <td>Not prime farmland</td>\n",
       "      <td>NaN</td>\n",
       "      <td>NaN</td>\n",
       "      <td>7.0</td>\n",
       "      <td>e</td>\n",
       "    </tr>\n",
       "    <tr>\n",
       "      <th>117</th>\n",
       "      <td>VdAm</td>\n",
       "      <td>1675006</td>\n",
       "      <td>Prime farmland if irrigated</td>\n",
       "      <td>1.0</td>\n",
       "      <td>NaN</td>\n",
       "      <td>4.0</td>\n",
       "      <td>c</td>\n",
       "    </tr>\n",
       "    <tr>\n",
       "      <th>118</th>\n",
       "      <td>W</td>\n",
       "      <td>1674978</td>\n",
       "      <td>Not prime farmland</td>\n",
       "      <td>NaN</td>\n",
       "      <td>NaN</td>\n",
       "      <td>NaN</td>\n",
       "      <td>NaN</td>\n",
       "    </tr>\n",
       "    <tr>\n",
       "      <th>119</th>\n",
       "      <td>WIL</td>\n",
       "      <td>1675004</td>\n",
       "      <td>Not prime farmland</td>\n",
       "      <td>NaN</td>\n",
       "      <td>NaN</td>\n",
       "      <td>NaN</td>\n",
       "      <td>NaN</td>\n",
       "    </tr>\n",
       "  </tbody>\n",
       "</table>\n",
       "<p>120 rows × 7 columns</p>\n",
       "</div>"
      ],
      "text/plain": [
       "     musym    mukey                    farmlndcl  irrcapcl irrcapscl  \\\n",
       "0      101   465076           Not prime farmland       NaN       NaN   \n",
       "1      102   465077           Not prime farmland       NaN       NaN   \n",
       "2      103   465078           Not prime farmland       NaN       NaN   \n",
       "3      104   465079           Not prime farmland       NaN       NaN   \n",
       "4      105   465080           Not prime farmland       NaN       NaN   \n",
       "..     ...      ...                          ...       ...       ...   \n",
       "115  TxDef  1674963           Not prime farmland       4.0         e   \n",
       "116  TxFef  1674964           Not prime farmland       NaN       NaN   \n",
       "117   VdAm  1675006  Prime farmland if irrigated       1.0       NaN   \n",
       "118      W  1674978           Not prime farmland       NaN       NaN   \n",
       "119    WIL  1675004           Not prime farmland       NaN       NaN   \n",
       "\n",
       "     nirrcapcl nirrcalscl  \n",
       "0          6.0          e  \n",
       "1          6.0          e  \n",
       "2          8.0          e  \n",
       "3          6.0          w  \n",
       "4          6.0          e  \n",
       "..         ...        ...  \n",
       "115        4.0          e  \n",
       "116        7.0          e  \n",
       "117        4.0          c  \n",
       "118        NaN        NaN  \n",
       "119        NaN        NaN  \n",
       "\n",
       "[120 rows x 7 columns]"
      ]
     },
     "execution_count": 74,
     "metadata": {},
     "output_type": "execute_result"
    }
   ],
   "source": [
    "soil_properties_east_df"
   ]
  },
  {
   "cell_type": "code",
   "execution_count": 75,
   "metadata": {},
   "outputs": [
    {
     "data": {
      "text/plain": [
       "Index(['parcelnumb', 'intersect_area_acre', 'MUSYM', 'farmlndcl', 'irrcapcl',\n",
       "       'irrcapscl', 'nirrcapcl', 'nirrcalscl'],\n",
       "      dtype='object')"
      ]
     },
     "execution_count": 75,
     "metadata": {},
     "output_type": "execute_result"
    }
   ],
   "source": [
    "soil_data_east.columns"
   ]
  },
  {
   "cell_type": "code",
   "execution_count": 76,
   "metadata": {},
   "outputs": [],
   "source": [
    "soil_data_east = pd.merge(left = max_soil_east_df, right = soil_properties_east_df, left_on = \"MUSYM\", right_on = \"musym\", how = \"left\")"
   ]
  },
  {
   "cell_type": "code",
   "execution_count": 77,
   "metadata": {},
   "outputs": [],
   "source": [
    "soil_data_east = soil_data_east[[\"parcelnumb\", \"intersect_area_acre\", \"MUSYM\", \"farmlndcl\", \"irrcapcl\", \"irrcapscl\", \"nirrcapcl\", \"nirrcalscl\"]]"
   ]
  },
  {
   "cell_type": "code",
   "execution_count": 78,
   "metadata": {},
   "outputs": [],
   "source": [
    "soil_data_east.to_csv(\"../soil/soil_data_750.csv\")"
   ]
  }
 ],
 "metadata": {
  "kernelspec": {
   "display_name": "Python 3",
   "language": "python",
   "name": "python3"
  },
  "language_info": {
   "codemirror_mode": {
    "name": "ipython",
    "version": 3
   },
   "file_extension": ".py",
   "mimetype": "text/x-python",
   "name": "python",
   "nbconvert_exporter": "python",
   "pygments_lexer": "ipython3",
   "version": "3.6.9"
  }
 },
 "nbformat": 4,
 "nbformat_minor": 4
}
