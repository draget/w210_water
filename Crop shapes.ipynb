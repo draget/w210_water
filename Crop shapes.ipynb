{
 "cells": [
  {
   "cell_type": "code",
   "execution_count": 32,
   "metadata": {},
   "outputs": [],
   "source": [
    "import geopandas as gp\n",
    "import pandas as pd\n",
    "import numpy as np\n",
    "\n",
    "# To build: python3 -m numpy.f2py -c geodinverse.for geodesic.for -m geof\n",
    "import geof"
   ]
  },
  {
   "cell_type": "code",
   "execution_count": 22,
   "metadata": {},
   "outputs": [],
   "source": [
    "gdf = gp.read_file(\"../crop_shapes/i15_Crop_Mapping_2016.shp\")"
   ]
  },
  {
   "cell_type": "code",
   "execution_count": 15,
   "metadata": {},
   "outputs": [
    {
     "data": {
      "text/plain": [
       "(390666, 39)"
      ]
     },
     "execution_count": 15,
     "metadata": {},
     "output_type": "execute_result"
    }
   ],
   "source": [
    "gdf.shape"
   ]
  },
  {
   "cell_type": "code",
   "execution_count": 54,
   "metadata": {},
   "outputs": [
    {
     "data": {
      "text/plain": [
       "Index(['OBJECTID_1', 'DWR_revise', 'Symb_class', 'MULTIUSE', 'CLASS1',\n",
       "       'SUBCLASS1', 'SPECOND1', 'IRR_TYP1PA', 'IRR_TYP1PB', 'PCNT1', 'CLASS2',\n",
       "       'SUBCLASS2', 'SPECOND2', 'IRR_TYP2PA', 'IRR_TYP2PB', 'PCNT2', 'CLASS3',\n",
       "       'SUBCLASS3', 'SPECOND3', 'IRR_TYP3PA', 'IRR_TYP3PB', 'PCNT3', 'UCF_ATT',\n",
       "       'CROPTYP1', 'CROPTYP2', 'CROPTYP3', 'Region', 'Acres', 'County',\n",
       "       'Comments', 'Source', 'Crop2016', 'Modified_B', 'Date_Data_',\n",
       "       'Last_Modif', 'GlobalID', 'Shape_Leng', 'Shape_Area', 'geometry'],\n",
       "      dtype='object')"
      ]
     },
     "execution_count": 54,
     "metadata": {},
     "output_type": "execute_result"
    }
   ],
   "source": [
    "gdf.columns"
   ]
  },
  {
   "cell_type": "code",
   "execution_count": 18,
   "metadata": {},
   "outputs": [],
   "source": [
    "# Convert from NAD83 to WGS84\n",
    "gdf = gdf.to_crs(\"EPSG:4326\")"
   ]
  },
  {
   "cell_type": "code",
   "execution_count": 21,
   "metadata": {},
   "outputs": [],
   "source": [
    "centroids = gdf.centroid"
   ]
  },
  {
   "cell_type": "code",
   "execution_count": 24,
   "metadata": {},
   "outputs": [
    {
     "name": "stderr",
     "output_type": "stream",
     "text": [
      "/home/draget/.local/lib/python3.6/site-packages/IPython/core/interactiveshell.py:3063: DtypeWarning: Columns (42,46,50,51,57,93) have mixed types. Specify dtype option on import or set low_memory=False.\n",
      "  interactivity=interactivity, compiler=compiler, result=result)\n"
     ]
    }
   ],
   "source": [
    "df = pd.read_csv(\"../ca_fresno.csv\")"
   ]
  },
  {
   "cell_type": "code",
   "execution_count": 31,
   "metadata": {},
   "outputs": [],
   "source": [
    "lats = df[\"lat\"].values\n",
    "longs = df[\"lng\"].values\n",
    "pnumb = df[\"parcelnumb\"].values"
   ]
  },
  {
   "cell_type": "code",
   "execution_count": 64,
   "metadata": {},
   "outputs": [
    {
     "name": "stdout",
     "output_type": "stream",
     "text": [
      "Bad Match 0.47563219146420804 170776 [1.64509803 'Citrus']\n",
      "Bad Match 1.156424327689073 41604 [1.13673528 'Citrus']\n",
      "Bad Match 0.3176229977966638 170776 [1.64509803 'Citrus']\n",
      "Bad Match 0.8814655341783455 41604 [1.13673528 'Citrus']\n",
      "Bad Match 2.217466901315913 170776 [1.64509803 'Citrus']\n",
      "Bad Match 6.615179541685332 170776 [1.64509803 'Citrus']\n",
      "Bad Match 10.071757767208553 41604 [1.13673528 'Citrus']\n",
      "Bad Match 0.5722513009481336 170776 [1.64509803 'Citrus']\n",
      "Bad Match 1.3099352375938356 150403 [4.83383711 'Miscellaneous Grain and Hay']\n",
      "Bad Match 1.3099352375938356 150403 [4.83383711 'Miscellaneous Grain and Hay']\n",
      "Bad Match 1.2539608795057504 165693 [86.18016287 'Young Perennials']\n",
      "Bad Match 5.363438733014917 183955 [4565.48411667 'Urban']\n",
      "Bad Match 7.302817807431784 170776 [1.64509803 'Citrus']\n",
      "Bad Match 3.809090307176588 170776 [1.64509803 'Citrus']\n",
      "Bad Match 6.389736717532933 170776 [1.64509803 'Citrus']\n",
      "Bad Match 7.517255510270378 170776 [1.64509803 'Citrus']\n",
      "Bad Match 7.189120550631213 170776 [1.64509803 'Citrus']\n",
      "Bad Match 7.154999608333979 170776 [1.64509803 'Citrus']\n",
      "Bad Match 3.371750287444382 170776 [1.64509803 'Citrus']\n",
      "Bad Match 2.9849145482100328 170776 [1.64509803 'Citrus']\n",
      "Bad Match 0.7168872862168257 170776 [1.64509803 'Citrus']\n",
      "Bad Match 0.2974278745423576 177677 [13.38461999 'Idle']\n",
      "Bad Match 1.3099352375938356 150403 [4.83383711 'Miscellaneous Grain and Hay']\n",
      "Bad Match 1.3099352375938356 150403 [4.83383711 'Miscellaneous Grain and Hay']\n",
      "Bad Match 1.0416906380543314 172635 [16.22912255 'Miscellaneous Deciduous']\n",
      "Bad Match 1.3099352375938356 150403 [4.83383711 'Miscellaneous Grain and Hay']\n",
      "Bad Match 9.912206493063904 41604 [1.13673528 'Citrus']\n",
      "Bad Match 1.9481906951405406 183930 [612.90726802 'Urban']\n",
      "Bad Match 10.687992521941787 41604 [1.13673528 'Citrus']\n",
      "Bad Match 6.423971184102303 183955 [4565.48411667 'Urban']\n",
      "Bad Match 2.199290249299484 170776 [1.64509803 'Citrus']\n",
      "Bad Match 2.0227562933837113 170776 [1.64509803 'Citrus']\n",
      "Bad Match 2.107779958880152 170776 [1.64509803 'Citrus']\n",
      "Bad Match 6.268124914728949 183955 [4565.48411667 'Urban']\n",
      "Bad Match 0.7168872862168257 170776 [1.64509803 'Citrus']\n",
      "Bad Match 0.10849140425527683 176238 [2.24015863 'Bush Berries']\n",
      "Bad Match 2.136391840973479 131494 [13.52725339 'Walnuts']\n",
      "Bad Match 0.10849140425527683 176238 [2.24015863 'Bush Berries']\n",
      "Bad Match 2.3630380055243814 178974 [4.23056624 'Idle']\n",
      "Bad Match 2.136391840973479 131494 [13.52725339 'Walnuts']\n",
      "Ok Match 0.06117120566365525 149683 [9.7909217 'Grapes']\n",
      "Bad Match 0.8475699131312479 178174 [35.67571969 'Idle']\n",
      "Bad Match 6.58884184442628 183955 [4565.48411667 'Urban']\n",
      "Bad Match 0.3448234135619663 178776 [11.43361135 'Idle']\n",
      "Ok Match 0.0786846736513465 176992 [4.59708344 'Miscellaneous Deciduous']\n",
      "Bad Match 1.6830126678674888 172738 [1.89821748 'Walnuts']\n",
      "Bad Match 1.1811982515034278 170776 [1.64509803 'Citrus']\n",
      "Bad Match 0.5322249558197053 165397 [8.22181764 'Grapes']\n",
      "Ok Match 0.03512610583402319 153377 [4.2149815 'Almonds']\n",
      "Bad Match 6.653863293319013 183955 [4565.48411667 'Urban']\n",
      "Bad Match 6.648369074676773 170776 [1.64509803 'Citrus']\n",
      "Bad Match 10.171899763423342 41604 [1.13673528 'Citrus']\n",
      "Bad Match 0.5773570488656783 170776 [1.64509803 'Citrus']\n",
      "Bad Match 1.2067388139290858 41604 [1.13673528 'Citrus']\n",
      "Bad Match 3.0646681568898653 184163 [36.38633921 'Managed Wetland']\n",
      "Bad Match 2.7660496804497905 178970 [24.50042839 'Idle']\n",
      "Bad Match 0.5242240846379495 146791 [13.58291273 'Idle']\n",
      "Bad Match 1.0994002823752729 41604 [1.13673528 'Citrus']\n",
      "Bad Match 0.8453776130615517 178174 [35.67571969 'Idle']\n",
      "Ok Match 2.9589614072798622 183914 [92005.38531 'Urban']\n",
      "Bad Match 0.18279473972839774 149970 [5.98165655 'Plums, Prunes and Apricots']\n",
      "Bad Match 6.58884184442628 183955 [4565.48411667 'Urban']\n",
      "Bad Match 6.576699427859668 183955 [4565.48411667 'Urban']\n",
      "Bad Match 0.10849140425527683 176238 [2.24015863 'Bush Berries']\n",
      "Bad Match 0.6029615461224269 41605 [0.95752632 'Idle']\n",
      "Bad Match 1.3099352375938356 150403 [4.83383711 'Miscellaneous Grain and Hay']\n",
      "Bad Match 1.3099352375938356 150403 [4.83383711 'Miscellaneous Grain and Hay']\n",
      "Bad Match 8.588959122217378 41605 [0.95752632 'Idle']\n",
      "Ok Match 0.22107102694562708 183844 [1023.63429819 'Urban']\n",
      "Ok Match 0.31382594650145246 150384 [35.40887058 'Young Perennials']\n",
      "Bad Match 1.3099352375938356 150403 [4.83383711 'Miscellaneous Grain and Hay']\n",
      "Bad Match 0.6674474814408513 41605 [0.95752632 'Idle']\n",
      "Ok Match 0.22107102694562708 183844 [1023.63429819 'Urban']\n",
      "Bad Match 1.8507075153998473 41605 [0.95752632 'Idle']\n",
      "Ok Match 0.04706123558836338 150354 [1.85924776 'Miscellaneous Truck Crops']\n",
      "Ok Match 0.28244848652754867 150384 [35.40887058 'Young Perennials']\n",
      "Ok Match 0.2899568043999046 150384 [35.40887058 'Young Perennials']\n",
      "Ok Match 0.31627557297670544 150384 [35.40887058 'Young Perennials']\n",
      "Bad Match 0.4196393972175627 150384 [35.40887058 'Young Perennials']\n",
      "Bad Match 0.4399460546023464 150384 [35.40887058 'Young Perennials']\n",
      "Ok Match 0.47835391007527034 161190 [62.05894231 'Almonds']\n",
      "Bad Match 0.4647028453725785 176406 [6.61731006 'Idle']\n",
      "Bad Match 10.430466502707933 41604 [1.13673528 'Citrus']\n",
      "Ok Match 0.03336689121039921 178083 [15.55847022 'Idle']\n",
      "Ok Match 0.03336689121039921 178083 [15.55847022 'Idle']\n",
      "Ok Match 0.03336689121039921 178083 [15.55847022 'Idle']\n",
      "Bad Match 2.4785894853565145 176390 [15.29659421 'Young Perennials']\n",
      "Bad Match 1.6387102844344268 172723 [17.14849164 'Walnuts']\n",
      "Bad Match 1.6387102844344268 172723 [17.14849164 'Walnuts']\n",
      "Bad Match 1.6387102844344268 172723 [17.14849164 'Walnuts']\n",
      "Ok Match 3.2332205913955328 183914 [92005.38531 'Urban']\n",
      "Bad Match 1.6387102844344268 172723 [17.14849164 'Walnuts']\n",
      "Bad Match 2.4785894853565145 176390 [15.29659421 'Young Perennials']\n",
      "Bad Match 0.31670519951635595 178084 [8.99700037 'Idle']\n",
      "Bad Match 1.2137780649175223 170776 [1.64509803 'Citrus']\n",
      "Bad Match 1.1977209735928995 170776 [1.64509803 'Citrus']\n",
      "Bad Match 0.26330615657757833 178162 [7.53160174 'Idle']\n",
      "Bad Match 1.3099352375938356 150403 [4.83383711 'Miscellaneous Grain and Hay']\n",
      "Bad Match 1.5175894826754324 150398 [5.07037779 'Bush Berries']\n",
      "Bad Match 0.36222073283575107 176425 [2.34176928 'Miscellaneous Deciduous']\n"
     ]
    }
   ],
   "source": [
    "for i in range(0,100):\n",
    "    \n",
    "    ldist = 999999\n",
    "    gdf_index = 0\n",
    "    \n",
    "    for j, centroid in enumerate(centroids):\n",
    "        dist = geof.geo_dist(lats[i], longs[i], centroid.y, centroid.x)\n",
    "        if(dist < ldist):\n",
    "            ldist = dist\n",
    "            gdf_index = j\n",
    "    \n",
    "    crop = gdf.iloc[gdf_index][[\"Acres\", \"Crop2016\"]].values\n",
    "    \n",
    "    if(crop[0]*0.00405 > ldist**2):\n",
    "        quality = \"Ok Match\"\n",
    "    else:\n",
    "        quality = \"Bad Match\"\n",
    "    \n",
    "    print(quality, ldist, gdf_index, crop)"
   ]
  }
 ],
 "metadata": {
  "kernelspec": {
   "display_name": "Python 3",
   "language": "python",
   "name": "python3"
  },
  "language_info": {
   "codemirror_mode": {
    "name": "ipython",
    "version": 3
   },
   "file_extension": ".py",
   "mimetype": "text/x-python",
   "name": "python",
   "nbconvert_exporter": "python",
   "pygments_lexer": "ipython3",
   "version": "3.6.9"
  }
 },
 "nbformat": 4,
 "nbformat_minor": 4
}
