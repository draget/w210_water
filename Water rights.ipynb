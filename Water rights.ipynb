{
 "cells": [
  {
   "cell_type": "code",
   "execution_count": 403,
   "metadata": {},
   "outputs": [],
   "source": [
    "import numpy as np\n",
    "from scipy import interpolate, stats\n",
    "import matplotlib.pyplot as plt\n",
    "import pandas as pd\n",
    "import geopy.distance\n",
    "from scipy.stats import norm"
   ]
  },
  {
   "cell_type": "code",
   "execution_count": 373,
   "metadata": {},
   "outputs": [
    {
     "name": "stdout",
     "output_type": "stream",
     "text": [
      "Index(['geometry', 'POD_ID', 'APPL_ID', 'POD_NUM', 'TOWNSHIP_NUMBER',\n",
      "       'TOWNSHIP_DIRECTION', 'RANGE_NUMBER', 'RANGE_DIRECTION',\n",
      "       'SECTION_NUMBER', 'SECTION_CLASSIFIER', 'QUARTER', 'QUARTER_QUARTER',\n",
      "       'MERIDIAN', 'NORTH_COORD', 'EAST_COORD', 'SP_ZONE', 'LATITUDE',\n",
      "       'LONGITUDE', 'TRIB_DESC', 'Location_Method', 'SOURCE_NAME', 'Moveable',\n",
      "       'Has_OPOD', 'WATERSHED', 'COUNTY', 'WELL_NUMBER', 'QUAD_MAP_NAME',\n",
      "       'QUAD_MAP_NUM', 'QUAD_MAP_MIN_SER', 'PARCEL_NUMBER',\n",
      "       'DIVERSION_SITE_NAME', 'SPECIAL_AREA', 'HUC_12', 'HUC_8', 'HU_8_NAME',\n",
      "       'HU_12_NAME', 'DIRECT_DIV_AMOUNT', 'DIVERSION_STORAGE_AMOUNT',\n",
      "       'DIVERSION_AC_FT', 'POD_STATUS', ' FACE_VALUE_AMOUNT ',\n",
      "       'DIVERSION_TYPE', 'DIVERSION_CODE_TYPE', 'WR_TYPE', 'WR_STATUS',\n",
      "       'STORAGE_TYPE', 'POD_UNIT', 'FIRST_NAME', 'LAST_NAME', 'ENTITY_TYPE'],\n",
      "      dtype='object')\n"
     ]
    }
   ],
   "source": [
    "df = pd.read_csv(\"Fresno_Water_Rights.csv\")\n",
    "print(df.columns)"
   ]
  },
  {
   "cell_type": "code",
   "execution_count": 390,
   "metadata": {},
   "outputs": [],
   "source": [
    "df = df.dropna(subset=['LATITUDE', 'LONGITUDE', 'DIRECT_DIV_AMOUNT', 'POD_UNIT'])\n",
    "df2 = df[['LATITUDE', 'LONGITUDE', 'DIRECT_DIV_AMOUNT', 'POD_UNIT']]\n",
    "\n",
    "# There are multiple diversions on some locations\n",
    "df2 = df2.groupby(['LATITUDE', 'LONGITUDE', 'POD_UNIT'], as_index = False).sum()"
   ]
  },
  {
   "cell_type": "code",
   "execution_count": 391,
   "metadata": {},
   "outputs": [],
   "source": [
    "df2 = df2[df2[\"DIRECT_DIV_AMOUNT\"] != 0]"
   ]
  },
  {
   "cell_type": "code",
   "execution_count": 437,
   "metadata": {},
   "outputs": [],
   "source": [
    "x = df2[\"LATITUDE\"].values\n",
    "y = df2[\"LONGITUDE\"].values\n",
    "z = df2[\"DIRECT_DIV_AMOUNT\"].values # Should we include storage div amounts\n",
    "# What are the units? Are the units different depending on the units column?"
   ]
  },
  {
   "cell_type": "code",
   "execution_count": 394,
   "metadata": {},
   "outputs": [
    {
     "data": {
      "text/html": [
       "<div>\n",
       "<style scoped>\n",
       "    .dataframe tbody tr th:only-of-type {\n",
       "        vertical-align: middle;\n",
       "    }\n",
       "\n",
       "    .dataframe tbody tr th {\n",
       "        vertical-align: top;\n",
       "    }\n",
       "\n",
       "    .dataframe thead th {\n",
       "        text-align: right;\n",
       "    }\n",
       "</style>\n",
       "<table border=\"1\" class=\"dataframe\">\n",
       "  <thead>\n",
       "    <tr style=\"text-align: right;\">\n",
       "      <th></th>\n",
       "      <th>count</th>\n",
       "      <th>mean</th>\n",
       "      <th>std</th>\n",
       "      <th>min</th>\n",
       "      <th>25%</th>\n",
       "      <th>50%</th>\n",
       "      <th>75%</th>\n",
       "      <th>max</th>\n",
       "    </tr>\n",
       "    <tr>\n",
       "      <th>POD_UNIT</th>\n",
       "      <th></th>\n",
       "      <th></th>\n",
       "      <th></th>\n",
       "      <th></th>\n",
       "      <th></th>\n",
       "      <th></th>\n",
       "      <th></th>\n",
       "      <th></th>\n",
       "    </tr>\n",
       "  </thead>\n",
       "  <tbody>\n",
       "    <tr>\n",
       "      <th>Cubic Feet per Second</th>\n",
       "      <td>232.0</td>\n",
       "      <td>1953.658871</td>\n",
       "      <td>3362.274465</td>\n",
       "      <td>0.002</td>\n",
       "      <td>2.23</td>\n",
       "      <td>175.0</td>\n",
       "      <td>4500.0</td>\n",
       "      <td>32953.0</td>\n",
       "    </tr>\n",
       "    <tr>\n",
       "      <th>Gallons per Day</th>\n",
       "      <td>286.0</td>\n",
       "      <td>3039.386364</td>\n",
       "      <td>4703.431183</td>\n",
       "      <td>3.000</td>\n",
       "      <td>200.00</td>\n",
       "      <td>600.0</td>\n",
       "      <td>5957.5</td>\n",
       "      <td>36000.0</td>\n",
       "    </tr>\n",
       "    <tr>\n",
       "      <th>Gallons per Minute</th>\n",
       "      <td>10.0</td>\n",
       "      <td>2431.800000</td>\n",
       "      <td>1451.199182</td>\n",
       "      <td>18.000</td>\n",
       "      <td>1500.00</td>\n",
       "      <td>3500.0</td>\n",
       "      <td>3500.0</td>\n",
       "      <td>3500.0</td>\n",
       "    </tr>\n",
       "  </tbody>\n",
       "</table>\n",
       "</div>"
      ],
      "text/plain": [
       "                       count         mean          std     min      25%  \\\n",
       "POD_UNIT                                                                  \n",
       "Cubic Feet per Second  232.0  1953.658871  3362.274465   0.002     2.23   \n",
       "Gallons per Day        286.0  3039.386364  4703.431183   3.000   200.00   \n",
       "Gallons per Minute      10.0  2431.800000  1451.199182  18.000  1500.00   \n",
       "\n",
       "                          50%     75%      max  \n",
       "POD_UNIT                                        \n",
       "Cubic Feet per Second   175.0  4500.0  32953.0  \n",
       "Gallons per Day         600.0  5957.5  36000.0  \n",
       "Gallons per Minute     3500.0  3500.0   3500.0  "
      ]
     },
     "execution_count": 394,
     "metadata": {},
     "output_type": "execute_result"
    }
   ],
   "source": [
    "df2.groupby(['POD_UNIT'])['DIRECT_DIV_AMOUNT'].describe()"
   ]
  },
  {
   "cell_type": "code",
   "execution_count": 395,
   "metadata": {},
   "outputs": [
    {
     "data": {
      "text/plain": [
       "(array([381., 112.,  17.,  10.,   3.,   0.,   2.,   0.,   1.,   2.]),\n",
       " array([2.00000000e-03, 3.60000180e+03, 7.20000160e+03, 1.08000014e+04,\n",
       "        1.44000012e+04, 1.80000010e+04, 2.16000008e+04, 2.52000006e+04,\n",
       "        2.88000004e+04, 3.24000002e+04, 3.60000000e+04]),\n",
       " <a list of 10 Patch objects>)"
      ]
     },
     "execution_count": 395,
     "metadata": {},
     "output_type": "execute_result"
    },
    {
     "data": {
      "image/png": "[encoded data removed]",
      "text/plain": [
       "<Figure size 432x288 with 1 Axes>"
      ]
     },
     "metadata": {
      "needs_background": "light"
     },
     "output_type": "display_data"
    }
   ],
   "source": [
    "plt.hist(z)"
   ]
  },
  {
   "cell_type": "code",
   "execution_count": 396,
   "metadata": {},
   "outputs": [
    {
     "data": {
      "text/plain": [
       "DescribeResult(nobs=528, minmax=(0.002, 36000.0), mean=2550.816965909091, variance=17241687.57831448, skewness=3.4282176310423638, kurtosis=18.30684740815012)"
      ]
     },
     "execution_count": 396,
     "metadata": {},
     "output_type": "execute_result"
    }
   ],
   "source": [
    "stats.describe(z)"
   ]
  },
  {
   "cell_type": "code",
   "execution_count": 401,
   "metadata": {},
   "outputs": [],
   "source": [
    "s = np.empty(len(z))\n",
    "\n",
    "for i in range(0, len(z)):\n",
    "    \n",
    "    lat1 = x[i]\n",
    "    long1 = y[i]\n",
    "    \n",
    "    dist_sum = 0\n",
    "    \n",
    "    for j in range(0, len(z)):\n",
    "        \n",
    "        if i == j:\n",
    "            next\n",
    "        \n",
    "        lat2 = x[j]\n",
    "        long2 = y[j]\n",
    "        \n",
    "        dist_sum = dist_sum + geopy.distance.distance((lat1, long1), (lat2, long2)).km\n",
    "        \n",
    "    s[i] = dist_sum / (len(z) - 1)"
   ]
  },
  {
   "cell_type": "code",
   "execution_count": 442,
   "metadata": {},
   "outputs": [],
   "source": [
    "def water_right_score(lat, long):\n",
    "    \n",
    "    score = 0\n",
    "    \n",
    "    disp = np.mean(s)/2\n",
    "    \n",
    "    for i in range(0, len(z)):\n",
    "        \n",
    "        lat1 = x[i]\n",
    "        long1 = y[i]\n",
    "        right1 = z[i]\n",
    "        disp1 = s[i]/2\n",
    "        \n",
    "        dist = geopy.distance.distance((lat1, long1), (lat, long)).km\n",
    "        \n",
    "        amnt = norm.pdf(dist, scale = disp)\n",
    "        \n",
    "        #print(right1,\"\\t\",dist,\"\\t\",amnt)\n",
    "        \n",
    "        score = score + right1*amnt\n",
    "        \n",
    "    return score"
   ]
  },
  {
   "cell_type": "code",
   "execution_count": 314,
   "metadata": {},
   "outputs": [
    {
     "data": {
      "text/plain": [
       "DescribeResult(nobs=521, minmax=(35.9961773, 37.46789265), mean=36.798336609443375, variance=0.11839439572286259, skewness=-0.45675335158795816, kurtosis=-0.6333440347962664)"
      ]
     },
     "execution_count": 314,
     "metadata": {},
     "output_type": "execute_result"
    }
   ],
   "source": [
    "stats.describe(x)"
   ]
  },
  {
   "cell_type": "code",
   "execution_count": 315,
   "metadata": {},
   "outputs": [
    {
     "data": {
      "text/plain": [
       "DescribeResult(nobs=521, minmax=(-120.80045530000001, -118.6798), mean=-119.61281909347409, variance=0.3119525587603457, skewness=-0.7889956865496581, kurtosis=-0.7328459930545383)"
      ]
     },
     "execution_count": 315,
     "metadata": {},
     "output_type": "execute_result"
    }
   ],
   "source": [
    "stats.describe(y)"
   ]
  },
  {
   "cell_type": "code",
   "execution_count": 428,
   "metadata": {},
   "outputs": [],
   "source": [
    "x_up = 37.46789265\n",
    "x_low = 35.97575564\n",
    "y_up = -118.6798\n",
    "y_low = -120.8004553\n",
    "\n",
    "xnew = np.arange(x_low, x_up, (x_up - x_low)/50)[0:50]\n",
    "ynew = np.arange(y_low, y_up, (y_up - y_low)/50)[0:50]"
   ]
  },
  {
   "cell_type": "code",
   "execution_count": 443,
   "metadata": {},
   "outputs": [
    {
     "data": {
      "text/plain": [
       "DescribeResult(nobs=2500, minmax=(31.615828158378296, 6597.305891146874), mean=2935.6727814795668, variance=2852546.318768062, skewness=0.07323733909753712, kurtosis=-0.8553023475409995)"
      ]
     },
     "execution_count": 443,
     "metadata": {},
     "output_type": "execute_result"
    }
   ],
   "source": [
    "xv, yv = np.meshgrid(xnew, ynew)\n",
    "fv = np.vectorize(water_right_score)\n",
    "zv = fv(xv,yv)\n",
    "stats.describe(zv.flatten())"
   ]
  },
  {
   "cell_type": "code",
   "execution_count": 444,
   "metadata": {},
   "outputs": [
    {
     "data": {
      "image/png": "[encoded data removed]",
      "text/plain": [
       "<Figure size 720x720 with 2 Axes>"
      ]
     },
     "metadata": {
      "needs_background": "light"
     },
     "output_type": "display_data"
    }
   ],
   "source": [
    "fig, ax = plt.subplots(figsize=(10, 10))\n",
    "\n",
    "cp = plt.contourf(xv, yv, zv)\n",
    "plt.colorbar(cp)\n",
    "\n",
    "plt.scatter(x,y, s = z/100, c = 'r')\n",
    "\n",
    "ax.set_title('Contour Plot')\n",
    "ax.set_xlabel('lat')\n",
    "ax.set_ylabel('long')\n",
    "plt.show()"
   ]
  }
 ],
 "metadata": {
  "kernelspec": {
   "display_name": "Python 3",
   "language": "python",
   "name": "python3"
  },
  "language_info": {
   "codemirror_mode": {
    "name": "ipython",
    "version": 3
   },
   "file_extension": ".py",
   "mimetype": "text/x-python",
   "name": "python",
   "nbconvert_exporter": "python",
   "pygments_lexer": "ipython3",
   "version": "3.6.9"
  }
 },
 "nbformat": 4,
 "nbformat_minor": 4
}
